{
 "cells": [
  {
   "cell_type": "markdown",
   "metadata": {},
   "source": [
    "<!-- !pip install lxml html5lib beautifulsoup4 -->"
   ]
  },
  {
   "cell_type": "code",
   "execution_count": 3,
   "metadata": {},
   "outputs": [],
   "source": [
    "# !pip install lxml html5lib beautifulsoup4"
   ]
  },
  {
   "cell_type": "code",
   "execution_count": 104,
   "metadata": {},
   "outputs": [],
   "source": [
    "import pandas as pd\n",
    "url = 'https://abakan.nuipogoda.ru/%D1%8F%D0%BD%D0%B2%D0%B0%D1%80%D1%8C-2017'\n",
    "df_list = pd.read_html(url)[0]"
   ]
  },
  {
   "cell_type": "code",
   "execution_count": 105,
   "metadata": {},
   "outputs": [
    {
     "data": {
      "text/html": [
       "<div>\n",
       "<style scoped>\n",
       "    .dataframe tbody tr th:only-of-type {\n",
       "        vertical-align: middle;\n",
       "    }\n",
       "\n",
       "    .dataframe tbody tr th {\n",
       "        vertical-align: top;\n",
       "    }\n",
       "\n",
       "    .dataframe thead th {\n",
       "        text-align: right;\n",
       "    }\n",
       "</style>\n",
       "<table border=\"1\" class=\"dataframe\">\n",
       "  <thead>\n",
       "    <tr style=\"text-align: right;\">\n",
       "      <th></th>\n",
       "      <th>Пн</th>\n",
       "      <th>Вт</th>\n",
       "      <th>Ср</th>\n",
       "      <th>Чт</th>\n",
       "      <th>Пт</th>\n",
       "      <th>Сб</th>\n",
       "      <th>Вс</th>\n",
       "    </tr>\n",
       "  </thead>\n",
       "  <tbody>\n",
       "    <tr>\n",
       "      <th>0</th>\n",
       "      <td>NaN</td>\n",
       "      <td>NaN</td>\n",
       "      <td>NaN</td>\n",
       "      <td>NaN</td>\n",
       "      <td>NaN</td>\n",
       "      <td>NaN</td>\n",
       "      <td>Янв1пасмурнобез осадков-3°-7°</td>\n",
       "    </tr>\n",
       "    <tr>\n",
       "      <th>1</th>\n",
       "      <td>2пасмурнобез осадков+0°-5°</td>\n",
       "      <td>3пасмурнобез осадков-0°-6°</td>\n",
       "      <td>4пасмурнобез осадков+0°-7°</td>\n",
       "      <td>5пасмурнобез осадков+3°-1°</td>\n",
       "      <td>6облачнобез осадков+0°-7°</td>\n",
       "      <td>7малооблачнобез осадков-7°-16°</td>\n",
       "      <td>8пасмурнобез осадков-9°-15°</td>\n",
       "    </tr>\n",
       "    <tr>\n",
       "      <th>2</th>\n",
       "      <td>9пасмурноснег-5°-14°</td>\n",
       "      <td>10пасмурнобез осадков-7°-11°</td>\n",
       "      <td>11пасмурнобез осадков-8°-15°</td>\n",
       "      <td>12пасмурнобез осадков-10°-15°</td>\n",
       "      <td>13облачнобез осадков-8°-22°</td>\n",
       "      <td>14пасмурнобез осадков-9°-19°</td>\n",
       "      <td>15пасмурнобез осадков-7°-17°</td>\n",
       "    </tr>\n",
       "    <tr>\n",
       "      <th>3</th>\n",
       "      <td>16яснобез осадков-17°-26°</td>\n",
       "      <td>17малооблачнобез осадков-23°-30°</td>\n",
       "      <td>18облачнобез осадков-20°-28°</td>\n",
       "      <td>19пасмурнобез осадков-16°-27°</td>\n",
       "      <td>20пасмурнобез осадков-10°-23°</td>\n",
       "      <td>21пасмурнобез осадков-11°-22°</td>\n",
       "      <td>22пасмурнобез осадков-9°-18°</td>\n",
       "    </tr>\n",
       "    <tr>\n",
       "      <th>4</th>\n",
       "      <td>23облачнобез осадков-7°-19°</td>\n",
       "      <td>24облачнобез осадков-3°-18°</td>\n",
       "      <td>25пасмурнобез осадков-6°-18°</td>\n",
       "      <td>26облачнобез осадков+0°-12°</td>\n",
       "      <td>27яснобез осадков-12°-31°</td>\n",
       "      <td>28яснобез осадков-15°-31°</td>\n",
       "      <td>29яснобез осадков-16°-29°</td>\n",
       "    </tr>\n",
       "    <tr>\n",
       "      <th>5</th>\n",
       "      <td>30облачнобез осадков-13°-25°</td>\n",
       "      <td>31яснобез осадков-9°-23°</td>\n",
       "      <td>NaN</td>\n",
       "      <td>NaN</td>\n",
       "      <td>NaN</td>\n",
       "      <td>NaN</td>\n",
       "      <td>NaN</td>\n",
       "    </tr>\n",
       "  </tbody>\n",
       "</table>\n",
       "</div>"
      ],
      "text/plain": [
       "                             Пн                                Вт  \\\n",
       "0                           NaN                               NaN   \n",
       "1    2пасмурнобез осадков+0°-5°        3пасмурнобез осадков-0°-6°   \n",
       "2          9пасмурноснег-5°-14°      10пасмурнобез осадков-7°-11°   \n",
       "3     16яснобез осадков-17°-26°  17малооблачнобез осадков-23°-30°   \n",
       "4   23облачнобез осадков-7°-19°       24облачнобез осадков-3°-18°   \n",
       "5  30облачнобез осадков-13°-25°          31яснобез осадков-9°-23°   \n",
       "\n",
       "                             Ср                             Чт  \\\n",
       "0                           NaN                            NaN   \n",
       "1    4пасмурнобез осадков+0°-7°     5пасмурнобез осадков+3°-1°   \n",
       "2  11пасмурнобез осадков-8°-15°  12пасмурнобез осадков-10°-15°   \n",
       "3  18облачнобез осадков-20°-28°  19пасмурнобез осадков-16°-27°   \n",
       "4  25пасмурнобез осадков-6°-18°    26облачнобез осадков+0°-12°   \n",
       "5                           NaN                            NaN   \n",
       "\n",
       "                              Пт                              Сб  \\\n",
       "0                            NaN                             NaN   \n",
       "1      6облачнобез осадков+0°-7°  7малооблачнобез осадков-7°-16°   \n",
       "2    13облачнобез осадков-8°-22°    14пасмурнобез осадков-9°-19°   \n",
       "3  20пасмурнобез осадков-10°-23°   21пасмурнобез осадков-11°-22°   \n",
       "4      27яснобез осадков-12°-31°       28яснобез осадков-15°-31°   \n",
       "5                            NaN                             NaN   \n",
       "\n",
       "                              Вс  \n",
       "0  Янв1пасмурнобез осадков-3°-7°  \n",
       "1    8пасмурнобез осадков-9°-15°  \n",
       "2   15пасмурнобез осадков-7°-17°  \n",
       "3   22пасмурнобез осадков-9°-18°  \n",
       "4      29яснобез осадков-16°-29°  \n",
       "5                            NaN  "
      ]
     },
     "execution_count": 105,
     "metadata": {},
     "output_type": "execute_result"
    }
   ],
   "source": [
    "df_list"
   ]
  },
  {
   "cell_type": "code",
   "execution_count": 99,
   "metadata": {},
   "outputs": [
    {
     "data": {
      "text/html": [
       "<div>\n",
       "<style scoped>\n",
       "    .dataframe tbody tr th:only-of-type {\n",
       "        vertical-align: middle;\n",
       "    }\n",
       "\n",
       "    .dataframe tbody tr th {\n",
       "        vertical-align: top;\n",
       "    }\n",
       "\n",
       "    .dataframe thead th {\n",
       "        text-align: right;\n",
       "    }\n",
       "</style>\n",
       "<table border=\"1\" class=\"dataframe\">\n",
       "  <thead>\n",
       "    <tr style=\"text-align: right;\">\n",
       "      <th></th>\n",
       "      <th>Вс</th>\n",
       "    </tr>\n",
       "  </thead>\n",
       "  <tbody>\n",
       "    <tr>\n",
       "      <th>0</th>\n",
       "      <td>5облачнобез осадков+9°-3°</td>\n",
       "    </tr>\n",
       "    <tr>\n",
       "      <th>1</th>\n",
       "      <td>12яснобез осадков+4°-14°</td>\n",
       "    </tr>\n",
       "    <tr>\n",
       "      <th>2</th>\n",
       "      <td>19яснобез осадков+3°-15°</td>\n",
       "    </tr>\n",
       "    <tr>\n",
       "      <th>3</th>\n",
       "      <td>26облачнобез осадков+9°-4°</td>\n",
       "    </tr>\n",
       "    <tr>\n",
       "      <th>4</th>\n",
       "      <td>NaN</td>\n",
       "    </tr>\n",
       "  </tbody>\n",
       "</table>\n",
       "</div>"
      ],
      "text/plain": [
       "                           Вс\n",
       "0   5облачнобез осадков+9°-3°\n",
       "1    12яснобез осадков+4°-14°\n",
       "2    19яснобез осадков+3°-15°\n",
       "3  26облачнобез осадков+9°-4°\n",
       "4                         NaN"
      ]
     },
     "execution_count": 99,
     "metadata": {},
     "output_type": "execute_result"
    }
   ],
   "source": [
    "# Extract columns                                                                                                           \n",
    "df = df_list[['Вс']]\n",
    "df"
   ]
  }
 ],
 "metadata": {
  "kernelspec": {
   "display_name": "Python 3",
   "language": "python",
   "name": "python3"
  },
  "language_info": {
   "codemirror_mode": {
    "name": "ipython",
    "version": 3
   },
   "file_extension": ".py",
   "mimetype": "text/x-python",
   "name": "python",
   "nbconvert_exporter": "python",
   "pygments_lexer": "ipython3",
   "version": "3.7.1"
  }
 },
 "nbformat": 4,
 "nbformat_minor": 4
}
