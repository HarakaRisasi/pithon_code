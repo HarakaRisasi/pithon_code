{
 "cells": [
  {
   "cell_type": "code",
   "execution_count": 41,
   "metadata": {},
   "outputs": [],
   "source": [
    "import mysql.connector\n",
    "\n",
    "config = {\n",
    "  'user': 'root',\n",
    "  'password': 'root',\n",
    "  'host': 'localhost',\n",
    "  'database': 'learning_sql_database',\n",
    "  'raise_on_warnings': True,\n",
    "}\n",
    "\n",
    "link = mysql.connector.connect(**config, buffered=True)"
   ]
  },
  {
   "cell_type": "code",
   "execution_count": 13,
   "metadata": {},
   "outputs": [],
   "source": [
    "mycursor =  link.cursor()\n",
    "mycursor.execute(\n",
    "\"\"\"CREATE TABLE sql_lesson_1_movies\n",
    "(\n",
    "    Id INT PRIMARY KEY UNIQUE,\n",
    "    Title VARCHAR(50),\n",
    "    Director VARCHAR(50),\n",
    "    Year INT,\n",
    "    Length_minutes INT)\"\"\"\n",
    ")"
   ]
  },
  {
   "cell_type": "code",
   "execution_count": 54,
   "metadata": {},
   "outputs": [],
   "source": [
    "mycursor = link.cursor()\n",
    "\n",
    "sql = \"INSERT INTO sql_lesson_1_movies (Id, Title, Director, Year, Length_minutes) VALUES (%s, %s, %s, %s, %s)\"\n",
    "val = (1, \"Toy Story\", \"John Lasseter\", 1995, 81)\n",
    "\n",
    "mycursor.execute(sql, val)\n",
    "\n",
    "link.commit()\n",
    "print(mycursor.rowcount, 'record(s) inserted.')"
   ]
  },
  {
   "cell_type": "code",
   "execution_count": 53,
   "metadata": {},
   "outputs": [
    {
     "name": "stdout",
     "output_type": "stream",
     "text": [
      "13 record(s) inserted.\n"
     ]
    }
   ],
   "source": [
    "mycursor = link.cursor()\n",
    "\n",
    "sql = \"INSERT INTO sql_lesson_1_movies (Id, Title, Director, Year, Length_minutes) VALUES (%s, %s, %s, %s, %s)\"\n",
    "val = [\n",
    "    (1, \"Toy Story\", \"John Lasseter\", 1995, 81),\n",
    "    (2, \"A Bug's Life\", \"John Lasseter\", 1998, 95),\n",
    "    (3, \"Toy Story 2\", \"John Lasseter\", 1999, 93),\n",
    "    (4, \"Monsters, Inc.\", \"Pete Docter\", 2001, 92),\n",
    "    (5, \"Finding Nemo\", \"Andrew Stanton\", 2003, 107),\n",
    "    (6, \"The Incredibles\", \"Brad Bird\", 2004, 116),\n",
    "    (7, \"Cars\", \"John Lasseter\", 2006, 117),\n",
    "    (8, \"Ratatouille\", \"Brad Bird\", 2007, 115),\n",
    "    (9, \"WALL-E\", \"Andrew Stanton\", 2008, 104),\n",
    "    (10, \"Up\", \"Pete Docter\", 2009, 101)\n",
    "]\n",
    "\n",
    "mycursor.executemany(sql, val)\n",
    "\n",
    "link.commit()\n",
    "print(mycursor.rowcount, 'record(s) inserted.')"
   ]
  },
  {
   "cell_type": "code",
   "execution_count": 55,
   "metadata": {},
   "outputs": [
    {
     "data": {
      "text/html": [
       "<div>\n",
       "<style scoped>\n",
       "    .dataframe tbody tr th:only-of-type {\n",
       "        vertical-align: middle;\n",
       "    }\n",
       "\n",
       "    .dataframe tbody tr th {\n",
       "        vertical-align: top;\n",
       "    }\n",
       "\n",
       "    .dataframe thead th {\n",
       "        text-align: right;\n",
       "    }\n",
       "</style>\n",
       "<table border=\"1\" class=\"dataframe\">\n",
       "  <thead>\n",
       "    <tr style=\"text-align: right;\">\n",
       "      <th></th>\n",
       "      <th>Id</th>\n",
       "      <th>Title</th>\n",
       "      <th>Director</th>\n",
       "      <th>Year</th>\n",
       "      <th>Length_minutes</th>\n",
       "    </tr>\n",
       "  </thead>\n",
       "  <tbody>\n",
       "    <tr>\n",
       "      <th>0</th>\n",
       "      <td>1</td>\n",
       "      <td>Toy Story</td>\n",
       "      <td>John Lasseter</td>\n",
       "      <td>1995</td>\n",
       "      <td>81</td>\n",
       "    </tr>\n",
       "    <tr>\n",
       "      <th>1</th>\n",
       "      <td>2</td>\n",
       "      <td>A Bug's Life</td>\n",
       "      <td>John Lasseter</td>\n",
       "      <td>1998</td>\n",
       "      <td>95</td>\n",
       "    </tr>\n",
       "    <tr>\n",
       "      <th>2</th>\n",
       "      <td>3</td>\n",
       "      <td>Toy Story 2</td>\n",
       "      <td>John Lasseter</td>\n",
       "      <td>1999</td>\n",
       "      <td>93</td>\n",
       "    </tr>\n",
       "    <tr>\n",
       "      <th>3</th>\n",
       "      <td>4</td>\n",
       "      <td>Monsters, Inc.</td>\n",
       "      <td>Pete Docter</td>\n",
       "      <td>2001</td>\n",
       "      <td>92</td>\n",
       "    </tr>\n",
       "    <tr>\n",
       "      <th>4</th>\n",
       "      <td>5</td>\n",
       "      <td>Finding Nemo</td>\n",
       "      <td>Andrew Stanton</td>\n",
       "      <td>2003</td>\n",
       "      <td>107</td>\n",
       "    </tr>\n",
       "    <tr>\n",
       "      <th>5</th>\n",
       "      <td>6</td>\n",
       "      <td>The Incredibles</td>\n",
       "      <td>Brad Bird</td>\n",
       "      <td>2004</td>\n",
       "      <td>116</td>\n",
       "    </tr>\n",
       "    <tr>\n",
       "      <th>6</th>\n",
       "      <td>7</td>\n",
       "      <td>Cars</td>\n",
       "      <td>John Lasseter</td>\n",
       "      <td>2006</td>\n",
       "      <td>117</td>\n",
       "    </tr>\n",
       "    <tr>\n",
       "      <th>7</th>\n",
       "      <td>8</td>\n",
       "      <td>Ratatouille</td>\n",
       "      <td>Brad Bird</td>\n",
       "      <td>2007</td>\n",
       "      <td>115</td>\n",
       "    </tr>\n",
       "    <tr>\n",
       "      <th>8</th>\n",
       "      <td>9</td>\n",
       "      <td>WALL-E</td>\n",
       "      <td>Andrew Stanton</td>\n",
       "      <td>2008</td>\n",
       "      <td>104</td>\n",
       "    </tr>\n",
       "    <tr>\n",
       "      <th>9</th>\n",
       "      <td>10</td>\n",
       "      <td>Up</td>\n",
       "      <td>Pete Docter</td>\n",
       "      <td>2009</td>\n",
       "      <td>101</td>\n",
       "    </tr>\n",
       "  </tbody>\n",
       "</table>\n",
       "</div>"
      ],
      "text/plain": [
       "   Id            Title        Director  Year  Length_minutes\n",
       "0   1        Toy Story   John Lasseter  1995              81\n",
       "1   2     A Bug's Life   John Lasseter  1998              95\n",
       "2   3      Toy Story 2   John Lasseter  1999              93\n",
       "3   4   Monsters, Inc.     Pete Docter  2001              92\n",
       "4   5     Finding Nemo  Andrew Stanton  2003             107\n",
       "5   6  The Incredibles       Brad Bird  2004             116\n",
       "6   7             Cars   John Lasseter  2006             117\n",
       "7   8      Ratatouille       Brad Bird  2007             115\n",
       "8   9           WALL-E  Andrew Stanton  2008             104\n",
       "9  10               Up     Pete Docter  2009             101"
      ]
     },
     "execution_count": 55,
     "metadata": {},
     "output_type": "execute_result"
    }
   ],
   "source": [
    "import pandas as pd\n",
    "\n",
    "pd.read_sql_query('SELECT * FROM sql_lesson_1_movies', link)"
   ]
  },
  {
   "cell_type": "code",
   "execution_count": null,
   "metadata": {},
   "outputs": [],
   "source": [
    "SELECT"
   ]
  }
 ],
 "metadata": {
  "kernelspec": {
   "display_name": "Python 3",
   "language": "python",
   "name": "python3"
  },
  "language_info": {
   "codemirror_mode": {
    "name": "ipython",
    "version": 3
   },
   "file_extension": ".py",
   "mimetype": "text/x-python",
   "name": "python",
   "nbconvert_exporter": "python",
   "pygments_lexer": "ipython3",
   "version": "3.7.6"
  }
 },
 "nbformat": 4,
 "nbformat_minor": 4
}
