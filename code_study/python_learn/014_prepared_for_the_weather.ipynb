{
 "cells": [
  {
   "cell_type": "code",
   "execution_count": 8,
   "metadata": {},
   "outputs": [
    {
     "name": "stdout",
     "output_type": "stream",
     "text": [
      "-Am I prepared for the weather?\n",
      "-True.\n"
     ]
    }
   ],
   "source": [
    "\"\"\"\n",
    "We deciding whether we're prepared for the wether.\n",
    "\n",
    "I said, I'm safe from today's weather if...\n",
    "- I have an umbrella.\n",
    "- or if the rain isn't too heavy and I have a hood.\n",
    "- or if it's raining and it's a workday.\n",
    "\"\"\"\n",
    "\n",
    "def prepared_for_weather(have_umbrella, rain_level, have_hood, is_workday):\n",
    "    # return result if values of variavles is True.\n",
    "    return have_umbrella or rain_level < 5 and have_hood or not rain_level > 5 and is_workday\n",
    "\n",
    "# the variables(my useful data to understand that, I'm prepared for the weather.)\n",
    "have_umbrella = True\n",
    "rain_level = 0.0\n",
    "have_hood = True\n",
    "is_workday = True\n",
    "\n",
    "# store result in variable and print result(from function)\n",
    "actual = prepared_for_weather(have_umbrella, rain_level, have_hood, is_workday)\n",
    "print(f'-Am I prepared for the weather?\\n-{actual}.')"
   ]
  }
 ],
 "metadata": {
  "kernelspec": {
   "display_name": "Python 3",
   "language": "python",
   "name": "python3"
  },
  "language_info": {
   "codemirror_mode": {
    "name": "ipython",
    "version": 3
   },
   "file_extension": ".py",
   "mimetype": "text/x-python",
   "name": "python",
   "nbconvert_exporter": "python",
   "pygments_lexer": "ipython3",
   "version": "3.7.6"
  }
 },
 "nbformat": 4,
 "nbformat_minor": 4
}
