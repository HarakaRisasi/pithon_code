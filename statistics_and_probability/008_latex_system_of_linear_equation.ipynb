{
 "cells": [
  {
   "cell_type": "markdown",
   "metadata": {},
   "source": [
    "# System of Linear Equation\n",
    "\n",
    "The system os linear equation has no solution:</br>\n",
    "$\\ \\ x_1 + x_2 + \\ \\ x_3 = 3 \\quad  (1)$</br>\n",
    "$\\ \\ x_1 - x_2 + 2x_3 = 2 \\quad (2)$</br>\n",
    "$2x_1 \\quad \\quad    + 3x_3 = 1 \\quad (3)$</br>\n",
    "\n",
    "Adding the first **two** (1) & (2) equations yields </br>\n",
    "$2x_1 + 3x_3 = 5$, which **contradicts the third** (3) equation."
   ]
  },
  {
   "cell_type": "markdown",
   "metadata": {},
   "source": [
    "Let us have a look at the system of linear equations:\n",
    "\n",
    "$\n",
    "\\begin{align*}\n",
    "x_1\\ + x_2\\ + x_3 = 3 \\quad (1)\\\\\n",
    "x_1 - x_2 + 2x_3 = 2 \\quad (2)\\\\\n",
    "\\quad \\quad x_2\\ \\ + x_3 = 2 \\quad (3)\n",
    "\\end{align*}\n",
    "$\n",
    "\n",
    "From the first (1) and third (3) equation, it follows that $x_1 = 1$.</br>\n",
    "From (1) + (2), we get $\\ 2x_1 + 0x_2 + 3x_3 = 5$, i.e., $x_3 = 1$.</br>\n",
    "From (3), we then get that $x_2 = 1$.\n",
    "\n",
    "Therefore, (1, 1, 1) **is the only possible and *unique solution***.\n"
   ]
  },
  {
   "cell_type": "markdown",
   "metadata": {},
   "source": [
    "As a third example, we consider:\n",
    "\n",
    "$\n",
    "\\begin{align*}\n",
    "x_1\\ + x_2\\ + x_3 = 3 \\quad (1)\\\\\n",
    "x_1 - x_2 + 2x_3 = 2 \\quad (2)\\\\\n",
    "2x_1 \\quad \\quad + 3x_3 = 5 \\quad (3)\\\\\n",
    "\\end{align*}\n",
    "$\n",
    "\n",
    "Since (1) + (2) = (3), we can omit the third quation (redundancy).</br>\n",
    "From (1) and (2), we get $2x_1 = 5 - 3x_3$ and $2x_2 = 1 + x_3$.</br>\n",
    "We define $x_3 = a \\in \\mathbb{R}$, as free variable.\n",
    "\n",
    "Such that any triplet \n",
    "$\\left(\\frac{5}{2} - \\frac{3}{2}a, \\frac{1}{2} + \\frac{1}{2}a, a\\right), a \\in \\mathbb{R}$\n",
    "\n",
    "**explanation** // $A=[3,9,14],\\ i.e.\\ 3 \\in \\mathbb{A}$ - 3 is a part of \"A\" set"
   ]
  }
 ],
 "metadata": {
  "kernelspec": {
   "display_name": "Python 3",
   "language": "python",
   "name": "python3"
  },
  "language_info": {
   "codemirror_mode": {
    "name": "ipython",
    "version": 3
   },
   "file_extension": ".py",
   "mimetype": "text/x-python",
   "name": "python",
   "nbconvert_exporter": "python",
   "pygments_lexer": "ipython3",
   "version": "3.7.7"
  }
 },
 "nbformat": 4,
 "nbformat_minor": 4
}
