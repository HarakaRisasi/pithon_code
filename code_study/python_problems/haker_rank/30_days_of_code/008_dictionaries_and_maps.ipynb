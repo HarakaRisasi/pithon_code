{
 "cells": [
  {
   "cell_type": "markdown",
   "metadata": {},
   "source": [
    "## try/except\n",
    "\n",
    "Когда в программе возникает исключение, она сразу завершает работу.\\\n",
    "Для работы с исключениями используется конструкция **try/except**:\n",
    "\n",
    "```Python\n",
    "try:\n",
    "    2/0\n",
    "except ZeroDivisionError:\n",
    "    print(\"You can't divide by zero\")\n",
    "\n",
    "### You can't divide by zero\n",
    "```\n",
    "\n",
    "Чаще всего можно предсказать, какого рода исключения возникнут во время исполнения программы.\n",
    "\n",
    "Например, если программа на вход ожидает два числа, а на выходе выдает их сумму, а пользователь ввел вместо одного из чисел строку, появится ошибка TypeError, как в примере выше.\n",
    "\n",
    "Python позволяет работать с исключениями. Их можно перехватывать и выполнять определенные действия в том случае, если возникло исключение.\n",
    "\n",
    ">**В блоке except можно не указывать конкретное исключение или исключения**.\\\n",
    "В таком случае будут перехватываться все исключения.\\\n",
    "**Это делать не рекомендуется!**\n",
    "\n",
    "**Конструкция try работает таким образом**:\n",
    "- сначала выполняются выражения, которые записаны в блоке try.\n",
    "- если при выполнения блока try не возникло никаких исключений, блок except пропускается, и выполняется дальнейший код.\n",
    "- если во время выполнения блока try в каком-то месте возникло исключение, оставшаяся часть блока try пропускается.\n",
    "- если в блоке except указано исключение, которое возникло, выполняется код в блоке except.\n",
    "- если исключение, которое возникло, не указано в блоке except, выполнение программы прерывается и выдается ошибка."
   ]
  },
  {
   "cell_type": "code",
   "execution_count": 3,
   "metadata": {},
   "outputs": [
    {
     "name": "stdin",
     "output_type": "stream",
     "text": [
      " 3\n",
      " unayklejwm 53561825\n",
      " ahiff 57272140\n",
      " frlrecdfxo 28001354\n",
      " aeccxyrbek 21112785\n"
     ]
    },
    {
     "name": "stdout",
     "output_type": "stream",
     "text": [
      "Not found\n"
     ]
    },
    {
     "name": "stdin",
     "output_type": "stream",
     "text": [
      " ahiff 57272140\n"
     ]
    },
    {
     "name": "stdout",
     "output_type": "stream",
     "text": [
      "Not found\n"
     ]
    },
    {
     "name": "stdin",
     "output_type": "stream",
     "text": [
      " 100000\n"
     ]
    },
    {
     "name": "stdout",
     "output_type": "stream",
     "text": [
      "Not found\n"
     ]
    }
   ],
   "source": [
    "n = int(input())\n",
    "\n",
    "phoneBook = {}\n",
    "\n",
    "key, val = [], []\n",
    "\n",
    "# Collecting pairs of data .\n",
    "for i in range(n):\n",
    "    x = str(input()).split()\n",
    "    key.append(x[0])\n",
    "    val.append(x[1])\n",
    "\n",
    "# I make the dictionary.\n",
    "phoneBook = dict(zip(key, val))\n",
    "\n",
    "# Output the desired request.\n",
    "for i in range(n):\n",
    "    try:\n",
    "        name = input()\n",
    "        if not name in phoneBook :  # 'a' in my_dict\n",
    "            print('Not found')\n",
    "        else:\n",
    "            print(f'{name}={phoneBook[name]}')\n",
    "    except: \n",
    "        break"
   ]
  },
  {
   "cell_type": "markdown",
   "metadata": {},
   "source": [
    "100000\n",
    "unayklejwm 53561825\n",
    "ahiff 57272140\n",
    "frlrecdfxo 28001354\n",
    "aeccxyrbek 21112785\n",
    "mlgdk 12405837\n",
    "iyiyycfngr 23841264\n",
    "subnwvrqdp 77688226\n",
    "vhypdqfbdy 67846211\n",
    "lcnbh 86026675\n",
    "lxbjpmuhis 85475547\n",
    "enfifbprov 20172436\n",
    "hnjctgslxf 18125412\n",
    "slfoglbvah 47530087\n",
    "mpsrcmrkon 44365224\n",
    "jnpslqvlkx 88071512\n",
    "liwyjbsfkk 50646067\n",
    "kyrkhaikuf 18535535\n",
    "ubvfx 43551151\n",
    "krger 80787433{-truncated-}"
   ]
  },
  {
   "cell_type": "markdown",
   "metadata": {},
   "source": [
    "Not found\n",
    "ipwpabdefa=14170412\n",
    "Not found\n",
    "toykmviqbo=11872347\n",
    "mooetebtqt=70658483\n",
    "fbubawkkhq=10613664\n",
    "Not found\n",
    "ejqxn=77321147\n",
    "Not found\n",
    "Not found\n",
    "Not found\n",
    "Not found\n",
    "xgfpx=58118174\n",
    "Not found\n",
    "odacddldrk=73267266\n",
    "Not found\n",
    "iakxugylkc=41875647\n",
    "Not found\n",
    "djtelththc=20278224\n",
    "Not found{-truncated-}"
   ]
  },
  {
   "cell_type": "code",
   "execution_count": 28,
   "metadata": {},
   "outputs": [
    {
     "name": "stdin",
     "output_type": "stream",
     "text": [
      " 3\n",
      " sam 99912222\n",
      " tom 11122222\n",
      " harry 12299933\n",
      " sam\n"
     ]
    },
    {
     "name": "stdout",
     "output_type": "stream",
     "text": [
      "sam=99912222\n"
     ]
    },
    {
     "name": "stdin",
     "output_type": "stream",
     "text": [
      " i\n"
     ]
    },
    {
     "name": "stdout",
     "output_type": "stream",
     "text": [
      "Not found\n"
     ]
    },
    {
     "name": "stdin",
     "output_type": "stream",
     "text": [
      " harry\n"
     ]
    },
    {
     "name": "stdout",
     "output_type": "stream",
     "text": [
      "harry=12299933\n"
     ]
    }
   ],
   "source": [
    "n = int(input())\n",
    "\n",
    "phoneBook = {}\n",
    "\n",
    "key, val = [], []\n",
    "\n",
    "for i in range(n):\n",
    "    string = str(input()).split()\n",
    "    key.append(string[0])\n",
    "    val.append(string[1])\n",
    "    \n",
    "phoneBook = dict(zip(key, val))\n",
    "\n",
    "for i in range(n):\n",
    "    try:\n",
    "        name = input()\n",
    "        if name not  in phoneBook:\n",
    "            print('Not found')\n",
    "        else:\n",
    "            print(f'{name}={phoneBook[name]}')\n",
    "    except:\n",
    "        break"
   ]
  }
 ],
 "metadata": {
  "kernelspec": {
   "display_name": "Python 3",
   "language": "python",
   "name": "python3"
  },
  "language_info": {
   "codemirror_mode": {
    "name": "ipython",
    "version": 3
   },
   "file_extension": ".py",
   "mimetype": "text/x-python",
   "name": "python",
   "nbconvert_exporter": "python",
   "pygments_lexer": "ipython3",
   "version": "3.7.6"
  }
 },
 "nbformat": 4,
 "nbformat_minor": 4
}
