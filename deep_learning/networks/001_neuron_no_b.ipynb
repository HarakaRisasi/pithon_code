{
 "cells": [
  {
   "cell_type": "code",
   "execution_count": 1,
   "metadata": {},
   "outputs": [
    {
     "name": "stdout",
     "output_type": "stream",
     "text": [
      "Initial direct: 0.4 * X\n",
      "Ready straight: y = 2.0557253099324635 * X\n"
     ]
    }
   ],
   "source": [
    "# Init direct tilt ratio using numbers\n",
    "A = 0.4\n",
    "\n",
    "A_vis = A # Remember the initial value of direct tilt ratio\n",
    "\n",
    "# The print of the initial direct data \n",
    "print(f'Initial direct: {A} * X')\n",
    "\n",
    "# Speed of machine learning\n",
    "lr = 0.004\n",
    "# Initiate epoch numbers\n",
    "epochs = 3500\n",
    "\n",
    "# Create of input data array X\n",
    "arr_x = [1, 2, 3, 3.5, 4, 6, 7.5, 8.5, 9]\n",
    "\n",
    "# Create of output data array Y\n",
    "arr_y = [2.4, 4.5, 5.5, 6.4, 8.5, 11.7, 16.1, 16.5, 18.3]\n",
    "\n",
    "for e in range(epochs):\n",
    "    for i in range(len(arr_x)):\n",
    "        # Get a point coordinate like a value of X\n",
    "        x = arr_x[i]\n",
    "\n",
    "        # Get a calculated y, point coordinate\n",
    "        y = A * x\n",
    "\n",
    "        # Get target Y, point coordinate\n",
    "        target_Y = arr_y[i]\n",
    "\n",
    "        # Error E - target value - neuron output\n",
    "        E = target_Y - y\n",
    "\n",
    "        #  We change the x coefficient, in accordance with the rule A and Delta A\n",
    "        A += lr * (E / x)\n",
    "\n",
    "# Output of data ready to direct\n",
    "print(f'Ready straight: y = {A} * X')"
   ]
  },
  {
   "cell_type": "markdown",
   "metadata": {},
   "source": [
    "> Напомню, процессом изменения коэффициентов в ходе выполнения цикла программы, называют **процессом обучения**"
   ]
  },
  {
   "cell_type": "code",
   "execution_count": 6,
   "metadata": {},
   "outputs": [
    {
     "data": {
      "image/png": "[encoded data removed]",
      "text/plain": [
       "<Figure size 432x288 with 1 Axes>"
      ]
     },
     "metadata": {
      "needs_background": "light"
     },
     "output_type": "display_data"
    }
   ],
   "source": [
    "# Visualize\n",
    "import matplotlib.pyplot as plt\n",
    "# Visualize should be in our notebook, and not in a separate window\n",
    "%matplotlib inline \n",
    "\n",
    "# Function to display input\n",
    "def func_data(x_data):\n",
    "    return [arr_y[i] for i in range(len(arr_y))]\n",
    "\n",
    "# Function to display the initial line\n",
    "def func_begin(x_begin):\n",
    "    return [A_vis * i for i in x_begin]\n",
    "\n",
    "# Function to display the finished line\n",
    "def func(x):\n",
    "    return [A * i for i in x]\n",
    "\n",
    "# X Input values\n",
    "x_data = arr_x\n",
    "\n",
    "# Values on the X initial line (range of values)\n",
    "x_begin = [i for i in range(0, 11)]\n",
    "\n",
    "# Values on X of the finished line (range of values)\n",
    "x = [i for i in range(0, 11)]\n",
    "# x = np.arange(0, 11, 1)\n",
    "\n",
    "# Values for Y input\n",
    "y_data = func_data(x_data)\n",
    "\n",
    "# Values on Y starting line\n",
    "y_begin = func_begin(x_begin)\n",
    "\n",
    "# Y values of the finished line\n",
    "y = func(x)\n",
    "\n",
    "# Define the names for the graph and numerical coordinates\n",
    "plt.title(\"Neuron\")\n",
    "plt.xlabel(\"X\")\n",
    "plt.ylabel(\"Y\")\n",
    "\n",
    "# Define the names of the input and lines\n",
    "plt.scatter(x, y, label='Input data ', color = 'g') \n",
    "plt.plot(x, y, label='Ready line', color = 'r') \n",
    "plt.plot(x, y, label='Starting line', color = 'b') \n",
    "plt.legend(loc=2) #loc - location of the name, 2 - right in the corner\n",
    "\n",
    "# represent the data points (x, y) like a circles of diameter 10\n",
    "plt.scatter(x_data, y_data, color = 'g', s = 10)\n",
    "\n",
    "# Start line\n",
    "plt.plot(x_begin, y_begin, 'b')\n",
    "\n",
    "# Finished line\n",
    "plt.plot(x, y, 'r')\n",
    "\n",
    "# Grid in the background to improve perception\n",
    "plt.grid(True, linestyle = '--', color = '0.75')\n",
    "\n",
    "# Show graph\n",
    "plt.show()\n"
   ]
  },
  {
   "cell_type": "code",
   "execution_count": 3,
   "metadata": {},
   "outputs": [
    {
     "name": "stdin",
     "output_type": "stream",
     "text": [
      "Input of width value X:  2\n",
      "Input of height value Y: 1\n"
     ]
    },
    {
     "name": "stdout",
     "output_type": "stream",
     "text": [
      "It's crocodile!\n"
     ]
    }
   ],
   "source": [
    "# If you set the condition that everything above the red line refers to the species \n",
    "# - giraffes, \n",
    "# and below to the species \n",
    "# - crocodiles\n",
    "x = input('Input of width value X: ')\n",
    "x = int(x)\n",
    "T = input('Input of height value Y:')\n",
    "T = int(T)\n",
    "y = A * x\n",
    "\n",
    "# Condition\n",
    "if T > y:\n",
    "    print('It\\'s giraffe!')\n",
    "else: \n",
    "    print('It\\'s crocodile!')"
   ]
  },
  {
   "cell_type": "code",
   "execution_count": null,
   "metadata": {},
   "outputs": [],
   "source": [
    "# !jt -t monokai -f roboto -fs 10"
   ]
  }
 ],
 "metadata": {
  "kernelspec": {
   "display_name": "Python 3",
   "language": "python",
   "name": "python3"
  },
  "language_info": {
   "codemirror_mode": {
    "name": "ipython",
    "version": 3
   },
   "file_extension": ".py",
   "mimetype": "text/x-python",
   "name": "python",
   "nbconvert_exporter": "python",
   "pygments_lexer": "ipython3",
   "version": "3.7.4"
  }
 },
 "nbformat": 4,
 "nbformat_minor": 4
}
