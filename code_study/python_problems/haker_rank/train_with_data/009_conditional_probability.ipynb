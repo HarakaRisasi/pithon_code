{
 "cells": [
  {
   "cell_type": "markdown",
   "metadata": {},
   "source": [
    "## Conditional Probability\n",
    "This is defined as the probability of an event occurring, assuming that one or more other events have already occurred.\\\n",
    "Two events, $A$ and $B$ are considered to be independent if event $A$ has no effect on the probability of event $B$:\n",
    "$$P(B | A) = P(B)$$\n",
    "If events $A$ and $B$ are not independent, then we must consider the probability that both events occur.\\\n",
    "This can be referred to as the **intersection of events** $A$ and $B$, defined as: $$P(A \\cap B)=P(B|A)*P(A)$$\n",
    "We can then use this definition to find the conditional probability by dividing the probability of the intersection of the two events ($A \\cap B$) by the probability of the event that is assumed to have already occurred (event $A$):\n",
    "$$P(B|A) = \\frac{P(A \\cap B)}{P(A)}$$\n",
    "\n",
    "## Bayes' Theorem ([link](https://www.youtube.com/watch?v=HZGCoVF3YvM))\n",
    "Let $A$ and $B$ be two events such that $P(A|B)$ denotes the probability of the occurrence of  given that  has occurred and  denotes the probability of the occurrence of  given that  has occurred, then:\n",
    "$$P(A|B) = \\frac{P(B|A)*P(A)}{P(B)}$$\n",
    "$*$ The **Vertical Bar** $P(A|B)$ is mean that $P(A \\ \\text{limit your view} \\ B)$"
   ]
  },
  {
   "cell_type": "markdown",
   "metadata": {},
   "source": [
    "**Если подробнее**: вероятность того, что убеждение истинно с учётом новых свидетельств равна вероятности того, что убеждение было истинно без этих свидетельств, помноженной на вероятность того, что свидетельства истинны в случае истинности убеждений, и делённой на вероятность того, что свидетельства истинны вне зависимости от истинности убеждений. Понятно?\n",
    "\n",
    "Простая математическая формула выглядит так:\n",
    "\n",
    "P(B|E) = P(B) * P(E|B) / P(E)\n",
    "\n",
    "Где:\n",
    "P – вероятность\\\n",
    "B – убеждение\\\n",
    "E – свидетельства\\\n",
    "P(B) – вероятность того, что B – истинно\\\n",
    "P(E) – вероятность того, что E истинно\\\n",
    "P(B|E) – вероятность B в случае истинности E\\\n",
    "P(E|B) – вероятность E в случае истинности B\n",
    "\n",
    "Пример:\n",
    "Чтобы подсчитать значение P(B|E), нужно разместить данные в правой части уравнения.\\\n",
    "P(B), вероятность того, что у вас рак до тестирования, равна 1%, или 0,01.\\\n",
    "Такова же и P(E), вероятность того, что результат теста будет положительным.\\\n",
    "Так как они стоят в числителе и знаменателе, они сокращаются, и остаётся P(B|E) = P(E|B) = 1.\\\n",
    "Если результат анализов будет положительный, у вас рак, и наоборот.\n",
    "---\n",
    "В реальном мире надёжность анализов редко достигает 100%. Допустим, ваш тест надёжен на 99%. То есть, 99 из 100 человек, больных раком, получат положительный результат, и 99 здоровых людей из 100 получат отрицательный результат. И это всё равно будет удивительно надёжный тест. Вопрос: если ваш тест положительный, какова вероятность того, что у вас рак?\n",
    "\n",
    "Вот теперь теорема Байеса показывает всю мощь. Большинство людей посчитают, что ответ — 99%, или где-то так. Ведь тест настолько надёжен, верно? Но правильный ответ будет – всего лишь 50%.\n",
    "\n",
    "Чтобы узнать, почему, вставьте данные в правую часть уравнения. P(B) всё ещё равна 0,01. P(E|B), вероятность получить положительный тест в случае рака, равна 0,99. P(B) * P(E|B) = 0,01 * 0,99 = 0,0099. Такова вероятность того, что вы получите положительный тест, показывающий, что вы больны.\n",
    "\n",
    "Что насчёт знаменателя, P(E)? Тут есть небольшая хитрость. P(E) – вероятность получить положительный тест вне зависимости от того, больны ли вы. Иначе говоря, в неё входят ложные положительные срабатывания и истинные положительные срабатывания.\n",
    "\n",
    "Чтобы подсчитать вероятность ложного положительного срабатывания, нужно умножить количество ложных срабатываний, 1% или 0,01, на процент людей, не больных раком – 0,99. Получается 0,0099. Да, ваш отличный тест с 99%-й точностью выдаёт столько же ложных срабатываний, сколько и истинных.\n",
    "\n",
    "Закончим подсчёты. Чтобы получить P(E), сложим истинные и ложные срабатывания, получим 0,0198, поделим на это 0,0099, и получим 0,5. Итак, P(B|E), вероятность того, что у вас есть рак в случае положительного теста, равна 50%.\n",
    "\n",
    "Если вы ещё раз пройдёте тест, то можете кардинально уменьшить неопределённость, поскольку вероятность наличия у вас рака P(B) будет уже 50% вместо 1. Если второй тест тоже будет положительным, по теореме Байеса вероятность наличия у вас рака будет равна 99%, или 0,99. Как показывает этот пример, повторение теоремы может дать очень точный ответ.\n",
    "\n",
    "Но если надёжность теста 90%, что совсем неплохо, шансы на наличие у вас рака даже в случае дважды полученных положительных результатов всё ещё меньше 50%.\n",
    "\n",
    "Большинство людей, включая врачей, с трудом понимают это распределение шансов, что объясняет излишнее количество диагнозов и лечений рака и других болезней. Этот пример говорит о том, что байесианцы правы: мир был бы лучше, если бы больше людей – хотя бы больше пациентов и врачей – приняли бы байесовскую логику."
   ]
  },
  {
   "cell_type": "markdown",
   "metadata": {},
   "source": [
    "## Task\n",
    "Suppose a family has $2$ children, one of which is a boy. What is the probability that both children are boys?\n",
    "\n",
    "**Soulution: Boy or Girl Paradox**\n",
    "$$P(B|A) = \\frac{P(A \\cap B)}{P(A)}$$\n",
    "\n",
    "- $A = 1$\\\n",
    "- There are 4 possible scenarios: $(B,B), (B,G), (G,B), (G,G)$\\\n",
    "- We know that 1 child is a boy, so now we have 3 scenarios: (B, B), (B, G), (G, B), than $B = \\frac{1}{3}$\n",
    "\n",
    "- When asked, \"what is the probability that both children are boys\", the only scenario that matches this is: (B, B).\\\n",
    "- That is, only 1 of the 3 scenarios satisfies the critera, so there is a 1/3 chance that both children are boys.\n",
    "\n",
    "- $P(2|1) = \\frac{\\frac{1}{3}}{1} = \\frac{1}{3}$"
   ]
  },
  {
   "cell_type": "markdown",
   "metadata": {},
   "source": [
    "---\n",
    "**Another questions**: [Q1 and Q2](https://www.hackerrank.com/challenges/s10-mcq-4/tutorial)"
   ]
  }
 ],
 "metadata": {
  "kernelspec": {
   "display_name": "Python 3",
   "language": "python",
   "name": "python3"
  },
  "language_info": {
   "codemirror_mode": {
    "name": "ipython",
    "version": 3
   },
   "file_extension": ".py",
   "mimetype": "text/x-python",
   "name": "python",
   "nbconvert_exporter": "python",
   "pygments_lexer": "ipython3",
   "version": "3.7.6"
  }
 },
 "nbformat": 4,
 "nbformat_minor": 4
}
