{
 "cells": [
  {
   "cell_type": "code",
   "execution_count": 94,
   "metadata": {},
   "outputs": [],
   "source": [
    "import pandas as pd\n",
    "import numpy as np\n",
    "import plotly.express as px\n",
    "import datetime\n",
    "from datetime import datetime, date"
   ]
  },
  {
   "cell_type": "code",
   "execution_count": 116,
   "metadata": {},
   "outputs": [],
   "source": [
    "# Настройка вывода данных\n",
    "pd.set_option('display.max_columns', 10)\n",
    "pd.set_option('display.max_rows', 10)"
   ]
  },
  {
   "cell_type": "markdown",
   "metadata": {},
   "source": [
    "## Сбор данных"
   ]
  },
  {
   "cell_type": "code",
   "execution_count": 105,
   "metadata": {},
   "outputs": [],
   "source": [
    "df_f = pd.read_excel(\"d.xlsx\", sheet_name='Лист1')"
   ]
  },
  {
   "cell_type": "markdown",
   "metadata": {},
   "source": [
    "## Подготовка данных"
   ]
  },
  {
   "cell_type": "code",
   "execution_count": 106,
   "metadata": {},
   "outputs": [],
   "source": [
    "# Удаление лишних столбцов и колонок\n",
    "df_f = df_f.drop(index=[0, 1, 269, 270, 271], columns='Unnamed: 3389')"
   ]
  },
  {
   "cell_type": "code",
   "execution_count": 117,
   "metadata": {},
   "outputs": [
    {
     "data": {
      "text/html": [
       "<div>\n",
       "<style scoped>\n",
       "    .dataframe tbody tr th:only-of-type {\n",
       "        vertical-align: middle;\n",
       "    }\n",
       "\n",
       "    .dataframe tbody tr th {\n",
       "        vertical-align: top;\n",
       "    }\n",
       "\n",
       "    .dataframe thead th {\n",
       "        text-align: right;\n",
       "    }\n",
       "</style>\n",
       "<table border=\"1\" class=\"dataframe\">\n",
       "  <thead>\n",
       "    <tr style=\"text-align: right;\">\n",
       "      <th></th>\n",
       "      <th>Территориальная иерархия ДНС</th>\n",
       "      <th>Абк в ТЦ Калина ФТ</th>\n",
       "      <th>Unnamed: 2</th>\n",
       "      <th>Unnamed: 3</th>\n",
       "      <th>Unnamed: 4</th>\n",
       "      <th>...</th>\n",
       "      <th>Unnamed: 3384</th>\n",
       "      <th>Unnamed: 3385</th>\n",
       "      <th>Unnamed: 3386</th>\n",
       "      <th>Unnamed: 3387</th>\n",
       "      <th>Unnamed: 3388</th>\n",
       "    </tr>\n",
       "  </thead>\n",
       "  <tbody>\n",
       "    <tr>\n",
       "      <th>2</th>\n",
       "      <td>Названия строк</td>\n",
       "      <td>2011-08-16</td>\n",
       "      <td>2011-09-05</td>\n",
       "      <td>2011-09-06</td>\n",
       "      <td>2011-09-07</td>\n",
       "      <td>...</td>\n",
       "      <td>2020-12-15</td>\n",
       "      <td>2020-12-16</td>\n",
       "      <td>2020-12-17</td>\n",
       "      <td>2020-12-18</td>\n",
       "      <td>2020-12-19</td>\n",
       "    </tr>\n",
       "    <tr>\n",
       "      <th>3</th>\n",
       "      <td>01. Ноутбуки</td>\n",
       "      <td>NaN</td>\n",
       "      <td>NaN</td>\n",
       "      <td>NaN</td>\n",
       "      <td>NaN</td>\n",
       "      <td>...</td>\n",
       "      <td>NaN</td>\n",
       "      <td>NaN</td>\n",
       "      <td>NaN</td>\n",
       "      <td>NaN</td>\n",
       "      <td>NaN</td>\n",
       "    </tr>\n",
       "    <tr>\n",
       "      <th>4</th>\n",
       "      <td>01. Нетбуки</td>\n",
       "      <td>NaN</td>\n",
       "      <td>NaN</td>\n",
       "      <td>NaN</td>\n",
       "      <td>NaN</td>\n",
       "      <td>...</td>\n",
       "      <td>NaN</td>\n",
       "      <td>NaN</td>\n",
       "      <td>NaN</td>\n",
       "      <td>NaN</td>\n",
       "      <td>NaN</td>\n",
       "    </tr>\n",
       "    <tr>\n",
       "      <th>5</th>\n",
       "      <td>02. Ноутбуки</td>\n",
       "      <td>NaN</td>\n",
       "      <td>NaN</td>\n",
       "      <td>65797</td>\n",
       "      <td>86395</td>\n",
       "      <td>...</td>\n",
       "      <td>362697</td>\n",
       "      <td>380990</td>\n",
       "      <td>134997</td>\n",
       "      <td>181446</td>\n",
       "      <td>78998</td>\n",
       "    </tr>\n",
       "    <tr>\n",
       "      <th>6</th>\n",
       "      <td>03. Аксессуары для ноутбуков</td>\n",
       "      <td>NaN</td>\n",
       "      <td>NaN</td>\n",
       "      <td>NaN</td>\n",
       "      <td>NaN</td>\n",
       "      <td>...</td>\n",
       "      <td>-2499</td>\n",
       "      <td>NaN</td>\n",
       "      <td>2150</td>\n",
       "      <td>NaN</td>\n",
       "      <td>NaN</td>\n",
       "    </tr>\n",
       "  </tbody>\n",
       "</table>\n",
       "<p>5 rows × 3389 columns</p>\n",
       "</div>"
      ],
      "text/plain": [
       "   Территориальная иерархия ДНС Абк в ТЦ Калина ФТ  Unnamed: 2  Unnamed: 3  \\\n",
       "2                Названия строк         2011-08-16  2011-09-05  2011-09-06   \n",
       "3                  01. Ноутбуки                NaN         NaN         NaN   \n",
       "4                   01. Нетбуки                NaN         NaN         NaN   \n",
       "5                  02. Ноутбуки                NaN         NaN       65797   \n",
       "6  03. Аксессуары для ноутбуков                NaN         NaN         NaN   \n",
       "\n",
       "   Unnamed: 4  ... Unnamed: 3384 Unnamed: 3385 Unnamed: 3386 Unnamed: 3387  \\\n",
       "2  2011-09-07  ...    2020-12-15    2020-12-16    2020-12-17    2020-12-18   \n",
       "3         NaN  ...           NaN           NaN           NaN           NaN   \n",
       "4         NaN  ...           NaN           NaN           NaN           NaN   \n",
       "5       86395  ...        362697        380990        134997        181446   \n",
       "6         NaN  ...         -2499           NaN          2150           NaN   \n",
       "\n",
       "  Unnamed: 3388  \n",
       "2    2020-12-19  \n",
       "3           NaN  \n",
       "4           NaN  \n",
       "5         78998  \n",
       "6           NaN  \n",
       "\n",
       "[5 rows x 3389 columns]"
      ]
     },
     "execution_count": 117,
     "metadata": {},
     "output_type": "execute_result"
    }
   ],
   "source": [
    "fragment_01 = df_f[:5]\n",
    "fragment_01"
   ]
  },
  {
   "cell_type": "code",
   "execution_count": null,
   "metadata": {},
   "outputs": [],
   "source": []
  }
 ],
 "metadata": {
  "kernelspec": {
   "display_name": "Python 3",
   "language": "python",
   "name": "python3"
  },
  "language_info": {
   "codemirror_mode": {
    "name": "ipython",
    "version": 3
   },
   "file_extension": ".py",
   "mimetype": "text/x-python",
   "name": "python",
   "nbconvert_exporter": "python",
   "pygments_lexer": "ipython3",
   "version": "3.8.3"
  }
 },
 "nbformat": 4,
 "nbformat_minor": 4
}
