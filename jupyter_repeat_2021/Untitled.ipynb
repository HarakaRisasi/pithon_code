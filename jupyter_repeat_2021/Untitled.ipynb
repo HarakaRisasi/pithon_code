{
 "cells": [
  {
   "cell_type": "code",
   "execution_count": 2,
   "id": "645700cd-d83a-4ffa-8b8f-15f54c8104ba",
   "metadata": {},
   "outputs": [],
   "source": [
    "import numpy as np\n",
    "import pandas as pd"
   ]
  },
  {
   "cell_type": "code",
   "execution_count": 3,
   "id": "7874f2c0-af20-4552-8148-d48cfd42ce72",
   "metadata": {},
   "outputs": [],
   "source": [
    "import matplotlib.pyplot as plt # Для визуализации базовых графиков\n",
    "import seaborn as sns # надстройка над MatPlotLib, чтобы рисовать более сложные графики."
   ]
  },
  {
   "cell_type": "code",
   "execution_count": 5,
   "id": "c34432e4-1b51-48ff-aa7a-bafccece8b4f",
   "metadata": {},
   "outputs": [
    {
     "name": "stdout",
     "output_type": "stream",
     "text": [
      "5 | <class 'int'>\n"
     ]
    }
   ],
   "source": [
    "x = 5\n",
    "\n",
    "print(x, '|', type(x))"
   ]
  },
  {
   "cell_type": "code",
   "execution_count": 8,
   "id": "3f923d5c-5317-4bbd-a632-838efb61fc6b",
   "metadata": {},
   "outputs": [
    {
     "name": "stdout",
     "output_type": "stream",
     "text": [
      "8 20 1 1.25\n"
     ]
    }
   ],
   "source": [
    "a = 3+5\n",
    "b = 2*10\n",
    "c = 5 // 4\n",
    "d = 5 / 4\n",
    "print(a, b, c, d)"
   ]
  },
  {
   "cell_type": "markdown",
   "id": "c835b4a8-24d4-4463-8a41-d832cd6e71ab",
   "metadata": {},
   "source": [
    "### Структуры данных"
   ]
  },
  {
   "cell_type": "markdown",
   "id": "e5c211c0-79c7-4529-98b0-a9b2e2e59ca2",
   "metadata": {},
   "source": [
    "#### list"
   ]
  },
  {
   "cell_type": "code",
   "execution_count": 10,
   "id": "a6c423d1-b287-45ba-816e-635ddd208e14",
   "metadata": {},
   "outputs": [
    {
     "name": "stdout",
     "output_type": "stream",
     "text": [
      "True\n"
     ]
    }
   ],
   "source": [
    "a = list()\n",
    "b = []\n",
    "\n",
    "print(a == b)"
   ]
  },
  {
   "cell_type": "code",
   "execution_count": 13,
   "id": "f6b0cc70-0faf-408d-81e9-377ffb72bb18",
   "metadata": {},
   "outputs": [
    {
     "name": "stdout",
     "output_type": "stream",
     "text": [
      "range(1, 10, 2) | <class 'range'>\n"
     ]
    }
   ],
   "source": [
    "array = range(1, 10, 2) # range(start, end - 1, step)\n",
    "\n",
    "print(array, '|', type(array))"
   ]
  },
  {
   "cell_type": "code",
   "execution_count": 12,
   "id": "6cbbf7b3-2f33-46b4-8184-b39c18f24e72",
   "metadata": {},
   "outputs": [
    {
     "name": "stdout",
     "output_type": "stream",
     "text": [
      "[1, 3, 5, 7, 9] | <class 'list'>\n"
     ]
    }
   ],
   "source": [
    "array = list(array)\n",
    "\n",
    "print(array, '|', type(array))"
   ]
  },
  {
   "cell_type": "code",
   "execution_count": 15,
   "id": "33d7d8a3-149f-4f74-af53-2e5646a168ff",
   "metadata": {},
   "outputs": [
    {
     "name": "stdout",
     "output_type": "stream",
     "text": [
      "0\n",
      "1\n",
      "2\n",
      "3\n",
      "4\n"
     ]
    }
   ],
   "source": [
    "for i in range(5):\n",
    "    print (i)"
   ]
  },
  {
   "cell_type": "code",
   "execution_count": 17,
   "id": "07174eec-58e1-4b97-b2a3-200e9c1931f8",
   "metadata": {},
   "outputs": [
    {
     "name": "stdout",
     "output_type": "stream",
     "text": [
      "range(1, 11, 2)\n"
     ]
    }
   ],
   "source": [
    "array = array[::-1]\n",
    "\n",
    "print(array)"
   ]
  },
  {
   "cell_type": "code",
   "execution_count": 18,
   "id": "774fd043-586e-44ef-b4ff-794b36fc6dcd",
   "metadata": {},
   "outputs": [
    {
     "name": "stdout",
     "output_type": "stream",
     "text": [
      "[0, 1, 2, 3, 4, 5, 6, 7, 8, 9]\n"
     ]
    }
   ],
   "source": [
    "foo = list(range(10))\n",
    "\n",
    "print(foo)"
   ]
  },
  {
   "cell_type": "code",
   "execution_count": 19,
   "id": "cb3b8875-356d-4358-88e6-4ded5fe39546",
   "metadata": {},
   "outputs": [
    {
     "data": {
      "text/plain": [
       "[0, 1, 2, 3, 4]"
      ]
     },
     "execution_count": 19,
     "metadata": {},
     "output_type": "execute_result"
    }
   ],
   "source": [
    "foo[:5]"
   ]
  },
  {
   "cell_type": "code",
   "execution_count": 20,
   "id": "b32d0e99-e4a7-4ca9-a72b-157d0bd31a6a",
   "metadata": {},
   "outputs": [
    {
     "data": {
      "text/plain": [
       "[2, 3, 4]"
      ]
     },
     "execution_count": 20,
     "metadata": {},
     "output_type": "execute_result"
    }
   ],
   "source": [
    "foo[2:5]"
   ]
  },
  {
   "cell_type": "code",
   "execution_count": 21,
   "id": "cfbcf74d-86c9-4706-b45a-c70d9db4b3ab",
   "metadata": {},
   "outputs": [],
   "source": [
    "str_array = ['a','b','c','d','e']"
   ]
  },
  {
   "cell_type": "code",
   "execution_count": 22,
   "id": "5ad16808-2dd8-4245-a202-51ab697c1d0f",
   "metadata": {},
   "outputs": [
    {
     "name": "stdout",
     "output_type": "stream",
     "text": [
      "a b c d e\n"
     ]
    }
   ],
   "source": [
    "print(' '.join(str_array))"
   ]
  },
  {
   "cell_type": "code",
   "execution_count": 23,
   "id": "0ee092f9-ae85-4efc-b19a-b217ab96f31e",
   "metadata": {},
   "outputs": [
    {
     "name": "stdout",
     "output_type": "stream",
     "text": [
      "a,b,c,d,e\n"
     ]
    }
   ],
   "source": [
    "print(','.join(str_array))"
   ]
  },
  {
   "cell_type": "code",
   "execution_count": 25,
   "id": "75c9b0cd-ca30-4b62-a92c-8677ed9e07ce",
   "metadata": {},
   "outputs": [
    {
     "name": "stdout",
     "output_type": "stream",
     "text": [
      "[1, 2, 3, 2, 4, 5]\n"
     ]
    }
   ],
   "source": [
    "a = [1, 2, 3]\n",
    "b = [2, 4, 5]\n",
    "\n",
    "print(a + b)"
   ]
  },
  {
   "cell_type": "code",
   "execution_count": 26,
   "id": "a6433434-0a4a-44c5-9ad3-8129ecdce439",
   "metadata": {},
   "outputs": [
    {
     "data": {
      "text/plain": [
       "['__add__',\n",
       " '__class__',\n",
       " '__contains__',\n",
       " '__delattr__',\n",
       " '__delitem__',\n",
       " '__dir__',\n",
       " '__doc__',\n",
       " '__eq__',\n",
       " '__format__',\n",
       " '__ge__',\n",
       " '__getattribute__',\n",
       " '__getitem__',\n",
       " '__gt__',\n",
       " '__hash__',\n",
       " '__iadd__',\n",
       " '__imul__',\n",
       " '__init__',\n",
       " '__init_subclass__',\n",
       " '__iter__',\n",
       " '__le__',\n",
       " '__len__',\n",
       " '__lt__',\n",
       " '__mul__',\n",
       " '__ne__',\n",
       " '__new__',\n",
       " '__reduce__',\n",
       " '__reduce_ex__',\n",
       " '__repr__',\n",
       " '__reversed__',\n",
       " '__rmul__',\n",
       " '__setattr__',\n",
       " '__setitem__',\n",
       " '__sizeof__',\n",
       " '__str__',\n",
       " '__subclasshook__',\n",
       " 'append',\n",
       " 'clear',\n",
       " 'copy',\n",
       " 'count',\n",
       " 'extend',\n",
       " 'index',\n",
       " 'insert',\n",
       " 'pop',\n",
       " 'remove',\n",
       " 'reverse',\n",
       " 'sort']"
      ]
     },
     "execution_count": 26,
     "metadata": {},
     "output_type": "execute_result"
    }
   ],
   "source": [
    "dir(list)"
   ]
  },
  {
   "cell_type": "code",
   "execution_count": 27,
   "id": "859c0f71-86e4-4cf1-8e15-24aa862c12ca",
   "metadata": {},
   "outputs": [
    {
     "name": "stdout",
     "output_type": "stream",
     "text": [
      "[1, 2, 2, 3, 4, 5]\n"
     ]
    }
   ],
   "source": [
    "print(sorted(a+b))"
   ]
  },
  {
   "cell_type": "code",
   "execution_count": 28,
   "id": "2e7559d2-c097-4acb-92f2-08a455c5a2ff",
   "metadata": {},
   "outputs": [],
   "source": [
    "names =  ['b', 'c','e','f','u']"
   ]
  },
  {
   "cell_type": "code",
   "execution_count": 30,
   "id": "36ca3fca-ac36-43b6-bba6-de5e817f0c55",
   "metadata": {},
   "outputs": [
    {
     "data": {
      "text/plain": [
       "['b', 'c', 'e', 'f', 'u']"
      ]
     },
     "execution_count": 30,
     "metadata": {},
     "output_type": "execute_result"
    }
   ],
   "source": [
    "sorted(names, key=lambda x: len(x))"
   ]
  },
  {
   "cell_type": "code",
   "execution_count": 31,
   "id": "0747d729-667e-4bb9-a93f-d459a92cfa0c",
   "metadata": {},
   "outputs": [],
   "source": [
    "def cmp(string):\n",
    "    return len(string)"
   ]
  },
  {
   "cell_type": "code",
   "execution_count": 32,
   "id": "e7145773-27aa-406f-bcaa-5c053f725d4b",
   "metadata": {},
   "outputs": [
    {
     "data": {
      "text/plain": [
       "['b', 'c', 'e', 'f', 'u']"
      ]
     },
     "execution_count": 32,
     "metadata": {},
     "output_type": "execute_result"
    }
   ],
   "source": [
    "sorted(names, key=cmp)"
   ]
  },
  {
   "cell_type": "code",
   "execution_count": 33,
   "id": "c351e026-a136-4060-b83a-52ba62f2bb40",
   "metadata": {},
   "outputs": [],
   "source": [
    "l = a+b"
   ]
  },
  {
   "cell_type": "code",
   "execution_count": 34,
   "id": "2bd48d2b-d584-4050-b9e4-ee72ed71cb1e",
   "metadata": {},
   "outputs": [
    {
     "data": {
      "text/plain": [
       "2"
      ]
     },
     "execution_count": 34,
     "metadata": {},
     "output_type": "execute_result"
    }
   ],
   "source": [
    "l.count(2)"
   ]
  },
  {
   "cell_type": "markdown",
   "id": "d25b8e3b-61b3-4627-bd62-b71324a9f760",
   "metadata": {},
   "source": [
    "### Циклы"
   ]
  },
  {
   "cell_type": "markdown",
   "id": "dedd683c-2a14-441d-ad1c-22bda54f167b",
   "metadata": {},
   "source": [
    "#### for"
   ]
  },
  {
   "cell_type": "code",
   "execution_count": 38,
   "id": "02d9478b-88fc-4038-9996-0bd0d51faf04",
   "metadata": {},
   "outputs": [
    {
     "name": "stdout",
     "output_type": "stream",
     "text": [
      "h e l l o\n",
      "w o r l d\n",
      "i t ' s   m e\n"
     ]
    }
   ],
   "source": [
    "list = [\"hello\", \"world\", \"it's me\"]\n",
    "\n",
    "for i in list:\n",
    "    print(' '.join(i))"
   ]
  },
  {
   "cell_type": "markdown",
   "id": "27e45aa7-38fe-4623-a908-aafae68aeef7",
   "metadata": {},
   "source": [
    "#### while"
   ]
  },
  {
   "cell_type": "code",
   "execution_count": 40,
   "id": "911087c4-a287-401f-a368-c15ba814ce19",
   "metadata": {},
   "outputs": [
    {
     "name": "stdout",
     "output_type": "stream",
     "text": [
      "90\n",
      "80\n",
      "70\n",
      "60\n",
      "50\n",
      "40\n",
      "30\n",
      "20\n",
      "10\n",
      "0\n"
     ]
    }
   ],
   "source": [
    "x = 100\n",
    "\n",
    "while x > 0:\n",
    "    x -= 10\n",
    "    print(x)"
   ]
  },
  {
   "cell_type": "code",
   "execution_count": 56,
   "id": "0cb0b327-2fe6-434c-9718-f7ea32f16295",
   "metadata": {},
   "outputs": [
    {
     "name": "stdout",
     "output_type": "stream",
     "text": [
      "20201231\n"
     ]
    }
   ],
   "source": [
    "s = \"hello, I arrive at 2020-12-31, can you give me a lemon\"\n",
    "\n",
    "new_s = ''\n",
    "\n",
    "for i in s:\n",
    "    if i.isdigit() == True:\n",
    "        new_s += i\n",
    "    else: \n",
    "        pass\n",
    "    \n",
    "print(new_s)"
   ]
  },
  {
   "cell_type": "code",
   "execution_count": 57,
   "id": "3c2ea679-54c1-4eab-9b3b-829cf193938e",
   "metadata": {},
   "outputs": [
    {
     "data": {
      "text/plain": [
       "Timestamp('2020-12-31 00:00:00')"
      ]
     },
     "execution_count": 57,
     "metadata": {},
     "output_type": "execute_result"
    }
   ],
   "source": [
    "pd.to_datetime(new_s, format=\"%Y%m%d\")"
   ]
  },
  {
   "cell_type": "code",
   "execution_count": 4,
   "id": "39d0bac5-62e9-4f93-8a03-27431314a0bd",
   "metadata": {},
   "outputs": [],
   "source": [
    "temp = \"5\"\n",
    "fahr = float(temp)"
   ]
  },
  {
   "cell_type": "code",
   "execution_count": 6,
   "id": "5dc17463-722e-4638-ac1c-a94f26f1bda2",
   "metadata": {},
   "outputs": [
    {
     "name": "stdout",
     "output_type": "stream",
     "text": [
      "2\n",
      "1\n",
      "5\n"
     ]
    }
   ],
   "source": [
    "for i in [2,1,5]:\n",
    "    print(i)"
   ]
  },
  {
   "cell_type": "code",
   "execution_count": 9,
   "id": "f256bd87-19c4-427d-9db3-38c19b39c822",
   "metadata": {},
   "outputs": [
    {
     "name": "stdout",
     "output_type": "stream",
     "text": [
      "Before: None\n"
     ]
    }
   ],
   "source": [
    "smallest = None\n",
    "print('Before:', smallest)"
   ]
  },
  {
   "cell_type": "code",
   "execution_count": 12,
   "id": "159e1734-82f3-408d-a8cd-ecf9b82ebf5b",
   "metadata": {},
   "outputs": [],
   "source": [
    "itervar = 6"
   ]
  },
  {
   "cell_type": "code",
   "execution_count": 14,
   "id": "cfb0b987-a016-4213-8acd-b5b26f97ffa4",
   "metadata": {},
   "outputs": [],
   "source": [
    "word = \"banana\""
   ]
  },
  {
   "cell_type": "code",
   "execution_count": 16,
   "id": "1a761fac-bf9f-45bc-b191-26ab2bb7f022",
   "metadata": {},
   "outputs": [
    {
     "name": "stdout",
     "output_type": "stream",
     "text": [
      "2\n"
     ]
    }
   ],
   "source": [
    "i = word.find('na')\n",
    "print(i)"
   ]
  },
  {
   "cell_type": "code",
   "execution_count": null,
   "id": "c38d9c07-6c90-4d00-bde6-1d9e78bf511b",
   "metadata": {},
   "outputs": [],
   "source": []
  }
 ],
 "metadata": {
  "kernelspec": {
   "display_name": "Python 3",
   "language": "python",
   "name": "python3"
  },
  "language_info": {
   "codemirror_mode": {
    "name": "ipython",
    "version": 3
   },
   "file_extension": ".py",
   "mimetype": "text/x-python",
   "name": "python",
   "nbconvert_exporter": "python",
   "pygments_lexer": "ipython3",
   "version": "3.7.10"
  }
 },
 "nbformat": 4,
 "nbformat_minor": 5
}
