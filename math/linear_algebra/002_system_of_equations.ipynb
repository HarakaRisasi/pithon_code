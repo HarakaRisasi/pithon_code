{
 "cells": [
  {
   "cell_type": "code",
   "execution_count": 1,
   "metadata": {},
   "outputs": [],
   "source": [
    "import sympy as sp\n",
    "from sympy import *\n",
    "sp.init_printing(use_unicode=True)"
   ]
  },
  {
   "cell_type": "code",
   "execution_count": 2,
   "metadata": {},
   "outputs": [],
   "source": [
    "abc = (\"a, b, c, d, e, f, g, h, i, j, k, l, m, n, o, p, q, r, s, t, u, v, w, x, y, z\")\n",
    "\n",
    "a, b, c, d, e, f, g, h, i, j, k, l, m, n, o, p, q, r, s, t, u, v, w, x, y, z = sp.symbols(abc)"
   ]
  },
  {
   "cell_type": "markdown",
   "metadata": {},
   "source": [
    "## **Quiz 1**\n",
    "---\n",
    "***Is (0,1) a solution of the system?***"
   ]
  },
  {
   "cell_type": "markdown",
   "metadata": {},
   "source": [
    "\\begin{equation}\n",
    "    \\begin{cases}\n",
    "        -3x - 8y = -8\\\\ \n",
    "        y = 2 - x\n",
    "    \\end{cases}\n",
    "\\end{equation}"
   ]
  },
  {
   "cell_type": "code",
   "execution_count": 3,
   "metadata": {},
   "outputs": [
    {
     "data": {
      "image/png": "[encoded data removed]",
      "text/latex": [
       "$\\displaystyle \\left\\{ x : \\frac{8}{5}, \\  y : \\frac{2}{5}\\right\\}$"
      ],
      "text/plain": [
       "{x: 8/5, y: 2/5}"
      ]
     },
     "execution_count": 3,
     "metadata": {},
     "output_type": "execute_result"
    }
   ],
   "source": [
    "eq_1 = -3*x - 8*y\n",
    "eq_2 = y\n",
    "\n",
    "sp.solve([eq_1 - (-8), eq_2 - (2-x)], (x, y))"
   ]
  },
  {
   "cell_type": "markdown",
   "metadata": {},
   "source": [
    "***Is (0,1) a solution of the system?***\n",
    "\n",
    "\\begin{equation}\n",
    "    \\begin{cases}\n",
    "        2x + 7y = 1\\\\\n",
    "        y = 4x - 8\n",
    "    \\end{cases}\n",
    "\\end{equation}"
   ]
  },
  {
   "cell_type": "code",
   "execution_count": 9,
   "metadata": {},
   "outputs": [
    {
     "data": {
      "image/png": "[encoded data removed]",
      "text/latex": [
       "$\\displaystyle \\left\\{ x : - \\frac{11}{6}, \\  y : \\frac{2}{3}\\right\\}$"
      ],
      "text/plain": [
       "{x: -11/6, y: 2/3}"
      ]
     },
     "execution_count": 9,
     "metadata": {},
     "output_type": "execute_result"
    }
   ],
   "source": [
    "eq_1 = 2*x + 7*y\n",
    "eq_2 = y\n",
    "\n",
    "sp.solve([eq_1 - 1, eq_2 - 4*x - 8], (x, y))"
   ]
  },
  {
   "cell_type": "markdown",
   "metadata": {},
   "source": [
    "***Find the solution to the system of equations.***"
   ]
  },
  {
   "cell_type": "markdown",
   "metadata": {},
   "source": [
    "\\begin{equation}\n",
    "    \\begin{cases}\n",
    "        -7x - 2y = 14\\\\ \n",
    "        6x + 6y = 18\n",
    "    \\end{cases}\n",
    "\\end{equation}"
   ]
  },
  {
   "cell_type": "code",
   "execution_count": 4,
   "metadata": {},
   "outputs": [
    {
     "data": {
      "image/png": "[encoded data removed]",
      "text/latex": [
       "$\\displaystyle \\left\\{ x : -4, \\  y : 7\\right\\}$"
      ],
      "text/plain": [
       "{x: -4, y: 7}"
      ]
     },
     "execution_count": 4,
     "metadata": {},
     "output_type": "execute_result"
    }
   ],
   "source": [
    "eq_1 =  -7*x - 2*y\n",
    "eq_2 = 6*x + 6*y\n",
    "\n",
    "sp.solve([eq_1 - 14, eq_2 - 18], (x, y))"
   ]
  },
  {
   "cell_type": "markdown",
   "metadata": {},
   "source": [
    "***Which system of equations represents this situation?***\n",
    ">Kaelyn has some yarn that she wants to use to make hats and scarves. \\\n",
    "Each hat uses 0.2 kilograms of yarn and each scarf uses 0.1 kilograms of yarn. \\\n",
    "Kaelyn wants to make 3 times as many scarves as hats and use 5 kilograms of yarn.\n",
    "\n",
    "$$\n",
    "\\begin{equation}\n",
    "    \\begin{cases}\n",
    "        s = 3h\\\\ \n",
    "        0.2h + 0.1s = 5\n",
    "    \\end{cases}\n",
    "\\end{equation}\n",
    "$$"
   ]
  },
  {
   "cell_type": "code",
   "execution_count": 5,
   "metadata": {},
   "outputs": [
    {
     "data": {
      "image/png": "[encoded data removed]",
      "text/latex": [
       "$\\displaystyle \\left\\{ h : 10.0, \\  s : 30.0\\right\\}$"
      ],
      "text/plain": [
       "{h: 10.0, s: 30.0}"
      ]
     },
     "execution_count": 5,
     "metadata": {},
     "output_type": "execute_result"
    }
   ],
   "source": [
    "eq_1 =  s\n",
    "eq_2 = 0.2*h + 0.1*s\n",
    "\n",
    "sp.solve([eq_1 - 3*h, eq_2 - 5], (h, s))"
   ]
  },
  {
   "cell_type": "markdown",
   "metadata": {},
   "source": [
    "***Which system of equations represents this situation***\n",
    ">Sharonda uses a blend of dark chocolate and milk chocolate to make the ice cream topping at her restaurant.\\\n",
    "She needs to buy 120kg of chocolate in total for her next order,\\\n",
    "and her recipe calls for twice the amount of dark chocolate as milk chocolate.\\\n",
    "Let $d$ be the number of kilograms of dark chocolate she buys and $m$ be the number of kilograms of milk chocolate she buys.\n",
    "\n",
    "$$\n",
    "\\begin{equation}\n",
    "    \\begin{cases}\n",
    "        d + m = 120\\\\\n",
    "        d = 2m        \n",
    "    \\end{cases}\n",
    "\\end{equation}\n",
    "$$"
   ]
  },
  {
   "cell_type": "code",
   "execution_count": 6,
   "metadata": {},
   "outputs": [
    {
     "data": {
      "image/png": "[encoded data removed]",
      "text/latex": [
       "$\\displaystyle \\left\\{ d : 80, \\  m : 40\\right\\}$"
      ],
      "text/plain": [
       "{d: 80, m: 40}"
      ]
     },
     "execution_count": 6,
     "metadata": {},
     "output_type": "execute_result"
    }
   ],
   "source": [
    "eq_1 = d + m\n",
    "eq_2 = d\n",
    "\n",
    "sp.solve([eq_1 - 120, eq_2 - 2*m],(d, m))"
   ]
  },
  {
   "cell_type": "markdown",
   "metadata": {},
   "source": [
    "***Which system of equations represents this situation***\n",
    ">Kevin is 3 years older than Daniel. Two years ago, Kevin was 4 times as old as Daniel.\\\n",
    "Let $k$ be Kevin's age and let $d$ be Daniel's age.\n",
    "\n",
    "$$\n",
    "\\begin{equation}\n",
    "    \\begin{cases}\n",
    "        k = d + 3\\\\\n",
    "        k - 2 = 4(d - 2)                \n",
    "    \\end{cases}\n",
    "\\end{equation}\n",
    "$$"
   ]
  },
  {
   "cell_type": "code",
   "execution_count": 8,
   "metadata": {},
   "outputs": [
    {
     "data": {
      "image/png": "[encoded data removed]",
      "text/latex": [
       "$\\displaystyle \\left\\{ d : 1, \\  k : -2\\right\\}$"
      ],
      "text/plain": [
       "{d: 1, k: -2}"
      ]
     },
     "execution_count": 8,
     "metadata": {},
     "output_type": "execute_result"
    }
   ],
   "source": [
    "eq_1 = k\n",
    "eq_2 = k - 2\n",
    "\n",
    "sp.solve([eq_1 - d + 3, eq_2 - 4*(d - 2)],(k, d))"
   ]
  },
  {
   "cell_type": "markdown",
   "metadata": {},
   "source": [
    "***Estimate the solution to the system of equations.***\n",
    "\n",
    "$$\n",
    "\\begin{equation}\n",
    "    \\begin{cases}\n",
    "        7x - y = 7\\\\\n",
    "        x + 2y = 6                \n",
    "    \\end{cases}\n",
    "\\end{equation}\n",
    "$$"
   ]
  },
  {
   "cell_type": "code",
   "execution_count": 11,
   "metadata": {},
   "outputs": [
    {
     "data": {
      "image/png": "[encoded data removed]",
      "text/latex": [
       "$\\displaystyle \\left\\{ x : \\frac{4}{3}, \\  y : \\frac{7}{3}\\right\\}$"
      ],
      "text/plain": [
       "{x: 4/3, y: 7/3}"
      ]
     },
     "execution_count": 11,
     "metadata": {},
     "output_type": "execute_result"
    }
   ],
   "source": [
    "eq_1 = 7*x - y\n",
    "eq_2 = x + 2*y\n",
    "\n",
    "sp.solve([eq_1 - 7, eq_2 - 6],(x, y))"
   ]
  },
  {
   "attachments": {
    "cream_and_milk.png": {
     "image/png": "[encoded data removed]"
    }
   },
   "cell_type": "markdown",
   "metadata": {},
   "source": [
    "***Estimate the solution to the system of equations.***\n",
    ">Casper has some whipping cream that is 18% butterfat and some milk that is 4% butterfat.\\\n",
    "He wants to make a 500mL mixture of them that is 12 butterfat.\n",
    "\n",
    "$$\n",
    "\\begin{equation}\n",
    "    \\begin{cases}\n",
    "        0.18x + 0.04y = 0.12(500)\\\\\n",
    "        x + y = 500\n",
    "    \\end{cases}\n",
    "\\end{equation}\n",
    "$$\n",
    "\n",
    "![cream_and_milk.png](attachment:cream_and_milk.png)\n",
    "\n",
    "Here's a graph that shows a system of equations for this scenario\\ \n",
    "where $x$ is the volume of whipping cream he uses and $y$ is the volume of milk he uses."
   ]
  },
  {
   "cell_type": "code",
   "execution_count": 15,
   "metadata": {},
   "outputs": [
    {
     "data": {
      "image/png": "[encoded data removed]",
      "text/latex": [
       "$\\displaystyle \\left\\{ x : 285.714285714286, \\  y : 214.285714285714\\right\\}$"
      ],
      "text/plain": [
       "{x: 285.714285714286, y: 214.285714285714}"
      ]
     },
     "execution_count": 15,
     "metadata": {},
     "output_type": "execute_result"
    }
   ],
   "source": [
    "eq_1 = 0.18*x + 0.04*y\n",
    "eq_2 = x + y\n",
    "\n",
    "sp.solve([eq_1 - 0.12*(500), eq_2 - 500],(x, y))"
   ]
  },
  {
   "cell_type": "markdown",
   "metadata": {},
   "source": [
    "**Question**: What does point $L$ represent in this context?\\\n",
    "**Answer**: The mixture has less than the intended volume and has more than the intended percent of butterfat."
   ]
  }
 ],
 "metadata": {
  "kernelspec": {
   "display_name": "Python 3",
   "language": "python",
   "name": "python3"
  },
  "language_info": {
   "codemirror_mode": {
    "name": "ipython",
    "version": 3
   },
   "file_extension": ".py",
   "mimetype": "text/x-python",
   "name": "python",
   "nbconvert_exporter": "python",
   "pygments_lexer": "ipython3",
   "version": "3.7.6"
  }
 },
 "nbformat": 4,
 "nbformat_minor": 4
}
