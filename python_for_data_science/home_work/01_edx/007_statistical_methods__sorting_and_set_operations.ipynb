{
 "cells": [
  {
   "cell_type": "markdown",
   "metadata": {},
   "source": [
    "---\n",
    "> # **Statistical methods, sorting, and set operations**\n",
    "---"
   ]
  },
  {
   "cell_type": "markdown",
   "metadata": {},
   "source": [
    "## Basic statistical operations:"
   ]
  },
  {
   "cell_type": "code",
   "execution_count": 2,
   "metadata": {},
   "outputs": [],
   "source": [
    "import numpy as np"
   ]
  },
  {
   "cell_type": "markdown",
   "metadata": {},
   "source": [
    "**.randn syntax**\n",
    "<br>\n",
    "_Return a sample (or samples) from the “standard normal” distribution._\n",
    "> ```Python\n",
    "numpy.random.randn\n",
    "numpy.random.randn(d0, d1, ..., dn)\n",
    "```"
   ]
  },
  {
   "cell_type": "code",
   "execution_count": 3,
   "metadata": {},
   "outputs": [
    {
     "name": "stdout",
     "output_type": "stream",
     "text": [
      "[[ -4.01821021  -8.02840718  13.4340279    9.24213162   8.82117019]\n",
      " [  9.24321467  17.415843   -19.87294963   3.44523364 -10.18563121]\n",
      " [ 11.3455357   10.45743597   5.94204754   3.50693092  -1.79008925]]\n"
     ]
    }
   ],
   "source": [
    "# setup a random 2 * 4 matrix\n",
    "arr = 10 * np.random.randn(3,5)\n",
    "\n",
    "print(arr)"
   ]
  },
  {
   "cell_type": "code",
   "execution_count": 3,
   "metadata": {},
   "outputs": [
    {
     "name": "stdout",
     "output_type": "stream",
     "text": [
      "4.608381514764186\n"
     ]
    }
   ],
   "source": [
    "# compute the mean for all elements\n",
    "print(arr.mean())"
   ]
  },
  {
   "cell_type": "code",
   "execution_count": 4,
   "metadata": {},
   "outputs": [
    {
     "name": "stdout",
     "output_type": "stream",
     "text": [
      "[ 0.20809493  3.56855041 10.0484992 ]\n"
     ]
    }
   ],
   "source": [
    "# compute the meas by each row\n",
    "print(arr.mean(axis = 1))"
   ]
  },
  {
   "cell_type": "code",
   "execution_count": 5,
   "metadata": {},
   "outputs": [
    {
     "name": "stdout",
     "output_type": "stream",
     "text": [
      "[-0.88424358 -3.30283919 -2.63711228  8.80173138 21.06437124]\n"
     ]
    }
   ],
   "source": [
    "# comput the means by each column\n",
    "print(arr.mean(axis = 0))"
   ]
  },
  {
   "cell_type": "code",
   "execution_count": 6,
   "metadata": {},
   "outputs": [
    {
     "name": "stdout",
     "output_type": "stream",
     "text": [
      "69.12572272146278\n"
     ]
    }
   ],
   "source": [
    "# sum all the elemets\n",
    "print(arr.sum())"
   ]
  },
  {
   "cell_type": "code",
   "execution_count": 7,
   "metadata": {},
   "outputs": [
    {
     "name": "stdout",
     "output_type": "stream",
     "text": [
      "[-0.4679778   9.21530399 13.68508501]\n"
     ]
    }
   ],
   "source": [
    "# compute the medians\n",
    "print(np.median(arr, axis = 1))"
   ]
  },
  {
   "cell_type": "markdown",
   "metadata": {},
   "source": [
    "## Sorting"
   ]
  },
  {
   "cell_type": "code",
   "execution_count": 8,
   "metadata": {},
   "outputs": [
    {
     "name": "stdout",
     "output_type": "stream",
     "text": [
      "[-0.63690019  0.5511895  -1.29509757 -0.99119479 -1.56292721  0.62776371\n",
      "  0.35226564  0.35532227  0.70438139 -1.5259828 ]\n"
     ]
    }
   ],
   "source": [
    "# create a 10 element array of randoms\n",
    "unsorted = np.random.randn(10)\n",
    "\n",
    "print(unsorted)"
   ]
  },
  {
   "cell_type": "code",
   "execution_count": 9,
   "metadata": {},
   "outputs": [
    {
     "name": "stdout",
     "output_type": "stream",
     "text": [
      "[-1.56292721 -1.5259828  -1.29509757 -0.99119479 -0.63690019  0.35226564\n",
      "  0.35532227  0.5511895   0.62776371  0.70438139]\n",
      "\n",
      "[-0.63690019  0.5511895  -1.29509757 -0.99119479 -1.56292721  0.62776371\n",
      "  0.35226564  0.35532227  0.70438139 -1.5259828 ]\n"
     ]
    }
   ],
   "source": [
    "# create copy and sort\n",
    "sorted = np.array(unsorted)\n",
    "sorted.sort()\n",
    "\n",
    "print(sorted)\n",
    "print()\n",
    "print(unsorted)"
   ]
  },
  {
   "cell_type": "code",
   "execution_count": 10,
   "metadata": {},
   "outputs": [
    {
     "name": "stdout",
     "output_type": "stream",
     "text": [
      "[-1.56292721 -1.5259828  -1.29509757 -0.99119479 -0.63690019  0.35226564\n",
      "  0.35532227  0.5511895   0.62776371  0.70438139]\n"
     ]
    }
   ],
   "source": [
    "# inplace sorting\n",
    "unsorted.sort()\n",
    "\n",
    "print(unsorted)"
   ]
  },
  {
   "cell_type": "markdown",
   "metadata": {},
   "source": [
    "## Finding unique elements"
   ]
  },
  {
   "cell_type": "code",
   "execution_count": 11,
   "metadata": {},
   "outputs": [
    {
     "name": "stdout",
     "output_type": "stream",
     "text": [
      "[1 2 4]\n"
     ]
    }
   ],
   "source": [
    "# find all unique elements\n",
    "array = np.array([1,2,1,4,2,1,4,2])\n",
    "\n",
    "print(np.unique(array))"
   ]
  },
  {
   "cell_type": "markdown",
   "metadata": {},
   "source": [
    "## Set.operations with np.array data type"
   ]
  },
  {
   "cell_type": "code",
   "execution_count": 12,
   "metadata": {},
   "outputs": [
    {
     "name": "stdout",
     "output_type": "stream",
     "text": [
      "['desk' 'chair' 'bulb'] ['lamp' 'bulb' 'chair']\n"
     ]
    }
   ],
   "source": [
    "s1 = np.array(['desk','chair','bulb'])\n",
    "s2 = np.array(['lamp','bulb','chair'])\n",
    "\n",
    "print(s1,s2)"
   ]
  },
  {
   "cell_type": "markdown",
   "metadata": {},
   "source": [
    "**numpy.intersect1d**\n",
    "\n",
    "\n",
    "_Input arrays. Will be flattened if not already 1D\n",
    "_Find the intersection of two arrays_.\n",
    "<br>\n",
    "_Return the sorted, unique values that are in both of the input arrays_.\n",
    "\n",
    "**numpy.intersect1d syntax**\n",
    "\n",
    "```Python\n",
    "numpy.intersect1d(ar1, ar2, assume_unique=False, return_indices=False)[source]\n",
    "```\n",
    "\n",
    "**Ex:**\n",
    "```Python\n",
    "np.intersect1d([1, 3, 4, 3], [3, 1, 2, 1])\n",
    "array([1, 3])\n",
    "```\n"
   ]
  },
  {
   "cell_type": "code",
   "execution_count": 13,
   "metadata": {},
   "outputs": [
    {
     "name": "stdout",
     "output_type": "stream",
     "text": [
      "['bulb' 'chair']\n"
     ]
    }
   ],
   "source": [
    "print(np.intersect1d(s1, s2))"
   ]
  },
  {
   "cell_type": "markdown",
   "metadata": {},
   "source": [
    "**numpy.union1d**<br>\n",
    "_Find the union of two arrays._<br>\n",
    "_Return the unique, sorted array of values that are in either of the two input arrays_\n",
    "\n",
    "**numpy.union1d syntax**\n",
    "> ```Python\n",
    "numpy.union1d(ar1, ar2)[source]\n",
    "```"
   ]
  },
  {
   "cell_type": "code",
   "execution_count": 14,
   "metadata": {},
   "outputs": [
    {
     "name": "stdout",
     "output_type": "stream",
     "text": [
      "['bulb' 'chair' 'desk' 'lamp']\n"
     ]
    }
   ],
   "source": [
    "print(np.union1d(s1,s2))"
   ]
  },
  {
   "cell_type": "markdown",
   "metadata": {},
   "source": [
    "**numpy.setdiff1d**<br>\n",
    "_Find the set difference of two arrays._<br>\n",
    "_Return the sorted, unique values in ar1 that are not in ar2._\n",
    "\n",
    "**numpy.setdiff1d syntax**\n",
    "> ```Python\n",
    "numpy.setdiff1d(ar1, ar2, assume_unique=False)[source]\n",
    "```"
   ]
  },
  {
   "cell_type": "code",
   "execution_count": 15,
   "metadata": {},
   "outputs": [
    {
     "name": "stdout",
     "output_type": "stream",
     "text": [
      "['desk']\n"
     ]
    }
   ],
   "source": [
    "print(np.setdiff1d(s1,s2)) # elements in s1 that are not in s2"
   ]
  },
  {
   "cell_type": "markdown",
   "metadata": {},
   "source": [
    "**numpy.in1d**<br>\n",
    "_Test whether each element of a 1-D array is also present in a second array._<br>\n",
    "_Returns a boolean array the same length as ar1 that is True where an element of ar1 is in ar2 and False otherwise._\n",
    "\n",
    "**numpy.in1d syntax**\n",
    "> ```Python\n",
    "numpy.in1d(ar1, ar2, assume_unique=False, invert=False)[source]\n",
    "```\n",
    "\n",
    "**Recommend!** <br>\n",
    "_using **isin** instead of **in1d** for new code._<br>\n",
    "**numpy.in1d == numpy.isin**"
   ]
  },
  {
   "cell_type": "code",
   "execution_count": 16,
   "metadata": {},
   "outputs": [
    {
     "name": "stdout",
     "output_type": "stream",
     "text": [
      "[False  True  True]\n"
     ]
    }
   ],
   "source": [
    "print(np.isin(s1,s2)) # which element of s1 is also in s2\n",
    "# Логика: Во втором наборе данных - Стола нет, но стул и лампочка есть."
   ]
  }
 ],
 "metadata": {
  "kernelspec": {
   "display_name": "Python 3",
   "language": "python",
   "name": "python3"
  },
  "language_info": {
   "codemirror_mode": {
    "name": "ipython",
    "version": 3
   },
   "file_extension": ".py",
   "mimetype": "text/x-python",
   "name": "python",
   "nbconvert_exporter": "python",
   "pygments_lexer": "ipython3",
   "version": "3.7.4"
  }
 },
 "nbformat": 4,
 "nbformat_minor": 4
}
