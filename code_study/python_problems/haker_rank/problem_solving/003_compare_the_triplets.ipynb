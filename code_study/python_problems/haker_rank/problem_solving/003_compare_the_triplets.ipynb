{
 "cells": [
  {
   "cell_type": "markdown",
   "metadata": {},
   "source": [
    "Alice and Bob each created one problem for HackerRank. A reviewer rates the two challenges, awarding points on a scale from $1$ to $100$ for three categories: problem clarity, originality, and difficulty.\n",
    "\n",
    "We define the rating for Alice's challenge to be the triplet $a = (a[0],a[1],a[2])$ ,\\\n",
    "and the rating for Bob's challenge to be the triplet $b = (b[0],b[1],b[2])$ .\n",
    "\n",
    "Your task is to find their comparison points by comparing $a[0]$ with $b[0]$, $a[1]$ with $b[1]$, and $a[2]$ with $b[2]$.\n",
    "\n",
    "If $a[i] > b[i]$, then Alice is awarded $1$ point.\\\n",
    "If $a[i] < b[i]$, then Bob is awarded $1$ point.\\\n",
    "If $a[i] = b[i]$, then neither person receives a point.\\\n",
    "Comparison points is the total points a person earned.\n",
    "\n",
    "Given $a$ and $b$, determine their respective comparison points.\n",
    "\n",
    "For example,  $a = [1,2,3]$ and $b = [3,2,1]$.\\\n",
    "For elements 0, Bob is awarded a point because $a[0] < b[0]$.\\ \n",
    "For the equal elements  $a[1]$ and $b[1]$, no points are earned.\\ \n",
    "Finally, for elements $2$, $a[2] > b[2]$ so Alice receives a point.\\\n",
    "Your return array would be $[1, 1]$ with Alice's score first and Bob's second."
   ]
  },
  {
   "cell_type": "code",
   "execution_count": 2,
   "metadata": {},
   "outputs": [
    {
     "data": {
      "text/plain": [
       "[1, 2]"
      ]
     },
     "execution_count": 2,
     "metadata": {},
     "output_type": "execute_result"
    }
   ],
   "source": [
    "a = [5, 6, 7, 8]\n",
    "b = [3, 6, 10, 9]\n",
    "\n",
    "def compareTriplets(a, b):\n",
    "    result = []\n",
    "    li_1 = [i for i, j in zip(a, b) if i > j]\n",
    "    li_2 = [i for i, j in zip(a, b) if i < j]\n",
    "    result.append(len(li_1))\n",
    "    result.append(len(li_2))\n",
    "    return result\n",
    "\n",
    "compareTriplets(a, b)"
   ]
  },
  {
   "cell_type": "code",
   "execution_count": null,
   "metadata": {},
   "outputs": [],
   "source": []
  }
 ],
 "metadata": {
  "kernelspec": {
   "display_name": "Python 3",
   "language": "python",
   "name": "python3"
  },
  "language_info": {
   "codemirror_mode": {
    "name": "ipython",
    "version": 3
   },
   "file_extension": ".py",
   "mimetype": "text/x-python",
   "name": "python",
   "nbconvert_exporter": "python",
   "pygments_lexer": "ipython3",
   "version": "3.7.6"
  }
 },
 "nbformat": 4,
 "nbformat_minor": 4
}
