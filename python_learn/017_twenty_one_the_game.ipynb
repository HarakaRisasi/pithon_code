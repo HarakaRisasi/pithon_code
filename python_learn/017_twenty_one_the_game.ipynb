{
 "cells": [
  {
   "cell_type": "code",
   "execution_count": 118,
   "metadata": {},
   "outputs": [],
   "source": [
    "# include libreries\n",
    "import secrets\n",
    "from random import randint\n",
    "\n",
    "# input params\n",
    "dealer_total = 0\n",
    "player_total = 0\n",
    "\n",
    "cards = [\"2\", \"3\", \"4\", \"5\", \"6\", \"7\", \"8\", \"9\", \"J\", \"Q\", \"K\", \"A\"]\n",
    "cards_weight = [2, 3, 4, 5, 6, 7, 8, 9, 10, 10, 10, 11]\n",
    "store = []"
   ]
  },
  {
   "cell_type": "code",
   "execution_count": 119,
   "metadata": {},
   "outputs": [],
   "source": [
    "def game(player_total: int, dealer_total: int, cards, cards_weight):\n",
    "    '''game module'''    \n",
    "    running = True\n",
    "    \n",
    "    print(\"\"\"Say:\n",
    "    - 'bet' to get a card.\n",
    "    - 'stay' to stop game.\n",
    "    \"\"\")\n",
    "    \n",
    "#   Первая раздача\n",
    "    num = randint(0, len(cards) - 1) #  из колоды достается одна карта для игрока.\n",
    "    store.append(cards[num]) # Игрок берет карту.\n",
    "    player_total += cards_weight[num] # Общая сумма очков игрока.\n",
    "    print(f'Player\\'s hand: {store}') # Рука игрока.\n",
    "    dealer_total += secrets.choice(cards_weight) # Диллер берет другую карту.\n",
    "    \n",
    "#   Вторая раздача если игроку понадобяться дополнительные карты.\n",
    "    while running:\n",
    "        print(\"Add another card?\") # Запрос согласия игрока продолжать игру.\n",
    "        player_turn = input() # Ответ игрока.\n",
    "        \n",
    "#       Если игрок берет дополнительную карту, то ...\n",
    "        if player_turn == 'bet':\n",
    "            # Если игрок возьмет \"ТУЗ\" но вес карты при добавлении в общий результат дает больше 21, то вес карты меняется на 1.\n",
    "            if (player_total + cards_weight[11]) > 21 or (dealer_total + cards_weight[11]) > 21:\n",
    "                cards_weight[11] = 1\n",
    "            else:\n",
    "                cards_weight[11] = 11\n",
    "        \n",
    "            i = randint(0, len(cards) - 1) #  из колоды достается одна карта для игрока.\n",
    "            \n",
    "            store.append(cards[i]) # Игрок берет карту.\n",
    "            print(f'Player\\'s hand: {store}') # Рука игрока.\n",
    "            \n",
    "            player_total += cards_weight[i] # Общая сумма очков игрока.\n",
    "            \n",
    "            j = secrets.choice(cards_weight) # Диллер берет другую карту.\n",
    "            dealer_total += j # Общая сумма очков диллера.\n",
    "            \n",
    "            # Если игрок получил результат свыше 21, то игрок проигрывает игру\n",
    "            if player_total > 21 :\n",
    "                print(player_total)\n",
    "                print(\"You lose, because your score is more then 21\")\n",
    "                running = False  \n",
    "            elif dealer_total > 21:\n",
    "                print(\"You win, because dealer score is more then 21\")\n",
    "                running = False                        \n",
    "            \n",
    "#       Если игрок отказывается брать дополнительную карту, то ...\n",
    "        elif player_turn == 'stay':\n",
    "            print(f\"player score: {player_total} & dealer score: {dealer_total}\") # Вывод итоговых результатов игры.\n",
    "            if player_total > dealer_total:\n",
    "                return \"You win\"\n",
    "                running = False\n",
    "            elif player_total == dealer_total:\n",
    "                return \"Draw\"\n",
    "                running = False\n",
    "            else:\n",
    "                return \"You Lose\"\n",
    "                running = False   \n",
    "        else:\n",
    "            print(f\"You made mistake: you said {player_turn}, repeat command\")"
   ]
  },
  {
   "cell_type": "code",
   "execution_count": 120,
   "metadata": {},
   "outputs": [
    {
     "name": "stdout",
     "output_type": "stream",
     "text": [
      "Say:\n",
      "    - 'bet' to get a card.\n",
      "    - 'stay' to stop game.\n",
      "    \n",
      "Player's hand: ['2']\n",
      "Add another card?\n"
     ]
    },
    {
     "name": "stdin",
     "output_type": "stream",
     "text": [
      " bet\n"
     ]
    },
    {
     "name": "stdout",
     "output_type": "stream",
     "text": [
      "Player's hand: ['2', '6']\n",
      "Add another card?\n"
     ]
    },
    {
     "name": "stdin",
     "output_type": "stream",
     "text": [
      " bet\n"
     ]
    },
    {
     "name": "stdout",
     "output_type": "stream",
     "text": [
      "Player's hand: ['2', '6', '2']\n",
      "You win, because dealer score is more then 21\n"
     ]
    }
   ],
   "source": [
    "store = [] # Сброс руки в коллоду.\n",
    "\n",
    "game(player_total, dealer_total, cards, cards_weight)"
   ]
  },
  {
   "cell_type": "markdown",
   "metadata": {},
   "source": [
    "# "
   ]
  }
 ],
 "metadata": {
  "kernelspec": {
   "display_name": "Python 3",
   "language": "python",
   "name": "python3"
  },
  "language_info": {
   "codemirror_mode": {
    "name": "ipython",
    "version": 3
   },
   "file_extension": ".py",
   "mimetype": "text/x-python",
   "name": "python",
   "nbconvert_exporter": "python",
   "pygments_lexer": "ipython3",
   "version": "3.7.6"
  }
 },
 "nbformat": 4,
 "nbformat_minor": 4
}
