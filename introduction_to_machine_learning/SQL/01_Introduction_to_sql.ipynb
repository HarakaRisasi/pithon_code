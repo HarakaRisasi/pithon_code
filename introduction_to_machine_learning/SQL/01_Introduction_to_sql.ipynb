{
 "cells": [
  {
   "cell_type": "markdown",
   "metadata": {},
   "source": [
    "### Introduction"
   ]
  },
  {
   "cell_type": "markdown",
   "metadata": {},
   "source": [
    "## Relational databases\n",
    "Relational databases store data in tables with fields (columns) and records (rows), and we can query data and make calculations based on these records.\n",
    "\n",
    "## SQL magic\n",
    "Project Jupyter facilitates magic commands that are designed to solve some of the common problems in standard data analysis - these commands are prefixed by the `%` character for `line magic` and a double `%%` prefix for `cell magic`, which operate on multiple lines of input.\n",
    "\n",
    "The IPython SQL magic extension allows us to write SQL queries into code cells, as well as write these results directly into Pandas DataFrames, which provide fast, flexible, and expressive data structures designed to make working with `relational` or `labeled` data both easy and intuituve, and is arguably the most powerful and flexible open source data analysis / manipulation tool available."
   ]
  },
  {
   "cell_type": "markdown",
   "metadata": {},
   "source": [
    "### What is the SQL?\n",
    "SQL, or Structured Query Language, is a language designed to allow both technical and non-technical users query, manipulate, and transform, and transform data from a relational database. And due to its simplicity, SQL databases provide safe and scalable storage for millions of websites and mobile applications."
   ]
  },
  {
   "cell_type": "markdown",
   "metadata": {},
   "source": [
    "Did you know?  \n",
    "There are many popular SQL databases including SQLite, MySQL, Postgres, Oracle and Microsoft SQL Server. All of them support the common SQL language standard, which is what this site will be teaching, but each implementation can differ in the additional features and storage types it supports."
   ]
  },
  {
   "cell_type": "code",
   "execution_count": 1,
   "metadata": {},
   "outputs": [],
   "source": [
    "# !pip install ipython-sql\n",
    "# conda install -c conda-forge ipython-sql"
   ]
  },
  {
   "cell_type": "code",
   "execution_count": 2,
   "metadata": {},
   "outputs": [],
   "source": [
    "import sqlite3\n",
    "import sqlalchemy"
   ]
  },
  {
   "cell_type": "code",
   "execution_count": 3,
   "metadata": {},
   "outputs": [],
   "source": [
    "# To load the SQL module - ipython-sql extension - into the notebook\n",
    "%load_ext sql"
   ]
  },
  {
   "cell_type": "code",
   "execution_count": 4,
   "metadata": {},
   "outputs": [
    {
     "data": {
      "text/plain": [
       "'Connected: @None'"
      ]
     },
     "execution_count": 4,
     "metadata": {},
     "output_type": "execute_result"
    }
   ],
   "source": [
    "%sql sqlite://"
   ]
  },
  {
   "cell_type": "markdown",
   "metadata": {},
   "source": [
    "## Lesson 1: SELECT queries 101\n",
    "\n",
    "- create a SQLite database\n",
    "- create a data table\n",
    "- insert data into the table\n",
    "- query data from the table"
   ]
  },
  {
   "cell_type": "markdown",
   "metadata": {},
   "source": [
    "`SELECT` statement, which are often colloquially refered to as *quaries*."
   ]
  },
  {
   "cell_type": "markdown",
   "metadata": {},
   "source": [
    "Example of table SQL:\n",
    "```Python\n",
    "%%sql\n",
    "CREATE TABLE sales\n",
    "(\n",
    "    key       varchar(6),\n",
    "    ts        timestamp,\n",
    "    product   integer,\n",
    "    completed boolean,\n",
    "    price     float\n",
    ");\n",
    "INSERT INTO sales\n",
    "VALUES ('sale_1', '2019-11-08 00:00', 0, TRUE, 1.1),\n",
    "       ('sale_2', '2019-11-08 01:00', 0, FALSE, 1.2),\n",
    "       ('sale_3', '2019-11-08 01:00', 0, TRUE, 1.3),\n",
    "       ('sale_4', '2019-11-08 01:00', 1, FALSE, 1.4),\n",
    "       ('sale_5', '2019-11-08 02:00', 1, TRUE, 1.5),\n",
    "       ('sale_6', '2019-11-08 02:00', 1, TRUE, 1.5);\n",
    "```"
   ]
  },
  {
   "cell_type": "code",
   "execution_count": 5,
   "metadata": {},
   "outputs": [
    {
     "name": "stdout",
     "output_type": "stream",
     "text": [
      "Done.\n",
      "3 rows affected.\n"
     ]
    },
    {
     "data": {
      "text/plain": [
       "[]"
      ]
     },
     "execution_count": 5,
     "metadata": {},
     "output_type": "execute_result"
    }
   ],
   "source": [
    "%%sql sqlite://\n",
    "CREATE TABLE writer\n",
    "(\n",
    "    FirstName VARCHAR(50) NOT NULL,\n",
    "    LastName VARCHAR(50) NOT NULL,\n",
    "    USERID int NOT NULL UNIQUE,\n",
    "    PRIMARY KEY (USERID)\n",
    ");\n",
    "INSERT INTO writer \n",
    "VALUES \n",
    "('William', 'Shakespeare', 1616),\n",
    "('Lin', 'Han', 1996),\n",
    "('Peter', 'Brecht', 1978);\n"
   ]
  },
  {
   "cell_type": "code",
   "execution_count": 6,
   "metadata": {},
   "outputs": [],
   "source": [
    "# %%sql sqlite://\n",
    "# INSERT INTO writer VALUES ('William', 'Shakespeare', 1616);\n",
    "# INSERT INTO writer VALUES ('Lin', 'Han', 1996);\n",
    "# INSERT INTO writer VALUES('Peter', 'Brecht', 1978);"
   ]
  },
  {
   "cell_type": "code",
   "execution_count": 7,
   "metadata": {},
   "outputs": [
    {
     "name": "stdout",
     "output_type": "stream",
     "text": [
      " * sqlite://\n",
      "Done.\n"
     ]
    }
   ],
   "source": [
    "sqlres = %sql SELECT * from writer"
   ]
  },
  {
   "cell_type": "code",
   "execution_count": 8,
   "metadata": {},
   "outputs": [
    {
     "data": {
      "text/html": [
       "<table>\n",
       "    <tr>\n",
       "        <th>FirstName</th>\n",
       "        <th>LastName</th>\n",
       "        <th>USERID</th>\n",
       "    </tr>\n",
       "    <tr>\n",
       "        <td>William</td>\n",
       "        <td>Shakespeare</td>\n",
       "        <td>1616</td>\n",
       "    </tr>\n",
       "    <tr>\n",
       "        <td>Lin</td>\n",
       "        <td>Han</td>\n",
       "        <td>1996</td>\n",
       "    </tr>\n",
       "    <tr>\n",
       "        <td>Peter</td>\n",
       "        <td>Brecht</td>\n",
       "        <td>1978</td>\n",
       "    </tr>\n",
       "</table>"
      ],
      "text/plain": [
       "[('William', 'Shakespeare', 1616),\n",
       " ('Lin', 'Han', 1996),\n",
       " ('Peter', 'Brecht', 1978)]"
      ]
     },
     "execution_count": 8,
     "metadata": {},
     "output_type": "execute_result"
    }
   ],
   "source": [
    "sqlres"
   ]
  },
  {
   "cell_type": "code",
   "execution_count": 52,
   "metadata": {},
   "outputs": [],
   "source": [
    "# !pip install mysql-connector-python-rf"
   ]
  },
  {
   "cell_type": "code",
   "execution_count": 53,
   "metadata": {},
   "outputs": [],
   "source": [
    "import mysql.connector\n",
    "\n",
    "config = {\n",
    "  'user': 'root',\n",
    "  'password': 'root',\n",
    "  'host': 'localhost',\n",
    "  'database': 'performance_schema',\n",
    "  'raise_on_warnings': True,\n",
    "}\n",
    "\n",
    "link = mysql.connector.connect(**config)"
   ]
  },
  {
   "cell_type": "code",
   "execution_count": 46,
   "metadata": {},
   "outputs": [],
   "source": [
    "import pandas as pd"
   ]
  },
  {
   "cell_type": "code",
   "execution_count": 54,
   "metadata": {},
   "outputs": [
    {
     "data": {
      "text/html": [
       "<div>\n",
       "<style scoped>\n",
       "    .dataframe tbody tr th:only-of-type {\n",
       "        vertical-align: middle;\n",
       "    }\n",
       "\n",
       "    .dataframe tbody tr th {\n",
       "        vertical-align: top;\n",
       "    }\n",
       "\n",
       "    .dataframe thead th {\n",
       "        text-align: right;\n",
       "    }\n",
       "</style>\n",
       "<table border=\"1\" class=\"dataframe\">\n",
       "  <thead>\n",
       "    <tr style=\"text-align: right;\">\n",
       "      <th></th>\n",
       "      <th>NAME</th>\n",
       "      <th>OBJECT_INSTANCE_BEGIN</th>\n",
       "    </tr>\n",
       "  </thead>\n",
       "  <tbody>\n",
       "    <tr>\n",
       "      <th>0</th>\n",
       "      <td>wait/synch/cond/sql/COND_manager</td>\n",
       "      <td>35822412</td>\n",
       "    </tr>\n",
       "    <tr>\n",
       "      <th>1</th>\n",
       "      <td>wait/synch/cond/sql/COND_server_started</td>\n",
       "      <td>35729168</td>\n",
       "    </tr>\n",
       "    <tr>\n",
       "      <th>2</th>\n",
       "      <td>wait/synch/cond/sql/COND_compress_gtid_table</td>\n",
       "      <td>35729232</td>\n",
       "    </tr>\n",
       "    <tr>\n",
       "      <th>3</th>\n",
       "      <td>wait/synch/cond/sql/COND_handler_count</td>\n",
       "      <td>35737060</td>\n",
       "    </tr>\n",
       "    <tr>\n",
       "      <th>4</th>\n",
       "      <td>wait/synch/cond/sql/MYSQL_BIN_LOG::update_cond</td>\n",
       "      <td>35872592</td>\n",
       "    </tr>\n",
       "    <tr>\n",
       "      <th>5</th>\n",
       "      <td>wait/synch/cond/sql/MYSQL_BIN_LOG::prep_xids_cond</td>\n",
       "      <td>35874680</td>\n",
       "    </tr>\n",
       "    <tr>\n",
       "      <th>6</th>\n",
       "      <td>wait/synch/cond/sql/MYSQL_BIN_LOG::COND_done</td>\n",
       "      <td>35874812</td>\n",
       "    </tr>\n",
       "    <tr>\n",
       "      <th>7</th>\n",
       "      <td>wait/synch/cond/sql/COND_thread_cache</td>\n",
       "      <td>35744404</td>\n",
       "    </tr>\n",
       "    <tr>\n",
       "      <th>8</th>\n",
       "      <td>wait/synch/cond/sql/COND_flush_thread_cache</td>\n",
       "      <td>35744412</td>\n",
       "    </tr>\n",
       "    <tr>\n",
       "      <th>9</th>\n",
       "      <td>wait/synch/cond/sql/COND_connection_count</td>\n",
       "      <td>35743604</td>\n",
       "    </tr>\n",
       "    <tr>\n",
       "      <th>10</th>\n",
       "      <td>wait/synch/cond/sql/COND_thd_list</td>\n",
       "      <td>127492040</td>\n",
       "    </tr>\n",
       "    <tr>\n",
       "      <th>11</th>\n",
       "      <td>wait/synch/cond/sql/COND_open</td>\n",
       "      <td>35821396</td>\n",
       "    </tr>\n",
       "    <tr>\n",
       "      <th>12</th>\n",
       "      <td>wait/synch/cond/sql/Query_cache::COND_cache_st...</td>\n",
       "      <td>35735968</td>\n",
       "    </tr>\n",
       "    <tr>\n",
       "      <th>13</th>\n",
       "      <td>wait/synch/cond/sql/MDL_context::COND_wait_status</td>\n",
       "      <td>318372828</td>\n",
       "    </tr>\n",
       "    <tr>\n",
       "      <th>14</th>\n",
       "      <td>wait/synch/cond/sql/COND_thr_lock</td>\n",
       "      <td>318375660</td>\n",
       "    </tr>\n",
       "    <tr>\n",
       "      <th>15</th>\n",
       "      <td>wait/synch/cond/sql/MDL_context::COND_wait_status</td>\n",
       "      <td>318302876</td>\n",
       "    </tr>\n",
       "    <tr>\n",
       "      <th>16</th>\n",
       "      <td>wait/synch/cond/sql/COND_thr_lock</td>\n",
       "      <td>318305708</td>\n",
       "    </tr>\n",
       "    <tr>\n",
       "      <th>17</th>\n",
       "      <td>wait/synch/cond/sql/MDL_context::COND_wait_status</td>\n",
       "      <td>318386172</td>\n",
       "    </tr>\n",
       "    <tr>\n",
       "      <th>18</th>\n",
       "      <td>wait/synch/cond/sql/COND_thr_lock</td>\n",
       "      <td>318389004</td>\n",
       "    </tr>\n",
       "    <tr>\n",
       "      <th>19</th>\n",
       "      <td>wait/synch/cond/sql/MDL_context::COND_wait_status</td>\n",
       "      <td>318553260</td>\n",
       "    </tr>\n",
       "    <tr>\n",
       "      <th>20</th>\n",
       "      <td>wait/synch/cond/sql/COND_thr_lock</td>\n",
       "      <td>318556092</td>\n",
       "    </tr>\n",
       "    <tr>\n",
       "      <th>21</th>\n",
       "      <td>wait/synch/cond/innodb/commit_cond</td>\n",
       "      <td>35927184</td>\n",
       "    </tr>\n",
       "    <tr>\n",
       "      <th>22</th>\n",
       "      <td>wait/synch/cond/myisam/keycache_thread_var::su...</td>\n",
       "      <td>36758912</td>\n",
       "    </tr>\n",
       "    <tr>\n",
       "      <th>23</th>\n",
       "      <td>wait/synch/cond/sql/Gtid_state</td>\n",
       "      <td>128102364</td>\n",
       "    </tr>\n",
       "    <tr>\n",
       "      <th>24</th>\n",
       "      <td>wait/synch/cond/sql/Gtid_state</td>\n",
       "      <td>128101884</td>\n",
       "    </tr>\n",
       "    <tr>\n",
       "      <th>25</th>\n",
       "      <td>wait/synch/cond/sql/Master_info::data_cond</td>\n",
       "      <td>318884432</td>\n",
       "    </tr>\n",
       "    <tr>\n",
       "      <th>26</th>\n",
       "      <td>wait/synch/cond/sql/Master_info::start_cond</td>\n",
       "      <td>318884440</td>\n",
       "    </tr>\n",
       "    <tr>\n",
       "      <th>27</th>\n",
       "      <td>wait/synch/cond/sql/Master_info::stop_cond</td>\n",
       "      <td>318884448</td>\n",
       "    </tr>\n",
       "    <tr>\n",
       "      <th>28</th>\n",
       "      <td>wait/synch/cond/sql/Master_info::sleep_cond</td>\n",
       "      <td>318884456</td>\n",
       "    </tr>\n",
       "    <tr>\n",
       "      <th>29</th>\n",
       "      <td>wait/synch/cond/sql/MDL_context::COND_wait_status</td>\n",
       "      <td>321462348</td>\n",
       "    </tr>\n",
       "    <tr>\n",
       "      <th>30</th>\n",
       "      <td>wait/synch/cond/sql/COND_thr_lock</td>\n",
       "      <td>321465180</td>\n",
       "    </tr>\n",
       "    <tr>\n",
       "      <th>31</th>\n",
       "      <td>wait/synch/cond/sql/Relay_log_info::data_cond</td>\n",
       "      <td>319228752</td>\n",
       "    </tr>\n",
       "    <tr>\n",
       "      <th>32</th>\n",
       "      <td>wait/synch/cond/sql/Relay_log_info::start_cond</td>\n",
       "      <td>319228760</td>\n",
       "    </tr>\n",
       "    <tr>\n",
       "      <th>33</th>\n",
       "      <td>wait/synch/cond/sql/Relay_log_info::stop_cond</td>\n",
       "      <td>319228768</td>\n",
       "    </tr>\n",
       "    <tr>\n",
       "      <th>34</th>\n",
       "      <td>wait/synch/cond/sql/Relay_log_info::sleep_cond</td>\n",
       "      <td>319228776</td>\n",
       "    </tr>\n",
       "    <tr>\n",
       "      <th>35</th>\n",
       "      <td>wait/synch/cond/sql/Relay_log_info::log_space_...</td>\n",
       "      <td>319235148</td>\n",
       "    </tr>\n",
       "    <tr>\n",
       "      <th>36</th>\n",
       "      <td>wait/synch/cond/sql/Relay_log_info::pending_jo...</td>\n",
       "      <td>319237240</td>\n",
       "    </tr>\n",
       "    <tr>\n",
       "      <th>37</th>\n",
       "      <td>wait/synch/cond/sql/Relay_log_info::mts_gaq_cond</td>\n",
       "      <td>319229100</td>\n",
       "    </tr>\n",
       "    <tr>\n",
       "      <th>38</th>\n",
       "      <td>wait/synch/cond/sql/MYSQL_RELAY_LOG::update_cond</td>\n",
       "      <td>319230272</td>\n",
       "    </tr>\n",
       "    <tr>\n",
       "      <th>39</th>\n",
       "      <td>wait/synch/cond/sql/MYSQL_RELAY_LOG::prep_xids...</td>\n",
       "      <td>319232360</td>\n",
       "    </tr>\n",
       "    <tr>\n",
       "      <th>40</th>\n",
       "      <td>wait/synch/cond/sql/MYSQL_RELAY_LOG::COND_done</td>\n",
       "      <td>319232492</td>\n",
       "    </tr>\n",
       "    <tr>\n",
       "      <th>41</th>\n",
       "      <td>wait/synch/cond/sql/COND_queue_state</td>\n",
       "      <td>319032124</td>\n",
       "    </tr>\n",
       "    <tr>\n",
       "      <th>42</th>\n",
       "      <td>wait/synch/cond/sql/Event_scheduler::COND_state</td>\n",
       "      <td>128171580</td>\n",
       "    </tr>\n",
       "    <tr>\n",
       "      <th>43</th>\n",
       "      <td>wait/synch/cond/sql/MDL_context::COND_wait_status</td>\n",
       "      <td>319022684</td>\n",
       "    </tr>\n",
       "    <tr>\n",
       "      <th>44</th>\n",
       "      <td>wait/synch/cond/sql/COND_thr_lock</td>\n",
       "      <td>319025516</td>\n",
       "    </tr>\n",
       "    <tr>\n",
       "      <th>45</th>\n",
       "      <td>wait/synch/cond/sql/MDL_context::COND_wait_status</td>\n",
       "      <td>319498532</td>\n",
       "    </tr>\n",
       "    <tr>\n",
       "      <th>46</th>\n",
       "      <td>wait/synch/cond/sql/COND_thr_lock</td>\n",
       "      <td>319501364</td>\n",
       "    </tr>\n",
       "    <tr>\n",
       "      <th>47</th>\n",
       "      <td>wait/synch/cond/sql/MDL_context::COND_wait_status</td>\n",
       "      <td>319700628</td>\n",
       "    </tr>\n",
       "    <tr>\n",
       "      <th>48</th>\n",
       "      <td>wait/synch/cond/sql/COND_thr_lock</td>\n",
       "      <td>319703460</td>\n",
       "    </tr>\n",
       "  </tbody>\n",
       "</table>\n",
       "</div>"
      ],
      "text/plain": [
       "                                                 NAME  OBJECT_INSTANCE_BEGIN\n",
       "0                    wait/synch/cond/sql/COND_manager               35822412\n",
       "1             wait/synch/cond/sql/COND_server_started               35729168\n",
       "2        wait/synch/cond/sql/COND_compress_gtid_table               35729232\n",
       "3              wait/synch/cond/sql/COND_handler_count               35737060\n",
       "4      wait/synch/cond/sql/MYSQL_BIN_LOG::update_cond               35872592\n",
       "5   wait/synch/cond/sql/MYSQL_BIN_LOG::prep_xids_cond               35874680\n",
       "6        wait/synch/cond/sql/MYSQL_BIN_LOG::COND_done               35874812\n",
       "7               wait/synch/cond/sql/COND_thread_cache               35744404\n",
       "8         wait/synch/cond/sql/COND_flush_thread_cache               35744412\n",
       "9           wait/synch/cond/sql/COND_connection_count               35743604\n",
       "10                  wait/synch/cond/sql/COND_thd_list              127492040\n",
       "11                      wait/synch/cond/sql/COND_open               35821396\n",
       "12  wait/synch/cond/sql/Query_cache::COND_cache_st...               35735968\n",
       "13  wait/synch/cond/sql/MDL_context::COND_wait_status              318372828\n",
       "14                  wait/synch/cond/sql/COND_thr_lock              318375660\n",
       "15  wait/synch/cond/sql/MDL_context::COND_wait_status              318302876\n",
       "16                  wait/synch/cond/sql/COND_thr_lock              318305708\n",
       "17  wait/synch/cond/sql/MDL_context::COND_wait_status              318386172\n",
       "18                  wait/synch/cond/sql/COND_thr_lock              318389004\n",
       "19  wait/synch/cond/sql/MDL_context::COND_wait_status              318553260\n",
       "20                  wait/synch/cond/sql/COND_thr_lock              318556092\n",
       "21                 wait/synch/cond/innodb/commit_cond               35927184\n",
       "22  wait/synch/cond/myisam/keycache_thread_var::su...               36758912\n",
       "23                     wait/synch/cond/sql/Gtid_state              128102364\n",
       "24                     wait/synch/cond/sql/Gtid_state              128101884\n",
       "25         wait/synch/cond/sql/Master_info::data_cond              318884432\n",
       "26        wait/synch/cond/sql/Master_info::start_cond              318884440\n",
       "27         wait/synch/cond/sql/Master_info::stop_cond              318884448\n",
       "28        wait/synch/cond/sql/Master_info::sleep_cond              318884456\n",
       "29  wait/synch/cond/sql/MDL_context::COND_wait_status              321462348\n",
       "30                  wait/synch/cond/sql/COND_thr_lock              321465180\n",
       "31      wait/synch/cond/sql/Relay_log_info::data_cond              319228752\n",
       "32     wait/synch/cond/sql/Relay_log_info::start_cond              319228760\n",
       "33      wait/synch/cond/sql/Relay_log_info::stop_cond              319228768\n",
       "34     wait/synch/cond/sql/Relay_log_info::sleep_cond              319228776\n",
       "35  wait/synch/cond/sql/Relay_log_info::log_space_...              319235148\n",
       "36  wait/synch/cond/sql/Relay_log_info::pending_jo...              319237240\n",
       "37   wait/synch/cond/sql/Relay_log_info::mts_gaq_cond              319229100\n",
       "38   wait/synch/cond/sql/MYSQL_RELAY_LOG::update_cond              319230272\n",
       "39  wait/synch/cond/sql/MYSQL_RELAY_LOG::prep_xids...              319232360\n",
       "40     wait/synch/cond/sql/MYSQL_RELAY_LOG::COND_done              319232492\n",
       "41               wait/synch/cond/sql/COND_queue_state              319032124\n",
       "42    wait/synch/cond/sql/Event_scheduler::COND_state              128171580\n",
       "43  wait/synch/cond/sql/MDL_context::COND_wait_status              319022684\n",
       "44                  wait/synch/cond/sql/COND_thr_lock              319025516\n",
       "45  wait/synch/cond/sql/MDL_context::COND_wait_status              319498532\n",
       "46                  wait/synch/cond/sql/COND_thr_lock              319501364\n",
       "47  wait/synch/cond/sql/MDL_context::COND_wait_status              319700628\n",
       "48                  wait/synch/cond/sql/COND_thr_lock              319703460"
      ]
     },
     "execution_count": 54,
     "metadata": {},
     "output_type": "execute_result"
    }
   ],
   "source": [
    "pd.read_sql_query('SELECT * FROM cond_instances', link)"
   ]
  },
  {
   "cell_type": "code",
   "execution_count": 50,
   "metadata": {},
   "outputs": [],
   "source": [
    "link.close()"
   ]
  },
  {
   "cell_type": "code",
   "execution_count": null,
   "metadata": {},
   "outputs": [],
   "source": []
  }
 ],
 "metadata": {
  "kernelspec": {
   "display_name": "Python 3",
   "language": "python",
   "name": "python3"
  },
  "language_info": {
   "codemirror_mode": {
    "name": "ipython",
    "version": 3
   },
   "file_extension": ".py",
   "mimetype": "text/x-python",
   "name": "python",
   "nbconvert_exporter": "python",
   "pygments_lexer": "ipython3",
   "version": "3.7.6"
  }
 },
 "nbformat": 4,
 "nbformat_minor": 4
}
