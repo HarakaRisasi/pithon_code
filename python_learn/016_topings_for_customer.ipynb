{
 "cells": [
  {
   "cell_type": "code",
   "execution_count": 36,
   "metadata": {},
   "outputs": [
    {
     "data": {
      "text/plain": [
       "True"
      ]
     },
     "execution_count": 36,
     "metadata": {},
     "output_type": "execute_result"
    }
   ],
   "source": [
    "def onionless(ketchup, mustard, onion):\n",
    "    \"\"\"Return whether the customer doesn't want onions.\"\"\"\n",
    "    return not onion\n",
    "\n",
    "ketchup = True\n",
    "mustard = True\n",
    "onion = False\n",
    "\n",
    "onionless(ketchup, mustard, onion)  "
   ]
  },
  {
   "cell_type": "code",
   "execution_count": 37,
   "metadata": {},
   "outputs": [
    {
     "data": {
      "text/plain": [
       "True"
      ]
     },
     "execution_count": 37,
     "metadata": {},
     "output_type": "execute_result"
    }
   ],
   "source": [
    "def wants_all_toppings(ketchup, mustard, onion):\n",
    "    \"\"\"Return whether the customer wants all three toppings\"\"\"\n",
    "    return ketchup and mustard and onion\n",
    "\n",
    "ketchup = True\n",
    "mustard = True\n",
    "onion = True\n",
    "\n",
    "wants_all_toppings(ketchup, mustard, onion)"
   ]
  },
  {
   "cell_type": "code",
   "execution_count": 38,
   "metadata": {},
   "outputs": [
    {
     "data": {
      "text/plain": [
       "True"
      ]
     },
     "execution_count": 38,
     "metadata": {},
     "output_type": "execute_result"
    }
   ],
   "source": [
    "def wants_plain_hotdog(ketchup, mustard, onion):\n",
    "    \"\"\"Return whether the customer wants a plain hot dog with no toppings.\"\"\"\n",
    "    return not ketchup and not mustard and not onion\n",
    "\n",
    "def wants_plain_hotdog_with_factor_out(ketchup, mustard, onion):\n",
    "#   we can also \"factor out\" the nots to get: \n",
    "    return not(ketchup or mustard or onion)\n",
    "\n",
    "ketchup = False\n",
    "mustard = False\n",
    "onion = False\n",
    "\n",
    "wants_plain_hotdog(ketchup, mustard, onion)"
   ]
  },
  {
   "cell_type": "code",
   "execution_count": 39,
   "metadata": {},
   "outputs": [
    {
     "data": {
      "text/plain": [
       "True"
      ]
     },
     "execution_count": 39,
     "metadata": {},
     "output_type": "execute_result"
    }
   ],
   "source": [
    "wants_plain_hotdog_with_factor_out(ketchup, mustard, onion)"
   ]
  },
  {
   "cell_type": "code",
   "execution_count": 41,
   "metadata": {},
   "outputs": [
    {
     "data": {
      "text/plain": [
       "True"
      ]
     },
     "execution_count": 41,
     "metadata": {},
     "output_type": "execute_result"
    }
   ],
   "source": [
    "def exactly_one_sause(ketchup, mustard, onion):\n",
    "    \"\"\"Return whether the customer the customer wants either ketchup or mustard, but not both.\n",
    "    (You may be familiar with this operation under the name \"exclusive or\")\n",
    "    \"\"\"\n",
    "    return ketchup ^ mustard and onion\n",
    "\n",
    "ketchup = True\n",
    "mustard = False\n",
    "onion = True\n",
    "\n",
    "exactly_one_sause(ketchup, mustard, onion)"
   ]
  },
  {
   "cell_type": "markdown",
   "metadata": {},
   "source": [
    "## Exclusive OR\n",
    "\n",
    "```Python\n",
    "return ketchup ^ mustard and onion\n",
    "```\n",
    "that same as\n",
    "```Python\n",
    "return (ketchup and not mustard) or (mustard and not ketchup)\n",
    "```"
   ]
  },
  {
   "cell_type": "code",
   "execution_count": 7,
   "metadata": {},
   "outputs": [
    {
     "data": {
      "text/plain": [
       "True"
      ]
     },
     "execution_count": 7,
     "metadata": {},
     "output_type": "execute_result"
    }
   ],
   "source": [
    "def exactly_one_topping(ketchup, mustard, onion):\n",
    "    \"\"\"\n",
    "    Return whether the customer wants exactly one \n",
    "    of the three avilable toppings on their hot dog.\n",
    "    \"\"\"\n",
    "#     int(ketchup) == 1\n",
    "#     int(mustard) == 1\n",
    "#     int(onion) == 1\n",
    "\n",
    "    return(ketchup + mustard + onion) == 1\n",
    "\n",
    "ketchup = True\n",
    "mustard = False\n",
    "onion = False\n",
    "\n",
    "exactly_one_topping(ketchup, mustard, onion)"
   ]
  },
  {
   "cell_type": "markdown",
   "metadata": {},
   "source": [
    "## Boolean-to-integer conversion\n",
    "boolean-to-integer conversion gives us this short solution:\n",
    "\n",
    "```Python\n",
    "return (int(ketchup) + int(mustard) + int(onion)) == 1\n",
    "```\n",
    "**Fun fact**: we don't technically need to call int on the arguments. Just by doing addition with booleans, Python implicitly does the integer conversion. So we could also write...\n",
    "```Python\n",
    "return (ketchup + mustard + onion) == 1\n",
    "```"
   ]
  },
  {
   "cell_type": "code",
   "execution_count": null,
   "metadata": {},
   "outputs": [],
   "source": []
  }
 ],
 "metadata": {
  "kernelspec": {
   "display_name": "Python 3",
   "language": "python",
   "name": "python3"
  },
  "language_info": {
   "codemirror_mode": {
    "name": "ipython",
    "version": 3
   },
   "file_extension": ".py",
   "mimetype": "text/x-python",
   "name": "python",
   "nbconvert_exporter": "python",
   "pygments_lexer": "ipython3",
   "version": "3.7.6"
  }
 },
 "nbformat": 4,
 "nbformat_minor": 4
}
