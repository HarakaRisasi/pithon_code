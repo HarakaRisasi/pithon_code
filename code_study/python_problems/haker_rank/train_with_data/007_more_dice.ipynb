{
 "cells": [
  {
   "cell_type": "markdown",
   "metadata": {},
   "source": [
    "## Task\n",
    ">In a single toss of $2$ fair (evenly-weighted) six-sided dice, find the probability that the values rolled by each die will be different and the two dice have a sum of $6$.\n",
    "\n",
    "$$E = \\{(1,5),(2,4),(4,2),(5,1)\\}$$\n",
    "\n",
    "$$\\Rightarrow P(E) = \\frac{4}{36} = \\frac{1}{9}$$"
   ]
  },
  {
   "cell_type": "code",
   "execution_count": null,
   "metadata": {},
   "outputs": [],
   "source": []
  }
 ],
 "metadata": {
  "kernelspec": {
   "display_name": "Python 3",
   "language": "python",
   "name": "python3"
  },
  "language_info": {
   "codemirror_mode": {
    "name": "ipython",
    "version": 3
   },
   "file_extension": ".py",
   "mimetype": "text/x-python",
   "name": "python",
   "nbconvert_exporter": "python",
   "pygments_lexer": "ipython3",
   "version": "3.7.6"
  }
 },
 "nbformat": 4,
 "nbformat_minor": 4
}
