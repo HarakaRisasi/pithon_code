{
 "cells": [
  {
   "cell_type": "code",
   "execution_count": 297,
   "metadata": {},
   "outputs": [],
   "source": [
    "import pandas as pd\n",
    "import numpy as np\n",
    "import plotly.express as px\n",
    "import plotly.graph_objects as go\n",
    "import datetime\n",
    "from datetime import datetime, date"
   ]
  },
  {
   "cell_type": "code",
   "execution_count": 298,
   "metadata": {},
   "outputs": [],
   "source": [
    "# Настройка вывода данных\n",
    "pd.set_option('display.max_columns', 10)\n",
    "pd.set_option('display.max_rows', 10)"
   ]
  },
  {
   "cell_type": "markdown",
   "metadata": {},
   "source": [
    "## Подготовка данных.\n",
    "### Сбор сырых(исходных) данных."
   ]
  },
  {
   "cell_type": "code",
   "execution_count": 299,
   "metadata": {},
   "outputs": [],
   "source": [
    "df_f = pd.read_excel(\"d.xlsx\", sheet_name='Лист1')\n",
    "# df_f"
   ]
  },
  {
   "cell_type": "markdown",
   "metadata": {},
   "source": [
    "### Подготовка данных"
   ]
  },
  {
   "cell_type": "code",
   "execution_count": 300,
   "metadata": {},
   "outputs": [],
   "source": [
    "# Удаление лишних столбцов и колонок\n",
    "df_clear = df_f.drop(index=[0, 1, 269, 270, 271], columns='Unnamed: 3389').reset_index().drop(columns='index')"
   ]
  },
  {
   "cell_type": "code",
   "execution_count": 301,
   "metadata": {},
   "outputs": [],
   "source": [
    "# Транспонирование таблицы из строк в столбцы\n",
    "df_test = df_clear.transpose().reset_index(drop=True)\n",
    "# df_test"
   ]
  },
  {
   "cell_type": "code",
   "execution_count": 302,
   "metadata": {},
   "outputs": [],
   "source": [
    "# Применение к строке из списка роли имен колонок.\n",
    "df_test.columns = df_test.iloc[0]\n",
    "\n",
    "fragment_01 = df_test.reindex(df_test.index.drop(1)).drop(index=0)\n",
    "fragment_01 = fragment_01.rename(columns={\"Названия строк\": 'Дата'}).reset_index(drop=True)\n",
    "fragment_01.columns.name = 'ID'"
   ]
  },
  {
   "cell_type": "code",
   "execution_count": 303,
   "metadata": {},
   "outputs": [
    {
     "data": {
      "text/plain": [
       "['Дата',\n",
       " '01. Ноутбуки',\n",
       " '01. Нетбуки',\n",
       " '02. Ноутбуки',\n",
       " '03. Аксессуары для ноутбуков']"
      ]
     },
     "execution_count": 303,
     "metadata": {},
     "output_type": "execute_result"
    }
   ],
   "source": [
    "# Получить все имена колонок.\n",
    "fragment_01.columns.tolist()[:5]"
   ]
  },
  {
   "cell_type": "code",
   "execution_count": 304,
   "metadata": {},
   "outputs": [],
   "source": [
    "# Удаление ненужных колонок\n",
    "fragment_01 = fragment_01.drop(columns=[\n",
    "    '01. Ноутбуки',\n",
    "    '02. Компьютеры',\n",
    "    'EOL/Не используется',\n",
    "    '03. Комплектующие',\n",
    "    '04. Мониторы',\n",
    "    '05. Сотовые, планшеты и электронные книги',\n",
    "    '06. Камеры цифровые',\n",
    "    '07. Карманные гаджеты',\n",
    "    '08. ТВ и медиа',\n",
    "    '09. Акустика',\n",
    "    '10. Кабельная продукция',\n",
    "    '11. Печатающая офисная техника/Оргтехника',\n",
    "    '13. Источники бесперебойного питания',\n",
    "    '14. Мелочи и аксессуары',\n",
    "    '16. Чехлы и сумки',\n",
    "    '17. Расходники и накопители информации',\n",
    "    '18. Бытовая техника',\n",
    "    '19. Автоэлектроника',\n",
    "    '20. Интертеймент',\n",
    "    '21. Сетевое Оборудование',\n",
    "    '22. Источники питания',\n",
    "    '23. Сумки',\n",
    "    '26. Инструменты'\n",
    "])"
   ]
  },
  {
   "cell_type": "code",
   "execution_count": 305,
   "metadata": {},
   "outputs": [
    {
     "data": {
      "text/plain": [
       "709092"
      ]
     },
     "execution_count": 305,
     "metadata": {},
     "output_type": "execute_result"
    }
   ],
   "source": [
    "# Общее кол-во пропущенных элементов\n",
    "fragment_01.isnull().sum().sum()"
   ]
  },
  {
   "cell_type": "code",
   "execution_count": 306,
   "metadata": {},
   "outputs": [],
   "source": [
    "# Приведение типа \"datetime64\" к колонке.\n",
    "fragment_01['Дата'] = pd.to_datetime(fragment_01['Дата'], format='%Y-%m-%d')\n",
    "fragment_01 = fragment_01.fillna(0)"
   ]
  },
  {
   "cell_type": "code",
   "execution_count": 307,
   "metadata": {},
   "outputs": [
    {
     "data": {
      "text/html": [
       "<div>\n",
       "<style scoped>\n",
       "    .dataframe tbody tr th:only-of-type {\n",
       "        vertical-align: middle;\n",
       "    }\n",
       "\n",
       "    .dataframe tbody tr th {\n",
       "        vertical-align: top;\n",
       "    }\n",
       "\n",
       "    .dataframe thead th {\n",
       "        text-align: right;\n",
       "    }\n",
       "</style>\n",
       "<table border=\"1\" class=\"dataframe\">\n",
       "  <thead>\n",
       "    <tr style=\"text-align: right;\">\n",
       "      <th>ID</th>\n",
       "      <th>Дата</th>\n",
       "      <th>01. Нетбуки</th>\n",
       "      <th>02. Ноутбуки</th>\n",
       "      <th>03. Аксессуары для ноутбуков</th>\n",
       "      <th>ГСБ</th>\n",
       "      <th>...</th>\n",
       "      <th>Цепные пилы</th>\n",
       "      <th>Шуруповерты</th>\n",
       "      <th>День</th>\n",
       "      <th>Месяц</th>\n",
       "      <th>Год</th>\n",
       "    </tr>\n",
       "  </thead>\n",
       "  <tbody>\n",
       "    <tr>\n",
       "      <th>0</th>\n",
       "      <td>2011-09-05</td>\n",
       "      <td>0.0</td>\n",
       "      <td>0.0</td>\n",
       "      <td>0.0</td>\n",
       "      <td>0.0</td>\n",
       "      <td>...</td>\n",
       "      <td>0</td>\n",
       "      <td>0.0</td>\n",
       "      <td>5</td>\n",
       "      <td>9</td>\n",
       "      <td>2011</td>\n",
       "    </tr>\n",
       "    <tr>\n",
       "      <th>1</th>\n",
       "      <td>2011-09-06</td>\n",
       "      <td>0.0</td>\n",
       "      <td>65797.0</td>\n",
       "      <td>0.0</td>\n",
       "      <td>0.0</td>\n",
       "      <td>...</td>\n",
       "      <td>0</td>\n",
       "      <td>0.0</td>\n",
       "      <td>6</td>\n",
       "      <td>9</td>\n",
       "      <td>2011</td>\n",
       "    </tr>\n",
       "    <tr>\n",
       "      <th>2</th>\n",
       "      <td>2011-09-07</td>\n",
       "      <td>0.0</td>\n",
       "      <td>86395.0</td>\n",
       "      <td>0.0</td>\n",
       "      <td>6650.0</td>\n",
       "      <td>...</td>\n",
       "      <td>0</td>\n",
       "      <td>0.0</td>\n",
       "      <td>7</td>\n",
       "      <td>9</td>\n",
       "      <td>2011</td>\n",
       "    </tr>\n",
       "    <tr>\n",
       "      <th>3</th>\n",
       "      <td>2011-09-08</td>\n",
       "      <td>27954.0</td>\n",
       "      <td>48279.0</td>\n",
       "      <td>0.0</td>\n",
       "      <td>0.0</td>\n",
       "      <td>...</td>\n",
       "      <td>0</td>\n",
       "      <td>0.0</td>\n",
       "      <td>8</td>\n",
       "      <td>9</td>\n",
       "      <td>2011</td>\n",
       "    </tr>\n",
       "    <tr>\n",
       "      <th>4</th>\n",
       "      <td>2011-09-09</td>\n",
       "      <td>0.0</td>\n",
       "      <td>56004.0</td>\n",
       "      <td>0.0</td>\n",
       "      <td>0.0</td>\n",
       "      <td>...</td>\n",
       "      <td>0</td>\n",
       "      <td>0.0</td>\n",
       "      <td>9</td>\n",
       "      <td>9</td>\n",
       "      <td>2011</td>\n",
       "    </tr>\n",
       "    <tr>\n",
       "      <th>...</th>\n",
       "      <td>...</td>\n",
       "      <td>...</td>\n",
       "      <td>...</td>\n",
       "      <td>...</td>\n",
       "      <td>...</td>\n",
       "      <td>...</td>\n",
       "      <td>...</td>\n",
       "      <td>...</td>\n",
       "      <td>...</td>\n",
       "      <td>...</td>\n",
       "      <td>...</td>\n",
       "    </tr>\n",
       "    <tr>\n",
       "      <th>3382</th>\n",
       "      <td>2020-12-15</td>\n",
       "      <td>0.0</td>\n",
       "      <td>362697.0</td>\n",
       "      <td>-2499.0</td>\n",
       "      <td>51998.0</td>\n",
       "      <td>...</td>\n",
       "      <td>0</td>\n",
       "      <td>0.0</td>\n",
       "      <td>15</td>\n",
       "      <td>12</td>\n",
       "      <td>2020</td>\n",
       "    </tr>\n",
       "    <tr>\n",
       "      <th>3383</th>\n",
       "      <td>2020-12-16</td>\n",
       "      <td>0.0</td>\n",
       "      <td>380990.0</td>\n",
       "      <td>0.0</td>\n",
       "      <td>0.0</td>\n",
       "      <td>...</td>\n",
       "      <td>0</td>\n",
       "      <td>0.0</td>\n",
       "      <td>16</td>\n",
       "      <td>12</td>\n",
       "      <td>2020</td>\n",
       "    </tr>\n",
       "    <tr>\n",
       "      <th>3384</th>\n",
       "      <td>2020-12-17</td>\n",
       "      <td>0.0</td>\n",
       "      <td>134997.0</td>\n",
       "      <td>2150.0</td>\n",
       "      <td>45048.0</td>\n",
       "      <td>...</td>\n",
       "      <td>0</td>\n",
       "      <td>2250.0</td>\n",
       "      <td>17</td>\n",
       "      <td>12</td>\n",
       "      <td>2020</td>\n",
       "    </tr>\n",
       "    <tr>\n",
       "      <th>3385</th>\n",
       "      <td>2020-12-18</td>\n",
       "      <td>0.0</td>\n",
       "      <td>181446.0</td>\n",
       "      <td>0.0</td>\n",
       "      <td>55198.0</td>\n",
       "      <td>...</td>\n",
       "      <td>0</td>\n",
       "      <td>0.0</td>\n",
       "      <td>18</td>\n",
       "      <td>12</td>\n",
       "      <td>2020</td>\n",
       "    </tr>\n",
       "    <tr>\n",
       "      <th>3386</th>\n",
       "      <td>2020-12-19</td>\n",
       "      <td>0.0</td>\n",
       "      <td>78998.0</td>\n",
       "      <td>0.0</td>\n",
       "      <td>0.0</td>\n",
       "      <td>...</td>\n",
       "      <td>0</td>\n",
       "      <td>7999.0</td>\n",
       "      <td>19</td>\n",
       "      <td>12</td>\n",
       "      <td>2020</td>\n",
       "    </tr>\n",
       "  </tbody>\n",
       "</table>\n",
       "<p>3387 rows × 247 columns</p>\n",
       "</div>"
      ],
      "text/plain": [
       "ID         Дата  01. Нетбуки  02. Ноутбуки  03. Аксессуары для ноутбуков  \\\n",
       "0    2011-09-05          0.0           0.0                           0.0   \n",
       "1    2011-09-06          0.0       65797.0                           0.0   \n",
       "2    2011-09-07          0.0       86395.0                           0.0   \n",
       "3    2011-09-08      27954.0       48279.0                           0.0   \n",
       "4    2011-09-09          0.0       56004.0                           0.0   \n",
       "...         ...          ...           ...                           ...   \n",
       "3382 2020-12-15          0.0      362697.0                       -2499.0   \n",
       "3383 2020-12-16          0.0      380990.0                           0.0   \n",
       "3384 2020-12-17          0.0      134997.0                        2150.0   \n",
       "3385 2020-12-18          0.0      181446.0                           0.0   \n",
       "3386 2020-12-19          0.0       78998.0                           0.0   \n",
       "\n",
       "ID        ГСБ  ...  Цепные пилы  Шуруповерты  День  Месяц   Год  \n",
       "0         0.0  ...            0          0.0     5      9  2011  \n",
       "1         0.0  ...            0          0.0     6      9  2011  \n",
       "2      6650.0  ...            0          0.0     7      9  2011  \n",
       "3         0.0  ...            0          0.0     8      9  2011  \n",
       "4         0.0  ...            0          0.0     9      9  2011  \n",
       "...       ...  ...          ...          ...   ...    ...   ...  \n",
       "3382  51998.0  ...            0          0.0    15     12  2020  \n",
       "3383      0.0  ...            0          0.0    16     12  2020  \n",
       "3384  45048.0  ...            0       2250.0    17     12  2020  \n",
       "3385  55198.0  ...            0          0.0    18     12  2020  \n",
       "3386      0.0  ...            0       7999.0    19     12  2020  \n",
       "\n",
       "[3387 rows x 247 columns]"
      ]
     },
     "execution_count": 307,
     "metadata": {},
     "output_type": "execute_result"
    }
   ],
   "source": [
    "# Вынос Мясяца и Года в отдельную колонку.\n",
    "fragment_01['День'] = fragment_01['Дата'].dt.day\n",
    "fragment_01['Месяц'] = fragment_01['Дата'].dt.month\n",
    "fragment_01['Год'] = fragment_01['Дата'].dt.year\n",
    "fragment_01"
   ]
  },
  {
   "cell_type": "code",
   "execution_count": 308,
   "metadata": {},
   "outputs": [
    {
     "data": {
      "text/plain": [
       "['Дата',\n",
       " '01. Нетбуки',\n",
       " '02. Ноутбуки',\n",
       " '03. Аксессуары для ноутбуков',\n",
       " 'ГСБ',\n",
       " 'Моноблоки',\n",
       " 'Неттопы',\n",
       " 'Платформы для мини ПК',\n",
       " 'Блоки питания',\n",
       " 'Видеокарты']"
      ]
     },
     "execution_count": 308,
     "metadata": {},
     "output_type": "execute_result"
    }
   ],
   "source": [
    "fragment_01.columns.tolist()[:10]"
   ]
  },
  {
   "cell_type": "code",
   "execution_count": 309,
   "metadata": {},
   "outputs": [],
   "source": [
    "name = '02. Ноутбуки'"
   ]
  },
  {
   "cell_type": "code",
   "execution_count": 2,
   "metadata": {},
   "outputs": [
    {
     "name": "stdout",
     "output_type": "stream",
     "text": [
      "Collecting package metadata (current_repodata.json): ...working... done\n",
      "Solving environment: ...working... done\n",
      "\n",
      "Note: you may need to restart the kernel to use updated packages.\n",
      "# All requested packages already installed.\n",
      "\n",
      "\n"
     ]
    }
   ],
   "source": [
    "conda install -c conda-forge jupyterlab jupyterlab-git"
   ]
  },
  {
   "cell_type": "code",
   "execution_count": 4,
   "metadata": {},
   "outputs": [
    {
     "name": "stdout",
     "output_type": "stream",
     "text": [
      "\n"
     ]
    },
    {
     "name": "stderr",
     "output_type": "stream",
     "text": [
      "[LabBuildApp] JupyterLab 2.2.9\n",
      "[LabBuildApp] Building in c:\\users\\haraka\\anaconda3\\share\\jupyter\\lab\n",
      "[LabBuildApp] Building jupyterlab assets (build:prod:minimize)\n"
     ]
    }
   ],
   "source": [
    "!jupyter lab build"
   ]
  },
  {
   "cell_type": "code",
   "execution_count": null,
   "metadata": {},
   "outputs": [],
   "source": []
  }
 ],
 "metadata": {
  "kernelspec": {
   "display_name": "Python 3",
   "language": "python",
   "name": "python3"
  },
  "language_info": {
   "codemirror_mode": {
    "name": "ipython",
    "version": 3
   },
   "file_extension": ".py",
   "mimetype": "text/x-python",
   "name": "python",
   "nbconvert_exporter": "python",
   "pygments_lexer": "ipython3",
   "version": "3.8.3"
  }
 },
 "nbformat": 4,
 "nbformat_minor": 4
}
