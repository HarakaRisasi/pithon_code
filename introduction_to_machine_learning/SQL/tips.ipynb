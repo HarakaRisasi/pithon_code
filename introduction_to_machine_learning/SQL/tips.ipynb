{
 "cells": [
  {
   "cell_type": "markdown",
   "metadata": {},
   "source": [
    "### Basic Queries"
   ]
  },
  {
   "cell_type": "markdown",
   "metadata": {},
   "source": [
    "Views  \n",
    "-- filter your columns  \n",
    " `SELECT` col1, col2, col3, ... FROM table1  \n",
    "-- filter the rows  \n",
    " `WHERE` col4 = 1 AND col5 = 2  \n",
    "-- aggregate the data  \n",
    " `GROUP` by …  \n",
    "-- limit aggregated data  \n",
    " `HAVING` count(*) > 1  \n",
    "-- order of the results  \n",
    " `ORDER BY` col2  \n",
    " \n",
    "Useful keywords for SELECTS:  \n",
    "`DISTINCT` - return unique results  \n",
    "`BETWEEN` a `AND` b - limit the range, the values can be numbers, text, or dates  \n",
    "`LIKE` - pattern search within the column text  \n",
    "`IN` (a, b, c) - check if the value is contained among given."
   ]
  },
  {
   "cell_type": "markdown",
   "metadata": {},
   "source": [
    "Data Modification  \n",
    "-- update specific data with the WHERE clause  \n",
    " `UPDATE` table1 `SET` col1 = 1 `WHERE` col2 = 2  \n",
    "-- insert values manually  \n",
    " `INSERT INTO` table1 (`ID`, `FIRST_NAME`, `LAST_NAME`)  \n",
    " `VALUES` (1, ‘Rebel’, ‘Labs’);  \n",
    "-- or by using the results of a query  \n",
    " `INSERT INTO` table1 (`ID`, `FIRST_NAME`, `LAST_NAME`)   \n",
    " `SELECT` id, last_name, first_name `FROM` table2  "
   ]
  },
  {
   "cell_type": "markdown",
   "metadata": {},
   "source": [
    "Views  \n",
    "A `VIEW` is a virtual table, which is a result of a query.  \n",
    "They can be used to create virtual tables of complex queries.\n",
    "\n",
    "`CREATE VIEW` view1 AS  \n",
    "`SELECT` col1, col2  \n",
    "`FROM` table1  \n",
    "`WHERE` …  "
   ]
  }
 ],
 "metadata": {
  "kernelspec": {
   "display_name": "Python 3",
   "language": "python",
   "name": "python3"
  },
  "language_info": {
   "codemirror_mode": {
    "name": "ipython",
    "version": 3
   },
   "file_extension": ".py",
   "mimetype": "text/x-python",
   "name": "python",
   "nbconvert_exporter": "python",
   "pygments_lexer": "ipython3",
   "version": "3.7.6"
  }
 },
 "nbformat": 4,
 "nbformat_minor": 4
}
