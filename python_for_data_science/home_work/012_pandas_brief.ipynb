{
 "cells": [
  {
   "cell_type": "markdown",
   "metadata": {},
   "source": [
    "# <font color=purple>Pandas</font>\n",
    "_pandas_ is a Python library for data analysis. It offers a number of data exploration, cleaning and transformation operations that are critical in working with data in Python.\n",
    "\n",
    "_pandas_ build upon _numpy_ and _scipy_ providing easy-to-use data structures and data manipulation functions with integrated indexing.\n",
    "\n",
    "The Main data structures _pandas_ provides are _Series_ and _DataFrames_. After a brief introduction to these two data structures and data ingestion, the key features of _pandas_ this notebook covers are:\n",
    "\n",
    "- Generating descriptive statistics on data.\n",
    "- Data cleaning using built in pandas functions.\n",
    "- Frequent data operations for subsetting, filtering, insertion, deletion and aggregation of data.\n",
    "- Merging multiple datasets using dataframes.\n",
    "- Working with timestamps and time-series data.\n"
   ]
  },
  {
   "cell_type": "code",
   "execution_count": 1,
   "metadata": {},
   "outputs": [],
   "source": [
    "import pandas as pd\n",
    "import numpy as np"
   ]
  },
  {
   "cell_type": "code",
   "execution_count": 2,
   "metadata": {},
   "outputs": [
    {
     "name": "stdout",
     "output_type": "stream",
     "text": [
      "True\n"
     ]
    }
   ],
   "source": [
    "def areSimilar(a, b):   \n",
    "    if len((np.setdiff1d(a,b))) == 0:\n",
    "        print(True)\n",
    "    else:\n",
    "        print(False)\n",
    "    \n",
    "a = [1, 2, 2]\n",
    "b = [2, 1, 1]\n",
    "\n",
    "areSimilar(a, b)"
   ]
  },
  {
   "cell_type": "code",
   "execution_count": null,
   "metadata": {},
   "outputs": [],
   "source": []
  },
  {
   "cell_type": "code",
   "execution_count": null,
   "metadata": {},
   "outputs": [],
   "source": []
  }
 ],
 "metadata": {
  "kernelspec": {
   "display_name": "Python 3",
   "language": "python",
   "name": "python3"
  },
  "language_info": {
   "codemirror_mode": {
    "name": "ipython",
    "version": 3
   },
   "file_extension": ".py",
   "mimetype": "text/x-python",
   "name": "python",
   "nbconvert_exporter": "python",
   "pygments_lexer": "ipython3",
   "version": "3.7.4"
  }
 },
 "nbformat": 4,
 "nbformat_minor": 4
}
