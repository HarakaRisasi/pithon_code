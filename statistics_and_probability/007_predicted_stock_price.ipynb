{
 "cells": [
  {
   "cell_type": "code",
   "execution_count": 18,
   "metadata": {},
   "outputs": [],
   "source": [
    "# This program predicts stock prices by using machine learning models\n",
    "\n",
    "# Install the dependencies\n",
    "import quandl\n",
    "quandl.ApiConfig.api_key = \"7ws1X3GThPB87W8r7tmA\"\n",
    "import numpy as np\n",
    "from sklearn.svm import SVR\n",
    "from sklearn.linear_model import LinearRegression\n",
    "from sklearn.model_selection import train_test_split"
   ]
  },
  {
   "cell_type": "code",
   "execution_count": 30,
   "metadata": {},
   "outputs": [],
   "source": [
    "# get the stock data\n",
    "df = quandl.get(\"WIKI/FB\")"
   ]
  },
  {
   "cell_type": "code",
   "execution_count": 32,
   "metadata": {},
   "outputs": [
    {
     "name": "stdout",
     "output_type": "stream",
     "text": [
      "             Open   High    Low    Close       Volume  Ex-Dividend  \\\n",
      "Date                                                                 \n",
      "2012-05-18  42.05  45.00  38.00  38.2318  573576400.0          0.0   \n",
      "2012-05-21  36.53  36.66  33.00  34.0300  168192700.0          0.0   \n",
      "2012-05-22  32.61  33.59  30.94  31.0000  101786600.0          0.0   \n",
      "2012-05-23  31.37  32.50  31.36  32.0000   73600000.0          0.0   \n",
      "2012-05-24  32.95  33.21  31.77  33.0300   50237200.0          0.0   \n",
      "\n",
      "            Split Ratio  Adj. Open  Adj. High  Adj. Low  Adj. Close  \\\n",
      "Date                                                                  \n",
      "2012-05-18          1.0      42.05      45.00     38.00     38.2318   \n",
      "2012-05-21          1.0      36.53      36.66     33.00     34.0300   \n",
      "2012-05-22          1.0      32.61      33.59     30.94     31.0000   \n",
      "2012-05-23          1.0      31.37      32.50     31.36     32.0000   \n",
      "2012-05-24          1.0      32.95      33.21     31.77     33.0300   \n",
      "\n",
      "            Adj. Volume  \n",
      "Date                     \n",
      "2012-05-18  573576400.0  \n",
      "2012-05-21  168192700.0  \n",
      "2012-05-22  101786600.0  \n",
      "2012-05-23   73600000.0  \n",
      "2012-05-24   50237200.0  \n"
     ]
    }
   ],
   "source": [
    "# take a look at the data\n",
    "print(df.head())"
   ]
  },
  {
   "cell_type": "code",
   "execution_count": 27,
   "metadata": {},
   "outputs": [
    {
     "name": "stdout",
     "output_type": "stream",
     "text": [
      "            Adj. Close\n",
      "Date                  \n",
      "2012-05-18     38.2318\n",
      "2012-05-21     34.0300\n",
      "2012-05-22     31.0000\n",
      "2012-05-23     32.0000\n",
      "2012-05-24     33.0300\n"
     ]
    }
   ],
   "source": [
    "# Get the Adjusted close price\n",
    "df = df[['Adj. Close']]\n",
    "\n",
    "# Take a look at the new data\n",
    "print(df.head())"
   ]
  },
  {
   "cell_type": "code",
   "execution_count": 33,
   "metadata": {},
   "outputs": [],
   "source": [
    "# A variable for predicting 'n' days out into the future\n",
    "forecast_out = 1\n"
   ]
  },
  {
   "cell_type": "code",
   "execution_count": null,
   "metadata": {},
   "outputs": [],
   "source": []
  }
 ],
 "metadata": {
  "kernelspec": {
   "display_name": "Python 3",
   "language": "python",
   "name": "python3"
  },
  "language_info": {
   "codemirror_mode": {
    "name": "ipython",
    "version": 3
   },
   "file_extension": ".py",
   "mimetype": "text/x-python",
   "name": "python",
   "nbconvert_exporter": "python",
   "pygments_lexer": "ipython3",
   "version": "3.7.7"
  }
 },
 "nbformat": 4,
 "nbformat_minor": 4
}
