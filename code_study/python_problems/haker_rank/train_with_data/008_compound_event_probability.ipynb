{
 "cells": [
  {
   "cell_type": "markdown",
   "metadata": {},
   "source": [
    "## Task\n",
    "There are $3$ urns labled $X$, $Y$, and $Z$\n",
    "\n",
    "1) Urn $X$ contains $4$ red balls and $3$ black balls.\\\n",
    "2) Urn $Y$ contains $5$ red balls and $4$ black balls.\\\n",
    "3) Urn $Z$ contains $4$ red balls and $4$ black balls.\n",
    "\n",
    ">One ball is drawn from each of the $3$ urns. What is the probability that, of the $3$ balls drawn, $2$ are red and $1$ is black?\n",
    "\n",
    "### P(Red)\n",
    "P(red in unr x) = $\\frac{4}{7}$\\\n",
    "P(red in unr y) = $\\frac{5}{9}$\\\n",
    "P(red in unr z) = $\\frac{1}{2}$\n",
    "### P(Black)\n",
    "P(black in unr x) = $\\frac{3}{7}$\\\n",
    "P(black in unr y) = $\\frac{4}{9}$\\\n",
    "P(black in unr z) = $\\frac{1}{2}$\n",
    "\n",
    "## Brainstorm\n",
    "---\n",
    "\n",
    "if - 0 is RED\\\n",
    "if - 1 is BLACK\n",
    "and I need: 2 RED and 1 BLACK\n",
    "\n",
    "then:\n",
    "\n",
    "000\\\n",
    "001 <=\\\n",
    "010 <=\\\n",
    "011\\\n",
    "100 <=\\\n",
    "101\\\n",
    "110\\\n",
    "111\n",
    "\n",
    "---\n",
    "then:\n",
    "$P(2R, 1B) = 001, 010, 100 = (\\frac{4}{7} * \\frac{5}{9} * \\frac{1}{2}) + (\\frac{4}{7} * \\frac{4}{9} * \\frac{1}{2}) + (\\frac{3}{7} * \\frac{5}{9} * \\frac{1}{2}) = \\frac{20}{126} + \\frac{16}{126} + \\frac{15}{126} = \\frac{51}{126} = \\frac{17}{42}$"
   ]
  },
  {
   "cell_type": "code",
   "execution_count": 1,
   "metadata": {},
   "outputs": [
    {
     "name": "stdout",
     "output_type": "stream",
     "text": [
      "The probability of drawing 2 reds and one black is 0.40476190476190477, or 17/42.\n"
     ]
    }
   ],
   "source": [
    "from fractions import Fraction\n",
    "\n",
    "x = [4, 3]\n",
    "y = [5, 4]\n",
    "z = [4, 4]\n",
    "\n",
    "# The probabilities of pulling red form each urn\n",
    "xr = x[0] / sum(x)\n",
    "yr = y[0] / sum(y)\n",
    "zr = z[0] / sum(z)\n",
    "\n",
    "p = (xr * yr * (1 - zr)) + (xr * (1 - yr) * zr) + ((1 - xr) * yr * zr)\n",
    "p_frac = Fraction(p).limit_denominator() # Fraction form\n",
    "\n",
    "print(f\"The probability of drawing 2 reds and one black is {p}, or {p_frac}.\")"
   ]
  }
 ],
 "metadata": {
  "kernelspec": {
   "display_name": "Python 3",
   "language": "python",
   "name": "python3"
  },
  "language_info": {
   "codemirror_mode": {
    "name": "ipython",
    "version": 3
   },
   "file_extension": ".py",
   "mimetype": "text/x-python",
   "name": "python",
   "nbconvert_exporter": "python",
   "pygments_lexer": "ipython3",
   "version": "3.7.6"
  }
 },
 "nbformat": 4,
 "nbformat_minor": 4
}
