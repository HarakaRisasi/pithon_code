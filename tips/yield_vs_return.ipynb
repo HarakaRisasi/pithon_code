{
 "cells": [
  {
   "cell_type": "code",
   "execution_count": 8,
   "metadata": {},
   "outputs": [
    {
     "name": "stdout",
     "output_type": "stream",
     "text": [
      "Code with \"Return\": [4, 1, 3, 2, 4, 4]\n",
      "Code with \"Yield\": [6, 3, 4, 3, 6, 5, 1, 6, 1, 3, 2, 6, 1, 4, 2, 6, 3]\n"
     ]
    }
   ],
   "source": [
    "# Yield vs Return\n",
    "\n",
    "import random\n",
    "\n",
    "def get_dices():\n",
    "    values = []\n",
    "    for _ in range(6):\n",
    "        val = random.randint(1, 6)\n",
    "        values.append(val)\n",
    "    return values\n",
    "\n",
    "print(f\"Code with \\\"Return\\\": {get_dices()}\")  \n",
    "\n",
    "# yeld - позволяет вывести результат не завершая работу функции \n",
    "def get_dices_adv():\n",
    "    value = []\n",
    "    for _ in range(6):\n",
    "        yield(random.randint(1, 6))\n",
    "    \n",
    "    for _ in range(3):\n",
    "        yield(random.randint(1, 6))\n",
    "        \n",
    "    for _ in range(8):\n",
    "        yield(random.randint(1, 6))\n",
    "    # yeld - позволяет создавать сложные конструкции из циклов и много чего еще.\n",
    "    # yeld - позволяет в данном случае наполнить список выводом значений из разных циклов и разной вложенности.    \n",
    "        \n",
    "print(f\"Code with \\\"Yield\\\": {list(get_dices_adv())}\")"
   ]
  }
 ],
 "metadata": {
  "kernelspec": {
   "display_name": "Python 3",
   "language": "python",
   "name": "python3"
  },
  "language_info": {
   "codemirror_mode": {
    "name": "ipython",
    "version": 3
   },
   "file_extension": ".py",
   "mimetype": "text/x-python",
   "name": "python",
   "nbconvert_exporter": "python",
   "pygments_lexer": "ipython3",
   "version": "3.7.6"
  }
 },
 "nbformat": 4,
 "nbformat_minor": 4
}
