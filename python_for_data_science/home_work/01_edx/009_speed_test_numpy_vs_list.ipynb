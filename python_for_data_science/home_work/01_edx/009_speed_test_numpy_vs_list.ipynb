{
 "cells": [
  {
   "cell_type": "code",
   "execution_count": 1,
   "metadata": {},
   "outputs": [],
   "source": [
    "import numpy as np"
   ]
  },
  {
   "cell_type": "code",
   "execution_count": 2,
   "metadata": {},
   "outputs": [],
   "source": [
    "from numpy import arange\n",
    "from timeit import Timer\n",
    "\n",
    "size = 1000000\n",
    "timeits = 1000"
   ]
  },
  {
   "cell_type": "code",
   "execution_count": 27,
   "metadata": {},
   "outputs": [
    {
     "name": "stdout",
     "output_type": "stream",
     "text": [
      "<class 'numpy.ndarray'>\n"
     ]
    }
   ],
   "source": [
    "# create the ndarray with values 0,1,2...,size-1\n",
    "nd_array = arange(size)\n",
    "\n",
    "print(type(nd_array))"
   ]
  },
  {
   "cell_type": "markdown",
   "metadata": {},
   "source": [
    "**timeit()**<br>\n",
    "_method is available with python library timeit. It is used to get the execution time taken for the small code given.<br>_\n",
    "_The library runs the code statement 1 million times and provides the minimum time taken from the set.<br>_\n",
    "_**It is a useful method that helps in checking the performance of the code**._\n",
    "\n",
    "**timeit syntax**\n",
    "\n",
    "> ```Python\n",
    "timeit.timeit(stmt, setup,timer, number)\n",
    "\n",
    "\n",
    "- stmt: This willtake the code for which you want to measure the execution time. The default value is \"pass\".\n",
    "- setup: This will have setup details that need to be executed before stmt. The default value is \"pass.\"\n",
    "- timer: This will have the timer value, timeit() already has a default value set, and we can ignore it.\n",
    "- number: The stmt will execute as per the number is given here. The default value is 1000000.\n",
    "\n",
    "**Ex-1:**\n",
    "\n",
    "> ```Python\n",
    "import timeit\n",
    "print(timeit.timeit('output = 10*5'))\n",
    "\n",
    "**Ex-2: Using semicolon**\n",
    "\n",
    "> ```Python\n",
    "import timeit\n",
    "print(\"The time taken is \",timeit.timeit(stmt='a=10;b=10;sum=a+b'))\n",
    "\n",
    "**Ex-3: Using triple quotes**\n",
    "\n",
    "> ```Python\n",
    "import timeit\n",
    "import_module = \"import random\"\n",
    "testcode = ''' \n",
    "def test(): \n",
    "    return random.randint(10, 100)\n",
    "'''\n",
    "print(timeit.repeat(stmt=testcode, setup=import_module))\n"
   ]
  },
  {
   "cell_type": "code",
   "execution_count": 26,
   "metadata": {},
   "outputs": [
    {
     "name": "stdout",
     "output_type": "stream",
     "text": [
      "Time taken by numpy ndarray: 0.00040299419999973904 seconds\n"
     ]
    }
   ],
   "source": [
    "# timer expects the operation as a parameter, here we pass nd_array.sum()\n",
    "timer_numpy = Timer(\"nd_array.sum()\", \"from __main__ import nd_array\")\n",
    "\n",
    "print(f'Time taken by numpy ndarray: {(timer_numpy.timeit(timeits)/timeits)} seconds')"
   ]
  },
  {
   "cell_type": "code",
   "execution_count": 16,
   "metadata": {},
   "outputs": [
    {
     "name": "stdout",
     "output_type": "stream",
     "text": [
      "<class 'list'>\n"
     ]
    }
   ],
   "source": [
    "# create the list with values 0,1,2,...,size-1\n",
    "a_list = list(range(size))\n",
    "\n",
    "print(type(a_list))"
   ]
  },
  {
   "cell_type": "code",
   "execution_count": 29,
   "metadata": {},
   "outputs": [
    {
     "name": "stdout",
     "output_type": "stream",
     "text": [
      "0.0003692486000009012\n"
     ]
    }
   ],
   "source": [
    "# timer expects the operation as a parameter, here we pass sum(a_list)\n",
    "timer_list = Timer(\"sum(a_list)\", \"from __main__ import a_list\")\n",
    "\n",
    "print(f'Time taken by list: {(timer_numpy.timeit(timeits)/timeits)} seconds')"
   ]
  }
 ],
 "metadata": {
  "kernelspec": {
   "display_name": "Python 3",
   "language": "python",
   "name": "python3"
  },
  "language_info": {
   "codemirror_mode": {
    "name": "ipython",
    "version": 3
   },
   "file_extension": ".py",
   "mimetype": "text/x-python",
   "name": "python",
   "nbconvert_exporter": "python",
   "pygments_lexer": "ipython3",
   "version": "3.7.4"
  }
 },
 "nbformat": 4,
 "nbformat_minor": 4
}
