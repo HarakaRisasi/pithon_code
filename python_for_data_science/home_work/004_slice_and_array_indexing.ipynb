{
 "cells": [
  {
   "cell_type": "markdown",
   "metadata": {},
   "source": [
    "## **Array indexing**\n",
    "### **Slice indexing:**\n",
    "Similar to the use of slice indexing with lists and strings, we can use slice indexing to pull out subregions of ndarrays."
   ]
  },
  {
   "cell_type": "code",
   "execution_count": 13,
   "metadata": {},
   "outputs": [
    {
     "name": "stdout",
     "output_type": "stream",
     "text": [
      "[[11 12 13 14]\n",
      " [21 22 23 24]\n",
      " [31 32 33 34]]\n"
     ]
    }
   ],
   "source": [
    "import numpy as np\n",
    "\n",
    "# rank 2 array of shape (3,4)\n",
    "an_array = np.array([[11,12,13,14], [21,22,23,24], [31,32,33,34]])\n",
    "\n",
    "print(an_array)"
   ]
  },
  {
   "cell_type": "markdown",
   "metadata": {},
   "source": [
    "Use **array slicing** to get a subarray consisting of the firs 2 rows X 2 columns."
   ]
  },
  {
   "cell_type": "markdown",
   "metadata": {},
   "source": [
    "**syntax for slicing:**\n",
    "> obj[start:stop:step]\n",
    "\n",
    "**Ex:**\n",
    "```Python\n",
    "py_string = 'Python'\n",
    "\n",
    "print(py_string[0:3])  \n",
    "\n",
    "# Pyt\n",
    "```"
   ]
  },
  {
   "cell_type": "code",
   "execution_count": 14,
   "metadata": {},
   "outputs": [
    {
     "name": "stdout",
     "output_type": "stream",
     "text": [
      "[[12 13]\n",
      " [22 23]]\n"
     ]
    }
   ],
   "source": [
    "a_slice = an_array[:2, 1:3]\n",
    "\n",
    "print(a_slice)"
   ]
  },
  {
   "cell_type": "markdown",
   "metadata": {},
   "source": [
    "---\n",
    "\n",
    "![](../Week-3-2-numpy_satellite/Screenshot_6.png)\n",
    "\n",
    "---"
   ]
  },
  {
   "cell_type": "markdown",
   "metadata": {},
   "source": [
    "**When you modify a slice, you** actually **modify the underlying array**."
   ]
  },
  {
   "cell_type": "code",
   "execution_count": 15,
   "metadata": {},
   "outputs": [
    {
     "name": "stdout",
     "output_type": "stream",
     "text": [
      "Before: 12\n",
      "After: 1000\n"
     ]
    }
   ],
   "source": [
    "print(f'Before: {an_array[0, 1]}') # inspect the element at 0, 1\n",
    "\n",
    "a_slice[0, 0] = 1000 # a_slice [0, 0] is the same piece of data as an_array[0, 1]\n",
    "\n",
    "print(f'After: {an_array[0, 1]}')"
   ]
  },
  {
   "cell_type": "markdown",
   "metadata": {},
   "source": [
    "### **Use both integer indexing & slice indexing**\n",
    "We can use combinations of integer indexing and slice indexing to create different shaped matrices."
   ]
  },
  {
   "cell_type": "code",
   "execution_count": 16,
   "metadata": {},
   "outputs": [
    {
     "name": "stdout",
     "output_type": "stream",
     "text": [
      "[[11 12 13 14]\n",
      " [21 22 23 24]\n",
      " [31 32 33 34]]\n"
     ]
    }
   ],
   "source": [
    "# create a Rank 2 array of shape (3, 4)\n",
    "an_array = np.array([[11,12,13,14], [21,22,23,24], [31,32,33,34]])\n",
    "\n",
    "print(an_array)"
   ]
  },
  {
   "cell_type": "markdown",
   "metadata": {},
   "source": [
    "**numpy.shape** - _размеры массива, его форма_. \n",
    "> Это кортеж натуральных чисел, показывающий длину массива по каждой оси.</br>**Для матрицы из n строк и m столбов, shape будет (n,m)**. </br>Число элементов кортежа shape равно рангу массива, то есть ndim."
   ]
  },
  {
   "cell_type": "code",
   "execution_count": 17,
   "metadata": {},
   "outputs": [
    {
     "name": "stdout",
     "output_type": "stream",
     "text": [
      "[21 22 23 24] (4,)\n"
     ]
    }
   ],
   "source": [
    "# use both integer indexing & slicing generates an array of lower rank\n",
    "row_rank1 = an_array[1, :] # rank 1 view\n",
    "\n",
    "print(row_rank1, row_rank1.shape) # notice only a single []"
   ]
  },
  {
   "cell_type": "code",
   "execution_count": 18,
   "metadata": {},
   "outputs": [
    {
     "name": "stdout",
     "output_type": "stream",
     "text": [
      "[[21 22 23 24]] (1, 4)\n"
     ]
    }
   ],
   "source": [
    "# slicing alone: generates an array of the same rank as the an_array\n",
    "row_rank2 = an_array[1:2, :] # rank 2 view\n",
    "\n",
    "print(row_rank2, row_rank2.shape) # notice the [[]]"
   ]
  },
  {
   "cell_type": "code",
   "execution_count": 19,
   "metadata": {},
   "outputs": [
    {
     "name": "stdout",
     "output_type": "stream",
     "text": [
      "\n",
      "[12 22 32] (3,)\n",
      "\n",
      "[[12]\n",
      " [22]\n",
      " [32]] (3, 1)\n"
     ]
    }
   ],
   "source": [
    "# we can do the same thing for columns of an array:\n",
    "print()\n",
    "col_rank1 = an_array[:, 1]\n",
    "col_rank2 = an_array[:, 1:2]\n",
    "\n",
    "print(col_rank1, col_rank1.shape) # rank 1\n",
    "print()\n",
    "print(col_rank2, col_rank2.shape) # rank 2"
   ]
  },
  {
   "cell_type": "markdown",
   "metadata": {},
   "source": [
    "### Array indexing for changing elements\n",
    "Sometimes it's useful to use an array of indexes to access or change elements."
   ]
  },
  {
   "cell_type": "code",
   "execution_count": 20,
   "metadata": {},
   "outputs": [
    {
     "name": "stdout",
     "output_type": "stream",
     "text": [
      "Original array:\n",
      "[[11 12 13]\n",
      " [21 22 23]\n",
      " [31 32 33]\n",
      " [41 42 43]]\n"
     ]
    }
   ],
   "source": [
    "# create a new array\n",
    "an_array = np.array([[11,12,13], [21,22,23], [31,32,33], [41,42,43]])\n",
    "\n",
    "print(f'Original array:\\n{an_array}')"
   ]
  },
  {
   "cell_type": "markdown",
   "metadata": {},
   "source": [
    "**arange()** - это одна из процедур создания массива, основанная на числовых диапазонах. </br>Он создает экземпляр ndarray с **равномерно распределенными значениями** и возвращает ссылку на него.\n",
    "\n",
    "**Ex:**\n",
    "```Python \n",
    "# np.arange(start=1, stop=10, step=3)\n",
    "# array([1, 4, 7])\n",
    "```"
   ]
  },
  {
   "cell_type": "code",
   "execution_count": 21,
   "metadata": {},
   "outputs": [
    {
     "name": "stdout",
     "output_type": "stream",
     "text": [
      "Col indices picked:\n",
      " [0 1 2 0]\n",
      "Rows indices picked:\n",
      " [0 1 2 3]\n"
     ]
    }
   ],
   "source": [
    "# create an array of indices\n",
    "col_indices = np.array([0,1,2,0]) # create a rank 1 array\n",
    "\n",
    "print(f'Col indices picked:\\n {col_indices}')\n",
    "\n",
    "row_indices = np.arange(4)\n",
    "\n",
    "print(f'Rows indices picked:\\n {row_indices}')"
   ]
  },
  {
   "cell_type": "markdown",
   "metadata": {},
   "source": [
    "### python**(zip)**\n",
    "В Pyhon функция **zip позволяет пройтись одновременно по нескольким итерируемым объектам** (спискам и др.):\n",
    "\n",
    "**Ex:**\n",
    "```Python\n",
    "a = [10, 20, 30, 40]\n",
    "b = ['a', 'b', 'c', 'd', 'e']\n",
    "for i, j in zip(a, b):\n",
    "    print(i, j)\n",
    "    \n",
    "# 10 a\n",
    "# 20 b\n",
    "# 30 c\n",
    "# 40 d    \n",
    "```"
   ]
  },
  {
   "cell_type": "code",
   "execution_count": 22,
   "metadata": {},
   "outputs": [
    {
     "name": "stdout",
     "output_type": "stream",
     "text": [
      "0, 0\n",
      "1, 1\n",
      "2, 2\n",
      "3, 0\n"
     ]
    }
   ],
   "source": [
    "# example the pairings of row_inices and col_indices. These are the elements we'll change next.\n",
    "for row, col in zip(row_indices, col_indices):\n",
    "    print(f'{row}, {col}')"
   ]
  },
  {
   "cell_type": "code",
   "execution_count": 23,
   "metadata": {},
   "outputs": [
    {
     "name": "stdout",
     "output_type": "stream",
     "text": [
      "values in the array at those indices: [11 22 33 41]\n"
     ]
    }
   ],
   "source": [
    "# select one element from each row\n",
    "print(f'values in the array at those indices: {an_array[row_indices, col_indices]}')"
   ]
  },
  {
   "cell_type": "code",
   "execution_count": 24,
   "metadata": {},
   "outputs": [
    {
     "name": "stdout",
     "output_type": "stream",
     "text": [
      "Changed array:\n",
      " [[10011    12    13]\n",
      " [   21 10022    23]\n",
      " [   31    32 10033]\n",
      " [10041    42    43]]\n"
     ]
    }
   ],
   "source": [
    "# change one element from each row using the indices selected\n",
    "an_array[row_indices, col_indices] += 10000\n",
    "\n",
    "print(f'Changed array:\\n {an_array}')"
   ]
  }
 ],
 "metadata": {
  "kernelspec": {
   "display_name": "Python 3",
   "language": "python",
   "name": "python3"
  },
  "language_info": {
   "codemirror_mode": {
    "name": "ipython",
    "version": 3
   },
   "file_extension": ".py",
   "mimetype": "text/x-python",
   "name": "python",
   "nbconvert_exporter": "python",
   "pygments_lexer": "ipython3",
   "version": "3.7.4"
  }
 },
 "nbformat": 4,
 "nbformat_minor": 4
}
