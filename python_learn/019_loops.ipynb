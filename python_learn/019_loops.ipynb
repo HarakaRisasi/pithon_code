{
 "cells": [
  {
   "cell_type": "markdown",
   "metadata": {},
   "source": [
    "## Loops\n",
    "Loops are way to repeatedly execute some code."
   ]
  },
  {
   "cell_type": "code",
   "execution_count": null,
   "metadata": {},
   "outputs": [],
   "source": [
    "planets = ['Mercury', 'Venus', 'Earth', 'Mars', 'Jupiter', 'Saturn', 'Uranus', 'Neptune']\n",
    "\n",
    "for planet in planets:\n",
    "    print(planet, end=' ') # print all on same line"
   ]
  },
  {
   "cell_type": "markdown",
   "metadata": {},
   "source": [
    "The `for` loop specifies\n",
    "- the variable name to use (in this case, `planet`)\n",
    "- the set of values to loop over (in this case, `palnets`)\n",
    "\n",
    "You use the word `in` to link them together.\n",
    "\n",
    "The object to hte right of the `in` can be any object that supports iteration.\\\n",
    "Basically, if it can be thought of as a group of things, you can probably loop over it.\\\n",
    "In addition to lists, we can iterate over the elements of a tuple:"
   ]
  },
  {
   "cell_type": "code",
   "execution_count": null,
   "metadata": {},
   "outputs": [],
   "source": [
    "multiplicands = (2, 2, 2, 3, 3, 5)\n",
    "product = 1\n",
    "\n",
    "for mult in multiplicands:\n",
    "    product = product * mult\n",
    "\n",
    "product"
   ]
  },
  {
   "cell_type": "markdown",
   "metadata": {},
   "source": [
    "You can even lop though each caracter in a string:"
   ]
  },
  {
   "cell_type": "code",
   "execution_count": 3,
   "metadata": {},
   "outputs": [],
   "source": [
    "s = 'steganograpHy is the practicE of conceaLing a file, massage, image, or video with in another fiLe, message, iamage, Or video.'\n",
    "# print all the uppercase letters in s, one at a time.\n",
    "for char in s:\n",
    "    if char.isupper():\n",
    "        print(char, end='')"
   ]
  },
  {
   "cell_type": "markdown",
   "metadata": {},
   "source": [
    "### range()\n",
    "`range()` is a function that returns a squence of numbers. It turns out to be very useful for writing loops."
   ]
  },
  {
   "cell_type": "code",
   "execution_count": 4,
   "metadata": {},
   "outputs": [
    {
     "name": "stdout",
     "output_type": "stream",
     "text": [
      "Doing important work. i = 0\n",
      "Doing important work. i = 1\n",
      "Doing important work. i = 2\n",
      "Doing important work. i = 3\n",
      "Doing important work. i = 4\n"
     ]
    }
   ],
   "source": [
    "for i in range(5):\n",
    "    print(f\"Doing important work. i = {i}\")"
   ]
  },
  {
   "cell_type": "markdown",
   "metadata": {},
   "source": [
    "### while loops\n",
    "The other type of loop in Python is a `while` loop, which iterates until some condition is met."
   ]
  },
  {
   "cell_type": "code",
   "execution_count": 5,
   "metadata": {},
   "outputs": [
    {
     "name": "stdout",
     "output_type": "stream",
     "text": [
      "0 1 2 3 4 5 6 7 8 9 "
     ]
    }
   ],
   "source": [
    "i = 0\n",
    "while i < 10:\n",
    "    print(i, end=' ')\n",
    "    i += 1"
   ]
  },
  {
   "cell_type": "code",
   "execution_count": null,
   "metadata": {},
   "outputs": [],
   "source": [
    "def comparison():\n",
    "    \n",
    "    a = b = 0 \n",
    "    \n",
    "    while (a and b) != 100:\n",
    "        a = int(input())\n",
    "        b = int(input())\n",
    "\n",
    "        if(a and b) ==100:\n",
    "            break\n",
    "        else: \n",
    "            if a < b:\n",
    "                print(f'{a} < {b}')\n",
    "            elif (a==b) and (a and b) !=100\n",
    "                print(f'{a} = {b}')\n",
    "            else: \n",
    "                print(f'{a} > {b}')\n",
    "                \n",
    "    print(f'OK {a} == {b}')            \n",
    "        \n",
    "comparison()"
   ]
  },
  {
   "cell_type": "markdown",
   "metadata": {},
   "source": [
    "The argument of the `while` loop is evaluated as a boolean statement, and the loop is executed until the statement evaluates to False."
   ]
  },
  {
   "cell_type": "markdown",
   "metadata": {},
   "source": [
    "### list comprehensions\n",
    "List comprehensions are one of Python's most beloved and unique features.\\\n",
    "The easies way to understand them is probable to just look at a few examples:"
   ]
  },
  {
   "cell_type": "code",
   "execution_count": 6,
   "metadata": {},
   "outputs": [
    {
     "data": {
      "text/plain": [
       "[0, 1, 4, 9, 16, 25, 36, 49, 64, 81]"
      ]
     },
     "execution_count": 6,
     "metadata": {},
     "output_type": "execute_result"
    }
   ],
   "source": [
    "squares = [n**2 for n in range(10)]\n",
    "squares"
   ]
  },
  {
   "cell_type": "markdown",
   "metadata": {},
   "source": [
    "Here's how we wolud do the same thing without a list comprehension:"
   ]
  },
  {
   "cell_type": "code",
   "execution_count": 7,
   "metadata": {},
   "outputs": [
    {
     "data": {
      "text/plain": [
       "[0, 1, 4, 9, 16, 25, 36, 49, 64, 81]"
      ]
     },
     "execution_count": 7,
     "metadata": {},
     "output_type": "execute_result"
    }
   ],
   "source": [
    "squares = []\n",
    "for n in range(10):\n",
    "    squares.append(n**2)\n",
    "\n",
    "squares"
   ]
  },
  {
   "cell_type": "markdown",
   "metadata": {},
   "source": [
    "We can also add an `if` condition:"
   ]
  },
  {
   "cell_type": "code",
   "execution_count": 8,
   "metadata": {},
   "outputs": [
    {
     "data": {
      "text/plain": [
       "['Venus', 'Earth', 'Mars']"
      ]
     },
     "execution_count": 8,
     "metadata": {},
     "output_type": "execute_result"
    }
   ],
   "source": [
    "short_planets = [planet for planet in planets if len(planet) < 6]\n",
    "short_planets"
   ]
  },
  {
   "cell_type": "code",
   "execution_count": 9,
   "metadata": {},
   "outputs": [
    {
     "data": {
      "text/plain": [
       "['VENUS!', 'EARTH!', 'MARS!']"
      ]
     },
     "execution_count": 9,
     "metadata": {},
     "output_type": "execute_result"
    }
   ],
   "source": [
    "loud_short_planets = [planet.upper() + '!' for planet in planets if len(planet) < 6]\n",
    "loud_short_planets"
   ]
  },
  {
   "cell_type": "markdown",
   "metadata": {},
   "source": [
    "People usually write these on a single line, but you might find the structure clearer when it's split up over 3 lines:"
   ]
  },
  {
   "cell_type": "code",
   "execution_count": 10,
   "metadata": {},
   "outputs": [
    {
     "data": {
      "text/plain": [
       "['VENUS!', 'EARTH!', 'MARS!']"
      ]
     },
     "execution_count": 10,
     "metadata": {},
     "output_type": "execute_result"
    }
   ],
   "source": [
    "[\n",
    "    planet.upper() + '!'\n",
    "    for planet in planets\n",
    "    if len(planet) < 6\n",
    "]"
   ]
  },
  {
   "cell_type": "code",
   "execution_count": 11,
   "metadata": {},
   "outputs": [
    {
     "data": {
      "text/plain": [
       "'\\nlist comprehension проводит вычисления над переменными, но в данном примере\\nнет переменной, поэтому `32` присваивается к каждому элементу `planet` в списке `planets`.\\n'"
      ]
     },
     "execution_count": 11,
     "metadata": {},
     "output_type": "execute_result"
    }
   ],
   "source": [
    "[32 for planet in planets] \n",
    "'''\n",
    "list comprehension проводит вычисления над переменными, но в данном примере\n",
    "нет переменной, поэтому `32` присваивается к каждому элементу `planet` в списке `planets`.\n",
    "'''"
   ]
  },
  {
   "cell_type": "code",
   "execution_count": 12,
   "metadata": {},
   "outputs": [
    {
     "data": {
      "text/plain": [
       "['32 Mercury',\n",
       " '32 Venus',\n",
       " '32 Earth',\n",
       " '32 Mars',\n",
       " '32 Jupiter',\n",
       " '32 Saturn',\n",
       " '32 Uranus',\n",
       " '32 Neptune']"
      ]
     },
     "execution_count": 12,
     "metadata": {},
     "output_type": "execute_result"
    }
   ],
   "source": [
    "['32 '+planet for planet in planets]"
   ]
  },
  {
   "cell_type": "markdown",
   "metadata": {},
   "source": [
    "#### One line solution\n",
    "List comprehension combined with functions 'sum', 'min', and 'and'"
   ]
  },
  {
   "cell_type": "code",
   "execution_count": 13,
   "metadata": {},
   "outputs": [
    {
     "data": {
      "text/plain": [
       "2"
      ]
     },
     "execution_count": 13,
     "metadata": {},
     "output_type": "execute_result"
    }
   ],
   "source": [
    "negatives = ([5, -1, -2, 0, 3])\n",
    "\n",
    "def count_negatives(nums):\n",
    "    \"\"\"\n",
    "    Return the number of negative nubers in the given list.\n",
    "    >>> count_negatives([5, -1, -2, 0, 3])\n",
    "    2\n",
    "    \"\"\"\n",
    "    n_negative = 0\n",
    "    for num in nums:\n",
    "        if num < 0:\n",
    "            n_negative = n_negative + 1\n",
    "            \n",
    "    return n_negative\n",
    "\n",
    "count_negatives(negatives)"
   ]
  },
  {
   "cell_type": "code",
   "execution_count": 14,
   "metadata": {},
   "outputs": [
    {
     "data": {
      "text/plain": [
       "2"
      ]
     },
     "execution_count": 14,
     "metadata": {},
     "output_type": "execute_result"
    }
   ],
   "source": [
    "def count_negatives(nums):\n",
    "    \"\"\"\n",
    "    Вернуть длинну списка составленного из элементов соответствующих условиям,\n",
    "    num < 0\n",
    "    \"\"\"\n",
    "    return len([num for num in nums if num < 0])\n",
    "\n",
    "count_negatives(negatives)"
   ]
  },
  {
   "cell_type": "code",
   "execution_count": 15,
   "metadata": {},
   "outputs": [
    {
     "data": {
      "text/plain": [
       "[-1, -2]"
      ]
     },
     "execution_count": 15,
     "metadata": {},
     "output_type": "execute_result"
    }
   ],
   "source": [
    "def new_list(nums):\n",
    "    \"\"\"Главная особенность \"List comprehension\" в том, что он способен составить новый список.\"\"\"\n",
    "    return [num for num in nums if num < 0]\n",
    "\n",
    "new_list(negatives)"
   ]
  },
  {
   "cell_type": "markdown",
   "metadata": {},
   "source": [
    "Well if all we care about is minimizing he length of our code, this third solution is better still!"
   ]
  },
  {
   "cell_type": "code",
   "execution_count": 16,
   "metadata": {},
   "outputs": [
    {
     "data": {
      "text/plain": [
       "2"
      ]
     },
     "execution_count": 16,
     "metadata": {},
     "output_type": "execute_result"
    }
   ],
   "source": [
    "def count_negative(nums):\n",
    "    # Reminder: in the \"booleans and conditionals\" exercises, we learned about a quirk of.\n",
    "    # Python where it calculates something like True + True + False + True to be equal to 3.\n",
    "    return sum([num < 0 for num in nums])\n",
    "\n",
    "count_negative(negatives)"
   ]
  },
  {
   "cell_type": "code",
   "execution_count": 17,
   "metadata": {},
   "outputs": [
    {
     "name": "stdout",
     "output_type": "stream",
     "text": [
      "The Zen of Python, by Tim Peters\n",
      "\n",
      "Beautiful is better than ugly.\n",
      "Explicit is better than implicit.\n",
      "Simple is better than complex.\n",
      "Complex is better than complicated.\n",
      "Flat is better than nested.\n",
      "Sparse is better than dense.\n",
      "Readability counts.\n",
      "Special cases aren't special enough to break the rules.\n",
      "Although practicality beats purity.\n",
      "Errors should never pass silently.\n",
      "Unless explicitly silenced.\n",
      "In the face of ambiguity, refuse the temptation to guess.\n",
      "There should be one-- and preferably only one --obvious way to do it.\n",
      "Although that way may not be obvious at first unless you're Dutch.\n",
      "Now is better than never.\n",
      "Although never is often better than *right* now.\n",
      "If the implementation is hard to explain, it's a bad idea.\n",
      "If the implementation is easy to explain, it may be a good idea.\n",
      "Namespaces are one honking great idea -- let's do more of those!\n"
     ]
    }
   ],
   "source": [
    "import this # The Zen of Python"
   ]
  },
  {
   "cell_type": "markdown",
   "metadata": {},
   "source": [
    "### Exercize:\n",
    "1.The following program has a bug. Try to identify the bug and fix it."
   ]
  },
  {
   "cell_type": "code",
   "execution_count": 18,
   "metadata": {},
   "outputs": [
    {
     "data": {
      "text/plain": [
       "False"
      ]
     },
     "execution_count": 18,
     "metadata": {},
     "output_type": "execute_result"
    }
   ],
   "source": [
    "negatives = ([5, -1, -2, 0, 3])\n",
    "\n",
    "def has_lucky_number(nums):\n",
    "    \"\"\"\n",
    "    Return whether the given list of numbers is lucky.\n",
    "    A lucky list contains at least one number divisible by 7\n",
    "    \"\"\"\n",
    "    for num in nums:\n",
    "        if num % 7 == 0:\n",
    "            return True\n",
    "        else:\n",
    "            return False\n",
    "        \n",
    "has_lucky_number(negatives)\n",
    "\n",
    "# Проблема в том, что я незаметил скрытый смысл в условии.\n",
    "# В условии сказано, что \"A lucky list contains at least one number divisible by 7\", что должно было обратить мое внимание на мысль об условии.\n",
    "# Я не увидел этого и поэтому мое размышление пошло не в то русло.\n",
    "# Правильно было бы определить, есть ли в списке элементы, определить не пуст ли он."
   ]
  },
  {
   "cell_type": "code",
   "execution_count": 19,
   "metadata": {},
   "outputs": [
    {
     "name": "stdout",
     "output_type": "stream",
     "text": [
      "True\n",
      "False\n",
      "False\n"
     ]
    }
   ],
   "source": [
    "negatives = ([5, -1, -2, 7, 0, 3]) # 7 and 0 are lucky number\n",
    "positeves = ([5, 1, 2, 3])\n",
    "def has_lucky_number(nums):\n",
    "    return any(num % 7 == 0 for num in nums) # Определяю с помощью функции `any` верно ли Булево условие для хотябы одного элемента списка.\n",
    "\n",
    "print(has_lucky_number(negatives)) # if list is not empty and bool is True.\n",
    "print(has_lucky_number(positeves)) # if list is not empty and bool is False.\n",
    "print(has_lucky_number([])) # if list is empty."
   ]
  },
  {
   "cell_type": "code",
   "execution_count": 20,
   "metadata": {},
   "outputs": [
    {
     "name": "stdout",
     "output_type": "stream",
     "text": [
      "Help on built-in function any in module builtins:\n",
      "\n",
      "any(iterable, /)\n",
      "    Return True if bool(x) is True for any x in the iterable.\n",
      "    \n",
      "    If the iterable is empty, return False.\n",
      "\n"
     ]
    }
   ],
   "source": [
    "help(any)"
   ]
  },
  {
   "cell_type": "markdown",
   "metadata": {},
   "source": [
    "### Hint\n",
    "- Remember that `return` causes a function to exit immediately.\\\n",
    "\"So our original implementation always ran for just one iteration.\""
   ]
  },
  {
   "cell_type": "code",
   "execution_count": 21,
   "metadata": {},
   "outputs": [
    {
     "data": {
      "text/plain": [
       "[False, False, False, True, True, False]"
      ]
     },
     "execution_count": 21,
     "metadata": {},
     "output_type": "execute_result"
    }
   ],
   "source": [
    "# Comprehension of list - позволяет сделать итерацию не один раз, а для каждого элемента в списке.\n",
    "negatives = ([5, -1, -2, 7, 0, 3]) # 7 and 0 are lucky number\n",
    "\n",
    "def has_lucky_number(nums):\n",
    "    return [\n",
    "        num % 7 == 0 \n",
    "        for num in nums\n",
    "    ]\n",
    "has_lucky_number(negatives)"
   ]
  },
  {
   "cell_type": "markdown",
   "metadata": {},
   "source": [
    "2. Do an 'element-wise' comparison.\\\n",
    "Look at the Python expression below. What do you think we'll get when we ren it?"
   ]
  },
  {
   "cell_type": "code",
   "execution_count": 22,
   "metadata": {},
   "outputs": [],
   "source": [
    "# [1, 2, 3, 4] > 2\n",
    "# >>> '>' not supported between instances of 'list' and 'int'"
   ]
  },
  {
   "cell_type": "code",
   "execution_count": 25,
   "metadata": {},
   "outputs": [
    {
     "data": {
      "text/plain": [
       "[False, False, True, True]"
      ]
     },
     "execution_count": 25,
     "metadata": {},
     "output_type": "execute_result"
    }
   ],
   "source": [
    "elements = [1, 2, 3, 4]\n",
    "integer = 2\n",
    "\n",
    "def elemntwise_greater_than(L, thresh):\n",
    "    \"\"\"\n",
    "    Return a list with the same length as L, where the value at index i is\n",
    "    True if L[i] is greater than thresh, and False otherwise.\n",
    "    \"\"\"\n",
    "    return [i > thresh for i in L]\n",
    "\n",
    "elemntwise_greater_than(elements, integer)\n",
    "\n",
    "# В этой программе мне удалось сделать поэлементное сравнение списка с целым числом при помощи list comprehension.\n",
    "# Так называемое One-line solution."
   ]
  },
  {
   "cell_type": "markdown",
   "metadata": {},
   "source": [
    "3. Complete the body of the function below according to its docstring."
   ]
  },
  {
   "cell_type": "code",
   "execution_count": 71,
   "metadata": {},
   "outputs": [
    {
     "data": {
      "text/plain": [
       "True"
      ]
     },
     "execution_count": 71,
     "metadata": {},
     "output_type": "execute_result"
    }
   ],
   "source": [
    "# meals = []\n",
    "# meals = ['Egg', 'Spam']\n",
    "meals=['Spam', 'Eggs', 'Spam', 'Spam', 'Bacon', 'Spam']\n",
    "\n",
    "def menu_is_boring(meals):\n",
    "    \"\"\"Given a list of meals served over some period of time, return True if the\n",
    "    same meal has ever been seved two days in a row, and False otherwise.\n",
    "    \"\"\"\n",
    "    # Вопрос звучит как: Это блюдо повторялось два дня подряд? True или False.\n",
    "    for i in range(len(meals)-1):\n",
    "        if meals[i] == meals[i+1]:\n",
    "            return True\n",
    "    return False # означает, что цикл выше завершился без (по условию!) повторений.\n",
    "\n",
    "# Такая конструкция, используется потому, что функция может только льшь один раз задействовать return.\n",
    "# Напоминание. Remember that `return` causes a function to exit immediately.\n",
    "# Но так как нужно просканировать список, до (по условию!) первого повторения, то соответственно нельзя использовать конструкцию:\n",
    "# if:\n",
    "#     return True\n",
    "# else:\n",
    "#     return False\n",
    "# потому что функция сразу же вернет False.\n",
    "\n",
    "menu_is_boring(meals)\n",
    "\n",
    "# Так же рассматривал возможность написать эту функцию с помощью list comprehension, \n",
    "# но не нашел возможности использовать ее вместе с условием meals[i] == meals[i+1]. \n",
    "# Поэтому конструкция list comprehension больше подходит для выполнения действий, в которых\n",
    "# каждый элемент списка будет обработан в отдельности. Не подходит для сравнений элементов между собой."
   ]
  },
  {
   "cell_type": "code",
   "execution_count": 72,
   "metadata": {},
   "outputs": [
    {
     "data": {
      "text/plain": [
       "{'Spam': 4, 'Eggs': 1, 'Bacon': 1}"
      ]
     },
     "execution_count": 72,
     "metadata": {},
     "output_type": "execute_result"
    }
   ],
   "source": [
    "# Counting of individual list items and their duplicates.\n",
    "meals=['Spam', 'Eggs', 'Spam', 'Spam', 'Bacon', 'Spam']\n",
    "{i: meals.count(i) for i in meals}\n",
    "\n",
    "# Вот такие вещи порой случайно создаешь неправильно поняв основное задание."
   ]
  }
 ],
 "metadata": {
  "kernelspec": {
   "display_name": "Python 3",
   "language": "python",
   "name": "python3"
  },
  "language_info": {
   "codemirror_mode": {
    "name": "ipython",
    "version": 3
   },
   "file_extension": ".py",
   "mimetype": "text/x-python",
   "name": "python",
   "nbconvert_exporter": "python",
   "pygments_lexer": "ipython3",
   "version": "3.7.6"
  }
 },
 "nbformat": 4,
 "nbformat_minor": 4
}
