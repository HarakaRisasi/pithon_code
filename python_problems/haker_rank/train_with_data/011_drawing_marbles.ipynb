{
 "cells": [
  {
   "cell_type": "markdown",
   "metadata": {},
   "source": [
    "## Task\n",
    "A bag contains $3$ red marbles and $4$ blue marbles. Then, $2$ marbles are drawn from the bag, at random, without replacement.\\\n",
    "If the first marble drawn is red, what is the probability that the second marble is blue?\n",
    "\n",
    "**Explanation**:\n",
    "\n",
    "Simple:\\\n",
    "$R = \\frac{3}{7}$ and $B = \\frac{4}{7}$\n",
    "\n",
    "After drawing the first **RED** marble, we are left:\\\n",
    "$R = \\frac{2}{6} = \\frac{1}{3}$\\\n",
    "$B = \\frac{4}{6} = \\frac{2}{3}$\n",
    "\n",
    "So the probability of drawing a second blue marble:\\\n",
    "$B = \\frac{2}{3}$\n",
    "\n",
    "---\n",
    "**Complex way**:\\\n",
    "events:\\\n",
    "$FR$ = first red marble\\\n",
    "$FB$ = first blue marble\\\n",
    "$SR$ = second red marble\\\n",
    "$SB$ = second blue marble\\\n",
    "\n",
    "**Outcomes in experiment**:\\\n",
    "total number of outcomes: $2P7 = \\frac{7!}{(7-2)!} = 7 * 6 = 42$ # Permutation\\\n",
    "number of outcomes in event (FR and SB): $3 * 4 = 12$\n",
    "\n",
    "**probability**:\\\n",
    "$P(FR) = \\frac{3}{7}$\\\n",
    "$P(FR and SB) = \\frac{12}{42} = \\frac{2}{7}$ # Classical definition of probability\\\n",
    "$P(SB | FR) = \\frac{P(SB \\ \\text{and} \\ FR)}{P(FR)} = \\frac{P(FR \\ \\text{and} \\ SB)}{P(FR)} = \\frac{\\frac{2}{7}}{\\frac{3}{7}} = \\frac{2}{3}$ # Conditional Probability\\\n"
   ]
  },
  {
   "cell_type": "code",
   "execution_count": null,
   "metadata": {},
   "outputs": [],
   "source": []
  }
 ],
 "metadata": {
  "kernelspec": {
   "display_name": "Python 3",
   "language": "python",
   "name": "python3"
  },
  "language_info": {
   "codemirror_mode": {
    "name": "ipython",
    "version": 3
   },
   "file_extension": ".py",
   "mimetype": "text/x-python",
   "name": "python",
   "nbconvert_exporter": "python",
   "pygments_lexer": "ipython3",
   "version": "3.7.6"
  }
 },
 "nbformat": 4,
 "nbformat_minor": 4
}
