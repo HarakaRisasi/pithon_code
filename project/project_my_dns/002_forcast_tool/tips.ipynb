{
 "cells": [
  {
   "cell_type": "markdown",
   "metadata": {},
   "source": [
    "```Python\n",
    "df = pd.read_excel(\"./data/weather_01-01-2017_31-12-2020.xlsx\", engine='openpyxl')\n",
    "```\n",
    ">open Excel file."
   ]
  },
  {
   "cell_type": "markdown",
   "metadata": {},
   "source": [
    "```Python\n",
    "df_f.to_excel(\"./data/output_weather.xslx\", index=False)\n",
    "```\n",
    "> Write data to **.xslx** file."
   ]
  },
  {
   "cell_type": "markdown",
   "metadata": {},
   "source": [
    "```Python\n",
    "df['Местное время в Абакане (аэропорт)'] = pd.to_datetime(df['Местное время в Абакане (аэропорт)']).dt.date\n",
    "```\n",
    ">Remove **%H:%M** from data.  \n",
    "*i.e: Show only data without hours and minutes.*"
   ]
  },
  {
   "cell_type": "markdown",
   "metadata": {},
   "source": [
    "```Python\n",
    "df_x['Темп.'] = df['Темп.'].str.replace(',','.')\n",
    "```\n",
    ">To replace type of variables sometimes were usefully replacing\\removing any characters or signs."
   ]
  },
  {
   "cell_type": "markdown",
   "metadata": {},
   "source": [
    "```Python\n",
    "df_raw['Количество человек'] = df_raw['Количество человек'].str.replace('\\s+', '', regex=True)\n",
    "```\n",
    "> To replace type of variables, were usefull replacing\\removing any characters or signs use regular expressions."
   ]
  },
  {
   "cell_type": "markdown",
   "metadata": {},
   "source": [
    "```Python\n",
    "df_x['Темп.'] =  pd.to_numeric(df_x['Темп.'])\n",
    "```\n",
    ">To changes type of values in Series."
   ]
  },
  {
   "cell_type": "markdown",
   "metadata": {},
   "source": [
    "```Python\n",
    "df_raw = df_raw.groupby(by=['Период', 'Автор'],  as_index=False).agg({'Количество человек':'sum'})\n",
    "```\n",
    "> Grouping without index."
   ]
  },
  {
   "cell_type": "markdown",
   "metadata": {},
   "source": [
    "```Python\n",
    "df_raw_drop = df_raw_drop[pd.notna(df_raw_drop['Дата'])]\n",
    "```\n",
    ">Show only **NotNA** values."
   ]
  },
  {
   "cell_type": "markdown",
   "metadata": {},
   "source": [
    "```Python\n",
    "drop_unit = ['ABC', 12, '2']\n",
    "df_raw_drop = df_raw_drop[~df_raw_drop['Автор'].isin(drop_unit)]\n",
    "```\n",
    ">to filter one column by more than one value.  \n",
    "**isin** - show only than values of dataframe that store in list (*ex: drop_unit*).  \n",
    "**~** or **notIn** - show only than values of dataframe that don't store in list (*ex: drop_unit*)."
   ]
  }
 ],
 "metadata": {
  "kernelspec": {
   "display_name": "Python 3",
   "language": "python",
   "name": "python3"
  },
  "language_info": {
   "codemirror_mode": {
    "name": "ipython",
    "version": 3
   },
   "file_extension": ".py",
   "mimetype": "text/x-python",
   "name": "python",
   "nbconvert_exporter": "python",
   "pygments_lexer": "ipython3",
   "version": "3.7.1"
  }
 },
 "nbformat": 4,
 "nbformat_minor": 4
}
