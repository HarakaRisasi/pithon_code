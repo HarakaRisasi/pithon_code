{
 "cells": [
  {
   "cell_type": "markdown",
   "metadata": {},
   "source": [
    "### Case Condition (Brief)"
   ]
  },
  {
   "cell_type": "markdown",
   "metadata": {},
   "source": [
    "### Задание 1:  \n",
    "***Имеется набор данных со следующими столбцами:***  \n",
    "    1) Идентификатор документа  \n",
    "    2) Идентификатор товара  \n",
    "    3) Операция документа  \n",
    "    4) Дата документа  \n",
    "    5) Идентификатор филиала, создавшего документ  \n",
    "    \n",
    "> *Идентификатор товара – уникальный номер единицы товара, находящейся в сервисном центре*\n",
    "\n",
    "Этот набор данных связан со справочником филиалов. Справочник содержит следующие поля:  \n",
    "    1) Идентификатор филиала  \n",
    "    2) Наименование филиала  \n",
    "    3) Наименование региона филиала  \n",
    "    \n",
    "***Необходимо рассчитать среднее время нахождения товара в сервисном центре:   \n",
    "    1) Общая динамика по месяцам   \n",
    "    2) Динамика по неделям в разрезе регионов  \n",
    "Вывести нормативный срок по всей компании.  \n",
    "Графически представить динамику отклонения от нормы по каждому региону.***\n",
    "\n",
    "### Задание 2:  \n",
    "Вы работаете сотрудником, осуществляющим прием клиентов в сервисном центре.  \n",
    "К вам пришел клиент.  \n",
    "Какие варианты развития событий могут последовать далее?  \n",
    "Опишите их.  "
   ]
  },
  {
   "cell_type": "markdown",
   "metadata": {},
   "source": [
    "### Import libraries and Reading the data."
   ]
  },
  {
   "cell_type": "code",
   "execution_count": 3,
   "metadata": {},
   "outputs": [],
   "source": [
    "# Загрузка библиотек\n",
    "import pandas as pd\n",
    "import numpy as np\n",
    "import seaborn as sns\n",
    "import matplotlib.pyplot as plt\n",
    "from scipy.stats import norm\n",
    "from scipy import stats"
   ]
  },
  {
   "cell_type": "code",
   "execution_count": 5,
   "metadata": {},
   "outputs": [],
   "source": [
    "# Получение пути к файлам\n",
    "catalog_path = \"./data/Справочник.csv\"\n",
    "data_path = \"./data/data.csv\""
   ]
  },
  {
   "cell_type": "code",
   "execution_count": 6,
   "metadata": {},
   "outputs": [],
   "source": [
    "# Создание DF\n",
    "catalog = pd.read_csv(catalog_path)\n",
    "data = pd.read_csv(data_path)"
   ]
  },
  {
   "cell_type": "markdown",
   "metadata": {},
   "source": [
    "### Review Data (Understanding the Data)"
   ]
  },
  {
   "cell_type": "code",
   "execution_count": 18,
   "metadata": {},
   "outputs": [
    {
     "name": "stdout",
     "output_type": "stream",
     "text": [
      "Наименование филиала            0\n",
      "Наименование региона филиала    0\n",
      "Идентификатор филиала           0\n",
      "dtype: int64\n",
      "--------------------------------------------------\n",
      "Идентификатор документа            0\n",
      "Идентификатор товара               0\n",
      "Вид операции документа             0\n",
      "Дата документа                     0\n",
      "Идентификатор филиалы документа    0\n",
      "dtype: int64\n"
     ]
    }
   ],
   "source": [
    "print(catalog.isnull().sum())\n",
    "print(50 * \"-\")\n",
    "print(data.isnull().sum())"
   ]
  },
  {
   "cell_type": "code",
   "execution_count": 46,
   "metadata": {},
   "outputs": [
    {
     "data": {
      "text/plain": [
       "Прием товара     1499785\n",
       "Выдача товара    1416812\n",
       "Name: Вид операции документа, dtype: int64"
      ]
     },
     "execution_count": 46,
     "metadata": {},
     "output_type": "execute_result"
    }
   ],
   "source": [
    "data['Вид операции документа'].value_counts()"
   ]
  },
  {
   "cell_type": "code",
   "execution_count": 50,
   "metadata": {},
   "outputs": [
    {
     "data": {
      "text/plain": [
       "2019-11-27    8393\n",
       "2019-10-27    8350\n",
       "2019-11-08    8348\n",
       "2019-07-10    8347\n",
       "2019-03-23    8345\n",
       "              ... \n",
       "2019-01-04    4353\n",
       "2019-01-03    4270\n",
       "2019-01-02    4185\n",
       "2020-01-01    4109\n",
       "2019-01-01    4109\n",
       "Name: Дата документа, Length: 366, dtype: int64"
      ]
     },
     "execution_count": 50,
     "metadata": {},
     "output_type": "execute_result"
    }
   ],
   "source": [
    "data['Дата документа'].value_counts()"
   ]
  },
  {
   "cell_type": "code",
   "execution_count": null,
   "metadata": {},
   "outputs": [],
   "source": []
  }
 ],
 "metadata": {
  "kernelspec": {
   "display_name": "Python 3",
   "language": "python",
   "name": "python3"
  },
  "language_info": {
   "codemirror_mode": {
    "name": "ipython",
    "version": 3
   },
   "file_extension": ".py",
   "mimetype": "text/x-python",
   "name": "python",
   "nbconvert_exporter": "python",
   "pygments_lexer": "ipython3",
   "version": "3.8.3"
  }
 },
 "nbformat": 4,
 "nbformat_minor": 4
}
