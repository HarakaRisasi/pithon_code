{
 "cells": [
  {
   "cell_type": "markdown",
   "metadata": {},
   "source": [
    "**Quartile**:\n",
    ">Each of four equal groups into which a population of results can be divided.\n",
    "\n",
    "The quartiles of an ordered data set are the  points that split the data set into  equal groups. \\\n",
    "The  quartiles are defined as follows:\n",
    "\n",
    "$Q_1$: The first quartile is the middle number between the smallest number in a data set and its median.\\\n",
    "$Q_2$: The second quartile is the median ($50^{th}$ percentile) of the data set.\\\n",
    "$Q_3$: The third quartile is the middle number between a data set's median and its largest number."
   ]
  },
  {
   "cell_type": "code",
   "execution_count": 1,
   "metadata": {},
   "outputs": [],
   "source": [
    "import numpy as np"
   ]
  },
  {
   "cell_type": "code",
   "execution_count": 2,
   "metadata": {},
   "outputs": [
    {
     "name": "stdout",
     "output_type": "stream",
     "text": [
      "[18, 45, 55, 70, 76, 83, 88, 90, 92, 92, 95, 98]\n"
     ]
    }
   ],
   "source": [
    "a = [98, 90, 70, 18, 92, 92, 55, 83, 45, 95, 88, 76]\n",
    "a.sort()\n",
    "print(a)"
   ]
  },
  {
   "cell_type": "markdown",
   "metadata": {},
   "source": [
    "### Step 1: Find the median"
   ]
  },
  {
   "cell_type": "code",
   "execution_count": 3,
   "metadata": {},
   "outputs": [
    {
     "data": {
      "text/plain": [
       "85.5"
      ]
     },
     "execution_count": 3,
     "metadata": {},
     "output_type": "execute_result"
    }
   ],
   "source": [
    "np.median(a)"
   ]
  },
  {
   "cell_type": "markdown",
   "metadata": {},
   "source": [
    "### Step 2: Find the median of  Upper & Lower halves"
   ]
  },
  {
   "cell_type": "code",
   "execution_count": 4,
   "metadata": {},
   "outputs": [
    {
     "data": {
      "text/plain": [
       "array([62.5, 85.5, 92. ])"
      ]
     },
     "execution_count": 4,
     "metadata": {},
     "output_type": "execute_result"
    }
   ],
   "source": [
    "quartiles = np.percentile(a, range(25, 100, 25), interpolation = 'midpoint')\n",
    "quartiles"
   ]
  },
  {
   "cell_type": "markdown",
   "metadata": {},
   "source": [
    "### Step 3: Define your Quartiles"
   ]
  },
  {
   "cell_type": "code",
   "execution_count": 5,
   "metadata": {},
   "outputs": [],
   "source": [
    "Q1 = quartiles[0]\n",
    "Q2 = quartiles[1]\n",
    "Q3 = quartiles[2]"
   ]
  },
  {
   "cell_type": "code",
   "execution_count": 6,
   "metadata": {},
   "outputs": [
    {
     "name": "stdout",
     "output_type": "stream",
     "text": [
      "fist quartile: Q1 = 62.5\n",
      "median quartile: Q2 =  85.5\n",
      "second quartile: Q3 =  92.0\n"
     ]
    }
   ],
   "source": [
    "print(f'fist quartile: Q1 = {Q1}')\n",
    "print(f'median quartile: Q2 =  {Q2}')\n",
    "print(f'second quartile: Q3 =  {Q3}')"
   ]
  },
  {
   "cell_type": "markdown",
   "metadata": {},
   "source": [
    "#### Step 4: Define IQR (find the interquartile range)"
   ]
  },
  {
   "cell_type": "code",
   "execution_count": 7,
   "metadata": {},
   "outputs": [
    {
     "data": {
      "text/plain": [
       "29.5"
      ]
     },
     "execution_count": 7,
     "metadata": {},
     "output_type": "execute_result"
    }
   ],
   "source": [
    "# IQR = 92 - 62.5 = 29.5\n",
    "iqr = np.subtract(*np.percentile(quartiles, [100, 0]))\n",
    "iqr"
   ]
  },
  {
   "cell_type": "markdown",
   "metadata": {},
   "source": [
    "## Objective \n",
    "**A percentile**\n",
    "\n",
    "arr: [3, **5**, **7**, 8, 12, 13, 14, 18, 21]  or the 9 elements\\\n",
    "formula: percentile / 100 * num_of_elements \\\n",
    "example: 25 / 100 * 9 = 2.25, that mean these numbers is 5 and 7.\\\n",
    "---\n",
    ">tells us what percent of observations are less than or equal to a given value in a distribution.\n",
    "\n",
    "Some people define percentile as the the percent of observations that are strictly less than a given value in a distribution.\\\n",
    "This is also a legitimate definition, and in large sets of data both methods produce very similar results.\\\n",
    "In smaller sets of data, the two methods can produce pretty different results.\n",
    "\n",
    "For consistency, we'll stick to the \"less than or equal to\" definition."
   ]
  },
  {
   "cell_type": "code",
   "execution_count": 351,
   "metadata": {},
   "outputs": [
    {
     "name": "stdin",
     "output_type": "stream",
     "text": [
      " 9\n",
      " 3 7 8 5 12 14 21 13 18\n"
     ]
    },
    {
     "name": "stdout",
     "output_type": "stream",
     "text": [
      "6 \n",
      "12 \n",
      "16\n"
     ]
    }
   ],
   "source": [
    "# Enter your code here. Read input from STDIN. Print output to STDOUT\n",
    "# Sample Input: 9\n",
    "#               3 7 8 5 12 14 21 13 18\n",
    "# Sample Output: 6\n",
    "#                12\n",
    "#                16\n",
    "\n",
    "from statistics import *\n",
    "\n",
    "n = int(input())\n",
    "x = sorted(list(map(int, input().split())))\n",
    "\n",
    "# x // y - getting the integer part from division\n",
    "Q1 = int(median(x[:n//2])) # the median for 1st(Lower half) quartile\n",
    "Q2 = int(median(x)) # the median for 2st quartile\n",
    "Q3 = int(median(x[(n+1)//2:])) # the median for 3st(Upper half) quartile\n",
    "\n",
    "print(f'{Q1} \\n{Q2} \\n{Q3}')"
   ]
  }
 ],
 "metadata": {
  "kernelspec": {
   "display_name": "Python 3",
   "language": "python",
   "name": "python3"
  },
  "language_info": {
   "codemirror_mode": {
    "name": "ipython",
    "version": 3
   },
   "file_extension": ".py",
   "mimetype": "text/x-python",
   "name": "python",
   "nbconvert_exporter": "python",
   "pygments_lexer": "ipython3",
   "version": "3.7.6"
  }
 },
 "nbformat": 4,
 "nbformat_minor": 4
}
