{
 "cells": [
  {
   "cell_type": "markdown",
   "metadata": {},
   "source": [
    "**Mean** ($\\mu$)\n",
    ">The average of all the integers in a set of values. \n",
    "Here is the basic formula for calculating the mean of a set of  values:\n",
    "$$\\mu = \\frac{\\sum_{i=1}^{n} x^i}{n}$$\n",
    "Where $x_i$ is the $i^{th}$ element of the set.\n",
    "\n",
    "\n",
    "**Median**\n",
    ">The midpoint value of a data set for which an equal number of samples are less than and greater than the value. For an odd sample size, this is the middle element of the sorted sample; for an even sample size, this is the average of the  middle elements of the sorted sample.\n",
    "\n",
    "\n",
    "**Mode**\n",
    ">The element(s) that occur most frequently in a data set.\\\n",
    "For the set {1, 1, 1, 2, 2, 3, 4, 4}, the mode is $1$ because the number $1$ appears three times\\\n",
    "in the set and every other number in the set has a frequency $ < 3$.\\\n",
    "In contrast, the set  is multimodal because no number in the set appears more than  time, so every number in the set is a valid mode."
   ]
  },
  {
   "cell_type": "markdown",
   "metadata": {},
   "source": [
    "---"
   ]
  },
  {
   "cell_type": "markdown",
   "metadata": {},
   "source": [
    "### Objective:\n",
    "#### Input (stdin):\n",
    "10\\\n",
    "64630 11735 14216 99233 14470 4978 73429 38120 51135 6706\n",
    "\n",
    "#### Output (stdout):\n",
    "37865.2 - mean\\\n",
    "26295.0 - median\\\n",
    "4978 - mode"
   ]
  },
  {
   "cell_type": "code",
   "execution_count": 21,
   "metadata": {},
   "outputs": [
    {
     "name": "stdin",
     "output_type": "stream",
     "text": [
      " 10\n",
      " 64630 11735 14216 99233 14470 4978 73429 38120 51135 6706\n"
     ]
    },
    {
     "name": "stdout",
     "output_type": "stream",
     "text": [
      "37865.2\n",
      "26295.0\n",
      "4978\n"
     ]
    }
   ],
   "source": [
    "import numpy as np\n",
    "from scipy import stats\n",
    "#input\n",
    "size = int(input())\n",
    "a = list(map(int, input().split()))\n",
    "\n",
    "#output\n",
    "print(np.mean(a))\n",
    "print(np.median(a))\n",
    "print(int(stats.mode(a)[0]))"
   ]
  },
  {
   "cell_type": "code",
   "execution_count": null,
   "metadata": {},
   "outputs": [],
   "source": []
  }
 ],
 "metadata": {
  "kernelspec": {
   "display_name": "Python 3",
   "language": "python",
   "name": "python3"
  },
  "language_info": {
   "codemirror_mode": {
    "name": "ipython",
    "version": 3
   },
   "file_extension": ".py",
   "mimetype": "text/x-python",
   "name": "python",
   "nbconvert_exporter": "python",
   "pygments_lexer": "ipython3",
   "version": "3.7.6"
  }
 },
 "nbformat": 4,
 "nbformat_minor": 4
}
