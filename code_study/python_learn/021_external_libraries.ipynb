{
 "cells": [
  {
   "cell_type": "markdown",
   "metadata": {},
   "source": [
    "## Imports\n",
    "So far we've talked about types and functions which are built-in to the language.\\\n",
    "But one of the best things about Python (especially if you're a data scientist) \\\n",
    "is the vast number of high-quality custom libraries that have been written for it."
   ]
  },
  {
   "cell_type": "code",
   "execution_count": 1,
   "metadata": {},
   "outputs": [
    {
     "name": "stdout",
     "output_type": "stream",
     "text": [
      "It's math! It has tyype <class 'module'>\n"
     ]
    }
   ],
   "source": [
    "# import\n",
    "\n",
    "import math\n",
    "print(f'It\\'s math! It has tyype {type(math)}')"
   ]
  },
  {
   "cell_type": "markdown",
   "metadata": {},
   "source": [
    "`math` is a module.\\\n",
    "A module is just a collection of variables (a namespace) defined by someone else.\\\n",
    "We can see all the names in `math` using the built-in function `dir()`."
   ]
  },
  {
   "cell_type": "code",
   "execution_count": 2,
   "metadata": {},
   "outputs": [
    {
     "name": "stdout",
     "output_type": "stream",
     "text": [
      "['__doc__', '__loader__', '__name__', '__package__', '__spec__', 'acos', 'acosh', 'asin', 'asinh', 'atan', 'atan2', 'atanh', 'ceil', 'copysign', 'cos', 'cosh', 'degrees', 'e', 'erf', 'erfc', 'exp', 'expm1', 'fabs', 'factorial', 'floor', 'fmod', 'frexp', 'fsum', 'gamma', 'gcd', 'hypot', 'inf', 'isclose', 'isfinite', 'isinf', 'isnan', 'ldexp', 'lgamma', 'log', 'log10', 'log1p', 'log2', 'modf', 'nan', 'pi', 'pow', 'radians', 'remainder', 'sin', 'sinh', 'sqrt', 'tan', 'tanh', 'tau', 'trunc']\n"
     ]
    }
   ],
   "source": [
    "print(dir(math))"
   ]
  },
  {
   "cell_type": "markdown",
   "metadata": {},
   "source": [
    "We can access these variables using dot syntax. Some of them refer to simple values, like `math.pi`:"
   ]
  },
  {
   "cell_type": "code",
   "execution_count": 3,
   "metadata": {},
   "outputs": [
    {
     "name": "stdout",
     "output_type": "stream",
     "text": [
      "pi to 4 significant digits = 3.142\n"
     ]
    }
   ],
   "source": [
    "print(f'pi to 4 significant digits = {math.pi :.4}') # :.4 - вывод до четвертого знака после запятой."
   ]
  },
  {
   "cell_type": "code",
   "execution_count": 4,
   "metadata": {},
   "outputs": [
    {
     "data": {
      "text/plain": [
       "5.0"
      ]
     },
     "execution_count": 4,
     "metadata": {},
     "output_type": "execute_result"
    }
   ],
   "source": [
    "# math function\n",
    "math.log(32, 2) # Return the logarithm of x to the given base."
   ]
  },
  {
   "cell_type": "code",
   "execution_count": 5,
   "metadata": {},
   "outputs": [
    {
     "name": "stdout",
     "output_type": "stream",
     "text": [
      "Help on built-in function log in module math:\n",
      "\n",
      "log(...)\n",
      "    log(x, [base=math.e])\n",
      "    Return the logarithm of x to the given base.\n",
      "    \n",
      "    If the base not specified, returns the natural logarithm (base e) of x.\n",
      "\n"
     ]
    }
   ],
   "source": [
    "help(math.log)"
   ]
  },
  {
   "cell_type": "markdown",
   "metadata": {},
   "source": [
    "We can also call `help()` on the module itself.\\\n",
    "This will give us the combined documentation for all the functions and values in the module `math`"
   ]
  },
  {
   "cell_type": "code",
   "execution_count": 6,
   "metadata": {},
   "outputs": [],
   "source": [
    "# help(math)\n",
    "\n",
    "# Help on built-in module math:\n",
    "\n",
    "# NAME\n",
    "#     math\n",
    "\n",
    "# DESCRIPTION\n",
    "#     This module provides access to the mathematical functions\n",
    "#     defined by the C standard."
   ]
  },
  {
   "cell_type": "markdown",
   "metadata": {},
   "source": [
    "### Other import syntax\n",
    "If we know we'll be using functions in `math` frequently we can import it under\\\n",
    "a shorter alias to save some typing."
   ]
  },
  {
   "cell_type": "code",
   "execution_count": 7,
   "metadata": {},
   "outputs": [
    {
     "name": "stdout",
     "output_type": "stream",
     "text": [
      "3.142\n"
     ]
    }
   ],
   "source": [
    "import math as mt\n",
    "\n",
    "print(f'{mt.pi :.4}')"
   ]
  },
  {
   "cell_type": "markdown",
   "metadata": {},
   "source": [
    "Wouldn't it be great if we could refer to all the variables in the `math` module\\\n",
    "by themselves? i.e. if we could just refer to `pi` instead of `math.pi` or `mt.pi`?\\\n",
    "We can do that."
   ]
  },
  {
   "cell_type": "code",
   "execution_count": 8,
   "metadata": {},
   "outputs": [
    {
     "name": "stdout",
     "output_type": "stream",
     "text": [
      "pi = 3.142\n",
      "log(base 2)32 = 5.0\n"
     ]
    }
   ],
   "source": [
    "from math import *\n",
    "\n",
    "print(f'pi = {pi :.4}\\nlog(base 2)32 = {log(32, 2)}')"
   ]
  },
  {
   "cell_type": "markdown",
   "metadata": {},
   "source": [
    "### Submodules\n",
    "We've seen that modules contain variables which can refer to functions or values.\\\n",
    "Something to be aware of is that they can also have variables referring to other modules."
   ]
  },
  {
   "cell_type": "code",
   "execution_count": 9,
   "metadata": {},
   "outputs": [
    {
     "name": "stdout",
     "output_type": "stream",
     "text": [
      "numpy.random is a <class 'module'>\n",
      "it contains names such as ... ['geometric', 'get_state', 'gumbel', 'hypergeometric', 'laplace', 'logistic', 'lognormal', 'logseries', 'mtrand', 'multinomial', 'multivariate_normal', 'negative_binomial', 'noncentral_chisquare', 'noncentral_f', 'normal', 'pareto', 'permutation', 'poisson', 'power', 'print_function', 'rand', 'randint', 'randn', 'random', 'random_integers', 'random_sample', 'ranf', 'rayleigh', 'sample', 'seed', 'set_state', 'shuffle', 'standard_cauchy', 'standard_exponential', 'standard_gamma', 'standard_normal', 'standard_t', 'test', 'triangular', 'uniform', 'vonmises', 'wald', 'weibull', 'zipf']\n"
     ]
    }
   ],
   "source": [
    "import numpy\n",
    "print(f'numpy.random is a {type(numpy.random)}')\n",
    "print(f'it contains names such as ... {dir(numpy.random)[40:]}') # [40:] - вывести срез элементов с 40 до последнего."
   ]
  },
  {
   "cell_type": "markdown",
   "metadata": {},
   "source": [
    "So if we import `numpy` as above, then calling a function in the `random` \"submodule\" will require *two* dots."
   ]
  },
  {
   "cell_type": "code",
   "execution_count": 10,
   "metadata": {},
   "outputs": [
    {
     "data": {
      "text/plain": [
       "array([4, 2, 2, 1, 2, 5, 5, 4, 3, 1])"
      ]
     },
     "execution_count": 10,
     "metadata": {},
     "output_type": "execute_result"
    }
   ],
   "source": [
    "# roll 10 dice\n",
    "rolls = numpy.random.randint(low=1, high=6, size=10)\n",
    "rolls"
   ]
  },
  {
   "cell_type": "markdown",
   "metadata": {},
   "source": [
    "## Three tools for understanding strange objects."
   ]
  },
  {
   "cell_type": "markdown",
   "metadata": {},
   "source": [
    "1. `type()` (what is this thing?)"
   ]
  },
  {
   "cell_type": "code",
   "execution_count": 11,
   "metadata": {},
   "outputs": [
    {
     "data": {
      "text/plain": [
       "numpy.ndarray"
      ]
     },
     "execution_count": 11,
     "metadata": {},
     "output_type": "execute_result"
    }
   ],
   "source": [
    "type(rolls)"
   ]
  },
  {
   "cell_type": "markdown",
   "metadata": {},
   "source": [
    "2.`dir()` (what can I do with it?)"
   ]
  },
  {
   "cell_type": "code",
   "execution_count": 12,
   "metadata": {},
   "outputs": [
    {
     "name": "stdout",
     "output_type": "stream",
     "text": [
      "['T', '__abs__', '__add__', '__and__', '__array__', '__array_finalize__', '__array_function__', '__array_interface__', '__array_prepare__', '__array_priority__', '__array_struct__', '__array_ufunc__', '__array_wrap__', '__bool__', '__class__', '__complex__', '__contains__', '__copy__', '__deepcopy__', '__delattr__', '__delitem__', '__dir__', '__divmod__', '__doc__', '__eq__', '__float__', '__floordiv__', '__format__', '__ge__', '__getattribute__', '__getitem__', '__gt__', '__hash__', '__iadd__', '__iand__', '__ifloordiv__', '__ilshift__', '__imatmul__', '__imod__', '__imul__', '__index__', '__init__', '__init_subclass__', '__int__', '__invert__', '__ior__', '__ipow__', '__irshift__', '__isub__', '__iter__', '__itruediv__', '__ixor__', '__le__', '__len__', '__lshift__', '__lt__', '__matmul__', '__mod__', '__mul__', '__ne__', '__neg__', '__new__', '__or__', '__pos__', '__pow__', '__radd__', '__rand__', '__rdivmod__', '__reduce__', '__reduce_ex__', '__repr__', '__rfloordiv__', '__rlshift__', '__rmatmul__', '__rmod__', '__rmul__', '__ror__', '__rpow__', '__rrshift__', '__rshift__', '__rsub__', '__rtruediv__', '__rxor__', '__setattr__', '__setitem__', '__setstate__', '__sizeof__', '__str__', '__sub__', '__subclasshook__', '__truediv__', '__xor__', 'all', 'any', 'argmax', 'argmin', 'argpartition', 'argsort', 'astype', 'base', 'byteswap', 'choose', 'clip', 'compress', 'conj', 'conjugate', 'copy', 'ctypes', 'cumprod', 'cumsum', 'data', 'diagonal', 'dot', 'dtype', 'dump', 'dumps', 'fill', 'flags', 'flat', 'flatten', 'getfield', 'imag', 'item', 'itemset', 'itemsize', 'max', 'mean', 'min', 'nbytes', 'ndim', 'newbyteorder', 'nonzero', 'partition', 'prod', 'ptp', 'put', 'ravel', 'real', 'repeat', 'reshape', 'resize', 'round', 'searchsorted', 'setfield', 'setflags', 'shape', 'size', 'sort', 'squeeze', 'std', 'strides', 'sum', 'swapaxes', 'take', 'tobytes', 'tofile', 'tolist', 'tostring', 'trace', 'transpose', 'var', 'view']\n"
     ]
    }
   ],
   "source": [
    "print(dir(rolls))"
   ]
  },
  {
   "cell_type": "code",
   "execution_count": 13,
   "metadata": {},
   "outputs": [
    {
     "data": {
      "text/plain": [
       "2.9"
      ]
     },
     "execution_count": 13,
     "metadata": {},
     "output_type": "execute_result"
    }
   ],
   "source": [
    "# What am I trying to do with this dice roll data? Maybe I want the average roll, in which case the \"mean\n",
    "# Method looks promising...\n",
    "rolls.mean() # mean of array ([4, 1, 5, 4, 4, 2, 3, 5, 1, 5]) values."
   ]
  },
  {
   "cell_type": "code",
   "execution_count": 14,
   "metadata": {},
   "outputs": [
    {
     "data": {
      "text/plain": [
       "[4, 2, 2, 1, 2, 5, 5, 4, 3, 1]"
      ]
     },
     "execution_count": 14,
     "metadata": {},
     "output_type": "execute_result"
    }
   ],
   "source": [
    "# Or maybe I just want to get back on familiar ground, in which case I might want to check out \"tolist\"\n",
    "rolls.tolist()"
   ]
  },
  {
   "cell_type": "markdown",
   "metadata": {},
   "source": [
    "3. `help()` (tell me more)"
   ]
  },
  {
   "cell_type": "code",
   "execution_count": 15,
   "metadata": {},
   "outputs": [
    {
     "name": "stdout",
     "output_type": "stream",
     "text": [
      "Help on built-in function ravel:\n",
      "\n",
      "ravel(...) method of numpy.ndarray instance\n",
      "    a.ravel([order])\n",
      "    \n",
      "    Return a flattened array.\n",
      "    \n",
      "    Refer to `numpy.ravel` for full documentation.\n",
      "    \n",
      "    See Also\n",
      "    --------\n",
      "    numpy.ravel : equivalent function\n",
      "    \n",
      "    ndarray.flat : a flat iterator on the array.\n",
      "\n"
     ]
    }
   ],
   "source": [
    "# That \"ravel\" attribute sounds interesting.\n",
    "help(rolls.ravel)"
   ]
  },
  {
   "cell_type": "code",
   "execution_count": 16,
   "metadata": {},
   "outputs": [],
   "source": [
    "# Okay, just tell me everything there is to know about numpy.ndarray\n",
    "\n",
    "# help(rolls)\n",
    "# >>>\n",
    "#  |  An array object represents a multidimensional, homogeneous array\n",
    "#  |  of fixed-size items.  An associated data-type object describes the\n",
    "#  |  format of each element in the array (its byte-order, how many bytes it\n",
    "#  |  occupies in memory, whether it is an integer, a floating point number,\n",
    "#  |  or something else, etc.)\n",
    "#  |  \n",
    "#  |  Arrays should be constructed using `array`, `zeros` or `empty` (refer\n",
    "#  |  to the See Also section below).  The parameters given here refer to\n",
    "#  |  a low-level method (`ndarray(...)`) for instantiating an array.\n",
    "#  |  \n",
    "#  |  For more information, refer to the `numpy` module and examine the\n",
    "#  |  methods and attributes of an array."
   ]
  },
  {
   "cell_type": "markdown",
   "metadata": {},
   "source": [
    "### Operator overloading\n",
    "It's an error!!!"
   ]
  },
  {
   "cell_type": "code",
   "execution_count": 17,
   "metadata": {},
   "outputs": [
    {
     "data": {
      "text/plain": [
       "array([14, 12, 12, 11, 12, 15, 15, 14, 13, 11])"
      ]
     },
     "execution_count": 17,
     "metadata": {},
     "output_type": "execute_result"
    }
   ],
   "source": [
    "rolls + 10"
   ]
  },
  {
   "cell_type": "code",
   "execution_count": 18,
   "metadata": {},
   "outputs": [
    {
     "name": "stdout",
     "output_type": "stream",
     "text": [
      "[4 2 2 1 2 5 5 4 3 1]\n"
     ]
    },
    {
     "data": {
      "text/plain": [
       "array([False,  True,  True,  True,  True, False, False, False,  True,\n",
       "        True])"
      ]
     },
     "execution_count": 18,
     "metadata": {},
     "output_type": "execute_result"
    }
   ],
   "source": [
    "# At which indices are the dice less than or  equal to 3?\n",
    "print(rolls)\n",
    "rolls <= 3"
   ]
  },
  {
   "cell_type": "code",
   "execution_count": 19,
   "metadata": {},
   "outputs": [
    {
     "name": "stdout",
     "output_type": "stream",
     "text": [
      "xlist = [[1, 2, 3], [2, 4, 6]]\n",
      "x = \n",
      "[[1 2 3]\n",
      " [2 4 6]]\n"
     ]
    }
   ],
   "source": [
    "# Create a 2-dimensional array\n",
    "xlist = [[1,2,3],[2,4,6],]\n",
    "x = numpy.asarray(xlist)\n",
    "print(f\"xlist = {xlist}\\nx = \\n{x}\")"
   ]
  },
  {
   "cell_type": "code",
   "execution_count": 20,
   "metadata": {},
   "outputs": [
    {
     "data": {
      "text/plain": [
       "6"
      ]
     },
     "execution_count": 20,
     "metadata": {},
     "output_type": "execute_result"
    }
   ],
   "source": [
    "# Get the last element of the second row of our numpy array?\n",
    "x[1, -1] # вывод последнего элемента из вложенного списка с индексом \"1\""
   ]
  },
  {
   "cell_type": "code",
   "execution_count": 21,
   "metadata": {},
   "outputs": [],
   "source": [
    "# Get the last element of the second sublist of our nested list?\n",
    "# xlist[1, -1] # вывод последнего элемента из вложенного списка с индексом \"1\"\n",
    "\n",
    "#>>>\n",
    "# TypeError: list indices must be integers or slices, not tuple"
   ]
  },
  {
   "cell_type": "markdown",
   "metadata": {},
   "source": [
    "numpy's `nsarray` type is specialized for working with multi-dimensional data,\\n\n",
    "so it defines its own logic for indexing, allowing us to index by a tuple to specify the index at each dimension."
   ]
  },
  {
   "cell_type": "markdown",
   "metadata": {},
   "source": [
    "### When does 1 + 1 not equal 2?\n"
   ]
  },
  {
   "cell_type": "code",
   "execution_count": 22,
   "metadata": {},
   "outputs": [
    {
     "data": {
      "text/plain": [
       "<tf.Tensor: shape=(), dtype=int32, numpy=2>"
      ]
     },
     "execution_count": 22,
     "metadata": {},
     "output_type": "execute_result"
    }
   ],
   "source": [
    "import tensorflow as tf\n",
    "# Create two constants, each with value 1\n",
    "a = tf.constant(1)\n",
    "b = tf.constant(1)\n",
    "# Add them together to get...\n",
    "a + b"
   ]
  },
  {
   "cell_type": "code",
   "execution_count": 23,
   "metadata": {},
   "outputs": [
    {
     "name": "stdout",
     "output_type": "stream",
     "text": [
      "Help on list object:\n",
      "\n",
      "class list(object)\n",
      " |  list(iterable=(), /)\n",
      " |  \n",
      " |  Built-in mutable sequence.\n",
      " |  \n",
      " |  If no argument is given, the constructor creates a new empty list.\n",
      " |  The argument must be an iterable if specified.\n",
      " |  \n",
      " |  Methods defined here:\n",
      " |  \n",
      " |  __add__(self, value, /)\n",
      " |      Return self+value.\n",
      " |  \n",
      " |  __contains__(self, key, /)\n",
      " |      Return key in self.\n",
      " |  \n",
      " |  __delitem__(self, key, /)\n",
      " |      Delete self[key].\n",
      " |  \n",
      " |  __eq__(self, value, /)\n",
      " |      Return self==value.\n",
      " |  \n",
      " |  __ge__(self, value, /)\n",
      " |      Return self>=value.\n",
      " |  \n",
      " |  __getattribute__(self, name, /)\n",
      " |      Return getattr(self, name).\n",
      " |  \n",
      " |  __getitem__(...)\n",
      " |      x.__getitem__(y) <==> x[y]\n",
      " |  \n",
      " |  __gt__(self, value, /)\n",
      " |      Return self>value.\n",
      " |  \n",
      " |  __iadd__(self, value, /)\n",
      " |      Implement self+=value.\n",
      " |  \n",
      " |  __imul__(self, value, /)\n",
      " |      Implement self*=value.\n",
      " |  \n",
      " |  __init__(self, /, *args, **kwargs)\n",
      " |      Initialize self.  See help(type(self)) for accurate signature.\n",
      " |  \n",
      " |  __iter__(self, /)\n",
      " |      Implement iter(self).\n",
      " |  \n",
      " |  __le__(self, value, /)\n",
      " |      Return self<=value.\n",
      " |  \n",
      " |  __len__(self, /)\n",
      " |      Return len(self).\n",
      " |  \n",
      " |  __lt__(self, value, /)\n",
      " |      Return self<value.\n",
      " |  \n",
      " |  __mul__(self, value, /)\n",
      " |      Return self*value.\n",
      " |  \n",
      " |  __ne__(self, value, /)\n",
      " |      Return self!=value.\n",
      " |  \n",
      " |  __repr__(self, /)\n",
      " |      Return repr(self).\n",
      " |  \n",
      " |  __reversed__(self, /)\n",
      " |      Return a reverse iterator over the list.\n",
      " |  \n",
      " |  __rmul__(self, value, /)\n",
      " |      Return value*self.\n",
      " |  \n",
      " |  __setitem__(self, key, value, /)\n",
      " |      Set self[key] to value.\n",
      " |  \n",
      " |  __sizeof__(self, /)\n",
      " |      Return the size of the list in memory, in bytes.\n",
      " |  \n",
      " |  append(self, object, /)\n",
      " |      Append object to the end of the list.\n",
      " |  \n",
      " |  clear(self, /)\n",
      " |      Remove all items from list.\n",
      " |  \n",
      " |  copy(self, /)\n",
      " |      Return a shallow copy of the list.\n",
      " |  \n",
      " |  count(self, value, /)\n",
      " |      Return number of occurrences of value.\n",
      " |  \n",
      " |  extend(self, iterable, /)\n",
      " |      Extend list by appending elements from the iterable.\n",
      " |  \n",
      " |  index(self, value, start=0, stop=9223372036854775807, /)\n",
      " |      Return first index of value.\n",
      " |      \n",
      " |      Raises ValueError if the value is not present.\n",
      " |  \n",
      " |  insert(self, index, object, /)\n",
      " |      Insert object before index.\n",
      " |  \n",
      " |  pop(self, index=-1, /)\n",
      " |      Remove and return item at index (default last).\n",
      " |      \n",
      " |      Raises IndexError if list is empty or index is out of range.\n",
      " |  \n",
      " |  remove(self, value, /)\n",
      " |      Remove first occurrence of value.\n",
      " |      \n",
      " |      Raises ValueError if the value is not present.\n",
      " |  \n",
      " |  reverse(self, /)\n",
      " |      Reverse *IN PLACE*.\n",
      " |  \n",
      " |  sort(self, /, *, key=None, reverse=False)\n",
      " |      Stable sort *IN PLACE*.\n",
      " |  \n",
      " |  ----------------------------------------------------------------------\n",
      " |  Static methods defined here:\n",
      " |  \n",
      " |  __new__(*args, **kwargs) from builtins.type\n",
      " |      Create and return a new object.  See help(type) for accurate signature.\n",
      " |  \n",
      " |  ----------------------------------------------------------------------\n",
      " |  Data and other attributes defined here:\n",
      " |  \n",
      " |  __hash__ = None\n",
      "\n"
     ]
    }
   ],
   "source": [
    "help(dir(list))"
   ]
  },
  {
   "cell_type": "markdown",
   "metadata": {},
   "source": [
    "This turns out to be directly related to operator overloading.\n",
    "\n",
    "When Python programmers want to define how operators behave on their types, they do so by implementing\\\n",
    "methods with special names beginning and ending with 2 underscores such as `__lt__`, `__setattr__`, or `__contains__`.\\\n",
    "Generally, names that follow this double-underscore format have a special meaning to Python.\n",
    "\n",
    "So, for example, the expression `x in [1, 2, 3]` is actually calling the list method `__contains__` behind-the-scenes.\\\n",
    "It's equivalent to (the much uglier) `[1, 2, 3].__contains__(x)`.\n",
    "\n",
    "If you're curious to learn more, you can check out Python's official documentation, which describes many, many more of these special \"underscores\" methods.\n",
    "https://docs.python.org/3.4/reference/datamodel.html#special-method-names"
   ]
  },
  {
   "cell_type": "code",
   "execution_count": 24,
   "metadata": {},
   "outputs": [
    {
     "data": {
      "text/plain": [
       "True"
      ]
     },
     "execution_count": 24,
     "metadata": {},
     "output_type": "execute_result"
    }
   ],
   "source": [
    "x = 2\n",
    "arr = [1, 2, 3]\n",
    "x in arr"
   ]
  },
  {
   "cell_type": "code",
   "execution_count": 25,
   "metadata": {},
   "outputs": [
    {
     "data": {
      "text/plain": [
       "True"
      ]
     },
     "execution_count": 25,
     "metadata": {},
     "output_type": "execute_result"
    }
   ],
   "source": [
    "arr.__contains__(x)"
   ]
  },
  {
   "cell_type": "markdown",
   "metadata": {},
   "source": [
    "# Exercize"
   ]
  },
  {
   "cell_type": "markdown",
   "metadata": {},
   "source": [
    "1) As you can see, he's hit a bit of bad luck recently. He wants to tweet this along with some choice emojis, but, as it looks right now, his followers will probably find it confusing. He's asked if you can help him make the following changes:\n",
    "\n",
    "1. Add the title \"Results of 500 slot machine pulls\"\n",
    "2. Make the y-axis start at 0. \n",
    "3. Add the label **\"Balance\"** to the y-axis\n",
    "\n",
    "After calling `type(graph)` you see that Jimmy's graph is of type `matplotlib.axes._subplots.AxesSubplot`. Hm, that's a new one. By calling `dir(graph)`, you find three methods that seem like they'll be useful: `.set_title()`, `.set_ylim()`, and `.set_ylabel()`. \n",
    "\n",
    "Use these methods to complete the function `prettify_graph` according to Jimmy's requests. We've already checked off the first request for you (setting a title).\n",
    "\n",
    "(Remember: if you don't know what these methods do, use the `help()` function!)"
   ]
  },
  {
   "attachments": {
    "021_ex_1_graph_0.png": {
     "image/png": "[encoded data removed]"
    }
   },
   "cell_type": "markdown",
   "metadata": {},
   "source": [
    "![021_ex_1_graph_0.png](attachment:021_ex_1_graph_0.png)"
   ]
  },
  {
   "cell_type": "code",
   "execution_count": 26,
   "metadata": {},
   "outputs": [],
   "source": [
    "def prettify_graph(graph):\n",
    "    \"\"\"Modify the given graph according to Jimmy's requests: add a title, make the y-axis\n",
    "    start at 0, label the y-axis. (And, if you're feeling ambitious, format the tick marks\n",
    "    as dollar amounts using the \"$\" sumbol.)\n",
    "    \"\"\"\n",
    "    # Make the title of graph.\n",
    "    graph.set_title(\"Resuls of 500 slot machine pulls\")\n",
    "    \n",
    "    # Make the 'y-axis' begin at 0\n",
    "    graph.set_ylim(0)\n",
    "    \n",
    "    # Label of 'y-axis'\n",
    "    graph.set_ylabel(\"Balance\")\n",
    "    \n",
    "    # Format the numbers on the y-axis as '$' amounts\n",
    "    # Get an array of values on the 'y-axis' [  0.  50. 100. 150. 200. 250. 300. 350.]\n",
    "    ticks = graph.set_yticks()\n",
    "    # Format values into array and set the labels.\n",
    "    graph.set_yticklabels([f'${i}' for i in ticks])\n",
    "    \n",
    "\n",
    "    graph = jimmy_slots.get_graph()\n",
    "    prettify_graph(graph)\n",
    "    graph"
   ]
  },
  {
   "cell_type": "markdown",
   "metadata": {},
   "source": [
    "**Bonus**: Can you format the numbers on the y-axis so they look like dollar amounts? e.g. `$200` instead of just `200`.\\\n",
    "(We're not going to tell you what method(s) to use here. You'll need to go digging yourself with `dir(graph)` and, or `help(graph)`.)\n",
    "\n",
    "`dir (graph)`\\\n",
    "`help(graph)`"
   ]
  },
  {
   "attachments": {
    "021_ex_1_graph_1.png": {
     "image/png": "[encoded data removed]"
    }
   },
   "cell_type": "markdown",
   "metadata": {},
   "source": [
    "![021_ex_1_graph_1.png](attachment:021_ex_1_graph_1.png)"
   ]
  },
  {
   "cell_type": "markdown",
   "metadata": {},
   "source": [
    "# dir(graph) - map of methods\n",
    "['__class__', '__delattr__', '__dict__', '__dir__', '__doc__', '__eq__', '__format__', '__ge__', '__getattribute__', '__getstate__', '__gt__', '__hash__', '__init__', '__init_subclass__', '__le__', '__lt__', '__module__', '__ne__', '__new__', '__reduce__', '__reduce_ex__', '__repr__', '__setattr__', '__setstate__', '__sizeof__', '__str__', '__subclasshook__', '__weakref__', '_add_text', '_adjustable', '_agg_filter', '_alpha', '_anchor', '_animated', '_aspect', '_autoscaleXon', '_autoscaleYon', '_autotitlepos', '_axes', '_axes_class', '_axes_locator', '_axisbelow', '_clipon', '_clippath', '_contains', '_convert_dx', '_current_image', '_default_contains', '_facecolor', '_frameon', '_gci', '_gen_axes_patch', '_gen_axes_spines', '_get_axis_list', '_get_axis_map', '_get_clipping_extent_bbox', '_get_lines', '_get_patches_for_fill', '_get_view', '_gid', '_gridOn', '_in_layout', '_init_axis', '_label', '_layoutbox', '_left_title', '_make_twin_axes', '_mouseover', '_mouseover_set', '_navigate', '_navigate_mode', '_oid', '_on_units_changed', '_originalPosition', '_parse_scatter_color_args', '_path_effects', '_pcolorargs', '_picker', '_position', '_poslayoutbox', '_process_unit_info', '_prop_order', '_propobservers', '_quiver_units', '_rasterization_zorder', '_rasterized', '_remove_legend', '_remove_method', '_request_autoscale_view', '_right_title', '_sci', '_set_artist_props', '_set_gc_clip', '_set_lim_and_transforms', '_set_position', '_set_title_offset_trans', '_set_view', '_set_view_from_bbox', '_shared_x_axes', '_shared_y_axes', '_sharex', '_sharey', '_sketch', '_snap', '_stale', '_stale_viewlim_x', '_stale_viewlim_y', '_sticky_edges', '_subplotspec', '_tight', '_transform', '_transformSet', '_twinned_axes', '_unstale_viewLim', '_update_image_limits', '_update_line_limits', '_update_patch_limits', '_update_title_position', '_update_transScale', '_url', '_use_sticky_edges', '_validate_converted_limits', '_viewLim', '_visible', '_xaxis_transform', '_xcid', '_xmargin', '_yaxis_transform', '_ycid', '_ymargin', 'acorr', 'add_artist', 'add_callback', 'add_child_axes', 'add_collection', 'add_container', 'add_image', 'add_line', 'add_patch', 'add_table', 'aname', 'angle_spectrum', 'annotate', 'apply_aspect', 'arrow', 'artists', 'autoscale', 'autoscale_view', 'axes', 'axhline', 'axhspan', 'axis', 'axison', 'axvline', 'axvspan', 'bar', 'barbs', 'barh', 'bbox', 'boxplot', 'broken_barh', 'bxp', 'callbacks', 'can_pan', 'can_zoom', 'change_geometry', 'child_axes', 'cla', 'clabel', 'clear', 'clipbox', 'cohere', 'colNum', 'collections', 'containers', 'contains', 'contains_point', 'contour', 'contourf', 'convert_xunits', 'convert_yunits', 'csd', 'dataLim', 'drag_pan', 'draw', 'draw_artist', 'end_pan', 'errorbar', 'eventplot', 'eventson', 'figbox', 'figure', 'fill', 'fill_between', 'fill_betweenx', 'findobj', 'fmt_xdata', 'fmt_ydata', 'format_coord', 'format_cursor_data', 'format_xdata', 'format_ydata', 'get_adjustable', 'get_agg_filter', 'get_alpha', 'get_anchor', 'get_animated', 'get_aspect', 'get_autoscale_on', 'get_autoscalex_on', 'get_autoscaley_on', 'get_axes_locator', 'get_axisbelow', 'get_children', 'get_clip_box', 'get_clip_on', 'get_clip_path', 'get_contains', 'get_cursor_data', 'get_data_ratio', 'get_data_ratio_log', 'get_default_bbox_extra_artists', 'get_facecolor', 'get_fc', 'get_figure', 'get_frame_on', 'get_geometry', 'get_gid', 'get_gridspec', 'get_images', 'get_in_layout', 'get_label', 'get_legend', 'get_legend_handles_labels', 'get_lines', 'get_navigate', 'get_navigate_mode', 'get_path_effects', 'get_picker', 'get_position', 'get_rasterization_zorder', 'get_rasterized', 'get_renderer_cache', 'get_shared_x_axes', 'get_shared_y_axes', 'get_sketch_params', 'get_snap', 'get_subplotspec', 'get_tightbbox', 'get_title', 'get_transform', 'get_transformed_clip_path_and_affine', 'get_url', 'get_visible', 'get_window_extent', 'get_xaxis', 'get_xaxis_text1_transform', 'get_xaxis_text2_transform', 'get_xaxis_transform', 'get_xbound', 'get_xgridlines', 'get_xlabel', 'get_xlim', 'get_xmajorticklabels', 'get_xminorticklabels', 'get_xscale', 'get_xticklabels', 'get_xticklines', 'get_xticks', 'get_yaxis', 'get_yaxis_text1_transform', 'get_yaxis_text2_transform', 'get_yaxis_transform', 'get_ybound', 'get_ygridlines', 'get_ylabel', 'get_ylim', 'get_ymajorticklabels', 'get_yminorticklabels', 'get_yscale', 'get_yticklabels', 'get_yticklines', 'get_yticks', 'get_zorder', 'grid', 'has_data', 'have_units', 'hexbin', 'hist', 'hist2d', 'hlines', 'ignore_existing_data_limits', 'images', 'imshow', 'in_axes', 'indicate_inset', 'indicate_inset_zoom', 'inset_axes', 'invert_xaxis', 'invert_yaxis', 'is_first_col', 'is_first_row', 'is_last_col', 'is_last_row', 'is_transform_set', 'label_outer', 'legend', 'legend_', 'lines', 'locator_params', 'loglog', 'magnitude_spectrum', 'margins', 'matshow', 'minorticks_off', 'minorticks_on', 'mouseover', 'name', 'numCols', 'numRows', 'patch','patches', 'pchanged', 'pcolor', 'pcolorfast','pcolormesh', 'phase_spectrum', 'pick', 'pickable', 'pie', 'plot', 'plot_date', 'properties', 'psd', 'quiver', 'quiverkey', 'redraw_in_frame', 'relim', 'remove', 'remove_callback', 'reset_position', 'rowNum', 'scatter', 'secondary_xaxis', 'secondary_yaxis', 'semilogx', 'semilogy', 'set', 'set_adjustable', 'set_agg_filter', 'set_alpha', 'set_anchor', 'set_animated', 'set_aspect', 'set_autoscale_on', 'set_autoscalex_on', 'set_autoscaley_on', 'set_axes_locator', 'set_axis_off', 'set_axis_on', 'set_axisbelow', 'set_clip_box', 'set_clip_on','set_clip_path', 'set_contains', 'set_facecolor', 'set_fc', 'set_figure', 'set_frame_on', 'set_gid', 'set_in_layout', 'set_label', 'set_navigate', 'set_navigate_mode', 'set_path_effects', 'set_picker', 'set_position', 'set_prop_cycle', 'set_rasterization_zorder', 'set_rasterized', 'set_sketch_params', 'set_snap', 'set_subplotspec', 'set_title', 'set_transform', 'set_url', 'set_visible', 'set_xbound', 'set_xlabel', 'set_xlim', 'set_xmargin', 'set_xscale', 'set_xticklabels', 'set_xticks', 'set_ybound', 'set_ylabel', 'set_ylim', 'set_ymargin', 'set_yscale', 'set_yticklabels', 'set_yticks', 'set_zorder', 'specgram', 'spines', 'spy', 'stackplot', 'stale', 'stale_callback', 'start_pan', 'stem', 'step', 'sticky_edges', 'streamplot', 'table', 'tables', 'text', 'texts', 'tick_params', 'ticklabel_format', 'title', 'titleOffsetTrans', 'transAxes', 'transData','transLimits', 'transScale', 'tricontour', 'tricontourf', 'tripcolor', 'triplot', 'twinx', 'twiny', 'update', 'update_datalim', 'update_datalim_bounds', 'update_from', 'update_params', 'use_sticky_edges', 'viewLim', 'violin', 'violinplot', 'vlines', 'xaxis', 'xaxis_date', 'xaxis_inverted', 'xcorr', 'yaxis', 'yaxis_date', 'yaxis_inverted', 'zorder']\n",
    "```Python\n",
    ">>> Length of methods == 449\n",
    "```\n"
   ]
  },
  {
   "cell_type": "markdown",
   "metadata": {},
   "source": [
    "**Функция map**\n",
    "Функция map применяет функцию к каждому элементу последовательности и возвращает итератор с результатами."
   ]
  },
  {
   "cell_type": "code",
   "execution_count": 27,
   "metadata": {},
   "outputs": [
    {
     "data": {
      "text/plain": [
       "['ONE', 'TWO', 'LIST', '', 'DICT']"
      ]
     },
     "execution_count": 27,
     "metadata": {},
     "output_type": "execute_result"
    }
   ],
   "source": [
    "# Например, с помощью map можно выполнять преобразования элементов. \n",
    "# Перевести все строки в верхний регистр:\n",
    "list_of_words = ['one', 'two', 'list', '', 'dict']\n",
    "\n",
    "map(str.upper, list_of_words)\n",
    "\n",
    "list(map(str.upper, list_of_words))\n"
   ]
  },
  {
   "cell_type": "markdown",
   "metadata": {},
   "source": [
    "**List comprehension вместо map**\\\n",
    "Как правило, вместо map можно использовать `list comprehension`.\\\n",
    "Чаще всего, вариант с `list comprehension` более понятный, а в некоторых случаях даже быстрее.\\\n",
    "Но `map` может быть эффективней в том случае, когда надо сгенерировать большое количество элементов,\\\n",
    "так как:\n",
    "- `map` - итератор, \n",
    "- `list comprehension` генерирует список."
   ]
  },
  {
   "cell_type": "markdown",
   "metadata": {},
   "source": [
    "2) Luigi is trying to perform an analysis to determine the best items for winning races on the Mario Kart circuit.\n",
    "\n",
    "However, when he tried running it on his full dataset, the program crashed with a `TypeError`.\n",
    "\n",
    "**Can you guess why**?\\\n",
    "Try running the code cell below to see the error message Luigi is getting. Once you've identified the bug, fix it in the cell below (so that it runs without any errors)."
   ]
  },
  {
   "cell_type": "code",
   "execution_count": 118,
   "metadata": {},
   "outputs": [
    {
     "name": "stdout",
     "output_type": "stream",
     "text": [
      "WARNING: Encountered racer with unknown name on iteration 4/8 (racer = None)\n",
      "WARNING: Encountered racer with unknown name on iteration 6/8 (racer = None)\n"
     ]
    },
    {
     "data": {
      "text/plain": [
       "{'green shell': 1, 'banana': 1, 'red shell': 1, 'blue shell': 1, 'star': 1}"
      ]
     },
     "execution_count": 118,
     "metadata": {},
     "output_type": "execute_result"
    }
   ],
   "source": [
    "# Словарь состоит из:\n",
    "# \"name\" - имя гонщика.\n",
    "# \"items\" - бонусы(трюки), что были использованы игроком, для получения преимущества в гонке.\n",
    "# \"finish\" - место, которое занял гонщик в заезде.\n",
    "\n",
    "full_dataset = [\n",
    "    {'name': 'Peach', 'items': ['green shell', 'banana', 'green shell'], 'finish': 3},\n",
    "    {'name': 'Peach', 'items': ['green shell', 'banana', 'green shell'], 'finish': 1},\n",
    "    {'name': 'Bowser', 'items': ['green shell'], 'finish': 1},\n",
    "    {'name': None, 'items': ['green shell'], 'finish': 2},\n",
    "    {'name': 'Bowser', 'items': ['green shell'], 'finish': 1},\n",
    "    {'name': None, 'items': ['red shell'], 'finish': 1},\n",
    "    {'name': 'Yoshi', 'items': ['banana', 'blue shell', 'banana'], 'finish': 7},\n",
    "    {'name': 'DK', 'items': ['blue shell', 'star'], 'finish': 1}\n",
    "]\n",
    "racers = [\n",
    "    {'name': 'Peach', 'items': ['green shell', 'banana', 'green shell'], 'finish': 3},\n",
    "    {'name': 'Bowser', 'items': ['green shell'], 'finish': 1},\n",
    "    # Sometimes the racer's name wasn't recorded\n",
    "    {'name': None, 'items': ['mushroom'], 'finish': 2},\n",
    "    {'name': 'Toad', 'items': ['green shell', 'mushroom'], 'finish': 1}\n",
    "]\n",
    "\n",
    "def best_items(racers):\n",
    "    \"\"\"Given a list of racer dectionaries, return a dictionary mapping items to the number\n",
    "    of times those items were picked up by racers who finished in first place.\n",
    "    \"\"\"\n",
    "    winner_item_counts = {} # Счетчик полученных Items(бонусов) в виде словаря.\n",
    "        \n",
    "    \"\"\"Выяснить, какие бонусы помогли гонщикам занять первые места.\"\"\"\n",
    "    for i in range(len(racers)):\n",
    "        # Сделано для поэлементной работы над списком, состоящим из словарей.\n",
    "        racer = racers[i] # Присвоить для racer строку из списка словарей racers.\n",
    "        if racer['finish'] == 1: # Если финишировавший гонщик был первым...\n",
    "            for item in racer['items']: # Включить перебор полученных за гонку Бонусов.\n",
    "                # Внести в словарь новый элемент.\n",
    "                if i not in winner_item_counts: # Check: При том, если Бонус не является элементом в счетчике бонусов.\n",
    "                    winner_item_counts[item] = 0 # Создаю словарь где ключом будет 'i' - имя Бонуса, а значением будет 0.\n",
    "                # Иначе, если элемент уже присутствует в словаре, \n",
    "                # но использовался несколько раз, разными игроками, то добавить в словарь +1 к значению.    \n",
    "                winner_item_counts[item] += 1 \n",
    "        # Check: Предупреждение, если не указано имя гонщика.\n",
    "        if racer['name'] is None: # Если гонщик занял место но небыл записан...\n",
    "            print(f\"WARNING: Encountered racer with unknown name on iteration {i+1}/{len(racers)} (racer = {racer['name']})\")\n",
    "    \n",
    "    # Вернуть словарь с именем бонуса и колличеством раз, что тот был использован, для помощи в получении гонщиками первых мест в заездах.\n",
    "    return winner_item_counts\n",
    "\n",
    "\n",
    "best_items(full_dataset)"
   ]
  },
  {
   "cell_type": "markdown",
   "metadata": {},
   "source": [
    "### Альтернативное решение:\n",
    "В данном контексте Была ошибка названная, как **Затененная переменная**,\n",
    "но даже если оставить код как есть, то все равно можно соеденить строки, если\n",
    "получить индекс элемента списка, где содержится (по условию) словарь, что не содержит имя гонщика, но тот занял первое место в заезде.\n",
    "```Python\n",
    ">>> racers.index(racer)+1\n",
    "```\n",
    "```Python\n",
    "if racer['name'] is None:\n",
    "    print(f\"WARNING: Encountered racer with unknown name on iteration {racers.index(racer)+1}/{len(racers)} (racer = {racer['name']})\")\n",
    "```"
   ]
  },
  {
   "cell_type": "markdown",
   "metadata": {},
   "source": [
    "### Variable shadowing\n",
    "*From Wikipedia, the free encyclopedia*\n",
    "\n",
    "In computer programming, **`variable shadowing` occurs when a variable\\\n",
    "declared within a certain scope (decision block, method, or inner class)\\\n",
    "has the same name as a variable declared in an outer scope**.\\\n",
    "At the level of identifiers (names, rather than variables),\\\n",
    "this is known as name masking. This outer variable is said to be shadowed\\\n",
    "by the inner variable, while the inner identifier is said to mask the outer\\\n",
    "identifier. This can lead to confusion, as it may be unclear which variable\\\n",
    "subsequent uses of the `shadowed variable` name refer to,\\\n",
    "which depends on the name resolution rules of the language."
   ]
  },
  {
   "cell_type": "markdown",
   "metadata": {},
   "source": [
    "3)\n",
    "Suppose we wanted to create a new type to represent hands in blackjack.\\\n",
    "One thing we might want to do with this type is overload the comparison operators like `>` and `<=` so that we could use them\\\n",
    "to check whether one hand beats another. e.g.\\\n",
    "it'd be cool if we could do this:\n",
    "```Python\n",
    ">>> hand1 = BlackjackHand(['K', 'A'])\n",
    ">>> hand2 = BlackjackHand(['7', '10', 'A'])\n",
    ">>> hand1 > hand2\n",
    "True\n",
    "```"
   ]
  },
  {
   "cell_type": "code",
   "execution_count": 126,
   "metadata": {},
   "outputs": [
    {
     "data": {
      "text/plain": [
       "True"
      ]
     },
     "execution_count": 126,
     "metadata": {},
     "output_type": "execute_result"
    }
   ],
   "source": [
    "hand_1 = ['Q']\n",
    "hand_2 = ['K', 'A', 'Q', 'K', '7']\n",
    "\n",
    "def hand_total(hand):\n",
    "    \"\"\"Helper function to calculate the total points of a blackjack hand.\n",
    "    \"\"\"\n",
    "    total = 0\n",
    "    # Count the number of aces and deal with how to apply them at the end.\n",
    "    aces = 0\n",
    "    for card in hand:\n",
    "        if card in ['J', 'Q', 'K']:\n",
    "            total += 10\n",
    "        elif card == 'A':\n",
    "            aces += 1\n",
    "        else:\n",
    "            # Convert number cards (e.g. '7') to ints\n",
    "            total += int(card)\n",
    "    # At this point, total is the sum of this hand's cards *not counting aces*.\n",
    "\n",
    "    # Add aces, counting them as 1 for now. This is the smallest total we can make from this hand\n",
    "    total += aces\n",
    "    # \"Upgrade\" aces from 1 to 11 as long as it helps us get closer to 21\n",
    "    # without busting\n",
    "    while total + 10 <= 21 and aces > 0:\n",
    "        # Upgrade an ace from 1 to 11\n",
    "        total += 10\n",
    "        aces -= 1\n",
    "    return total\n",
    "\n",
    "def blackjack_hand_greater_than(hand_1, hand_2):\n",
    "    \"\"\"\n",
    "    Return True if hand_1 beats hand_2, and False otherwise.\n",
    "    \n",
    "    In order for hand_1 to beat hand_2 the following must be true:\n",
    "    - The total of hand_1 must not exceed 21\n",
    "    - The total of hand_1 must exceed the total of hand_2 OR hand_2's total must exceed 21\n",
    "    \n",
    "    Hands are represented as a list of cards. Each card is represented by a string.\n",
    "    \n",
    "    When adding up a hand's total, cards with numbers count for that many points. Face\n",
    "    cards ('J', 'Q', and 'K') are worth 10 points. 'A' can count for 1 or 11.\n",
    "    \n",
    "    When determining a hand's total, you should try to count aces in the way that \n",
    "    maximizes the hand's total without going over 21. e.g. the total of ['A', 'A', '9'] is 21,\n",
    "    the total of ['A', 'A', '9', '3'] is 14.\n",
    "    \n",
    "    Examples:\n",
    "    >>> blackjack_hand_greater_than(['K'], ['3', '4'])\n",
    "    True\n",
    "    >>> blackjack_hand_greater_than(['K'], ['10'])\n",
    "    False\n",
    "    >>> blackjack_hand_greater_than(['K', 'K', '2'], ['3'])\n",
    "    False\n",
    "    \"\"\"\n",
    "    total_1 = hand_total(hand_1)\n",
    "    total_2 = hand_total(hand_2)\n",
    "    return total_1 <= 21 and (total_1 > total_2 or total_2 > 21)\n",
    "\n",
    "blackjack_hand_greater_than(hand_1, hand_2)"
   ]
  }
 ],
 "metadata": {
  "kernelspec": {
   "display_name": "Python 3",
   "language": "python",
   "name": "python3"
  },
  "language_info": {
   "codemirror_mode": {
    "name": "ipython",
    "version": 3
   },
   "file_extension": ".py",
   "mimetype": "text/x-python",
   "name": "python",
   "nbconvert_exporter": "python",
   "pygments_lexer": "ipython3",
   "version": "3.7.6"
  }
 },
 "nbformat": 4,
 "nbformat_minor": 4
}
