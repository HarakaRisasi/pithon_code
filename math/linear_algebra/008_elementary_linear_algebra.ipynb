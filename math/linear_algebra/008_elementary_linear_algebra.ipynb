{
 "cells": [
  {
   "cell_type": "markdown",
   "metadata": {},
   "source": [
    "## SYSTEM OF LINEAR EQUATIONS AND MATRICES\n"
   ]
  },
  {
   "cell_type": "code",
   "execution_count": 1,
   "metadata": {},
   "outputs": [],
   "source": [
    "import sympy as sp\n",
    "from sympy import *\n",
    "sp.init_printing(use_unicode=True)"
   ]
  },
  {
   "cell_type": "code",
   "execution_count": 2,
   "metadata": {},
   "outputs": [],
   "source": [
    "x, y, z = sp.symbols('x, y, z')\n",
    "f = sp.Function('f')"
   ]
  },
  {
   "cell_type": "code",
   "execution_count": 13,
   "metadata": {},
   "outputs": [
    {
     "data": {
      "image/png": "[encoded data removed]",
      "text/latex": [
       "$\\displaystyle \\left\\{ x : 1, \\  y : -2\\right\\}$"
      ],
      "text/plain": [
       "{x: 1, y: -2}"
      ]
     },
     "execution_count": 13,
     "metadata": {},
     "output_type": "execute_result"
    }
   ],
   "source": [
    "# System of linear equations\n",
    "eq_1 = 5 * x + y\n",
    "eq_2 = 2 * x - y\n",
    "\n",
    "# Solve the system of linear equations\n",
    "f = sp.solve([eq_1 - 3, eq_2 - 4], (x, y))\n",
    "f"
   ]
  },
  {
   "cell_type": "markdown",
   "metadata": {},
   "source": [
    "### 1.1. INTRODUCTION TO SYSTEMS OF LINEAR EQUATIONS\n",
    "\n",
    "<div class=\"alert alert-block alert-info\">\n",
    "<b>Systems of linear algebraic equations:</b> and their solutions constitute one of the major topics studied in the course known as “linear algebra.” In this first section we shall introduce some basic terminology and discuss a method for solving such systems.\n",
    "</div>"
   ]
  },
  {
   "cell_type": "markdown",
   "metadata": {},
   "source": [
    "Any straight line in the $x,y$-plane can be represented algebraically by an equation of the form: \\\n",
    "$$a_1x + a_2y = b$$ \\\n",
    "where $a_1x \\ \\& \\ a_2y$, are real constants and $a_1x \\ \\& \\ a_2y$ are not both zero."
   ]
  },
  {
   "cell_type": "markdown",
   "metadata": {},
   "source": [
    "**Example_1:** Linear Equations"
   ]
  },
  {
   "cell_type": "markdown",
   "metadata": {},
   "source": [
    "$x + 3y = 7, \\ y = \\frac{1}{2}x + 3z + 1, \\ x_1 - 2x_2 - 3x_3 + x_4 = 7$ are linear.\n",
    "\n",
    "Observe that a linear equation does not involve any products or roots of variables. All variables occur only to the first\\\n",
    "power and do not appear as arguments for trigonometric, logarithmic, or exponential functions. \n",
    "\n",
    "$x + 3\\sqrt{y} = 5, \\ 3x + 2y - z + xz = 4, \\ y = \\sin{x}$ are not linear/"
   ]
  },
  {
   "cell_type": "markdown",
   "metadata": {},
   "source": [
    "**Example_2:** Finding a Solution Set"
   ]
  },
  {
   "cell_type": "code",
   "execution_count": 15,
   "metadata": {},
   "outputs": [
    {
     "data": {
      "image/png": "[encoded data removed]",
      "text/latex": [
       "$\\displaystyle \\left\\{\\frac{y}{2} + \\frac{1}{4}\\right\\}$"
      ],
      "text/plain": [
       "⎧y   1⎫\n",
       "⎨─ + ─⎬\n",
       "⎩2   4⎭"
      ]
     },
     "execution_count": 15,
     "metadata": {},
     "output_type": "execute_result"
    }
   ],
   "source": [
    "# Find the solution set of:\n",
    "eq_1 = 4 * x - 2 * y\n",
    "\n",
    "sp.solveset(eq_1 - 1, x)"
   ]
  },
  {
   "cell_type": "code",
   "execution_count": 14,
   "metadata": {},
   "outputs": [
    {
     "data": {
      "image/png": "[encoded data removed]",
      "text/latex": [
       "$\\displaystyle \\left\\{\\frac{5}{4}\\right\\}$"
      ],
      "text/plain": [
       "{5/4}"
      ]
     },
     "execution_count": 14,
     "metadata": {},
     "output_type": "execute_result"
    }
   ],
   "source": [
    "# Find the solution set of:\n",
    "eq_2 = x - 4 * x + 7 * x\n",
    "\n",
    "sp.solveset(eq_2 - 5, x)"
   ]
  },
  {
   "cell_type": "markdown",
   "metadata": {},
   "source": [
    "**Linear Systems**"
   ]
  },
  {
   "cell_type": "code",
   "execution_count": 10,
   "metadata": {},
   "outputs": [
    {
     "data": {
      "image/png": "[encoded data removed]",
      "text/latex": [
       "$\\displaystyle \\left\\{ x : - \\frac{12 z}{7} - \\frac{5}{7}, \\  y : - \\frac{27 z}{7} - \\frac{13}{7}\\right\\}$"
      ],
      "text/plain": [
       "⎧     12⋅z   5       27⋅z   13⎫\n",
       "⎨x: - ──── - ─, y: - ──── - ──⎬\n",
       "⎩      7     7        7     7 ⎭"
      ]
     },
     "execution_count": 10,
     "metadata": {},
     "output_type": "execute_result"
    }
   ],
   "source": [
    "eq_1 = 4 * x - y + 3 * z\n",
    "eq_2 = 3 * x + y + 9 * z\n",
    "\n",
    "sp.solve([eq_1 - (-1), eq_2 - (-4)], (x, y, z))"
   ]
  },
  {
   "cell_type": "code",
   "execution_count": null,
   "metadata": {},
   "outputs": [],
   "source": []
  }
 ],
 "metadata": {
  "kernelspec": {
   "display_name": "Python 3",
   "language": "python",
   "name": "python3"
  },
  "language_info": {
   "codemirror_mode": {
    "name": "ipython",
    "version": 3
   },
   "file_extension": ".py",
   "mimetype": "text/x-python",
   "name": "python",
   "nbconvert_exporter": "python",
   "pygments_lexer": "ipython3",
   "version": "3.7.7"
  }
 },
 "nbformat": 4,
 "nbformat_minor": 4
}
