{
 "cells": [
  {
   "cell_type": "code",
   "execution_count": 1,
   "metadata": {},
   "outputs": [],
   "source": [
    "import sympy as sp\n",
    "from sympy import *\n",
    "sp.init_printing(use_unicode=True)"
   ]
  },
  {
   "cell_type": "code",
   "execution_count": 2,
   "metadata": {},
   "outputs": [],
   "source": [
    "abc = (\"a, b, c, d, e, f, g, h, i, j, k, l, m, n, o, p, q, r, s, t, u, v, w, x, y, z\")\n",
    "\n",
    "a, b, c, d, e, f, g, h, i, j, k, l, m, n, o, p, q, r, s, t, u, v, w, x, y, z = sp.symbols(abc)"
   ]
  },
  {
   "cell_type": "markdown",
   "metadata": {},
   "source": [
    "## **Quiz 1**\n",
    "---\n",
    "***Solve equation***"
   ]
  },
  {
   "cell_type": "markdown",
   "metadata": {},
   "source": [
    "$$4x + 8 = 7.2 + 5x$$"
   ]
  },
  {
   "cell_type": "code",
   "execution_count": 3,
   "metadata": {},
   "outputs": [
    {
     "data": {
      "image/png": "[encoded data removed]",
      "text/latex": [
       "$\\displaystyle \\left[ \\left\\{ x : 0.8\\right\\}\\right]$"
      ],
      "text/plain": [
       "[{x: 0.8}]"
      ]
     },
     "execution_count": 3,
     "metadata": {},
     "output_type": "execute_result"
    }
   ],
   "source": [
    "eq = 4*x + 8 - (7.2 + 5*x)\n",
    "\n",
    "sp.solve(eq, dict=true)"
   ]
  },
  {
   "cell_type": "markdown",
   "metadata": {},
   "source": [
    "$$3 + 0.5(4a + 8) = 9 - 2a$$"
   ]
  },
  {
   "cell_type": "code",
   "execution_count": 4,
   "metadata": {},
   "outputs": [
    {
     "data": {
      "image/png": "[encoded data removed]",
      "text/latex": [
       "$\\displaystyle \\left[ \\left\\{ a : 0.5\\right\\}\\right]$"
      ],
      "text/plain": [
       "[{a: 0.5}]"
      ]
     },
     "execution_count": 4,
     "metadata": {},
     "output_type": "execute_result"
    }
   ],
   "source": [
    "eq = 3 + 0.5*(4*a + 8) - (9 - 2*a)\n",
    "\n",
    "sp.solve(eq, dict=true)"
   ]
  },
  {
   "cell_type": "markdown",
   "metadata": {},
   "source": [
    "$$\\frac{9}{4}y - 12 = \\frac{1}{4}y - 4$$"
   ]
  },
  {
   "cell_type": "code",
   "execution_count": 5,
   "metadata": {},
   "outputs": [
    {
     "data": {
      "image/png": "[encoded data removed]",
      "text/latex": [
       "$\\displaystyle \\left[ \\left\\{ y : 4.0\\right\\}\\right]$"
      ],
      "text/plain": [
       "[{y: 4.0}]"
      ]
     },
     "execution_count": 5,
     "metadata": {},
     "output_type": "execute_result"
    }
   ],
   "source": [
    "eq = (9/4)*y - 12 - ((1/4)*y - 4)\n",
    "\n",
    "sp.solve(eq, dict=true)"
   ]
  },
  {
   "cell_type": "markdown",
   "metadata": {},
   "source": [
    "$$3t - 18 = 4(-3 - \\frac{3}{4}t)$$"
   ]
  },
  {
   "cell_type": "code",
   "execution_count": 6,
   "metadata": {},
   "outputs": [
    {
     "data": {
      "image/png": "[encoded data removed]",
      "text/latex": [
       "$\\displaystyle \\left[ \\left\\{ t : 1.0\\right\\}\\right]$"
      ],
      "text/plain": [
       "[{t: 1.0}]"
      ]
     },
     "execution_count": 6,
     "metadata": {},
     "output_type": "execute_result"
    }
   ],
   "source": [
    "eq = 3*t - 18 - (4*(-3 - (3/4)*t))\n",
    "\n",
    "sp.solve(eq, dict=true)"
   ]
  },
  {
   "cell_type": "markdown",
   "metadata": {},
   "source": [
    "$$15.3 + 1h = 1.3 - 1h$$"
   ]
  },
  {
   "cell_type": "code",
   "execution_count": 7,
   "metadata": {},
   "outputs": [
    {
     "data": {
      "image/png": "[encoded data removed]",
      "text/latex": [
       "$\\displaystyle \\left[ \\left\\{ h : -7.0\\right\\}\\right]$"
      ],
      "text/plain": [
       "[{h: -7.0}]"
      ]
     },
     "execution_count": 7,
     "metadata": {},
     "output_type": "execute_result"
    }
   ],
   "source": [
    "eq = 15.3 + 1*h - (1.3 - 1*h)\n",
    "\n",
    "sp.solve(eq, dict=true)"
   ]
  },
  {
   "cell_type": "markdown",
   "metadata": {},
   "source": [
    "## **Quiz 2**\n",
    "---\n",
    "***Which of the following equations have infinitely many solutions?***"
   ]
  },
  {
   "cell_type": "code",
   "execution_count": 8,
   "metadata": {},
   "outputs": [
    {
     "name": "stdout",
     "output_type": "stream",
     "text": [
      "150*x [{x: 0}]\n",
      "Infinitely many solutions: (0, [])\n",
      "132*x + 132 [{x: -1}]\n",
      "18*x - 18 [{x: 1}]\n"
     ]
    }
   ],
   "source": [
    "eq_1 = 75*x + 57 - (-75*x + 57)\n",
    "print(eq_1, sp.solve(eq_1, dict=true))\n",
    "\n",
    "eq_2 = -75*x + 57 - (-75*x + 57)\n",
    "print(f\"Infinitely many solutions: {eq_2, sp.solve(eq_2, dict=true)}\")\n",
    "\n",
    "eq_3 = 57*x + 57 - (-75*x - 75)\n",
    "print(eq_3, sp.solve(eq_3, dict=true))\n",
    "\n",
    "eq_4 = -57*x + 57 - (-75*x + 75)\n",
    "print(eq_4, sp.solve(eq_4, dict=true))"
   ]
  },
  {
   "cell_type": "markdown",
   "metadata": {},
   "source": [
    "---\n",
    "***Solve equation for x***."
   ]
  },
  {
   "cell_type": "markdown",
   "metadata": {},
   "source": [
    "$$n(17 + x) = 34x - r$$"
   ]
  },
  {
   "cell_type": "code",
   "execution_count": 9,
   "metadata": {},
   "outputs": [
    {
     "data": {
      "image/png": "[encoded data removed]",
      "text/latex": [
       "$\\displaystyle \\left[ \\left\\{ x : - \\frac{17 n + r}{n - 34}\\right\\}\\right]$"
      ],
      "text/plain": [
       "⎡⎧   -(17⋅n + r) ⎫⎤\n",
       "⎢⎨x: ────────────⎬⎥\n",
       "⎣⎩      n - 34   ⎭⎦"
      ]
     },
     "execution_count": 9,
     "metadata": {},
     "output_type": "execute_result"
    }
   ],
   "source": [
    "eq = n*(17 + x) - (34*x - r)\n",
    "\n",
    "sp.solve(eq, x, dict=true) # solve for x."
   ]
  },
  {
   "cell_type": "markdown",
   "metadata": {},
   "source": [
    "***Solve equation for z***."
   ]
  },
  {
   "cell_type": "markdown",
   "metadata": {},
   "source": [
    "$$-cz + 6z = tz + 83$$"
   ]
  },
  {
   "cell_type": "code",
   "execution_count": 10,
   "metadata": {},
   "outputs": [
    {
     "data": {
      "image/png": "[encoded data removed]",
      "text/latex": [
       "$\\displaystyle \\left[ \\left\\{ z : - \\frac{83}{c + t - 6}\\right\\}\\right]$"
      ],
      "text/plain": [
       "⎡⎧      -83   ⎫⎤\n",
       "⎢⎨z: ─────────⎬⎥\n",
       "⎣⎩   c + t - 6⎭⎦"
      ]
     },
     "execution_count": 10,
     "metadata": {},
     "output_type": "execute_result"
    }
   ],
   "source": [
    "eq = -c*z + 6*z - (t*z + 83)\n",
    "\n",
    "sp.solve(eq, z, dict=true)"
   ]
  },
  {
   "cell_type": "markdown",
   "metadata": {},
   "source": [
    "---\n",
    "***How many solutions does the following equation have?***"
   ]
  },
  {
   "cell_type": "markdown",
   "metadata": {},
   "source": [
    "$$3(x + 5) = -4x + 8$$"
   ]
  },
  {
   "cell_type": "code",
   "execution_count": 11,
   "metadata": {},
   "outputs": [
    {
     "name": "stdout",
     "output_type": "stream",
     "text": [
      "The given equation has exactly one solution: [{x: -1}].\n"
     ]
    }
   ],
   "source": [
    "eq = 3*(x + 5) - (-4*x + 8)\n",
    "\n",
    "print(f\"The given equation has exactly one solution: {sp.solve(eq, dict=true)}.\")"
   ]
  },
  {
   "cell_type": "markdown",
   "metadata": {},
   "source": [
    "$$-9(z + 8) = -9z - 72$$"
   ]
  },
  {
   "cell_type": "code",
   "execution_count": 12,
   "metadata": {},
   "outputs": [
    {
     "name": "stdout",
     "output_type": "stream",
     "text": [
      "The given equation has infinitely many solutions: (0, [])\n"
     ]
    }
   ],
   "source": [
    "eq = -9*(z + 8) - (-9*z - 72)\n",
    "\n",
    "print(f\"The given equation has infinitely many solutions: {eq, sp.solve(eq, dict=true)}\")"
   ]
  },
  {
   "cell_type": "markdown",
   "metadata": {},
   "source": [
    "## **Quiz 3**\n",
    "---"
   ]
  },
  {
   "cell_type": "markdown",
   "metadata": {},
   "source": [
    "***Solve for x***.\\\n",
    "We are given an OR statement. A certain x-value is a solution of the statement if it satisfies either of the inequalities."
   ]
  },
  {
   "cell_type": "markdown",
   "metadata": {},
   "source": [
    ">>\n",
    "**Step-by-step explanation:** \n",
    "$\n",
    "-7x+1 \\geq22 \\qquad \\text{subtract 1 from both sides}\\\\\n",
    "-7x \\geq21 \\qquad \\text{change the signs}\\\\\n",
    "7x \\leq-21 \\qquad \\text{divide both sides by 7}\\\\\n",
    "x \\leq-3\\\\\n",
    "-----------\\\\\n",
    "-10x+41 \\geq81 \\qquad \\text{subtract 41 from both sides}\\\\\n",
    "-10x \\geq40 \\qquad \\text{change the signs}\\\\\n",
    "10x \\leq-40 \\qquad \\text{divide both sides by 10}\\\\\n",
    "x \\leq-4\\\\\n",
    "------------\\\\\n",
    "x\\leq-3 \\ or \\ x \\leq-4 \\ therefore\\ x \\leq-3 \\\\\n",
    "------------\\\\\n",
    "\\text{The union of the solutions of both inequalities is} \\ x \\leq-3\n",
    "$"
   ]
  },
  {
   "cell_type": "markdown",
   "metadata": {},
   "source": [
    "$$-7x + 1 \\ge 22 \\quad \\mbox{OR} \\quad -10x + 41 \\ge 81$$"
   ]
  },
  {
   "cell_type": "code",
   "execution_count": 13,
   "metadata": {},
   "outputs": [
    {
     "data": {
      "image/png": "[encoded data removed]",
      "text/latex": [
       "$\\displaystyle x \\leq -3 \\wedge -\\infty < x$"
      ],
      "text/plain": [
       "x ≤ -3 ∧ -∞ < x"
      ]
     },
     "execution_count": 13,
     "metadata": {},
     "output_type": "execute_result"
    }
   ],
   "source": [
    "reduce_inequalities(-7*x + 1 >= 22, [x])"
   ]
  },
  {
   "cell_type": "code",
   "execution_count": 14,
   "metadata": {},
   "outputs": [
    {
     "data": {
      "image/png": "[encoded data removed]",
      "text/latex": [
       "$\\displaystyle x \\leq -4 \\wedge -\\infty < x$"
      ],
      "text/plain": [
       "x ≤ -4 ∧ -∞ < x"
      ]
     },
     "execution_count": 14,
     "metadata": {},
     "output_type": "execute_result"
    }
   ],
   "source": [
    "reduce_inequalities(-10*x + 41 >= 81, x)"
   ]
  },
  {
   "cell_type": "markdown",
   "metadata": {},
   "source": [
    "***Solve for d***.\n",
    ">>\n",
    "**Step-by-step explanation:** \n",
    "$$\n",
    "\\begin{aligned}\n",
    "-23d+81 & \\leq -98d + 1 \\\\\n",
    "\\\\ -23d & \\leq -98d-80 &(\\text{Subtract } 81 \\text{ from both sides}) \\\\\n",
    "\\\\ 75d & \\leq -80 &(\\text{Add } 98d \\text{ to both sides})\\\\\n",
    "\\\\ d & \\leq -\\dfrac{16}{15} & (\\text{Divide both sides by } 75 \\text{ and simplify})\\\\\n",
    "\\end{aligned}\n",
    "$$"
   ]
  },
  {
   "cell_type": "markdown",
   "metadata": {},
   "source": [
    "$$-23d + 81 \\le -98d + 1$$"
   ]
  },
  {
   "cell_type": "code",
   "execution_count": 15,
   "metadata": {},
   "outputs": [
    {
     "data": {
      "image/png": "[encoded data removed]",
      "text/latex": [
       "$\\displaystyle d \\leq - \\frac{16}{15} \\wedge -\\infty < d$"
      ],
      "text/plain": [
       "    -16          \n",
       "d ≤ ──── ∧ -∞ < d\n",
       "     15          "
      ]
     },
     "execution_count": 15,
     "metadata": {},
     "output_type": "execute_result"
    }
   ],
   "source": [
    "reduce_inequalities(-23*d + 81 <= -98*d + 1)"
   ]
  },
  {
   "cell_type": "markdown",
   "metadata": {},
   "source": [
    "***Solve for x***."
   ]
  },
  {
   "cell_type": "markdown",
   "metadata": {},
   "source": [
    "$$5x - 4 \\ge 12 \\quad \\mbox{AND} \\quad 12x + 5 \\le -4$$"
   ]
  },
  {
   "cell_type": "code",
   "execution_count": 16,
   "metadata": {},
   "outputs": [
    {
     "data": {
      "image/png": "[encoded data removed]",
      "text/latex": [
       "$\\displaystyle \\frac{16}{5} \\leq x \\wedge x < \\infty$"
      ],
      "text/plain": [
       "16/5 ≤ x ∧ x < ∞"
      ]
     },
     "execution_count": 16,
     "metadata": {},
     "output_type": "execute_result"
    }
   ],
   "source": [
    "reduce_inequalities(5*x - 4 >= 12)"
   ]
  },
  {
   "cell_type": "code",
   "execution_count": 17,
   "metadata": {},
   "outputs": [
    {
     "data": {
      "image/png": "[encoded data removed]",
      "text/latex": [
       "$\\displaystyle x \\leq - \\frac{3}{4} \\wedge -\\infty < x$"
      ],
      "text/plain": [
       "x ≤ -3/4 ∧ -∞ < x"
      ]
     },
     "execution_count": 17,
     "metadata": {},
     "output_type": "execute_result"
    }
   ],
   "source": [
    "reduce_inequalities(12*x + 5 <= -4)"
   ]
  },
  {
   "cell_type": "markdown",
   "metadata": {},
   "source": [
    "We are given an AND statement. A certain x-value is a solution of the statement if it satisfies both of the inequalities."
   ]
  },
  {
   "cell_type": "markdown",
   "metadata": {},
   "source": [
    "***Solve for x***."
   ]
  },
  {
   "cell_type": "markdown",
   "metadata": {},
   "source": [
    "$$4x + 4 \\le 9x + 8$$"
   ]
  },
  {
   "cell_type": "code",
   "execution_count": 18,
   "metadata": {},
   "outputs": [
    {
     "data": {
      "image/png": "[encoded data removed]",
      "text/latex": [
       "$\\displaystyle - \\frac{4}{5} \\leq x \\wedge x < \\infty$"
      ],
      "text/plain": [
       "-4/5 ≤ x ∧ x < ∞"
      ]
     },
     "execution_count": 18,
     "metadata": {},
     "output_type": "execute_result"
    }
   ],
   "source": [
    "reduce_inequalities(4*x + 4 <= 9*x + 8)"
   ]
  },
  {
   "cell_type": "markdown",
   "metadata": {},
   "source": [
    "***Solve for x***."
   ]
  },
  {
   "cell_type": "markdown",
   "metadata": {},
   "source": [
    "\n",
    "$$3x - 8 \\le 23 \\quad \\mbox{OR} \\quad -4x + 26 \\ge 6$$"
   ]
  },
  {
   "cell_type": "code",
   "execution_count": 19,
   "metadata": {},
   "outputs": [
    {
     "data": {
      "image/png": "[encoded data removed]",
      "text/latex": [
       "$\\displaystyle x \\leq \\frac{31}{3} \\wedge -\\infty < x$"
      ],
      "text/plain": [
       "x ≤ 31/3 ∧ -∞ < x"
      ]
     },
     "execution_count": 19,
     "metadata": {},
     "output_type": "execute_result"
    }
   ],
   "source": [
    "reduce_inequalities(3*x - 8 <= 23)"
   ]
  },
  {
   "cell_type": "code",
   "execution_count": 20,
   "metadata": {},
   "outputs": [
    {
     "data": {
      "image/png": "[encoded data removed]",
      "text/latex": [
       "$\\displaystyle x \\leq 5 \\wedge -\\infty < x$"
      ],
      "text/plain": [
       "x ≤ 5 ∧ -∞ < x"
      ]
     },
     "execution_count": 20,
     "metadata": {},
     "output_type": "execute_result"
    }
   ],
   "source": [
    "reduce_inequalities(-4*x + 26 >= 6)"
   ]
  }
 ],
 "metadata": {
  "kernelspec": {
   "display_name": "Python 3",
   "language": "python",
   "name": "python3"
  },
  "language_info": {
   "codemirror_mode": {
    "name": "ipython",
    "version": 3
   },
   "file_extension": ".py",
   "mimetype": "text/x-python",
   "name": "python",
   "nbconvert_exporter": "python",
   "pygments_lexer": "ipython3",
   "version": "3.7.6"
  }
 },
 "nbformat": 4,
 "nbformat_minor": 4
}
