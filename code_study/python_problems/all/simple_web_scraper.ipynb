{
 "cells": [
  {
   "cell_type": "code",
   "execution_count": 2,
   "metadata": {},
   "outputs": [],
   "source": [
    "# Create a web scraper in Python from scratch.\n",
    "\n",
    "import requests\n",
    "from bs4 import BeautifulSoup"
   ]
  },
  {
   "cell_type": "code",
   "execution_count": 3,
   "metadata": {},
   "outputs": [],
   "source": [
    "url = 'https://finance.yahoo.com/quote/RUB=X?p=RUB=X&.tsrc=fin-srch'\n",
    "# url = 'https://en.wikipedia.org/wiki/List_of_game_engines'"
   ]
  },
  {
   "cell_type": "code",
   "execution_count": 4,
   "metadata": {},
   "outputs": [
    {
     "name": "stdout",
     "output_type": "stream",
     "text": [
      "USD/RUB Day's Range: 68.625 - 69.511\n"
     ]
    }
   ],
   "source": [
    "content = requests.get(url)\n",
    "soup = BeautifulSoup(content.text, 'html.parser')\n",
    "tags = soup.find_all(id = True, href = True) \n",
    "\n",
    "data_set = soup.find('table', {'class': 'W(100%) M(0) Bdcl(c)'})\n",
    "value = data_set.find('td', {'class': 'Ta(end) Fw(600) Lh(14px)'})\n",
    "\n",
    "# print(data_set)\n",
    "print(f'USD/RUB Day\\'s Range: {value.text}')"
   ]
  },
  {
   "cell_type": "code",
   "execution_count": null,
   "metadata": {},
   "outputs": [],
   "source": []
  }
 ],
 "metadata": {
  "kernelspec": {
   "display_name": "Python 3",
   "language": "python",
   "name": "python3"
  },
  "language_info": {
   "codemirror_mode": {
    "name": "ipython",
    "version": 3
   },
   "file_extension": ".py",
   "mimetype": "text/x-python",
   "name": "python",
   "nbconvert_exporter": "python",
   "pygments_lexer": "ipython3",
   "version": "3.7.6"
  }
 },
 "nbformat": 4,
 "nbformat_minor": 4
}
