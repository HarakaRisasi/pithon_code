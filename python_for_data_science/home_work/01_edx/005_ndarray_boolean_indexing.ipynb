{
 "cells": [
  {
   "cell_type": "code",
   "execution_count": 1,
   "metadata": {},
   "outputs": [],
   "source": [
    "import numpy as np"
   ]
  },
  {
   "cell_type": "code",
   "execution_count": 2,
   "metadata": {},
   "outputs": [
    {
     "name": "stdout",
     "output_type": "stream",
     "text": [
      "[[11 12]\n",
      " [21 22]\n",
      " [31 32]]\n"
     ]
    }
   ],
   "source": [
    "an_array = np.array([[11, 12], [21, 22], [31, 32]])\n",
    "\n",
    "print(an_array)"
   ]
  },
  {
   "cell_type": "code",
   "execution_count": 3,
   "metadata": {},
   "outputs": [
    {
     "data": {
      "text/plain": [
       "array([[False, False],\n",
       "       [ True,  True],\n",
       "       [ True,  True]])"
      ]
     },
     "execution_count": 3,
     "metadata": {},
     "output_type": "execute_result"
    }
   ],
   "source": [
    "# create a filter which will be boolean values for whether each element meets\n",
    "filter = (an_array > 15)\n",
    "\n",
    "filter"
   ]
  },
  {
   "cell_type": "markdown",
   "metadata": {},
   "source": [
    "Notice that the filter is a same size ndarray as an_array which is filled with **True** for each element whose correspondig element in an_array which is greater than 15 and **False** those elements whose value is less than 15."
   ]
  },
  {
   "cell_type": "code",
   "execution_count": 4,
   "metadata": {},
   "outputs": [
    {
     "name": "stdout",
     "output_type": "stream",
     "text": [
      "[21 22 31 32]\n"
     ]
    }
   ],
   "source": [
    "# we can now select just those elements which meet that criteria\n",
    "print(an_array[filter])"
   ]
  },
  {
   "cell_type": "code",
   "execution_count": 5,
   "metadata": {},
   "outputs": [
    {
     "name": "stdout",
     "output_type": "stream",
     "text": [
      "Values which more than 15: an_array[an_array > 15]\n",
      "Values in range 20 to 30: [21 22]\n",
      "All even value from array: [12 22 32]\n"
     ]
    }
   ],
   "source": [
    "# for short\n",
    "print(f'Values which more than 15: an_array[an_array > 15]')\n",
    "\n",
    "# and all value in range\n",
    "print(f'Values in range 20 to 30: {an_array[(an_array > 20) & (an_array < 30)]}')\n",
    "\n",
    "# print all even values\n",
    "print(f'All even value from array: {an_array[an_array % 2 == 0]}')"
   ]
  },
  {
   "cell_type": "markdown",
   "metadata": {},
   "source": [
    "What is particularly useful is that we can actually change elements in the array applying a similar logical filter. Let's **add 100 to all the even values**."
   ]
  },
  {
   "cell_type": "code",
   "execution_count": 6,
   "metadata": {},
   "outputs": [
    {
     "name": "stdout",
     "output_type": "stream",
     "text": [
      "[[ 11 112]\n",
      " [ 21 122]\n",
      " [ 31 132]]\n"
     ]
    }
   ],
   "source": [
    "an_array[an_array % 2 == 0] += 100\n",
    "\n",
    "print(an_array)"
   ]
  }
 ],
 "metadata": {
  "kernelspec": {
   "display_name": "Python 3",
   "language": "python",
   "name": "python3"
  },
  "language_info": {
   "codemirror_mode": {
    "name": "ipython",
    "version": 3
   },
   "file_extension": ".py",
   "mimetype": "text/x-python",
   "name": "python",
   "nbconvert_exporter": "python",
   "pygments_lexer": "ipython3",
   "version": "3.7.4"
  }
 },
 "nbformat": 4,
 "nbformat_minor": 4
}
