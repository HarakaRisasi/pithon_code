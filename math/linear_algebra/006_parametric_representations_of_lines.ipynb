{
 "cells": [
  {
   "cell_type": "markdown",
   "metadata": {},
   "source": [
    "---\n",
    "$\n",
    "\\overrightarrow{V}\n",
    "\\begin{align}\n",
    "    \\begin{bmatrix}\n",
    "    2 \\\\\n",
    "    1\n",
    "    \\end{bmatrix}\n",
    "\\end{align}\n",
    "$"
   ]
  },
  {
   "attachments": {
    "vector_1.png": {
     "image/png": "[encoded data removed]"
    }
   },
   "cell_type": "markdown",
   "metadata": {},
   "source": [
    "![vector_1.png](attachment:vector_1.png)"
   ]
  },
  {
   "cell_type": "markdown",
   "metadata": {},
   "source": [
    "---\n",
    "+All possible vectors then I can create if vector $\\overrightarrow{V}$ multyply times some scalar constant.\n",
    "\n",
    "Define a set:\n",
    "\n",
    "$\n",
    "S = \\{ C * \\overrightarrow{V} |\\ C \\in \\mathbb{R} \\}\n",
    "$\n",
    "\n",
    "C - some scalar constant"
   ]
  },
  {
   "cell_type": "markdown",
   "metadata": {},
   "source": [
    "---"
   ]
  },
  {
   "cell_type": "code",
   "execution_count": 1,
   "metadata": {},
   "outputs": [],
   "source": [
    "import math"
   ]
  },
  {
   "cell_type": "code",
   "execution_count": 24,
   "metadata": {},
   "outputs": [
    {
     "name": "stdout",
     "output_type": "stream",
     "text": [
      "0\n",
      "0\n",
      "0\n",
      "-1\n"
     ]
    }
   ],
   "source": [
    "print(int(-3 / math.sqrt(55)))\n",
    "print(int(-3 / math.sqrt(73)))\n",
    "print(int(-3 / math.sqrt(11)))\n",
    "print(int(-3 / math.sqrt(5)))"
   ]
  },
  {
   "cell_type": "code",
   "execution_count": 23,
   "metadata": {},
   "outputs": [
    {
     "name": "stdout",
     "output_type": "stream",
     "text": [
      "1\n",
      "0\n",
      "2\n",
      "3\n"
     ]
    }
   ],
   "source": [
    "print(int(8 / math.sqrt(55)))\n",
    "print(int(8 / math.sqrt(73)))\n",
    "print(int(8 / math.sqrt(11)))\n",
    "print(int(8 / math.sqrt(5)))"
   ]
  },
  {
   "cell_type": "code",
   "execution_count": null,
   "metadata": {},
   "outputs": [],
   "source": []
  }
 ],
 "metadata": {
  "kernelspec": {
   "display_name": "Python 3",
   "language": "python",
   "name": "python3"
  },
  "language_info": {
   "codemirror_mode": {
    "name": "ipython",
    "version": 3
   },
   "file_extension": ".py",
   "mimetype": "text/x-python",
   "name": "python",
   "nbconvert_exporter": "python",
   "pygments_lexer": "ipython3",
   "version": "3.7.7"
  }
 },
 "nbformat": 4,
 "nbformat_minor": 4
}
