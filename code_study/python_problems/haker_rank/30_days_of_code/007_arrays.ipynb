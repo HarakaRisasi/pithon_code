{
 "cells": [
  {
   "cell_type": "markdown",
   "metadata": {},
   "source": [
    "Возвращает копию указанной строки, с конца которой устранены указанные символы.\\\n",
    "```Python\n",
    "    string.rstrip(string[, chars]) -> str\n",
    "```\n",
    "\n",
    "Строка с символами, которые требуется устранить.\\\n",
    "Если не указана, будут устранены пробельные символы. Это не префикс и не суффикс, это перечисление нужных символов.\n",
    "\n",
    "```Python    \n",
    "    import string\n",
    "    \n",
    "    string.rstrip('abca', 'ac')  # 'ab'\n",
    "```\n",
    "---\n",
    "```Python\n",
    "    '2 5 3 4'.rstrip().split()  # ['2', '5', '3', '4']\n",
    "```\n",
    "---"
   ]
  },
  {
   "cell_type": "code",
   "execution_count": 15,
   "metadata": {},
   "outputs": [
    {
     "name": "stdin",
     "output_type": "stream",
     "text": [
      " 4 3 1 \n"
     ]
    },
    {
     "name": "stdout",
     "output_type": "stream",
     "text": [
      "1 3 4\n"
     ]
    }
   ],
   "source": [
    "if __name__ == '__main__':\n",
    "    n = int(input())\n",
    "    arr = list(map(int, input().rstrip().split()))\n",
    "    \n",
    "    print(' '.join(list(map(str, arr[::-1]))))\n",
    "    "
   ]
  }
 ],
 "metadata": {
  "kernelspec": {
   "display_name": "Python 3",
   "language": "python",
   "name": "python3"
  },
  "language_info": {
   "codemirror_mode": {
    "name": "ipython",
    "version": 3
   },
   "file_extension": ".py",
   "mimetype": "text/x-python",
   "name": "python",
   "nbconvert_exporter": "python",
   "pygments_lexer": "ipython3",
   "version": "3.7.6"
  }
 },
 "nbformat": 4,
 "nbformat_minor": 4
}
