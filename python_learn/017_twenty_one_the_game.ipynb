{
 "cells": [
  {
   "cell_type": "code",
   "execution_count": 1,
   "metadata": {},
   "outputs": [],
   "source": [
    "import numpy as np\n",
    "import secrets\n",
    "\n",
    "dealer_total = 0\n",
    "player_total = 0\n",
    "player_low_aces = 0\n",
    "player_high_aces = 0\n",
    "\n",
    "def ace_value_switch(player_total, A):\n",
    "    if (player_total + A) > 21:\n",
    "        A = 1\n",
    "        player_low_aces += 1\n",
    "    else:\n",
    "        player_high_aces += 1"
   ]
  },
  {
   "cell_type": "code",
   "execution_count": 2,
   "metadata": {},
   "outputs": [],
   "source": [
    "def should_hit(dealer_total, player_total, player_low_aces, player_high_aces):\n",
    "    \"\"\"\n",
    "    Return True if the player should hit (request another card) given the current game\n",
    "    state, or False if the player should stay.\n",
    "    When calculating a hand's total value, we count aces as \"high\" (with value 11) if doing so\n",
    "    doesn't bring the total above 21, otherwise we count them as \"low\" (with value 1).\n",
    "    For example, if the player's hand is {A, A, A, 7}, we will count it as 11 + 1 + 1 + 7,\n",
    "    and therefore set player_total = 20, player_low_aces = 2, player_high_aces = 1.\n",
    "    \"\"\"\n",
    "    return False"
   ]
  },
  {
   "cell_type": "code",
   "execution_count": 9,
   "metadata": {},
   "outputs": [
    {
     "name": "stdout",
     "output_type": "stream",
     "text": [
      "Say:\n",
      "    - 'bet' to get a card.\n",
      "    - 'stay' to stop game\n",
      "    \n",
      "2\n",
      "Add another card?\n"
     ]
    },
    {
     "name": "stdin",
     "output_type": "stream",
     "text": [
      " bet\n"
     ]
    },
    {
     "name": "stdout",
     "output_type": "stream",
     "text": [
      "5\n",
      "Add another card?\n"
     ]
    },
    {
     "name": "stdin",
     "output_type": "stream",
     "text": [
      " bet\n"
     ]
    },
    {
     "name": "stdout",
     "output_type": "stream",
     "text": [
      "11\n",
      "Add another card?\n"
     ]
    },
    {
     "name": "stdin",
     "output_type": "stream",
     "text": [
      " bet\n"
     ]
    },
    {
     "name": "stdout",
     "output_type": "stream",
     "text": [
      "20\n",
      "Add another card?\n"
     ]
    },
    {
     "name": "stdin",
     "output_type": "stream",
     "text": [
      " stay\n"
     ]
    },
    {
     "name": "stdout",
     "output_type": "stream",
     "text": [
      "player score: 20 & dealer score: 30\n"
     ]
    },
    {
     "data": {
      "text/plain": [
       "'You win'"
      ]
     },
     "execution_count": 9,
     "metadata": {},
     "output_type": "execute_result"
    }
   ],
   "source": [
    "def game(player_total, dealer_total):\n",
    "    J = Q = K = 10\n",
    "    A = 11\n",
    "    \n",
    "    running = True        \n",
    "    x = [2, 3, 4, 5, 6, 7, 8, 9, J, Q, K, A]\n",
    "    \n",
    "    print(\"\"\"Say:\n",
    "    - 'bet' to get a card.\n",
    "    - 'stay' to stop game.\n",
    "    \"\"\")\n",
    "    \n",
    "    i = secrets.choice(x)\n",
    "    player_total += i\n",
    "    print(player_total)\n",
    "    \n",
    "    j = secrets.choice(x)\n",
    "    dealer_total += j\n",
    "          \n",
    "    while running:\n",
    "        print(\"Add another card?\")\n",
    "        player_turn = input()\n",
    "        \n",
    "        if player_turn == 'bet':\n",
    "            i = secrets.choice(x)\n",
    "            player_total += i\n",
    "            print(player_total)\n",
    "            j = secrets.choice(x)\n",
    "            dealer_total += j\n",
    "        elif player_turn == 'stay':\n",
    "            print(f\"player score: {player_total} & dealer score: {dealer_total}\")\n",
    "            return \"You win\" if player_total > dealer_total or dealer_total > 21 else \"You lose\" \n",
    "            running = False\n",
    "        else:\n",
    "            print(f\"You made mistake: you said {player_turn}, repeat command\")\n",
    "            \n",
    "    \n",
    "game(player_total, dealer_total)"
   ]
  },
  {
   "cell_type": "markdown",
   "metadata": {},
   "source": [
    "# "
   ]
  }
 ],
 "metadata": {
  "kernelspec": {
   "display_name": "Python 3",
   "language": "python",
   "name": "python3"
  },
  "language_info": {
   "codemirror_mode": {
    "name": "ipython",
    "version": 3
   },
   "file_extension": ".py",
   "mimetype": "text/x-python",
   "name": "python",
   "nbconvert_exporter": "python",
   "pygments_lexer": "ipython3",
   "version": "3.7.6"
  }
 },
 "nbformat": 4,
 "nbformat_minor": 4
}
