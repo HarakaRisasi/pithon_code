{
 "cells": [
  {
   "cell_type": "markdown",
   "metadata": {},
   "source": [
    "### Introduction\n",
    "Plucking the right data out of our data representation is critical to getting work done, as we demonstrated in the exercises.\n",
    "\n",
    "This tutorial will cover different operations we can apply to our data to get the input \"just right\"."
   ]
  },
  {
   "cell_type": "code",
   "execution_count": 1,
   "metadata": {},
   "outputs": [],
   "source": [
    "import pandas as pd"
   ]
  },
  {
   "cell_type": "code",
   "execution_count": 192,
   "metadata": {},
   "outputs": [
    {
     "data": {
      "text/plain": [
       "(144035, 10)"
      ]
     },
     "execution_count": 192,
     "metadata": {},
     "output_type": "execute_result"
    }
   ],
   "source": [
    "# Get data\n",
    "wine_magazine = pd.read_csv('../data/wine_magazine/winemag-data_first150k.csv')\n",
    "wine_magazine.shape"
   ]
  },
  {
   "cell_type": "code",
   "execution_count": 193,
   "metadata": {},
   "outputs": [
    {
     "name": "stdout",
     "output_type": "stream",
     "text": [
      "[14178, 14997, 18800, 19076, 21217, 25151, 30794, 32346, 37674, 38366, 38534, 39099, 39165, 39218, 41212, 44310, 45544, 48624, 48756, 49404, 49747, 51487, 52109, 52294, 52295, 56726, 60731, 61027, 69136, 70922, 70983, 71272, 72141, 72658, 74487, 74535, 75755, 76667, 76938, 77089, 77389, 77746, 77959, 78578, 79433, 79985, 80024, 81560, 81829, 83671, 89674, 93332, 93367, 93943, 102634, 115316, 124294, 128757, 133431, 137107, 137962, 141477]\n"
     ]
    }
   ],
   "source": [
    "# Find error(not a number values) in row of Dataset\n",
    "# Since the correct elements are no more than three characters in length, I will find all that more.\n",
    "x = []\n",
    "for i, j in enumerate(wine_magazine.points):\n",
    "    if len(str(j)) > 3:\n",
    "        x.append(i)\n",
    "#         print(j) # error's row(item) print \n",
    "print(x)    "
   ]
  },
  {
   "cell_type": "code",
   "execution_count": 194,
   "metadata": {},
   "outputs": [],
   "source": [
    "# Drop(delete) row with errors\n",
    "for i in x:\n",
    "    wine_magazine = wine_magazine.drop([i], axis=0)"
   ]
  },
  {
   "cell_type": "code",
   "execution_count": 195,
   "metadata": {},
   "outputs": [],
   "source": [
    "# Drop(delete) not a number values in 'Points' column of 'Wine Magazine' Dataset.\n",
    "wine_magazine = wine_magazine.dropna(subset=['points'])"
   ]
  },
  {
   "cell_type": "code",
   "execution_count": 196,
   "metadata": {},
   "outputs": [],
   "source": [
    "# Change the datatype of one or more columns to numeric\n",
    "wine_magazine[['points', 'price']] = wine_magazine[['points', 'price']].astype(float)"
   ]
  },
  {
   "cell_type": "markdown",
   "metadata": {},
   "source": [
    "### Summary functions\n",
    "\n",
    "Pandas provides many simple \"summary functions\" (not an official name) which restructure the data in some useful way.  \n",
    "For example, consider the `describe()` method:"
   ]
  },
  {
   "cell_type": "code",
   "execution_count": 197,
   "metadata": {},
   "outputs": [
    {
     "data": {
      "text/plain": [
       "count    143968.000000\n",
       "mean         87.884509\n",
       "std           4.024777\n",
       "min          80.000000\n",
       "25%          86.000000\n",
       "50%          88.000000\n",
       "75%          90.000000\n",
       "max         618.000000\n",
       "Name: points, dtype: float64"
      ]
     },
     "execution_count": 197,
     "metadata": {},
     "output_type": "execute_result"
    }
   ],
   "source": [
    "wine_magazine.points.describe()"
   ]
  }
 ],
 "metadata": {
  "kernelspec": {
   "display_name": "Python 3",
   "language": "python",
   "name": "python3"
  },
  "language_info": {
   "codemirror_mode": {
    "name": "ipython",
    "version": 3
   },
   "file_extension": ".py",
   "mimetype": "text/x-python",
   "name": "python",
   "nbconvert_exporter": "python",
   "pygments_lexer": "ipython3",
   "version": "3.7.6"
  }
 },
 "nbformat": 4,
 "nbformat_minor": 4
}
