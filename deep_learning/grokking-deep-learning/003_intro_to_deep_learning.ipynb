{
 "cells": [
  {
   "cell_type": "markdown",
   "metadata": {},
   "source": [
    "### Simple neural network making prediction"
   ]
  },
  {
   "cell_type": "markdown",
   "metadata": {},
   "source": [
    "**So what is a neural network?**<br/>At the moment, this is one or more weighting factors(weight) by which you can multiply the input data and get a prediction."
   ]
  },
  {
   "cell_type": "code",
   "execution_count": 1,
   "metadata": {},
   "outputs": [
    {
     "name": "stdout",
     "output_type": "stream",
     "text": [
      "0.8500000000000001\n"
     ]
    }
   ],
   "source": [
    "# Weight coefficient\n",
    "weight = 0.1\n",
    "\n",
    "def neural_network(input, weight):\n",
    "    '''A neural network uses the operation of multiplication.'''\n",
    "    \n",
    "    # It takes an input data point (in this case 8.5) and multiplies it by a weight factor.\n",
    "    prediction = input * weight\n",
    "    \n",
    "    return prediction\n",
    "\n",
    "# Input data points\n",
    "number_of_toes = [8.5, 9.5, 10, 9] \n",
    "\n",
    "# It takes an input data point == 8.5\n",
    "input = number_of_toes[0]\n",
    "\n",
    "# This is a ready-made forecast.\n",
    "pred = neural_network(input, weight)\n",
    "\n",
    "print(pred)"
   ]
  },
  {
   "cell_type": "markdown",
   "metadata": {},
   "source": [
    "**Weight** is the parameter within a neural network that transforms input data within the network's hidden layers.<br/>As an input enters the node, it gets multiplied by a weight value and the resulting output is either observed, or passed to the next layer in the neural network."
   ]
  },
  {
   "cell_type": "markdown",
   "metadata": {},
   "source": [
    "### Quastions"
   ]
  },
  {
   "cell_type": "markdown",
   "metadata": {},
   "source": [
    "**What is input data?**<br/>This is a number written somewhere in the real world. Usually this is something easily recognizable, for example: today's temperature is air"
   ]
  },
  {
   "cell_type": "markdown",
   "metadata": {},
   "source": [
    "**What is prediction?**<br/>A forecast, or prediction, is what the neural network returns after receiving the input data, for example: “taking into account the indicated temperature, the probability that people will wear warm clothes today is 0%”"
   ]
  },
  {
   "cell_type": "markdown",
   "metadata": {},
   "source": [
    "**Is the prediction always true?**<br/> Not. Sometimes a neural network makes mistakes, but it can learn from them. For example, if the predicted value is too high, it will reduce weight in order to get a lower predicted value next time, and vice versa."
   ]
  },
  {
   "cell_type": "markdown",
   "metadata": {},
   "source": [
    "**How does network learning?**<br/>By trial and error! First she tries to make a prediction.<br/>Then it checks how inflated or underestimated the predicted value was.<br/>Finally, she changes the weight coefficient (up or down) so that the next time she sees the same data, she will get a more accurate forecast."
   ]
  }
 ],
 "metadata": {
  "kernelspec": {
   "display_name": "Python 3",
   "language": "python",
   "name": "python3"
  },
  "language_info": {
   "codemirror_mode": {
    "name": "ipython",
    "version": 3
   },
   "file_extension": ".py",
   "mimetype": "text/x-python",
   "name": "python",
   "nbconvert_exporter": "python",
   "pygments_lexer": "ipython3",
   "version": "3.7.4"
  }
 },
 "nbformat": 4,
 "nbformat_minor": 4
}
