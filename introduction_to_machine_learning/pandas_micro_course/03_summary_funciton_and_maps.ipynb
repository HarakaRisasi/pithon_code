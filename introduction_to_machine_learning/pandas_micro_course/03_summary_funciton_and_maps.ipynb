{
 "cells": [
  {
   "cell_type": "markdown",
   "metadata": {},
   "source": [
    "### Introduction\n",
    "Plucking the right data out of our data representation is critical to getting work done, as we demonstrated in the exercises.\n",
    "\n",
    "This tutorial will cover different operations we can apply to our data to get the input \"just right\"."
   ]
  },
  {
   "cell_type": "code",
   "execution_count": 1,
   "metadata": {},
   "outputs": [],
   "source": [
    "import pandas as pd"
   ]
  },
  {
   "cell_type": "code",
   "execution_count": 30,
   "metadata": {},
   "outputs": [
    {
     "data": {
      "text/plain": [
       "(144035, 10)"
      ]
     },
     "execution_count": 30,
     "metadata": {},
     "output_type": "execute_result"
    }
   ],
   "source": [
    "# Get data\n",
    "wine_catalog = pd.read_csv('../data/wine_catalog/winemag-data_first150k.csv')\n",
    "wine_catalog.shape"
   ]
  },
  {
   "cell_type": "code",
   "execution_count": 31,
   "metadata": {},
   "outputs": [
    {
     "name": "stdout",
     "output_type": "stream",
     "text": [
      "[14178, 14997, 18800, 19076, 21217, 25151, 30794, 32346, 37674, 38366, 38534, 39099, 39165, 39218, 41212, 44310, 45544, 48624, 48756, 49404, 49747, 51487, 52109, 52294, 52295, 56726, 60731, 61027, 69136, 70922, 70983, 71272, 72141, 72658, 74487, 74535, 75755, 76667, 76938, 77089, 77389, 77746, 77959, 78578, 79433, 79985, 80024, 81560, 81829, 83671, 89674, 93332, 93367, 93943, 102634, 115316, 124294, 128757, 133431, 137107, 137962, 141477]\n"
     ]
    }
   ],
   "source": [
    "# Find error(not a number values) in row of Dataset\n",
    "# Since the correct elements are no more than three characters in length, I will find all that more.\n",
    "x = []\n",
    "for i, j in enumerate(wine_catalog.points):\n",
    "    if len(str(j)) > 3:\n",
    "        x.append(i)\n",
    "#         print(j) # error's row(item) print \n",
    "print(x)    "
   ]
  },
  {
   "cell_type": "code",
   "execution_count": 32,
   "metadata": {},
   "outputs": [],
   "source": [
    "# Drop(delete) row with errors\n",
    "for i in x:\n",
    "    wine_catalog = wine_catalog.drop([i], axis=0)"
   ]
  },
  {
   "cell_type": "code",
   "execution_count": 33,
   "metadata": {},
   "outputs": [],
   "source": [
    "# Drop(delete) not a number values in 'Points' column of 'Wine Magazine' Dataset.\n",
    "wine_catalog = wine_catalog.dropna(subset=['points'])"
   ]
  },
  {
   "cell_type": "code",
   "execution_count": 34,
   "metadata": {},
   "outputs": [],
   "source": [
    "# Change the datatype of one or more columns to numeric\n",
    "wine_catalog[['points', 'price']] = wine_catalog[['points', 'price']].astype(float)"
   ]
  },
  {
   "cell_type": "code",
   "execution_count": 35,
   "metadata": {},
   "outputs": [],
   "source": [
    "# Drop(delete) row that over 100 points\n",
    "x = list(wine_catalog.loc[wine_catalog.points > 100].index)\n",
    "for i in x:\n",
    "    wine_catalog = wine_catalog.drop([i], axis=0)"
   ]
  },
  {
   "cell_type": "code",
   "execution_count": 36,
   "metadata": {},
   "outputs": [],
   "source": [
    "wine_catalog.to_csv('../data/wine_catalog/wine_store_dataset.csv') # create a new catalog(clear catalog)"
   ]
  },
  {
   "cell_type": "markdown",
   "metadata": {},
   "source": [
    "### Summary functions\n",
    "\n",
    "Pandas provides many simple \"summary functions\" (not an official name) which restructure the data in some useful way.  \n",
    "For example, consider the `describe()` method:"
   ]
  },
  {
   "cell_type": "code",
   "execution_count": 9,
   "metadata": {},
   "outputs": [
    {
     "data": {
      "text/plain": [
       "count    143965.000000\n",
       "mean         87.873462\n",
       "std           3.216045\n",
       "min          80.000000\n",
       "25%          86.000000\n",
       "50%          88.000000\n",
       "75%          90.000000\n",
       "max         100.000000\n",
       "Name: points, dtype: float64"
      ]
     },
     "execution_count": 9,
     "metadata": {},
     "output_type": "execute_result"
    }
   ],
   "source": [
    "wine_catalog.points.describe()"
   ]
  },
  {
   "cell_type": "code",
   "execution_count": 10,
   "metadata": {},
   "outputs": [
    {
     "name": "stdout",
     "output_type": "stream",
     "text": [
      "['country', 'designation', 'points', 'price', 'province', 'region_1', 'region_2', 'variety', 'winery', 'last_year_points']\n"
     ]
    },
    {
     "data": {
      "text/plain": [
       "count         143963\n",
       "unique           451\n",
       "top       California\n",
       "freq           43765\n",
       "Name: province, dtype: object"
      ]
     },
     "execution_count": 10,
     "metadata": {},
     "output_type": "execute_result"
    }
   ],
   "source": [
    "print(list(wine_catalog.columns)) # get a col. name\n",
    "wine_catalog.province.describe() # another output winth 'describe()' method"
   ]
  },
  {
   "cell_type": "markdown",
   "metadata": {},
   "source": [
    "For example, to see the mean of the points allocted (e.g. how well an averagely rated wine does), we can use the `mean()` function."
   ]
  },
  {
   "cell_type": "code",
   "execution_count": 11,
   "metadata": {},
   "outputs": [
    {
     "data": {
      "text/plain": [
       "87.87346229986456"
      ]
     },
     "execution_count": 11,
     "metadata": {},
     "output_type": "execute_result"
    }
   ],
   "source": [
    "wine_catalog.points.mean()"
   ]
  },
  {
   "cell_type": "markdown",
   "metadata": {},
   "source": [
    "To see a list of unique values we can use the `unique()` function"
   ]
  },
  {
   "cell_type": "code",
   "execution_count": 12,
   "metadata": {},
   "outputs": [
    {
     "data": {
      "text/plain": [
       "452"
      ]
     },
     "execution_count": 12,
     "metadata": {},
     "output_type": "execute_result"
    }
   ],
   "source": [
    "len(wine_catalog.province.unique())"
   ]
  },
  {
   "cell_type": "code",
   "execution_count": 13,
   "metadata": {},
   "outputs": [
    {
     "data": {
      "text/plain": [
       "14582"
      ]
     },
     "execution_count": 13,
     "metadata": {},
     "output_type": "execute_result"
    }
   ],
   "source": [
    "len(sorted(wine_catalog.winery.unique()))"
   ]
  },
  {
   "cell_type": "markdown",
   "metadata": {},
   "source": [
    "`value_counts` maked a list (Dataset series) of unique values and shows us how often items occur in the Dataset."
   ]
  },
  {
   "cell_type": "code",
   "execution_count": 14,
   "metadata": {},
   "outputs": [
    {
     "data": {
      "text/plain": [
       "20.0     7484\n",
       "15.0     6760\n",
       "18.0     5700\n",
       "25.0     5694\n",
       "30.0     5166\n",
       "         ... \n",
       "266.0       1\n",
       "172.0       1\n",
       "151.0       1\n",
       "580.0       1\n",
       "243.0       1\n",
       "Name: price, Length: 351, dtype: int64"
      ]
     },
     "execution_count": 14,
     "metadata": {},
     "output_type": "execute_result"
    }
   ],
   "source": [
    "wine_catalog.price.value_counts()"
   ]
  },
  {
   "cell_type": "code",
   "execution_count": 15,
   "metadata": {},
   "outputs": [],
   "source": [
    "# Find value that repeating less than 10 times\n",
    "winery = []\n",
    "for i in list(wine_catalog.price.value_counts()):\n",
    "    if i < 10:\n",
    "        winery.append(wine_catalog.winery[i])"
   ]
  },
  {
   "cell_type": "code",
   "execution_count": 16,
   "metadata": {},
   "outputs": [
    {
     "data": {
      "text/plain": [
       "['Blue Farm',\n",
       " 'Macauley',\n",
       " 'Bergström',\n",
       " 'Maurodos',\n",
       " 'Numanthia',\n",
       " 'Ponzi',\n",
       " 'Domaine de la Bégude',\n",
       " 'Bodega Carmen Rodríguez']"
      ]
     },
     "execution_count": 16,
     "metadata": {},
     "output_type": "execute_result"
    }
   ],
   "source": [
    "list(set(winery)) # sort a list"
   ]
  },
  {
   "cell_type": "code",
   "execution_count": 17,
   "metadata": {},
   "outputs": [
    {
     "data": {
      "text/plain": [
       "['Blair',\n",
       " 'Krug',\n",
       " 'Château Latour',\n",
       " 'Château Margaux',\n",
       " 'Château La Mission Haut-Brion',\n",
       " 'Château Mouton Rothschild',\n",
       " 'Château Haut-Brion',\n",
       " 'Krug',\n",
       " 'Krug']"
      ]
     },
     "execution_count": 17,
     "metadata": {},
     "output_type": "execute_result"
    }
   ],
   "source": [
    "list(wine_catalog['winery'].loc[wine_catalog.price > 1000]) # winery, whose price by a bottle of wine over 1000$"
   ]
  },
  {
   "cell_type": "code",
   "execution_count": 18,
   "metadata": {},
   "outputs": [
    {
     "data": {
      "text/html": [
       "<div>\n",
       "<style scoped>\n",
       "    .dataframe tbody tr th:only-of-type {\n",
       "        vertical-align: middle;\n",
       "    }\n",
       "\n",
       "    .dataframe tbody tr th {\n",
       "        vertical-align: top;\n",
       "    }\n",
       "\n",
       "    .dataframe thead th {\n",
       "        text-align: right;\n",
       "    }\n",
       "</style>\n",
       "<table border=\"1\" class=\"dataframe\">\n",
       "  <thead>\n",
       "    <tr style=\"text-align: right;\">\n",
       "      <th></th>\n",
       "      <th>country</th>\n",
       "      <th>designation</th>\n",
       "      <th>points</th>\n",
       "      <th>price</th>\n",
       "      <th>province</th>\n",
       "      <th>region_1</th>\n",
       "      <th>region_2</th>\n",
       "      <th>variety</th>\n",
       "      <th>winery</th>\n",
       "      <th>last_year_points</th>\n",
       "    </tr>\n",
       "  </thead>\n",
       "  <tbody>\n",
       "    <tr>\n",
       "      <th>34603</th>\n",
       "      <td>France</td>\n",
       "      <td>NaN</td>\n",
       "      <td>94.0</td>\n",
       "      <td>1000.0</td>\n",
       "      <td>Bordeaux</td>\n",
       "      <td>Pessac-Léognan</td>\n",
       "      <td>NaN</td>\n",
       "      <td>Bordeaux-style White Blend</td>\n",
       "      <td>Château La Mission Haut-Brion</td>\n",
       "      <td>87</td>\n",
       "    </tr>\n",
       "    <tr>\n",
       "      <th>34012</th>\n",
       "      <td>France</td>\n",
       "      <td>NaN</td>\n",
       "      <td>97.0</td>\n",
       "      <td>1100.0</td>\n",
       "      <td>Bordeaux</td>\n",
       "      <td>Pessac-Léognan</td>\n",
       "      <td>NaN</td>\n",
       "      <td>Bordeaux-style Red Blend</td>\n",
       "      <td>Château La Mission Haut-Brion</td>\n",
       "      <td>83</td>\n",
       "    </tr>\n",
       "    <tr>\n",
       "      <th>34027</th>\n",
       "      <td>France</td>\n",
       "      <td>NaN</td>\n",
       "      <td>96.0</td>\n",
       "      <td>1200.0</td>\n",
       "      <td>Bordeaux</td>\n",
       "      <td>Pessac-Léognan</td>\n",
       "      <td>NaN</td>\n",
       "      <td>Bordeaux-style Red Blend</td>\n",
       "      <td>Château Haut-Brion</td>\n",
       "      <td>80</td>\n",
       "    </tr>\n",
       "    <tr>\n",
       "      <th>34024</th>\n",
       "      <td>France</td>\n",
       "      <td>NaN</td>\n",
       "      <td>96.0</td>\n",
       "      <td>1300.0</td>\n",
       "      <td>Bordeaux</td>\n",
       "      <td>Pauillac</td>\n",
       "      <td>NaN</td>\n",
       "      <td>Bordeaux-style Red Blend</td>\n",
       "      <td>Château Mouton Rothschild</td>\n",
       "      <td>92</td>\n",
       "    </tr>\n",
       "    <tr>\n",
       "      <th>25520</th>\n",
       "      <td>France</td>\n",
       "      <td>Clos du Mesnil</td>\n",
       "      <td>100.0</td>\n",
       "      <td>1400.0</td>\n",
       "      <td>Champagne</td>\n",
       "      <td>Champagne</td>\n",
       "      <td>NaN</td>\n",
       "      <td>Chardonnay</td>\n",
       "      <td>Krug</td>\n",
       "      <td>97</td>\n",
       "    </tr>\n",
       "    <tr>\n",
       "      <th>50406</th>\n",
       "      <td>France</td>\n",
       "      <td>Clos du Mesnil</td>\n",
       "      <td>100.0</td>\n",
       "      <td>1400.0</td>\n",
       "      <td>Champagne</td>\n",
       "      <td>Champagne</td>\n",
       "      <td>NaN</td>\n",
       "      <td>Chardonnay</td>\n",
       "      <td>Krug</td>\n",
       "      <td>88</td>\n",
       "    </tr>\n",
       "    <tr>\n",
       "      <th>80484</th>\n",
       "      <td>France</td>\n",
       "      <td>Clos du Mesnil</td>\n",
       "      <td>100.0</td>\n",
       "      <td>1400.0</td>\n",
       "      <td>Champagne</td>\n",
       "      <td>Champagne</td>\n",
       "      <td>NaN</td>\n",
       "      <td>Chardonnay</td>\n",
       "      <td>Krug</td>\n",
       "      <td>81</td>\n",
       "    </tr>\n",
       "    <tr>\n",
       "      <th>34007</th>\n",
       "      <td>France</td>\n",
       "      <td>NaN</td>\n",
       "      <td>98.0</td>\n",
       "      <td>1900.0</td>\n",
       "      <td>Bordeaux</td>\n",
       "      <td>Margaux</td>\n",
       "      <td>NaN</td>\n",
       "      <td>Bordeaux-style Red Blend</td>\n",
       "      <td>Château Margaux</td>\n",
       "      <td>88</td>\n",
       "    </tr>\n",
       "    <tr>\n",
       "      <th>13164</th>\n",
       "      <td>US</td>\n",
       "      <td>Roger Rose Vineyard</td>\n",
       "      <td>91.0</td>\n",
       "      <td>2013.0</td>\n",
       "      <td>California</td>\n",
       "      <td>Arroyo Seco</td>\n",
       "      <td>Central Coast</td>\n",
       "      <td>Chardonnay</td>\n",
       "      <td>Blair</td>\n",
       "      <td>81</td>\n",
       "    </tr>\n",
       "    <tr>\n",
       "      <th>34006</th>\n",
       "      <td>France</td>\n",
       "      <td>NaN</td>\n",
       "      <td>99.0</td>\n",
       "      <td>2300.0</td>\n",
       "      <td>Bordeaux</td>\n",
       "      <td>Pauillac</td>\n",
       "      <td>NaN</td>\n",
       "      <td>Bordeaux-style Red Blend</td>\n",
       "      <td>Château Latour</td>\n",
       "      <td>81</td>\n",
       "    </tr>\n",
       "  </tbody>\n",
       "</table>\n",
       "</div>"
      ],
      "text/plain": [
       "      country          designation  points   price    province  \\\n",
       "34603  France                  NaN    94.0  1000.0    Bordeaux   \n",
       "34012  France                  NaN    97.0  1100.0    Bordeaux   \n",
       "34027  France                  NaN    96.0  1200.0    Bordeaux   \n",
       "34024  France                  NaN    96.0  1300.0    Bordeaux   \n",
       "25520  France       Clos du Mesnil   100.0  1400.0   Champagne   \n",
       "50406  France       Clos du Mesnil   100.0  1400.0   Champagne   \n",
       "80484  France       Clos du Mesnil   100.0  1400.0   Champagne   \n",
       "34007  France                  NaN    98.0  1900.0    Bordeaux   \n",
       "13164      US  Roger Rose Vineyard    91.0  2013.0  California   \n",
       "34006  France                  NaN    99.0  2300.0    Bordeaux   \n",
       "\n",
       "             region_1       region_2                     variety  \\\n",
       "34603  Pessac-Léognan            NaN  Bordeaux-style White Blend   \n",
       "34012  Pessac-Léognan            NaN    Bordeaux-style Red Blend   \n",
       "34027  Pessac-Léognan            NaN    Bordeaux-style Red Blend   \n",
       "34024        Pauillac            NaN    Bordeaux-style Red Blend   \n",
       "25520       Champagne            NaN                  Chardonnay   \n",
       "50406       Champagne            NaN                  Chardonnay   \n",
       "80484       Champagne            NaN                  Chardonnay   \n",
       "34007         Margaux            NaN    Bordeaux-style Red Blend   \n",
       "13164     Arroyo Seco  Central Coast                  Chardonnay   \n",
       "34006        Pauillac            NaN    Bordeaux-style Red Blend   \n",
       "\n",
       "                              winery last_year_points  \n",
       "34603  Château La Mission Haut-Brion               87  \n",
       "34012  Château La Mission Haut-Brion               83  \n",
       "34027             Château Haut-Brion               80  \n",
       "34024      Château Mouton Rothschild               92  \n",
       "25520                           Krug               97  \n",
       "50406                           Krug               88  \n",
       "80484                           Krug               81  \n",
       "34007                Château Margaux               88  \n",
       "13164                          Blair               81  \n",
       "34006                 Château Latour               81  "
      ]
     },
     "execution_count": 18,
     "metadata": {},
     "output_type": "execute_result"
    }
   ],
   "source": [
    "# Sorting values those price great than 1000$\n",
    "x = wine_catalog.loc[wine_catalog.price >= 1000]\n",
    "x.sort_values(by=['price'])"
   ]
  },
  {
   "cell_type": "markdown",
   "metadata": {},
   "source": [
    "### `Series.idxmax` \n",
    "Return index of the maximum element."
   ]
  },
  {
   "cell_type": "code",
   "execution_count": 19,
   "metadata": {},
   "outputs": [
    {
     "name": "stdout",
     "output_type": "stream",
     "text": [
      "24884\n",
      "Bandit\n"
     ]
    },
    {
     "data": {
      "text/plain": [
       "country                           US\n",
       "designation                      NaN\n",
       "points                            86\n",
       "price                              4\n",
       "province                  California\n",
       "region_1                  California\n",
       "region_2            California Other\n",
       "variety                       Merlot\n",
       "winery                        Bandit\n",
       "last_year_points                  97\n",
       "Name: 24884, dtype: object"
      ]
     },
     "execution_count": 19,
     "metadata": {},
     "output_type": "execute_result"
    }
   ],
   "source": [
    "# (a / b).idxmax() >>> Can be used on values that are only obtained by various real-time operations.\n",
    "bargain_idx =  (wine_catalog.points / wine_catalog.price).idxmax()\n",
    "print(bargain_idx)\n",
    "bargain_wine = wine_catalog.loc[bargain_idx, 'winery']\n",
    "print(bargain_wine)\n",
    "\n",
    "wine_catalog.loc[bargain_idx]"
   ]
  },
  {
   "cell_type": "markdown",
   "metadata": {},
   "source": [
    "### Maps\n",
    "\n",
    "### `map()`\n",
    "A `map` is a term, borrowed from mathematics, for a function that takes one set of values and `maps` them to another set of values."
   ]
  },
  {
   "cell_type": "code",
   "execution_count": 20,
   "metadata": {},
   "outputs": [
    {
     "data": {
      "text/plain": [
       "87.87346229986456"
      ]
     },
     "execution_count": 20,
     "metadata": {},
     "output_type": "execute_result"
    }
   ],
   "source": [
    "# df.mean(axis = 1, skipna = True) >>> skipna - skip the NaN values while finding the mean\n",
    "review_points_mean = wine_catalog.points.mean()\n",
    "review_points_mean"
   ]
  },
  {
   "cell_type": "code",
   "execution_count": 21,
   "metadata": {},
   "outputs": [
    {
     "data": {
      "text/plain": [
       "88.0"
      ]
     },
     "execution_count": 21,
     "metadata": {},
     "output_type": "execute_result"
    }
   ],
   "source": [
    "review_points_mean = wine_catalog.points.median()\n",
    "review_points_mean"
   ]
  },
  {
   "cell_type": "code",
   "execution_count": 22,
   "metadata": {},
   "outputs": [
    {
     "data": {
      "text/plain": [
       "0         8.0\n",
       "1         8.0\n",
       "2         8.0\n",
       "3         8.0\n",
       "4         7.0\n",
       "         ... \n",
       "144030    3.0\n",
       "144031    3.0\n",
       "144032    3.0\n",
       "144033    2.0\n",
       "144034    2.0\n",
       "Name: points, Length: 143965, dtype: float64"
      ]
     },
     "execution_count": 22,
     "metadata": {},
     "output_type": "execute_result"
    }
   ],
   "source": [
    "wine_catalog.points.map(lambda i: i - review_points_mean) # `i` is an each element in `points` series"
   ]
  },
  {
   "cell_type": "markdown",
   "metadata": {},
   "source": [
    "The function you pass to `map()` should expect a single value from the Series (a point value, in the above example), and return a transformed version of that value.  \n",
    "`map()` returns a new Series where all the values have been transformed by your function."
   ]
  },
  {
   "cell_type": "markdown",
   "metadata": {},
   "source": [
    "### `apply()`\n",
    "`apply()` is the equivalent method if we want to transform a whole DataFrame by calling a custom method on each row."
   ]
  },
  {
   "cell_type": "code",
   "execution_count": 23,
   "metadata": {},
   "outputs": [
    {
     "data": {
      "text/html": [
       "<div>\n",
       "<style scoped>\n",
       "    .dataframe tbody tr th:only-of-type {\n",
       "        vertical-align: middle;\n",
       "    }\n",
       "\n",
       "    .dataframe tbody tr th {\n",
       "        vertical-align: top;\n",
       "    }\n",
       "\n",
       "    .dataframe thead th {\n",
       "        text-align: right;\n",
       "    }\n",
       "</style>\n",
       "<table border=\"1\" class=\"dataframe\">\n",
       "  <thead>\n",
       "    <tr style=\"text-align: right;\">\n",
       "      <th></th>\n",
       "      <th>country</th>\n",
       "      <th>designation</th>\n",
       "      <th>points</th>\n",
       "      <th>price</th>\n",
       "      <th>province</th>\n",
       "      <th>region_1</th>\n",
       "      <th>region_2</th>\n",
       "      <th>variety</th>\n",
       "      <th>winery</th>\n",
       "      <th>last_year_points</th>\n",
       "    </tr>\n",
       "  </thead>\n",
       "  <tbody>\n",
       "    <tr>\n",
       "      <th>0</th>\n",
       "      <td>US</td>\n",
       "      <td>Martha's Vineyard</td>\n",
       "      <td>8.0</td>\n",
       "      <td>235.0</td>\n",
       "      <td>California</td>\n",
       "      <td>Napa Valley</td>\n",
       "      <td>Napa</td>\n",
       "      <td>Cabernet Sauvignon</td>\n",
       "      <td>Heitz</td>\n",
       "      <td>94</td>\n",
       "    </tr>\n",
       "    <tr>\n",
       "      <th>1</th>\n",
       "      <td>Spain</td>\n",
       "      <td>Carodorum Selección Especial Reserva</td>\n",
       "      <td>8.0</td>\n",
       "      <td>110.0</td>\n",
       "      <td>Northern Spain</td>\n",
       "      <td>Toro</td>\n",
       "      <td>NaN</td>\n",
       "      <td>Tinta de Toro</td>\n",
       "      <td>Bodega Carmen Rodríguez</td>\n",
       "      <td>92</td>\n",
       "    </tr>\n",
       "    <tr>\n",
       "      <th>2</th>\n",
       "      <td>US</td>\n",
       "      <td>Special Selected Late Harvest</td>\n",
       "      <td>8.0</td>\n",
       "      <td>90.0</td>\n",
       "      <td>California</td>\n",
       "      <td>Knights Valley</td>\n",
       "      <td>Sonoma</td>\n",
       "      <td>Sauvignon Blanc</td>\n",
       "      <td>Macauley</td>\n",
       "      <td>100</td>\n",
       "    </tr>\n",
       "    <tr>\n",
       "      <th>3</th>\n",
       "      <td>US</td>\n",
       "      <td>Reserve</td>\n",
       "      <td>8.0</td>\n",
       "      <td>65.0</td>\n",
       "      <td>Oregon</td>\n",
       "      <td>Willamette Valley</td>\n",
       "      <td>Willamette Valley</td>\n",
       "      <td>Pinot Noir</td>\n",
       "      <td>Ponzi</td>\n",
       "      <td>94</td>\n",
       "    </tr>\n",
       "    <tr>\n",
       "      <th>4</th>\n",
       "      <td>France</td>\n",
       "      <td>La Brûlade</td>\n",
       "      <td>7.0</td>\n",
       "      <td>66.0</td>\n",
       "      <td>Provence</td>\n",
       "      <td>Bandol</td>\n",
       "      <td>NaN</td>\n",
       "      <td>Provence red blend</td>\n",
       "      <td>Domaine de la Bégude</td>\n",
       "      <td>94</td>\n",
       "    </tr>\n",
       "    <tr>\n",
       "      <th>...</th>\n",
       "      <td>...</td>\n",
       "      <td>...</td>\n",
       "      <td>...</td>\n",
       "      <td>...</td>\n",
       "      <td>...</td>\n",
       "      <td>...</td>\n",
       "      <td>...</td>\n",
       "      <td>...</td>\n",
       "      <td>...</td>\n",
       "      <td>...</td>\n",
       "    </tr>\n",
       "    <tr>\n",
       "      <th>144030</th>\n",
       "      <td>Italy</td>\n",
       "      <td>NaN</td>\n",
       "      <td>3.0</td>\n",
       "      <td>20.0</td>\n",
       "      <td>Southern Italy</td>\n",
       "      <td>Fiano di Avellino</td>\n",
       "      <td>NaN</td>\n",
       "      <td>White Blend</td>\n",
       "      <td>Feudi di San Gregorio</td>\n",
       "      <td>84</td>\n",
       "    </tr>\n",
       "    <tr>\n",
       "      <th>144031</th>\n",
       "      <td>France</td>\n",
       "      <td>Cuvée Prestige</td>\n",
       "      <td>3.0</td>\n",
       "      <td>27.0</td>\n",
       "      <td>Champagne</td>\n",
       "      <td>Champagne</td>\n",
       "      <td>NaN</td>\n",
       "      <td>Champagne Blend</td>\n",
       "      <td>H.Germain</td>\n",
       "      <td>83</td>\n",
       "    </tr>\n",
       "    <tr>\n",
       "      <th>144032</th>\n",
       "      <td>Italy</td>\n",
       "      <td>Terre di Dora</td>\n",
       "      <td>3.0</td>\n",
       "      <td>20.0</td>\n",
       "      <td>Southern Italy</td>\n",
       "      <td>Fiano di Avellino</td>\n",
       "      <td>NaN</td>\n",
       "      <td>White Blend</td>\n",
       "      <td>Terredora</td>\n",
       "      <td>97</td>\n",
       "    </tr>\n",
       "    <tr>\n",
       "      <th>144033</th>\n",
       "      <td>France</td>\n",
       "      <td>Grand Brut Rosé</td>\n",
       "      <td>2.0</td>\n",
       "      <td>52.0</td>\n",
       "      <td>Champagne</td>\n",
       "      <td>Champagne</td>\n",
       "      <td>NaN</td>\n",
       "      <td>Champagne Blend</td>\n",
       "      <td>Gosset</td>\n",
       "      <td>89</td>\n",
       "    </tr>\n",
       "    <tr>\n",
       "      <th>144034</th>\n",
       "      <td>Italy</td>\n",
       "      <td>NaN</td>\n",
       "      <td>2.0</td>\n",
       "      <td>15.0</td>\n",
       "      <td>Northeastern Italy</td>\n",
       "      <td>Alto Adige</td>\n",
       "      <td>NaN</td>\n",
       "      <td>Pinot Grigio</td>\n",
       "      <td>Alois Lageder</td>\n",
       "      <td>82</td>\n",
       "    </tr>\n",
       "  </tbody>\n",
       "</table>\n",
       "<p>143965 rows × 10 columns</p>\n",
       "</div>"
      ],
      "text/plain": [
       "       country                           designation  points  price  \\\n",
       "0           US                     Martha's Vineyard     8.0  235.0   \n",
       "1        Spain  Carodorum Selección Especial Reserva     8.0  110.0   \n",
       "2           US         Special Selected Late Harvest     8.0   90.0   \n",
       "3           US                               Reserve     8.0   65.0   \n",
       "4       France                            La Brûlade     7.0   66.0   \n",
       "...        ...                                   ...     ...    ...   \n",
       "144030   Italy                                   NaN     3.0   20.0   \n",
       "144031  France                        Cuvée Prestige     3.0   27.0   \n",
       "144032   Italy                         Terre di Dora     3.0   20.0   \n",
       "144033  France                       Grand Brut Rosé     2.0   52.0   \n",
       "144034   Italy                                   NaN     2.0   15.0   \n",
       "\n",
       "                  province           region_1           region_2  \\\n",
       "0               California        Napa Valley               Napa   \n",
       "1           Northern Spain               Toro                NaN   \n",
       "2               California     Knights Valley             Sonoma   \n",
       "3                   Oregon  Willamette Valley  Willamette Valley   \n",
       "4                 Provence             Bandol                NaN   \n",
       "...                    ...                ...                ...   \n",
       "144030      Southern Italy  Fiano di Avellino                NaN   \n",
       "144031           Champagne          Champagne                NaN   \n",
       "144032      Southern Italy  Fiano di Avellino                NaN   \n",
       "144033           Champagne          Champagne                NaN   \n",
       "144034  Northeastern Italy         Alto Adige                NaN   \n",
       "\n",
       "                   variety                   winery last_year_points  \n",
       "0       Cabernet Sauvignon                    Heitz               94  \n",
       "1            Tinta de Toro  Bodega Carmen Rodríguez               92  \n",
       "2          Sauvignon Blanc                 Macauley              100  \n",
       "3               Pinot Noir                    Ponzi               94  \n",
       "4       Provence red blend     Domaine de la Bégude               94  \n",
       "...                    ...                      ...              ...  \n",
       "144030         White Blend    Feudi di San Gregorio               84  \n",
       "144031     Champagne Blend                H.Germain               83  \n",
       "144032         White Blend                Terredora               97  \n",
       "144033     Champagne Blend                   Gosset               89  \n",
       "144034        Pinot Grigio            Alois Lageder               82  \n",
       "\n",
       "[143965 rows x 10 columns]"
      ]
     },
     "execution_count": 23,
     "metadata": {},
     "output_type": "execute_result"
    }
   ],
   "source": [
    "def remean_points(row):\n",
    "    row.points -= review_points_mean # 94.0 - 87.87346229986456\n",
    "    return row\n",
    "\n",
    "wine_catalog.apply(remean_points, axis='columns')"
   ]
  },
  {
   "cell_type": "markdown",
   "metadata": {},
   "source": [
    "### Finding the same word\n",
    "Creating a `Series` counting how many times a word appears in `variety` column in the Dataset."
   ]
  },
  {
   "cell_type": "code",
   "execution_count": 24,
   "metadata": {},
   "outputs": [
    {
     "data": {
      "text/plain": [
       "Pinot    17232\n",
       "dtype: int64"
      ]
     },
     "execution_count": 24,
     "metadata": {},
     "output_type": "execute_result"
    }
   ],
   "source": [
    "n_word = wine_catalog.variety.map(lambda i: 'Pinot' in i).sum()\n",
    "descriptor_counts = pd.Series([n_word], index=['Pinot'])\n",
    "descriptor_counts"
   ]
  },
  {
   "cell_type": "code",
   "execution_count": 25,
   "metadata": {},
   "outputs": [
    {
     "data": {
      "text/plain": [
       "0                  US-Napa Valley\n",
       "1                      Spain-Toro\n",
       "2               US-Knights Valley\n",
       "3            US-Willamette Valley\n",
       "4                   France-Bandol\n",
       "                   ...           \n",
       "144030    Italy-Fiano di Avellino\n",
       "144031           France-Champagne\n",
       "144032    Italy-Fiano di Avellino\n",
       "144033           France-Champagne\n",
       "144034           Italy-Alto Adige\n",
       "Length: 143965, dtype: object"
      ]
     },
     "execution_count": 25,
     "metadata": {},
     "output_type": "execute_result"
    }
   ],
   "source": [
    "wine_catalog.country + '-' + wine_catalog.region_1"
   ]
  },
  {
   "cell_type": "markdown",
   "metadata": {},
   "source": [
    "### Dataframe or series (if, else and loc)"
   ]
  },
  {
   "cell_type": "code",
   "execution_count": 26,
   "metadata": {},
   "outputs": [
    {
     "data": {
      "text/plain": [
       "0         3\n",
       "1         3\n",
       "2         3\n",
       "3         3\n",
       "4         3\n",
       "         ..\n",
       "144030    2\n",
       "144031    2\n",
       "144032    2\n",
       "144033    2\n",
       "144034    2\n",
       "Length: 143965, dtype: int64"
      ]
     },
     "execution_count": 26,
     "metadata": {},
     "output_type": "execute_result"
    }
   ],
   "source": [
    "# We'd like to host these wine reviews on our website,  \n",
    "# but a rating system ranging from 80 to 100 points is too hard to understand - we'd like to translate them into simple star ratings.  \n",
    "# A score of 95 or higher counts as 3 stars, a score of at least 85 but less than 95 is 2 stars. Any other score is 1 star.\n",
    "\n",
    "# Also, the Canadian Vintners Association bought a lot of ads on the site,  \n",
    "# so any wines from Canada should automatically get 3 stars, regardless of points.\n",
    "\n",
    "# Create a series star_ratings with the number of stars corresponding to each review in the dataset.\n",
    "\n",
    "def stars(row):\n",
    "    if row.country == 'Canada':\n",
    "        return 4\n",
    "    elif row.points >= 95:\n",
    "        return 3\n",
    "    elif row.points >= 85:\n",
    "        return 2\n",
    "    else:\n",
    "        return 1\n",
    "\n",
    "star_ratings = wine_catalog.apply(stars, axis='columns')\n",
    "star_ratings"
   ]
  },
  {
   "cell_type": "code",
   "execution_count": 27,
   "metadata": {},
   "outputs": [
    {
     "data": {
      "text/html": [
       "<div>\n",
       "<style scoped>\n",
       "    .dataframe tbody tr th:only-of-type {\n",
       "        vertical-align: middle;\n",
       "    }\n",
       "\n",
       "    .dataframe tbody tr th {\n",
       "        vertical-align: top;\n",
       "    }\n",
       "\n",
       "    .dataframe thead th {\n",
       "        text-align: right;\n",
       "    }\n",
       "</style>\n",
       "<table border=\"1\" class=\"dataframe\">\n",
       "  <thead>\n",
       "    <tr style=\"text-align: right;\">\n",
       "      <th></th>\n",
       "      <th>country</th>\n",
       "      <th>designation</th>\n",
       "      <th>points</th>\n",
       "      <th>price</th>\n",
       "      <th>province</th>\n",
       "      <th>region_1</th>\n",
       "      <th>region_2</th>\n",
       "      <th>variety</th>\n",
       "      <th>winery</th>\n",
       "      <th>last_year_points</th>\n",
       "    </tr>\n",
       "  </thead>\n",
       "  <tbody>\n",
       "    <tr>\n",
       "      <th>1522</th>\n",
       "      <td>Argentina</td>\n",
       "      <td>Clásico</td>\n",
       "      <td>84.0</td>\n",
       "      <td>12.0</td>\n",
       "      <td>Mendoza Province</td>\n",
       "      <td>Mendoza</td>\n",
       "      <td>NaN</td>\n",
       "      <td>Malbec</td>\n",
       "      <td>Altos Las Hormigas</td>\n",
       "      <td>94</td>\n",
       "    </tr>\n",
       "    <tr>\n",
       "      <th>1523</th>\n",
       "      <td>Portugal</td>\n",
       "      <td>NaN</td>\n",
       "      <td>84.0</td>\n",
       "      <td>18.0</td>\n",
       "      <td>Alentejano</td>\n",
       "      <td>NaN</td>\n",
       "      <td>NaN</td>\n",
       "      <td>Rosé</td>\n",
       "      <td>Dona Maria-Júlio Bastos</td>\n",
       "      <td>99</td>\n",
       "    </tr>\n",
       "    <tr>\n",
       "      <th>1524</th>\n",
       "      <td>Portugal</td>\n",
       "      <td>NaN</td>\n",
       "      <td>84.0</td>\n",
       "      <td>NaN</td>\n",
       "      <td>Tejo</td>\n",
       "      <td>NaN</td>\n",
       "      <td>NaN</td>\n",
       "      <td>Sauvignon Blanc</td>\n",
       "      <td>Quinta da Alorna</td>\n",
       "      <td>87</td>\n",
       "    </tr>\n",
       "    <tr>\n",
       "      <th>1525</th>\n",
       "      <td>US</td>\n",
       "      <td>Bianca's White</td>\n",
       "      <td>84.0</td>\n",
       "      <td>15.0</td>\n",
       "      <td>California</td>\n",
       "      <td>Napa Valley</td>\n",
       "      <td>Napa</td>\n",
       "      <td>Sauvignon Blanc-Semillon</td>\n",
       "      <td>Napa by N.A.P.A.</td>\n",
       "      <td>82</td>\n",
       "    </tr>\n",
       "    <tr>\n",
       "      <th>1526</th>\n",
       "      <td>Portugal</td>\n",
       "      <td>Senses</td>\n",
       "      <td>84.0</td>\n",
       "      <td>13.0</td>\n",
       "      <td>Alentejano</td>\n",
       "      <td>NaN</td>\n",
       "      <td>NaN</td>\n",
       "      <td>Alvarinho</td>\n",
       "      <td>Adega Cooperativa de Borba</td>\n",
       "      <td>82</td>\n",
       "    </tr>\n",
       "    <tr>\n",
       "      <th>...</th>\n",
       "      <td>...</td>\n",
       "      <td>...</td>\n",
       "      <td>...</td>\n",
       "      <td>...</td>\n",
       "      <td>...</td>\n",
       "      <td>...</td>\n",
       "      <td>...</td>\n",
       "      <td>...</td>\n",
       "      <td>...</td>\n",
       "      <td>...</td>\n",
       "    </tr>\n",
       "    <tr>\n",
       "      <th>144009</th>\n",
       "      <td>Chile</td>\n",
       "      <td>Prima Reserva</td>\n",
       "      <td>81.0</td>\n",
       "      <td>13.0</td>\n",
       "      <td>Maipo Valley</td>\n",
       "      <td>NaN</td>\n",
       "      <td>NaN</td>\n",
       "      <td>Cabernet Sauvignon</td>\n",
       "      <td>De Martino</td>\n",
       "      <td>94</td>\n",
       "    </tr>\n",
       "    <tr>\n",
       "      <th>144010</th>\n",
       "      <td>Chile</td>\n",
       "      <td>Reserva</td>\n",
       "      <td>81.0</td>\n",
       "      <td>12.0</td>\n",
       "      <td>Maipo Valley</td>\n",
       "      <td>NaN</td>\n",
       "      <td>NaN</td>\n",
       "      <td>Merlot</td>\n",
       "      <td>Undurraga</td>\n",
       "      <td>84</td>\n",
       "    </tr>\n",
       "    <tr>\n",
       "      <th>144011</th>\n",
       "      <td>Chile</td>\n",
       "      <td>Estate Bottled</td>\n",
       "      <td>81.0</td>\n",
       "      <td>10.0</td>\n",
       "      <td>Maipo Valley</td>\n",
       "      <td>NaN</td>\n",
       "      <td>NaN</td>\n",
       "      <td>Chardonnay</td>\n",
       "      <td>De Martino</td>\n",
       "      <td>89</td>\n",
       "    </tr>\n",
       "    <tr>\n",
       "      <th>144012</th>\n",
       "      <td>Chile</td>\n",
       "      <td>120</td>\n",
       "      <td>81.0</td>\n",
       "      <td>7.0</td>\n",
       "      <td>Rapel Valley</td>\n",
       "      <td>NaN</td>\n",
       "      <td>NaN</td>\n",
       "      <td>Cabernet Sauvignon</td>\n",
       "      <td>Santa Rita</td>\n",
       "      <td>83</td>\n",
       "    </tr>\n",
       "    <tr>\n",
       "      <th>144013</th>\n",
       "      <td>Chile</td>\n",
       "      <td>Prima Reserva</td>\n",
       "      <td>80.0</td>\n",
       "      <td>13.0</td>\n",
       "      <td>Maipo Valley</td>\n",
       "      <td>NaN</td>\n",
       "      <td>NaN</td>\n",
       "      <td>Merlot</td>\n",
       "      <td>De Martino</td>\n",
       "      <td>80</td>\n",
       "    </tr>\n",
       "  </tbody>\n",
       "</table>\n",
       "<p>22198 rows × 10 columns</p>\n",
       "</div>"
      ],
      "text/plain": [
       "          country     designation  points  price          province  \\\n",
       "1522    Argentina         Clásico    84.0   12.0  Mendoza Province   \n",
       "1523     Portugal             NaN    84.0   18.0        Alentejano   \n",
       "1524     Portugal             NaN    84.0    NaN              Tejo   \n",
       "1525           US  Bianca's White    84.0   15.0        California   \n",
       "1526     Portugal          Senses    84.0   13.0        Alentejano   \n",
       "...           ...             ...     ...    ...               ...   \n",
       "144009      Chile   Prima Reserva    81.0   13.0      Maipo Valley   \n",
       "144010      Chile         Reserva    81.0   12.0      Maipo Valley   \n",
       "144011      Chile  Estate Bottled    81.0   10.0      Maipo Valley   \n",
       "144012      Chile             120    81.0    7.0      Rapel Valley   \n",
       "144013      Chile   Prima Reserva    80.0   13.0      Maipo Valley   \n",
       "\n",
       "           region_1 region_2                   variety  \\\n",
       "1522        Mendoza      NaN                    Malbec   \n",
       "1523            NaN      NaN                      Rosé   \n",
       "1524            NaN      NaN           Sauvignon Blanc   \n",
       "1525    Napa Valley     Napa  Sauvignon Blanc-Semillon   \n",
       "1526            NaN      NaN                 Alvarinho   \n",
       "...             ...      ...                       ...   \n",
       "144009          NaN      NaN        Cabernet Sauvignon   \n",
       "144010          NaN      NaN                    Merlot   \n",
       "144011          NaN      NaN                Chardonnay   \n",
       "144012          NaN      NaN        Cabernet Sauvignon   \n",
       "144013          NaN      NaN                    Merlot   \n",
       "\n",
       "                            winery last_year_points  \n",
       "1522            Altos Las Hormigas               94  \n",
       "1523       Dona Maria-Júlio Bastos               99  \n",
       "1524              Quinta da Alorna               87  \n",
       "1525              Napa by N.A.P.A.               82  \n",
       "1526    Adega Cooperativa de Borba               82  \n",
       "...                            ...              ...  \n",
       "144009                  De Martino               94  \n",
       "144010                   Undurraga               84  \n",
       "144011                  De Martino               89  \n",
       "144012                  Santa Rita               83  \n",
       "144013                  De Martino               80  \n",
       "\n",
       "[22198 rows x 10 columns]"
      ]
     },
     "execution_count": 27,
     "metadata": {},
     "output_type": "execute_result"
    }
   ],
   "source": [
    "# We'd like to host these wine reviews on our website,  \n",
    "# but a rating system ranging from 80 to 100 points is too hard to understand - we'd like to translate them into simple star ratings.  \n",
    "# A score of 95 or higher counts as 3 stars, a score of at least 85 but less than 95 is 2 stars. Any other score is 1 star.\n",
    "\n",
    "# Also, the Canadian Vintners Association bought a lot of ads on the site,  \n",
    "# so any wines from Canada should automatically get 3 stars, regardless of points.\n",
    "\n",
    "# Create a series star_ratings with the number of stars corresponding to each review in the dataset.\n",
    "def star_rating():\n",
    "    \n",
    "    x = wine_catalog.points\n",
    "    y = wine_catalog\n",
    "    \n",
    "    y.loc[x >= 95, 'points'] = 3\n",
    "    \n",
    "    y.loc[(x >= 85) & (x < 95), 'points'] = 2\n",
    "    \n",
    "    y.loc[(x < 80), 'points'] = 1\n",
    "    \n",
    "    return y\n",
    "    \n",
    "star_ratings = star_rating()\n",
    "star_ratings.loc[star_ratings.points > 4]"
   ]
  },
  {
   "cell_type": "code",
   "execution_count": 28,
   "metadata": {},
   "outputs": [
    {
     "ename": "ValueError",
     "evalue": "The truth value of a DataFrame is ambiguous. Use a.empty, a.bool(), a.item(), a.any() or a.all().",
     "output_type": "error",
     "traceback": [
      "\u001b[1;31m---------------------------------------------------------------------------\u001b[0m",
      "\u001b[1;31mValueError\u001b[0m                                Traceback (most recent call last)",
      "\u001b[1;32m<ipython-input-28-18ce72203c85>\u001b[0m in \u001b[0;36m<module>\u001b[1;34m\u001b[0m\n\u001b[0;32m      5\u001b[0m                     )\n\u001b[0;32m      6\u001b[0m \u001b[1;33m\u001b[0m\u001b[0m\n\u001b[1;32m----> 7\u001b[1;33m \u001b[0m__nonzero__\u001b[0m\u001b[1;33m(\u001b[0m\u001b[0mx\u001b[0m\u001b[1;33m)\u001b[0m\u001b[1;33m\u001b[0m\u001b[1;33m\u001b[0m\u001b[0m\n\u001b[0m",
      "\u001b[1;32m<ipython-input-28-18ce72203c85>\u001b[0m in \u001b[0;36m__nonzero__\u001b[1;34m(self)\u001b[0m\n\u001b[0;32m      1\u001b[0m \u001b[1;31m# The first mistake I wrote\u001b[0m\u001b[1;33m\u001b[0m\u001b[1;33m\u001b[0m\u001b[1;33m\u001b[0m\u001b[0m\n\u001b[0;32m      2\u001b[0m \u001b[1;32mdef\u001b[0m \u001b[0m__nonzero__\u001b[0m\u001b[1;33m(\u001b[0m\u001b[0mself\u001b[0m\u001b[1;33m)\u001b[0m\u001b[1;33m:\u001b[0m\u001b[1;33m\u001b[0m\u001b[1;33m\u001b[0m\u001b[0m\n\u001b[1;32m----> 3\u001b[1;33m     raise ValueError(f\"The truth value of a {type(self).__name__} is ambiguous. \"\n\u001b[0m\u001b[0;32m      4\u001b[0m                      \u001b[1;34m\"Use a.empty, a.bool(), a.item(), a.any() or a.all().\"\u001b[0m\u001b[1;33m\u001b[0m\u001b[1;33m\u001b[0m\u001b[0m\n\u001b[0;32m      5\u001b[0m                     )\n",
      "\u001b[1;31mValueError\u001b[0m: The truth value of a DataFrame is ambiguous. Use a.empty, a.bool(), a.item(), a.any() or a.all()."
     ]
    }
   ],
   "source": [
    "# The first mistake I wrote\n",
    "def __nonzero__(self):\n",
    "    raise ValueError(f\"The truth value of a {type(self).__name__} is ambiguous. \"\n",
    "                     \"Use a.empty, a.bool(), a.item(), a.any() or a.all().\"\n",
    "                    )\n",
    "    \n",
    "__nonzero__(x)"
   ]
  }
 ],
 "metadata": {
  "kernelspec": {
   "display_name": "Python 3",
   "language": "python",
   "name": "python3"
  },
  "language_info": {
   "codemirror_mode": {
    "name": "ipython",
    "version": 3
   },
   "file_extension": ".py",
   "mimetype": "text/x-python",
   "name": "python",
   "nbconvert_exporter": "python",
   "pygments_lexer": "ipython3",
   "version": "3.7.6"
  }
 },
 "nbformat": 4,
 "nbformat_minor": 4
}
