{
 "cells": [
  {
   "cell_type": "markdown",
   "metadata": {},
   "source": [
    "---\n",
    "> # **The N-dimensional array** (_ndarray_)\n",
    "---"
   ]
  },
  {
   "cell_type": "markdown",
   "metadata": {},
   "source": [
    "An ndarray is a (usually fixed-size) multidimensional container of items of the same type and size. \n",
    "</br>Основным объектом **NumPy** является однородный многомерный массив (**в numpy называется numpy.ndarray**).</br>Это многомерный массив элементов (обычно чисел), одного типа.\n"
   ]
  },
  {
   "cell_type": "code",
   "execution_count": 1,
   "metadata": {},
   "outputs": [
    {
     "name": "stdout",
     "output_type": "stream",
     "text": [
      "<class 'numpy.ndarray'>\n"
     ]
    }
   ],
   "source": [
    "import numpy as np\n",
    "\n",
    "an_array = np.array([3, 33, 333]) # create a rank 1 array\n",
    "\n",
    "print(type(an_array)) # the type of an ndarray is: <class 'numpy.ndarray'>"
   ]
  },
  {
   "cell_type": "code",
   "execution_count": 2,
   "metadata": {},
   "outputs": [
    {
     "name": "stdout",
     "output_type": "stream",
     "text": [
      "(3,)\n"
     ]
    }
   ],
   "source": [
    "# test the shape of the array we just created, it should have just one dimension\n",
    "print(an_array.shape)"
   ]
  },
  {
   "cell_type": "code",
   "execution_count": 3,
   "metadata": {},
   "outputs": [
    {
     "name": "stdout",
     "output_type": "stream",
     "text": [
      "3 33 333\n"
     ]
    }
   ],
   "source": [
    "# because this is a 1-rank array, we need only one index to access rach element\n",
    "print(an_array[0], an_array[1], an_array[2])"
   ]
  },
  {
   "cell_type": "code",
   "execution_count": 4,
   "metadata": {},
   "outputs": [
    {
     "name": "stdout",
     "output_type": "stream",
     "text": [
      "[888  33 333]\n"
     ]
    }
   ],
   "source": [
    "an_array[0] = 888\n",
    "\n",
    "print(an_array)"
   ]
  },
  {
   "cell_type": "markdown",
   "metadata": {},
   "source": [
    "### **How to create a Rank 2 numpy array:**"
   ]
  },
  {
   "cell_type": "markdown",
   "metadata": {},
   "source": [
    "A rank 2 **ndarray** is one with two dimensions. Notice the format below of **[[row, [row]]**.</br>2 dimensional arrays are great for representing matrices which are oftern useful in data dcience."
   ]
  },
  {
   "cell_type": "code",
   "execution_count": 5,
   "metadata": {},
   "outputs": [
    {
     "name": "stdout",
     "output_type": "stream",
     "text": [
      "[[11 12 13]\n",
      " [21 22 23]]\n",
      "The shape is 2 rows, 3 columns:  (2, 3)\n",
      "Accessing elements [0, 0], [0, 1], and [1, 0] of the ndarray 11 12 21\n"
     ]
    }
   ],
   "source": [
    "another = np.array([[11, 12, 13], [21, 22, 23]])\n",
    "\n",
    "print(another)\n",
    "print(\"The shape is 2 rows, 3 columns: \", another.shape) # rows x columns\n",
    "print(\"Accessing elements [0, 0], [0, 1], and [1, 0] of the ndarray\", another[0, 0], another[0, 1], another[1, 0])"
   ]
  },
  {
   "cell_type": "markdown",
   "metadata": {},
   "source": [
    "### **There are many way to create numpy arrays:**\n",
    "Here we create a number of different size arrays with different shapes and different pre-filled values.</br>Numpy has a number of built in methods which halp us quiclky and easily create multidimensional arrays."
   ]
  },
  {
   "cell_type": "code",
   "execution_count": 6,
   "metadata": {},
   "outputs": [
    {
     "name": "stdout",
     "output_type": "stream",
     "text": [
      "[[0. 0.]\n",
      " [0. 0.]]\n"
     ]
    }
   ],
   "source": [
    "import numpy as np\n",
    "# create a 2x2 array of zeros\n",
    "ex1 = np.zeros((2, 2))\n",
    "\n",
    "print(ex1)"
   ]
  },
  {
   "cell_type": "code",
   "execution_count": 7,
   "metadata": {},
   "outputs": [
    {
     "name": "stdout",
     "output_type": "stream",
     "text": [
      "[[9. 9. 9.]\n",
      " [9. 9. 9.]]\n"
     ]
    }
   ],
   "source": [
    "# create a 2x3 array filled with 9.0\n",
    "ex2 = np.full((2,3), 9.0)\n",
    "\n",
    "print(ex2)"
   ]
  },
  {
   "cell_type": "code",
   "execution_count": 8,
   "metadata": {},
   "outputs": [
    {
     "name": "stdout",
     "output_type": "stream",
     "text": [
      "[[1. 0. 0. 0. 0. 0.]\n",
      " [0. 1. 0. 0. 0. 0.]\n",
      " [0. 0. 1. 0. 0. 0.]\n",
      " [0. 0. 0. 1. 0. 0.]\n",
      " [0. 0. 0. 0. 1. 0.]\n",
      " [0. 0. 0. 0. 0. 1.]]\n"
     ]
    }
   ],
   "source": [
    "# create a 6x6 matrix with the diagonal 1s and the others 0\n",
    "# Что делать, если вы хотите создать матрицу n на n где диагонали все едины, а все остальные значения равны нулю?\n",
    "ex3 = np.eye(6,6)\n",
    "\n",
    "print(ex3)"
   ]
  },
  {
   "cell_type": "code",
   "execution_count": 9,
   "metadata": {},
   "outputs": [
    {
     "name": "stdout",
     "output_type": "stream",
     "text": [
      "[[1. 1.]]\n"
     ]
    }
   ],
   "source": [
    "# create an array of ones\n",
    "ex4 = np.ones((1,2))\n",
    "\n",
    "print(ex4)"
   ]
  },
  {
   "cell_type": "code",
   "execution_count": 10,
   "metadata": {},
   "outputs": [
    {
     "name": "stdout",
     "output_type": "stream",
     "text": [
      "[[0.3712902  0.03351908]\n",
      " [0.36537313 0.66252519]]\n"
     ]
    }
   ],
   "source": [
    "# create an array of random floats between 0 and 1\n",
    "ex5 = np.random.random((2,2))\n",
    "\n",
    "print(ex5)"
   ]
  },
  {
   "cell_type": "markdown",
   "metadata": {},
   "source": [
    "### **Зачем нужны матрицы?**\n",
    "Основным применением матриц было решение линейных уравнений.</br>Матрицы широко применяются в математике для компактной записи систем линейных алгебраических или дифференциальных уравнений.</br>В этом случае, количество строк матрицы соответствует числу уравнений, а количество столбцов — количеству неизвестных."
   ]
  }
 ],
 "metadata": {
  "kernelspec": {
   "display_name": "Python 3",
   "language": "python",
   "name": "python3"
  },
  "language_info": {
   "codemirror_mode": {
    "name": "ipython",
    "version": 3
   },
   "file_extension": ".py",
   "mimetype": "text/x-python",
   "name": "python",
   "nbconvert_exporter": "python",
   "pygments_lexer": "ipython3",
   "version": "3.7.4"
  }
 },
 "nbformat": 4,
 "nbformat_minor": 4
}
