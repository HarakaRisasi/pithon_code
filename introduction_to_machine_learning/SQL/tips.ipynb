{
 "cells": [
  {
   "cell_type": "markdown",
   "metadata": {},
   "source": [
    "### Query order of execution"
   ]
  },
  {
   "cell_type": "markdown",
   "metadata": {},
   "source": [
    "1. `FROM` and `JOINs`\n",
    "The FROM clause, and subsequent JOINs are first executed to determine the total working set of data that is being queried. This includes subqueries in this clause, and can cause temporary tables to be created under the hood containing all the columns and rows of the tables being joined.\n",
    "\n",
    "2. `WHERE`\n",
    "Once we have the total working set of data, the first-pass WHERE constraints are applied to the individual rows, and rows that do not satisfy the constraint are discarded. Each of the constraints can only access columns directly from the tables requested in the FROM clause. Aliases in the SELECT part of the query are not accessible in most databases since they may include expressions dependent on parts of the query that have not yet executed.\n",
    "\n",
    "3. `GROUP BY`\n",
    "The remaining rows after the WHERE constraints are applied are then grouped based on common values in the column specified in the GROUP BY clause. As a result of the grouping, there will only be as many rows as there are unique values in that column. Implicitly, this means that you should only need to use this when you have aggregate functions in your query.\n",
    "\n",
    "4. `HAVING`\n",
    "If the query has a GROUP BY clause, then the constraints in the HAVING clause are then applied to the grouped rows, discard the grouped rows that don't satisfy the constraint. Like the WHERE clause, aliases are also not accessible from this step in most databases.\n",
    "\n",
    "5. `SELECT`\n",
    "Any expressions in the SELECT part of the query are finally computed.\n",
    "\n",
    "6. `DISTINCT`\n",
    "Of the remaining rows, rows with duplicate values in the column marked as DISTINCT will be discarded.\n",
    "\n",
    "7. `ORDER BY`\n",
    "If an order is specified by the ORDER BY clause, the rows are then sorted by the specified data in either ascending or descending order. Since all the expressions in the SELECT part of the query have been computed, you can reference aliases in this clause.\n",
    "\n",
    "8. `LIMIT / OFFSET`\n",
    "Finally, the rows that fall outside the range specified by the LIMIT and OFFSET are discarded, leaving the final set of rows to be returned from the query."
   ]
  },
  {
   "cell_type": "markdown",
   "metadata": {},
   "source": [
    "### Basic Queries"
   ]
  },
  {
   "cell_type": "markdown",
   "metadata": {},
   "source": [
    "Views  \n",
    "-- filter your columns  \n",
    " `SELECT` col1, col2, col3, ... FROM table1  \n",
    "-- filter the rows  \n",
    " `WHERE` col4 = 1 AND col5 = 2  \n",
    "-- aggregate the data  \n",
    " `GROUP` by …  \n",
    "-- limit aggregated data  \n",
    " `HAVING` count(*) > 1  \n",
    "-- order of the results  \n",
    " `ORDER BY` col2  \n",
    " \n",
    "Useful keywords for SELECTS:  \n",
    "`DISTINCT` - return unique results  \n",
    "`BETWEEN` a `AND` b - limit the range, the values can be numbers, text, or dates  \n",
    "`LIKE` - pattern search within the column text  \n",
    "`IN` (a, b, c) - check if the value is contained among given."
   ]
  },
  {
   "cell_type": "markdown",
   "metadata": {},
   "source": [
    "Data Modification  \n",
    "-- update specific data with the WHERE clause  \n",
    " `UPDATE` table1 `SET` col1 = 1 `WHERE` col2 = 2  \n",
    "-- insert values manually  \n",
    " `INSERT INTO` table1 (`ID`, `FIRST_NAME`, `LAST_NAME`)  \n",
    " `VALUES` (1, ‘Rebel’, ‘Labs’);  \n",
    "-- or by using the results of a query  \n",
    " `INSERT INTO` table1 (`ID`, `FIRST_NAME`, `LAST_NAME`)   \n",
    " `SELECT` id, last_name, first_name `FROM` table2  "
   ]
  },
  {
   "cell_type": "markdown",
   "metadata": {},
   "source": [
    "Views  \n",
    "A `VIEW` is a virtual table, which is a result of a query.  \n",
    "They can be used to create virtual tables of complex queries.\n",
    "\n",
    "`CREATE VIEW` view1 AS  \n",
    "`SELECT` col1, col2  \n",
    "`FROM` table1  \n",
    "`WHERE` …  "
   ]
  }
 ],
 "metadata": {
  "kernelspec": {
   "display_name": "Python 3",
   "language": "python",
   "name": "python3"
  },
  "language_info": {
   "codemirror_mode": {
    "name": "ipython",
    "version": 3
   },
   "file_extension": ".py",
   "mimetype": "text/x-python",
   "name": "python",
   "nbconvert_exporter": "python",
   "pygments_lexer": "ipython3",
   "version": "3.8.3"
  }
 },
 "nbformat": 4,
 "nbformat_minor": 4
}
