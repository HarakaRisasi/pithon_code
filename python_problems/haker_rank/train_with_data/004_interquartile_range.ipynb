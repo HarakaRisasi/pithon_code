{
 "cells": [
  {
   "cell_type": "code",
   "execution_count": 40,
   "metadata": {},
   "outputs": [
    {
     "name": "stdin",
     "output_type": "stream",
     "text": [
      " 6\n",
      " 6 12 8 10 20 16\n",
      " 5 4 3 2 1 5\n"
     ]
    }
   ],
   "source": [
    "# Enter your code here. Read input from STDIN. Print output to STDOUT\n",
    "# Sample Input: 5 4 3 2 1 5\n",
    "#               6 12 8 10 20 16\n",
    "# Sample Output: 6\n",
    "#                12\n",
    "#                16\n",
    "\n",
    "from statistics import *\n",
    "\n",
    "n = int(input()) # the num of elements\n",
    "e = list(map(int, input().split())) # an element\n",
    "f = list(map(int, input().split())) # frequency\n",
    "\n",
    "q = [] # for a new array\n",
    "for i in range(n):\n",
    "    for j in range(f[i]):\n",
    "        q.append(e[i])\n",
    "q.sort()"
   ]
  },
  {
   "cell_type": "code",
   "execution_count": 54,
   "metadata": {},
   "outputs": [
    {
     "name": "stdout",
     "output_type": "stream",
     "text": [
      "Q1 = 7.0 \n",
      "Q3 = 16.0\n",
      "IRQ = 9.0\n"
     ]
    }
   ],
   "source": [
    "# x // y - getting the integer part from division\n",
    "# len(q) - the list length has been changed\n",
    "\n",
    "Q1 = float(median(q[:len(q)//2])) # the median for 1st(Lower half) quartile\n",
    "Q3 = float(median(q[(len(q)+1)//2:])) # the median for 3st(Upper half) quartile\n",
    "\n",
    "print(f'Q1 = {Q1} \\nQ3 = {Q3}')\n",
    "print(f'IRQ = {round((Q3 - Q1),1)}')"
   ]
  }
 ],
 "metadata": {
  "kernelspec": {
   "display_name": "Python 3",
   "language": "python",
   "name": "python3"
  },
  "language_info": {
   "codemirror_mode": {
    "name": "ipython",
    "version": 3
   },
   "file_extension": ".py",
   "mimetype": "text/x-python",
   "name": "python",
   "nbconvert_exporter": "python",
   "pygments_lexer": "ipython3",
   "version": "3.7.6"
  }
 },
 "nbformat": 4,
 "nbformat_minor": 4
}
