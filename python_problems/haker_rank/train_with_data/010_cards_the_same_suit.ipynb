{
 "cells": [
  {
   "cell_type": "markdown",
   "metadata": {},
   "source": [
    "# Cards of the Same Suit\n",
    "\n",
    "As you may have already noticed, finding patterns in the possible ways events can occur is very useful in helping us count the number of desirable events in our sample space. Two of the easiest methods for doing this are with permutations (when order matters) and combinations (when order doesn't matter)."
   ]
  },
  {
   "cell_type": "markdown",
   "metadata": {},
   "source": [
    "## Permutations\n",
    "\n",
    "$$nP_r = \\frac{n!}{(n - r)!}$$\n",
    "\n",
    "or\n",
    "\n",
    "$$P(n,r) = \\frac{n!}{(n-r)!}$$\n",
    "\n",
    "## Combinations\n",
    "\n",
    "$$nCr = \\frac{nPr}{r!} = \\frac{n!}{r!(n - r)!}$$\n",
    "\n",
    "or\n",
    "\n",
    "$$C(n, r) = \\frac{P(n,r)}{r!} = \\frac{n!}{r!(n-r)!}$$\n",
    "**Notation**:\n",
    "\n",
    "When we talk about combinations, we're talking about the number of subsets of size $r$ that can be made from a set of size $n$.\\\n",
    "In fact, $nCr$ is often referred to as \"$n$ choose $r$\", because it's counting the number\\\n",
    "of $r$-element combinations that can be chosen from a set of  elements."
   ]
  },
  {
   "cell_type": "markdown",
   "metadata": {},
   "source": [
    "## Task\n",
    "You draw $2$ cards from a standard $52$-card deck without replacing them.\\\n",
    "What is the probability that both cards are of the same suit?\n",
    "\n",
    "**Explanation**:\n",
    "\n",
    "- (1) Initially you have 52 cards, 13*4 (4 suites). There are 13 ways to select a color card out of 52.\\\n",
    "- (2) Then again if you pick one more card, there are 12 remaining of the same color, out of total 51 remainig cards.\\\n",
    "- No. of ways to select $2 cards = (1) * (2) = (13/52) * (12/51) = 3/51$.\\\n",
    "- This is for $1$ color, as there are $4$ colors, $total = (4 * 3)/51 = 12/51$."
   ]
  },
  {
   "cell_type": "code",
   "execution_count": null,
   "metadata": {},
   "outputs": [],
   "source": [
    "\n"
   ]
  }
 ],
 "metadata": {
  "kernelspec": {
   "display_name": "Python 3",
   "language": "python",
   "name": "python3"
  },
  "language_info": {
   "codemirror_mode": {
    "name": "ipython",
    "version": 3
   },
   "file_extension": ".py",
   "mimetype": "text/x-python",
   "name": "python",
   "nbconvert_exporter": "python",
   "pygments_lexer": "ipython3",
   "version": "3.7.6"
  }
 },
 "nbformat": 4,
 "nbformat_minor": 4
}
