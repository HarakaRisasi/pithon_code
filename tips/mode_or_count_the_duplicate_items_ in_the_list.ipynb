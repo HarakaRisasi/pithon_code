{
 "cells": [
  {
   "cell_type": "markdown",
   "metadata": {},
   "source": [
    "**collections.Counter** \\\n",
    "[Модуль collections - cправка](https://pythonworld.ru/moduli/modul-collections.html)\n",
    "> вид словаря, который позволяет нам считать количество неизменяемых объектов (в большинстве случаев, строк)."
   ]
  },
  {
   "cell_type": "code",
   "execution_count": 8,
   "metadata": {},
   "outputs": [
    {
     "name": "stdout",
     "output_type": "stream",
     "text": [
      "Counter({14216: 2, 64630: 1, 99233: 1, 14470: 1, 4978: 1, 73429: 1, 38120: 1, 51135: 1, 67060: 1})\n",
      "{64630: 1, 14216: 2, 99233: 1, 14470: 1, 4978: 1, 73429: 1, 38120: 1, 51135: 1, 67060: 1}\n"
     ]
    }
   ],
   "source": [
    "from collections import Counter\n",
    "\n",
    "a = [64630, 14216, 14216, 99233, 14470, 4978, 73429, 38120, 51135, 67060]\n",
    "\n",
    "data = Counter(a)\n",
    "print(data)\n",
    "\n",
    "mode = dict(data)\n",
    "\n",
    "print(mode)"
   ]
  },
  {
   "cell_type": "code",
   "execution_count": 16,
   "metadata": {},
   "outputs": [
    {
     "name": "stdin",
     "output_type": "stream",
     "text": [
      " 5\n",
      " 10 40 30 50 20\n",
      " 1 2 3 4 5\n"
     ]
    },
    {
     "name": "stdout",
     "output_type": "stream",
     "text": [
      "32.0\n"
     ]
    }
   ],
   "source": []
  },
  {
   "cell_type": "code",
   "execution_count": null,
   "metadata": {},
   "outputs": [],
   "source": []
  }
 ],
 "metadata": {
  "kernelspec": {
   "display_name": "Python 3",
   "language": "python",
   "name": "python3"
  },
  "language_info": {
   "codemirror_mode": {
    "name": "ipython",
    "version": 3
   },
   "file_extension": ".py",
   "mimetype": "text/x-python",
   "name": "python",
   "nbconvert_exporter": "python",
   "pygments_lexer": "ipython3",
   "version": "3.7.6"
  }
 },
 "nbformat": 4,
 "nbformat_minor": 4
}
