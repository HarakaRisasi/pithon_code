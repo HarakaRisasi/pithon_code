{
 "cells": [
  {
   "cell_type": "markdown",
   "metadata": {},
   "source": [
    "### Introduction\n",
    "Plucking the right data out of our data representation is critical to getting work done, as we demonstrated in the exercises.\n",
    "\n",
    "This tutorial will cover different operations we can apply to our data to get the input \"just right\"."
   ]
  },
  {
   "cell_type": "code",
   "execution_count": 1,
   "metadata": {},
   "outputs": [],
   "source": [
    "import pandas as pd"
   ]
  },
  {
   "cell_type": "code",
   "execution_count": 2,
   "metadata": {},
   "outputs": [
    {
     "name": "stderr",
     "output_type": "stream",
     "text": [
      "C:\\Users\\HARAKA\\anaconda3\\lib\\site-packages\\IPython\\core\\interactiveshell.py:3063: DtypeWarning: Columns (3) have mixed types.Specify dtype option on import or set low_memory=False.\n",
      "  interactivity=interactivity, compiler=compiler, result=result)\n"
     ]
    },
    {
     "data": {
      "text/plain": [
       "(144035, 10)"
      ]
     },
     "execution_count": 2,
     "metadata": {},
     "output_type": "execute_result"
    }
   ],
   "source": [
    "# Get data\n",
    "wine_magazine = pd.read_csv('../data/wine_magazine/winemag-data_first150k.csv')\n",
    "wine_magazine.shape"
   ]
  },
  {
   "cell_type": "code",
   "execution_count": 3,
   "metadata": {},
   "outputs": [
    {
     "name": "stdout",
     "output_type": "stream",
     "text": [
      "[14178, 14997, 18800, 19076, 21217, 25151, 30794, 32346, 37674, 38366, 38534, 39099, 39165, 39218, 41212, 44310, 45544, 48624, 48756, 49404, 49747, 51487, 52109, 52294, 52295, 56726, 60731, 61027, 69136, 70922, 70983, 71272, 72141, 72658, 74487, 74535, 75755, 76667, 76938, 77089, 77389, 77746, 77959, 78578, 79433, 79985, 80024, 81560, 81829, 83671, 89674, 93332, 93367, 93943, 102634, 115316, 124294, 128757, 133431, 137107, 137962, 141477]\n"
     ]
    }
   ],
   "source": [
    "# Find error(not a number values) in row of Dataset\n",
    "# Since the correct elements are no more than three characters in length, I will find all that more.\n",
    "x = []\n",
    "for i, j in enumerate(wine_magazine.points):\n",
    "    if len(str(j)) > 3:\n",
    "        x.append(i)\n",
    "#         print(j) # error's row(item) print \n",
    "print(x)    "
   ]
  },
  {
   "cell_type": "code",
   "execution_count": 4,
   "metadata": {},
   "outputs": [],
   "source": [
    "# Drop(delete) row with errors\n",
    "for i in x:\n",
    "    wine_magazine = wine_magazine.drop([i], axis=0)"
   ]
  },
  {
   "cell_type": "code",
   "execution_count": 5,
   "metadata": {},
   "outputs": [],
   "source": [
    "# Drop(delete) not a number values in 'Points' column of 'Wine Magazine' Dataset.\n",
    "wine_magazine = wine_magazine.dropna(subset=['points'])"
   ]
  },
  {
   "cell_type": "code",
   "execution_count": 6,
   "metadata": {},
   "outputs": [],
   "source": [
    "# Change the datatype of one or more columns to numeric\n",
    "wine_magazine[['points', 'price']] = wine_magazine[['points', 'price']].astype(float)"
   ]
  },
  {
   "cell_type": "code",
   "execution_count": 7,
   "metadata": {},
   "outputs": [],
   "source": [
    "# Drop(delete) row that over 100 points\n",
    "x = list(wine_magazine.loc[wine_magazine.points > 100].index)\n",
    "for i in x:\n",
    "    wine_magazine = wine_magazine.drop([i], axis=0)"
   ]
  },
  {
   "cell_type": "markdown",
   "metadata": {},
   "source": [
    "### Summary functions\n",
    "\n",
    "Pandas provides many simple \"summary functions\" (not an official name) which restructure the data in some useful way.  \n",
    "For example, consider the `describe()` method:"
   ]
  },
  {
   "cell_type": "code",
   "execution_count": 8,
   "metadata": {},
   "outputs": [
    {
     "data": {
      "text/plain": [
       "count    143965.000000\n",
       "mean         87.873462\n",
       "std           3.216045\n",
       "min          80.000000\n",
       "25%          86.000000\n",
       "50%          88.000000\n",
       "75%          90.000000\n",
       "max         100.000000\n",
       "Name: points, dtype: float64"
      ]
     },
     "execution_count": 8,
     "metadata": {},
     "output_type": "execute_result"
    }
   ],
   "source": [
    "wine_magazine.points.describe()"
   ]
  },
  {
   "cell_type": "code",
   "execution_count": 9,
   "metadata": {},
   "outputs": [
    {
     "name": "stdout",
     "output_type": "stream",
     "text": [
      "['country', 'designation', 'points', 'price', 'province', 'region_1', 'region_2', 'variety', 'winery', 'last_year_points']\n"
     ]
    },
    {
     "data": {
      "text/plain": [
       "count         143963\n",
       "unique           451\n",
       "top       California\n",
       "freq           43765\n",
       "Name: province, dtype: object"
      ]
     },
     "execution_count": 9,
     "metadata": {},
     "output_type": "execute_result"
    }
   ],
   "source": [
    "print(list(wine_magazine.columns)) # get a col. name\n",
    "wine_magazine.province.describe() # another output winth 'describe()' method"
   ]
  },
  {
   "cell_type": "markdown",
   "metadata": {},
   "source": [
    "For example, to see the mean of the points allotted (e.g. how well an averagely rated wine does), we can use the `mean()` function."
   ]
  },
  {
   "cell_type": "code",
   "execution_count": 10,
   "metadata": {},
   "outputs": [
    {
     "data": {
      "text/plain": [
       "87.87346229986456"
      ]
     },
     "execution_count": 10,
     "metadata": {},
     "output_type": "execute_result"
    }
   ],
   "source": [
    "wine_magazine.points.mean()"
   ]
  },
  {
   "cell_type": "markdown",
   "metadata": {},
   "source": [
    "To see a list of unique values we can use the `unique()` function"
   ]
  },
  {
   "cell_type": "code",
   "execution_count": 11,
   "metadata": {},
   "outputs": [
    {
     "data": {
      "text/plain": [
       "452"
      ]
     },
     "execution_count": 11,
     "metadata": {},
     "output_type": "execute_result"
    }
   ],
   "source": [
    "len(wine_magazine.province.unique())"
   ]
  },
  {
   "cell_type": "code",
   "execution_count": 12,
   "metadata": {},
   "outputs": [
    {
     "data": {
      "text/plain": [
       "14582"
      ]
     },
     "execution_count": 12,
     "metadata": {},
     "output_type": "execute_result"
    }
   ],
   "source": [
    "len(sorted(wine_magazine.winery.unique()))"
   ]
  },
  {
   "cell_type": "markdown",
   "metadata": {},
   "source": [
    "`value_counts` maked a list (Dataset series) of unique values and shows us how often items occur in the Dataset."
   ]
  },
  {
   "cell_type": "code",
   "execution_count": 48,
   "metadata": {},
   "outputs": [
    {
     "data": {
      "text/plain": [
       "20.0     7484\n",
       "15.0     6760\n",
       "18.0     5700\n",
       "25.0     5694\n",
       "30.0     5166\n",
       "         ... \n",
       "266.0       1\n",
       "172.0       1\n",
       "151.0       1\n",
       "580.0       1\n",
       "243.0       1\n",
       "Name: price, Length: 351, dtype: int64"
      ]
     },
     "execution_count": 48,
     "metadata": {},
     "output_type": "execute_result"
    }
   ],
   "source": [
    "wine_magazine.price.value_counts()"
   ]
  },
  {
   "cell_type": "code",
   "execution_count": 49,
   "metadata": {},
   "outputs": [],
   "source": [
    "# Find value that repeating less than 10 times\n",
    "winery = []\n",
    "for i in list(wine_magazine.price.value_counts()):\n",
    "    if i < 10:\n",
    "        winery.append(wine_magazine.winery[i])"
   ]
  },
  {
   "cell_type": "code",
   "execution_count": 50,
   "metadata": {},
   "outputs": [
    {
     "data": {
      "text/plain": [
       "['Bergström',\n",
       " 'Bodega Carmen Rodríguez',\n",
       " 'Ponzi',\n",
       " 'Numanthia',\n",
       " 'Macauley',\n",
       " 'Maurodos',\n",
       " 'Domaine de la Bégude',\n",
       " 'Blue Farm']"
      ]
     },
     "execution_count": 50,
     "metadata": {},
     "output_type": "execute_result"
    }
   ],
   "source": [
    "list(set(winery)) # sort a list"
   ]
  },
  {
   "cell_type": "code",
   "execution_count": 52,
   "metadata": {},
   "outputs": [
    {
     "data": {
      "text/plain": [
       "['Blair',\n",
       " 'Krug',\n",
       " 'Château Latour',\n",
       " 'Château Margaux',\n",
       " 'Château La Mission Haut-Brion',\n",
       " 'Château Mouton Rothschild',\n",
       " 'Château Haut-Brion',\n",
       " 'Krug',\n",
       " 'Krug']"
      ]
     },
     "execution_count": 52,
     "metadata": {},
     "output_type": "execute_result"
    }
   ],
   "source": [
    "list(wine_magazine['winery'].loc[wine_magazine.price > 1000]) # winery, whose price by a bottle of wine over 1000$"
   ]
  },
  {
   "cell_type": "code",
   "execution_count": 47,
   "metadata": {},
   "outputs": [
    {
     "data": {
      "text/html": [
       "<div>\n",
       "<style scoped>\n",
       "    .dataframe tbody tr th:only-of-type {\n",
       "        vertical-align: middle;\n",
       "    }\n",
       "\n",
       "    .dataframe tbody tr th {\n",
       "        vertical-align: top;\n",
       "    }\n",
       "\n",
       "    .dataframe thead th {\n",
       "        text-align: right;\n",
       "    }\n",
       "</style>\n",
       "<table border=\"1\" class=\"dataframe\">\n",
       "  <thead>\n",
       "    <tr style=\"text-align: right;\">\n",
       "      <th></th>\n",
       "      <th>country</th>\n",
       "      <th>designation</th>\n",
       "      <th>points</th>\n",
       "      <th>price</th>\n",
       "      <th>province</th>\n",
       "      <th>region_1</th>\n",
       "      <th>region_2</th>\n",
       "      <th>variety</th>\n",
       "      <th>winery</th>\n",
       "      <th>last_year_points</th>\n",
       "    </tr>\n",
       "  </thead>\n",
       "  <tbody>\n",
       "    <tr>\n",
       "      <th>34603</th>\n",
       "      <td>France</td>\n",
       "      <td>NaN</td>\n",
       "      <td>94.0</td>\n",
       "      <td>1000.0</td>\n",
       "      <td>Bordeaux</td>\n",
       "      <td>Pessac-Léognan</td>\n",
       "      <td>NaN</td>\n",
       "      <td>Bordeaux-style White Blend</td>\n",
       "      <td>Château La Mission Haut-Brion</td>\n",
       "      <td>87</td>\n",
       "    </tr>\n",
       "    <tr>\n",
       "      <th>34012</th>\n",
       "      <td>France</td>\n",
       "      <td>NaN</td>\n",
       "      <td>97.0</td>\n",
       "      <td>1100.0</td>\n",
       "      <td>Bordeaux</td>\n",
       "      <td>Pessac-Léognan</td>\n",
       "      <td>NaN</td>\n",
       "      <td>Bordeaux-style Red Blend</td>\n",
       "      <td>Château La Mission Haut-Brion</td>\n",
       "      <td>83</td>\n",
       "    </tr>\n",
       "    <tr>\n",
       "      <th>34027</th>\n",
       "      <td>France</td>\n",
       "      <td>NaN</td>\n",
       "      <td>96.0</td>\n",
       "      <td>1200.0</td>\n",
       "      <td>Bordeaux</td>\n",
       "      <td>Pessac-Léognan</td>\n",
       "      <td>NaN</td>\n",
       "      <td>Bordeaux-style Red Blend</td>\n",
       "      <td>Château Haut-Brion</td>\n",
       "      <td>80</td>\n",
       "    </tr>\n",
       "    <tr>\n",
       "      <th>34024</th>\n",
       "      <td>France</td>\n",
       "      <td>NaN</td>\n",
       "      <td>96.0</td>\n",
       "      <td>1300.0</td>\n",
       "      <td>Bordeaux</td>\n",
       "      <td>Pauillac</td>\n",
       "      <td>NaN</td>\n",
       "      <td>Bordeaux-style Red Blend</td>\n",
       "      <td>Château Mouton Rothschild</td>\n",
       "      <td>92</td>\n",
       "    </tr>\n",
       "    <tr>\n",
       "      <th>25520</th>\n",
       "      <td>France</td>\n",
       "      <td>Clos du Mesnil</td>\n",
       "      <td>100.0</td>\n",
       "      <td>1400.0</td>\n",
       "      <td>Champagne</td>\n",
       "      <td>Champagne</td>\n",
       "      <td>NaN</td>\n",
       "      <td>Chardonnay</td>\n",
       "      <td>Krug</td>\n",
       "      <td>97</td>\n",
       "    </tr>\n",
       "    <tr>\n",
       "      <th>50406</th>\n",
       "      <td>France</td>\n",
       "      <td>Clos du Mesnil</td>\n",
       "      <td>100.0</td>\n",
       "      <td>1400.0</td>\n",
       "      <td>Champagne</td>\n",
       "      <td>Champagne</td>\n",
       "      <td>NaN</td>\n",
       "      <td>Chardonnay</td>\n",
       "      <td>Krug</td>\n",
       "      <td>88</td>\n",
       "    </tr>\n",
       "    <tr>\n",
       "      <th>80484</th>\n",
       "      <td>France</td>\n",
       "      <td>Clos du Mesnil</td>\n",
       "      <td>100.0</td>\n",
       "      <td>1400.0</td>\n",
       "      <td>Champagne</td>\n",
       "      <td>Champagne</td>\n",
       "      <td>NaN</td>\n",
       "      <td>Chardonnay</td>\n",
       "      <td>Krug</td>\n",
       "      <td>81</td>\n",
       "    </tr>\n",
       "    <tr>\n",
       "      <th>34007</th>\n",
       "      <td>France</td>\n",
       "      <td>NaN</td>\n",
       "      <td>98.0</td>\n",
       "      <td>1900.0</td>\n",
       "      <td>Bordeaux</td>\n",
       "      <td>Margaux</td>\n",
       "      <td>NaN</td>\n",
       "      <td>Bordeaux-style Red Blend</td>\n",
       "      <td>Château Margaux</td>\n",
       "      <td>88</td>\n",
       "    </tr>\n",
       "    <tr>\n",
       "      <th>13164</th>\n",
       "      <td>US</td>\n",
       "      <td>Roger Rose Vineyard</td>\n",
       "      <td>91.0</td>\n",
       "      <td>2013.0</td>\n",
       "      <td>California</td>\n",
       "      <td>Arroyo Seco</td>\n",
       "      <td>Central Coast</td>\n",
       "      <td>Chardonnay</td>\n",
       "      <td>Blair</td>\n",
       "      <td>81</td>\n",
       "    </tr>\n",
       "    <tr>\n",
       "      <th>34006</th>\n",
       "      <td>France</td>\n",
       "      <td>NaN</td>\n",
       "      <td>99.0</td>\n",
       "      <td>2300.0</td>\n",
       "      <td>Bordeaux</td>\n",
       "      <td>Pauillac</td>\n",
       "      <td>NaN</td>\n",
       "      <td>Bordeaux-style Red Blend</td>\n",
       "      <td>Château Latour</td>\n",
       "      <td>81</td>\n",
       "    </tr>\n",
       "  </tbody>\n",
       "</table>\n",
       "</div>"
      ],
      "text/plain": [
       "      country          designation  points   price    province  \\\n",
       "34603  France                  NaN    94.0  1000.0    Bordeaux   \n",
       "34012  France                  NaN    97.0  1100.0    Bordeaux   \n",
       "34027  France                  NaN    96.0  1200.0    Bordeaux   \n",
       "34024  France                  NaN    96.0  1300.0    Bordeaux   \n",
       "25520  France       Clos du Mesnil   100.0  1400.0   Champagne   \n",
       "50406  France       Clos du Mesnil   100.0  1400.0   Champagne   \n",
       "80484  France       Clos du Mesnil   100.0  1400.0   Champagne   \n",
       "34007  France                  NaN    98.0  1900.0    Bordeaux   \n",
       "13164      US  Roger Rose Vineyard    91.0  2013.0  California   \n",
       "34006  France                  NaN    99.0  2300.0    Bordeaux   \n",
       "\n",
       "             region_1       region_2                     variety  \\\n",
       "34603  Pessac-Léognan            NaN  Bordeaux-style White Blend   \n",
       "34012  Pessac-Léognan            NaN    Bordeaux-style Red Blend   \n",
       "34027  Pessac-Léognan            NaN    Bordeaux-style Red Blend   \n",
       "34024        Pauillac            NaN    Bordeaux-style Red Blend   \n",
       "25520       Champagne            NaN                  Chardonnay   \n",
       "50406       Champagne            NaN                  Chardonnay   \n",
       "80484       Champagne            NaN                  Chardonnay   \n",
       "34007         Margaux            NaN    Bordeaux-style Red Blend   \n",
       "13164     Arroyo Seco  Central Coast                  Chardonnay   \n",
       "34006        Pauillac            NaN    Bordeaux-style Red Blend   \n",
       "\n",
       "                              winery last_year_points  \n",
       "34603  Château La Mission Haut-Brion               87  \n",
       "34012  Château La Mission Haut-Brion               83  \n",
       "34027             Château Haut-Brion               80  \n",
       "34024      Château Mouton Rothschild               92  \n",
       "25520                           Krug               97  \n",
       "50406                           Krug               88  \n",
       "80484                           Krug               81  \n",
       "34007                Château Margaux               88  \n",
       "13164                          Blair               81  \n",
       "34006                 Château Latour               81  "
      ]
     },
     "execution_count": 47,
     "metadata": {},
     "output_type": "execute_result"
    }
   ],
   "source": [
    "# Sorting values those price great than 1000$\n",
    "x = wine_magazine.loc[wine_magazine.price >= 1000]\n",
    "x.sort_values(by=['price'])"
   ]
  }
 ],
 "metadata": {
  "kernelspec": {
   "display_name": "Python 3",
   "language": "python",
   "name": "python3"
  },
  "language_info": {
   "codemirror_mode": {
    "name": "ipython",
    "version": 3
   },
   "file_extension": ".py",
   "mimetype": "text/x-python",
   "name": "python",
   "nbconvert_exporter": "python",
   "pygments_lexer": "ipython3",
   "version": "3.7.6"
  }
 },
 "nbformat": 4,
 "nbformat_minor": 4
}
