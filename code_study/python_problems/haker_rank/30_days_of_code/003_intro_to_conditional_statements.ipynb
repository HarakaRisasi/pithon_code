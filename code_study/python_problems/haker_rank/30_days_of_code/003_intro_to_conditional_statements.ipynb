{
 "cells": [
  {
   "cell_type": "code",
   "execution_count": 3,
   "metadata": {},
   "outputs": [
    {
     "name": "stdin",
     "output_type": "stream",
     "text": [
      " 3\n"
     ]
    },
    {
     "name": "stdout",
     "output_type": "stream",
     "text": [
      "Weird\n"
     ]
    }
   ],
   "source": [
    "def nums(N):\n",
    "    if N % 2 == 1:\n",
    "        print('Weird')\n",
    "    elif N % 2 == 0 and N in range(2, 5):\n",
    "        print('Not Weird')\n",
    "    elif N % 2 == 0 and N in range(6, 20):\n",
    "        print('Weird')\n",
    "    elif N % 2 == 0 and N > 20:\n",
    "        print('Not Weird')\n",
    "\n",
    "if __name__ == '__main__':\n",
    "    nums(N = int(input()))"
   ]
  },
  {
   "cell_type": "code",
   "execution_count": 7,
   "metadata": {},
   "outputs": [
    {
     "name": "stdin",
     "output_type": "stream",
     "text": [
      " 3\n"
     ]
    },
    {
     "name": "stdout",
     "output_type": "stream",
     "text": [
      "Weird\n"
     ]
    }
   ],
   "source": [
    "def nums(N):\n",
    "    if( N % 2 == 1 or (N > 5 and N < 21)):\n",
    "        print(\"Weird\")        \n",
    "    else:\n",
    "        print(\"Not Weird\")\n",
    "\n",
    "if __name__ == '__main__':\n",
    "    nums(N = int(input()))"
   ]
  },
  {
   "cell_type": "code",
   "execution_count": 20,
   "metadata": {},
   "outputs": [
    {
     "data": {
      "image/png": "[encoded data removed]",
      "text/latex": [
       "$\\displaystyle \\left\\{ x : 7, \\  y : 5\\right\\}$"
      ],
      "text/plain": [
       "{x: 7, y: 5}"
      ]
     },
     "execution_count": 20,
     "metadata": {},
     "output_type": "execute_result"
    }
   ],
   "source": [
    "import sympy as sp\n",
    "# from sympy import *\n",
    "# sp.init_printing(use_unicode=True)\n",
    "abc = (\"a, b, c, d, e, f, g, h, i, j, k, l, m, n, o, p, q, r, s, t, u, v, w, x, y, z\")\n",
    "\n",
    "a, b, c, d, e, f, g, h, i, j, k, l, m, n, o, p, q, r, s, t, u, v, w, x, y, z = sp.symbols(abc)\n",
    "\n",
    "eq_1 = 16*x + 3*y\n",
    "eq_2 = x + y\n",
    "\n",
    "sp.solve([eq_1 - 127, eq_2 - 12], (x, y))"
   ]
  },
  {
   "cell_type": "code",
   "execution_count": null,
   "metadata": {},
   "outputs": [],
   "source": []
  }
 ],
 "metadata": {
  "kernelspec": {
   "display_name": "Python 3",
   "language": "python",
   "name": "python3"
  },
  "language_info": {
   "codemirror_mode": {
    "name": "ipython",
    "version": 3
   },
   "file_extension": ".py",
   "mimetype": "text/x-python",
   "name": "python",
   "nbconvert_exporter": "python",
   "pygments_lexer": "ipython3",
   "version": "3.7.6"
  }
 },
 "nbformat": 4,
 "nbformat_minor": 4
}
