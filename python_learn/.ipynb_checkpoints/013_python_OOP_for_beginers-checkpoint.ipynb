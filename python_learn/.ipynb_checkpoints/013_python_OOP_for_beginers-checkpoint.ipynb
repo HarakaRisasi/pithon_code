{
 "cells": [
  {
   "cell_type": "code",
   "execution_count": 1,
   "metadata": {},
   "outputs": [
    {
     "name": "stdout",
     "output_type": "stream",
     "text": [
      "<class 'int'>\n"
     ]
    }
   ],
   "source": [
    "x = 1\n",
    "\n",
    "print(type(x))\n",
    "\n",
    "# we said, X is equal to the object, which as a type integer with a value 1."
   ]
  },
  {
   "cell_type": "code",
   "execution_count": 2,
   "metadata": {},
   "outputs": [
    {
     "name": "stdout",
     "output_type": "stream",
     "text": [
      "<class 'function'>\n"
     ]
    }
   ],
   "source": [
    "def hello():\n",
    "    print(\"hello\")\n",
    "    \n",
    "print(type(hello))\n",
    "\n",
    "# - we get class - function\n",
    "# - so pretty much everything in Python are we work with, is actually an object of some kind of class.\n",
    "# - <class 'function'> - 'function' is a type o"
   ]
  },
  {
   "cell_type": "code",
   "execution_count": 3,
   "metadata": {},
   "outputs": [
    {
     "name": "stdout",
     "output_type": "stream",
     "text": [
      "HELLO\n"
     ]
    }
   ],
   "source": [
    "string = \"hello\"\n",
    "\n",
    "print(string.upper())\n",
    "\n",
    "# - we allowed to use this what we call method, and this is a methos whenever you have this a dot operator you have some name,\n",
    "#   and then you have the two brackets.\n",
    "# - This is a method is an acting on a specific object."
   ]
  },
  {
   "cell_type": "code",
   "execution_count": 103,
   "metadata": {},
   "outputs": [],
   "source": [
    "# we are making the custom class\n",
    "class Dog:\n",
    "    # speccial method\n",
    "    def __init__(self, name, age):\n",
    "        # 'self' parameter so we know which 'Dog' it's talking about.\n",
    "        # we need to store this name 'Tim' in an object.\n",
    "        self.name = name\n",
    "        # we've create that is calling 'attribute' of the class 'Dog'\n",
    "        self.age = age\n",
    "        \n",
    "        # Essentially every time we create a new 'Dog' object, we will pass a name through this ('Tim') parameter so 'self' just stays here\n",
    "        # to denote the object itself so like every time one of these things is called we will pass a referance to which object it was called\n",
    "        # on so we can access things for each specific object. But here what i've done is to find an attribute called name, which is equal\n",
    "        # to the name that we passed in.\n",
    "        print(name)\n",
    "        \n",
    "    # method of class\n",
    "    def get_name(self):\n",
    "        # 'self' parameter so we know which 'Dog' it's talking\n",
    "        return self.name\n",
    "        # We can reference them from methods inside of our class\n",
    "    \n",
    "    # method of class    \n",
    "    def get_age(self):\n",
    "        # 'self' parameter so we know which 'Dog' it's talking\n",
    "        return self.age   \n",
    "    \n",
    "    # method of class\n",
    "    def bark(self):\n",
    "        print('Gav-Gav!!!')\n",
    "    \n",
    "    # method of class   \n",
    "    def add_one(self, x):\n",
    "        return x + 1\n",
    "    \n",
    "    # method of class that change 'age' parameter\n",
    "    def set_age(self, age):\n",
    "        self.age = age\n",
    "               \n",
    "# - What this mean, is I'm gonna make my own kind of blueprint now for any objects that are of type 'Dog'.\n",
    "#   And I'm gonna start definding the operations that a dog is able to do now.\n",
    "\n",
    "# - Method is essentially just a function that goes inside of a class.\n",
    "#   All the methods will get start a parameter called 'self'.\n",
    "\n",
    "# - So we can make methods, that have different arguments associated with them or parameters like i've put 'x'.\n",
    "#   And that just means, that when I call that method, I need to pass in a specific value or specific values so that can operate and that can work."
   ]
  },
  {
   "cell_type": "code",
   "execution_count": 48,
   "metadata": {},
   "outputs": [],
   "source": [
    "# d = Dog()\n",
    "# I'm going to assign it to a instance of the class 'Dog'.\n",
    "# I am instantiating right creating a new instance of the class 'Dog'."
   ]
  },
  {
   "cell_type": "code",
   "execution_count": 49,
   "metadata": {},
   "outputs": [
    {
     "name": "stdout",
     "output_type": "stream",
     "text": [
      "<class '__main__.Dog'>\n"
     ]
    }
   ],
   "source": [
    "print(type(d))\n",
    "# So 'd' is now gonna be an object that is of type 'Dog'\n",
    "\n",
    "# <class '__main__.Dog'>\n",
    "# This underscores is because this is telling us what module this class was defined in now by default.\n",
    "# The module that you run is called the 'main' module that's why we have these two underscores main."
   ]
  },
  {
   "cell_type": "code",
   "execution_count": 50,
   "metadata": {},
   "outputs": [
    {
     "name": "stdout",
     "output_type": "stream",
     "text": [
      "Gav-Gav!!!\n"
     ]
    }
   ],
   "source": [
    "# If I want to use method the method on an instance of my 'Dog' class, that what I can do like that.\n",
    "d.bark()"
   ]
  },
  {
   "cell_type": "code",
   "execution_count": 64,
   "metadata": {},
   "outputs": [
    {
     "data": {
      "text/plain": [
       "6"
      ]
     },
     "execution_count": 64,
     "metadata": {},
     "output_type": "execute_result"
    }
   ],
   "source": [
    "d.add_one(5)"
   ]
  },
  {
   "cell_type": "code",
   "execution_count": 104,
   "metadata": {},
   "outputs": [
    {
     "name": "stdout",
     "output_type": "stream",
     "text": [
      "Tim\n",
      "Parry\n"
     ]
    }
   ],
   "source": [
    "# - __init__ is a special method that has two underscores. This pretty much allowed us to do is instantiate the object right when it is created.\n",
    "#   This method -->\n",
    "#     def __init__():\n",
    "#         pass\n",
    "# will be called whenever we write this line\n",
    "#   d = Dog()\n",
    "# so whenever we create a new 'Dog' instance\n",
    "\n",
    "d = Dog('Tim', 1)\n",
    "d2 = Dog('Parry', 42)"
   ]
  },
  {
   "cell_type": "code",
   "execution_count": 105,
   "metadata": {},
   "outputs": [
    {
     "name": "stdout",
     "output_type": "stream",
     "text": [
      "Tim\n",
      "Parry\n"
     ]
    }
   ],
   "source": [
    "print(d.name)\n",
    "print(d2.name)"
   ]
  },
  {
   "cell_type": "code",
   "execution_count": 106,
   "metadata": {},
   "outputs": [
    {
     "name": "stdout",
     "output_type": "stream",
     "text": [
      "Tim\n",
      "Parry\n"
     ]
    }
   ],
   "source": [
    "print(d.get_name())\n",
    "print(d2.get_name())"
   ]
  },
  {
   "cell_type": "code",
   "execution_count": 107,
   "metadata": {},
   "outputs": [
    {
     "name": "stdout",
     "output_type": "stream",
     "text": [
      "1\n",
      "42\n"
     ]
    }
   ],
   "source": [
    "print(d.get_age())\n",
    "print(d2.get_age())"
   ]
  },
  {
   "cell_type": "code",
   "execution_count": 111,
   "metadata": {},
   "outputs": [
    {
     "name": "stdout",
     "output_type": "stream",
     "text": [
      "23\n"
     ]
    }
   ],
   "source": [
    "d.set_age(23)\n",
    "print(d.get_age())"
   ]
  },
  {
   "cell_type": "markdown",
   "metadata": {},
   "source": [
    "# Task\n",
    "I have a bunch of students, these students all gave some grade assigned to them and they're all a part of a course,\\\n",
    "and then that course will some methods on it to do things like find the maximum grade of all students give us the avarage frade of all\\\n",
    "students, tell us the lowest grade some things that you may actually want to do say if you were trying to model or create a system\\\n",
    "for you school or something like that."
   ]
  },
  {
   "cell_type": "code",
   "execution_count": 129,
   "metadata": {},
   "outputs": [
    {
     "name": "stdout",
     "output_type": "stream",
     "text": [
      "85.0\n",
      "Tim\n"
     ]
    }
   ],
   "source": [
    "class Student:\n",
    "    def __init__(self, name, age, grade):\n",
    "        self.name = name\n",
    "        self.age = age\n",
    "        self. grade = grade # 0 - 100\n",
    "        \n",
    "    # this method simply returned the grade of student\n",
    "    def get_grade(self):\n",
    "        return self.grade\n",
    "    \n",
    "class Course:\n",
    "    def __init__(self, name, max_students):\n",
    "        self.name = name\n",
    "        self.max_students = max_students\n",
    "        self.students = []\n",
    "        \n",
    "    def add_student(self, student):\n",
    "        if len(self.students) < self.max_students:\n",
    "            self.students.append(student)\n",
    "            return True # return true if sudent was added successfully.\n",
    "        return False # if not.\n",
    "    \n",
    "    def get_average_grade(self):\n",
    "        value = 0\n",
    "        for student in self.students:\n",
    "            value += student.get_grade()\n",
    "            \n",
    "        return value / len(self.students)\n",
    "\n",
    "# Students who study at course, and their age and grade.\n",
    "s1 = Student('Tim', 19, 95)\n",
    "s2 = Student('Bill', 19, 75)\n",
    "s3 = Student('Jill', 19, 65)\n",
    "\n",
    "# Get the name of course and get the number of maximum students.\n",
    "course = Course('Science', 2)\n",
    "\n",
    "# Add students\n",
    "course.add_student(s1)\n",
    "course.add_student(s2)\n",
    "\n",
    "print(course.get_average_grade())\n",
    "\n",
    "print(course.students[0].name)\n",
    "    "
   ]
  },
  {
   "cell_type": "markdown",
   "metadata": {},
   "source": [
    "### Let's say we are writing an online store with a discount system.\n",
    "We need to work with users - regular customers.  \n",
    "Let's user will be as an object. He'll has name, age, and delivery address by default.  \n",
    "We create a class, that helps us initiate a new customer."
   ]
  },
  {
   "cell_type": "code",
   "execution_count": 79,
   "metadata": {},
   "outputs": [
    {
     "name": "stdout",
     "output_type": "stream",
     "text": [
      "Haraka, Krasnoyarsk\n",
      "Total customers = 2\n"
     ]
    }
   ],
   "source": [
    "class User:\n",
    "    \"\"\"Class for to the all cutomers\"\"\"\n",
    "    user_count = 0\n",
    "    \n",
    "    def __init__(self, name, age, address):\n",
    "        self.name = name\n",
    "        self.age = age\n",
    "        self.age = address\n",
    "        User.user_count += 1\n",
    "    \n",
    "    def user_data(self):\n",
    "        print(f\"{self.name}, {self.age}\")\n",
    "    \n",
    "    def show_customer_counter():\n",
    "        print(f\"Total customers = {User.user_count}\")\n",
    "\n",
    "# Add new customers.       \n",
    "user1 = User('Haraka', '30', 'Krasnoyarsk')\n",
    "user2 = User(\"Alex\", \"31\", \"Krasnoyarsk\")\n",
    "\n",
    "# Get user's data.\n",
    "user = User.user_data(user1)\n",
    "\n",
    "# Show the total number of our customers.\n",
    "counter = User.show_customer_counter()"
   ]
  },
  {
   "cell_type": "markdown",
   "metadata": {},
   "source": [
    "# Inheritance"
   ]
  },
  {
   "cell_type": "markdown",
   "metadata": {},
   "source": [
    "```Python\n",
    "# Code that was be writed earley. NOT THE INHERITANCE.\n",
    "class Cat:\n",
    "    def __init__(self, name, age):\n",
    "        self.name = name\n",
    "        self.age = age\n",
    "        \n",
    "    def speak(self):\n",
    "        print(\"Meow\")\n",
    "        \n",
    "class Dog:\n",
    "    def __init__(self, name, age):\n",
    "        self.name = name\n",
    "        self.age = age\n",
    "        \n",
    "    def speak(self):\n",
    "        print(\"Bark\")\n",
    "        "
   ]
  },
  {
   "cell_type": "code",
   "execution_count": 257,
   "metadata": {},
   "outputs": [
    {
     "name": "stdout",
     "output_type": "stream",
     "text": [
      "I am Tim and I am 19 years ago\n",
      "Bark\n"
     ]
    }
   ],
   "source": [
    "class Pet:\n",
    "    def __init__(self, name, age):\n",
    "        self.name = name\n",
    "        self.age = age\n",
    "        \n",
    "    def show(self):\n",
    "        print(f'I am {self.name} and I am {self.age} years ago')\n",
    "\n",
    "class Cat(Pet):\n",
    "    def speak(self):\n",
    "        print(\"Meow\")\n",
    "\n",
    "class Dog(Pet):\n",
    "    def speak(self):\n",
    "        print(\"Bark\")\n",
    "    \n",
    "p = Dog('Tim', 19)\n",
    "p.show()\n",
    "p.speak()\n"
   ]
  },
  {
   "cell_type": "code",
   "execution_count": 2,
   "metadata": {},
   "outputs": [
    {
     "name": "stdout",
     "output_type": "stream",
     "text": [
      "Help on built-in function print in module builtins:\n",
      "\n",
      "print(...)\n",
      "    print(value, ..., sep=' ', end='\\n', file=sys.stdout, flush=False)\n",
      "    \n",
      "    Prints the values to a stream, or to sys.stdout by default.\n",
      "    Optional keyword arguments:\n",
      "    file:  a file-like object (stream); defaults to the current sys.stdout.\n",
      "    sep:   string inserted between values, default a space.\n",
      "    end:   string appended after the last value, default a newline.\n",
      "    flush: whether to forcibly flush the stream.\n",
      "\n"
     ]
    }
   ],
   "source": [
    "help(print)"
   ]
  },
  {
   "cell_type": "code",
   "execution_count": 465,
   "metadata": {},
   "outputs": [
    {
     "name": "stdout",
     "output_type": "stream",
     "text": [
      "Gandalf strike #1)\n",
      "   Balrog takes damage -120 points, HP = 880 points\n",
      "Gandalf strike #2)\n",
      "   Balrog takes damage -120 points, HP = 760 points\n",
      "Gandalf strike #3)\n",
      "   Balrog takes damage -120 points, HP = 640 points\n",
      "------------------------------\n",
      "Gandalf strike #1)\n",
      "   Balrog takes damage -120 points, HP = 520 points\n",
      "Gandalf strike #2)\n",
      "   Balrog takes damage -120 points, HP = 400 points\n",
      "Gandalf strike #3)\n",
      "   Balrog takes damage -120 points, HP = 280 points\n",
      "Gandalf strike #4)\n",
      "   Balrog takes damage -120 points, HP = 160 points\n",
      "Gandalf strike #5)\n",
      "   Balrog takes damage -120 points, HP = 40 points\n",
      "------------------------------\n",
      "Balrog drank Healt Potion +120 points\n",
      "Balrog HP = 160 points\n",
      "------------------------------\n",
      "Balrog strike #1)\n",
      "   Gandalf takes damage -206 points, HP = 294 points\n",
      "Balrog strike #2)\n",
      "   Gandalf takes damage -206 points, HP = 88 points\n",
      "------------------------------\n",
      "Gandalf strike #1)\n",
      "   Balrog takes damage -120 points, HP = 40 points\n",
      "\n",
      "You shall not pass!!!\n",
      "\n",
      "Gandalf strike #2)\n",
      "   Balrog died!!!\n"
     ]
    }
   ],
   "source": [
    "class Person(Fight, Regeneration):\n",
    "    \"\"\"Unit characterstics\"\"\"\n",
    "    def __init__(self, name, character_type, hp, hit_power):\n",
    "        self.name = name\n",
    "        self.type = character_type\n",
    "        self.hp = hp\n",
    "        self.damage = hit_power\n",
    "    \n",
    "class Fight(Person):\n",
    "    \"\"\"Fight process\"\"\"\n",
    "    def hit(self, personage, num_of_hits):\n",
    "        for i in range(num_of_hits):\n",
    "            self.hp -= personage.damage\n",
    "            \n",
    "            if self.hp <= 0:\n",
    "                print(\"\\nYou shall not pass!!!\\n\")\n",
    "                print(f\"{personage.name} strike #{i+1})\\n   {self.name} died!!!\")                \n",
    "                break\n",
    "                \n",
    "            print(f\"{personage.name} strike #{i+1})\\n   {self.name} takes damage -{personage.damage} points, HP = {self.hp} points\")     \n",
    "\n",
    "class Regeneration(Person):\n",
    "    \"\"\"Regeneration of health\"\"\"\n",
    "    def hp_regen(self):\n",
    "        x = 0\n",
    "        x += int(self.hp * 3)\n",
    "        self.hp += x\n",
    "        print(f\"{self.name} drank Healt Potion +{x} points\\n{self.name} HP = {self.hp} points\")\n",
    "        \n",
    "# Creating objects\n",
    "enemy = Person(\"Balrog\", \"demon\", 1000, 206)\n",
    "hero = Person(\"Gandalf\", \"wizard\", 500, 120)\n",
    "\n",
    "# Fight: Hero hits enemy.\n",
    "enemy.hit(hero, 3)\n",
    "print(30 * \"-\")\n",
    "enemy.hit(hero, 5)\n",
    "print(30 * \"-\")\n",
    "\n",
    "# enemy get HP\n",
    "enemy.hp_regen()\n",
    "print(30 * \"-\")\n",
    "\n",
    "# сontinuation of the battle\n",
    "hero.hit(enemy, 2)\n",
    "print(30 * \"-\")\n",
    "enemy.hit(hero, 2)"
   ]
  },
  {
   "cell_type": "code",
   "execution_count": null,
   "metadata": {},
   "outputs": [],
   "source": []
  }
 ],
 "metadata": {
  "kernelspec": {
   "display_name": "Python 3",
   "language": "python",
   "name": "python3"
  },
  "language_info": {
   "codemirror_mode": {
    "name": "ipython",
    "version": 3
   },
   "file_extension": ".py",
   "mimetype": "text/x-python",
   "name": "python",
   "nbconvert_exporter": "python",
   "pygments_lexer": "ipython3",
   "version": "3.7.6"
  }
 },
 "nbformat": 4,
 "nbformat_minor": 4
}
