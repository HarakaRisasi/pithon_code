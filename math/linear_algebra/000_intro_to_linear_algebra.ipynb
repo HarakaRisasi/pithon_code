{
 "cells": [
  {
   "cell_type": "markdown",
   "metadata": {},
   "source": [
    "---\n",
    "Broadly speaking, linear algebra is about translating something residing in an $m$ - dimensional space into a corresponding shpe in an $n$ - dimensional space.\n",
    "\n",
    "With the goal of understanding the central concepts  of:\n",
    "- Linear transformations\n",
    "- Eigenvalues and Eigenvectors"
   ]
  },
  {
   "cell_type": "markdown",
   "metadata": {},
   "source": [
    "**Linear Algebra**(course layout)\n",
    "\n",
    "**basics**: fundamentals\n",
    "\n",
    "**prepare**: matrices and vectors\n",
    "\n",
    "**main**: Linear transformations and Eigenvalues_and_eigenvectors"
   ]
  },
  {
   "cell_type": "markdown",
   "metadata": {},
   "source": [
    "---\n",
    "# Basics: Number Systems\n",
    "## Complex numbers"
   ]
  },
  {
   "cell_type": "markdown",
   "metadata": {},
   "source": [
    "complex numbers are written in the form $a + b * i$ where  $a$ and $b$ are real numbers and $i$ is the **imaginary** unit, defined as $i = \\sqrt{-1}$"
   ]
  },
  {
   "cell_type": "markdown",
   "metadata": {},
   "source": [
    "### REAL NUMBERS\n",
    "INTEGERS\n",
    "- positive natural numbers\n",
    "- 0\n",
    "- Negative natural numbers\n",
    "\n",
    "RATIONAL NUMBERS*(NOT INTEGERS)\n",
    "- Terminating decimal numbers like $0.3$\n",
    "- Non-terminating decimal numbers like $0.333...$\n",
    "\n",
    "IRRATIONAL NUMBERS\n",
    "- Numbers like $\\pi$ and $\\sqrt{2}$ whose decimals do not follow a pattern and repeat forever\n",
    "\n",
    "### IMAGINARY NUMBERS\n",
    "- Complex numbers without a real component, like $0 + b*i$, where $b$ is a nonzero real number\n",
    "\n",
    "\\* NUMBERS that can be expressed in the form $q \\ / \\ p$ (where $q$ and $p$ are integers, and $p$ is not equal to zero) are known as rational numbers.</br>\n",
    "- **Integers** are just special cases of rational numbers."
   ]
  },
  {
   "cell_type": "markdown",
   "metadata": {},
   "source": [
    "Example with $i$:\n",
    "$\n",
    "x^2 + 5 = x^2 - (-5) = (x + \\sqrt{5}i)*(x - \\sqrt{5}i) = 0\n",
    "$"
   ]
  },
  {
   "cell_type": "markdown",
   "metadata": {},
   "source": [
    "---\n",
    "### IMPLICATION\n",
    "We say that \"$P$ entails $Q$\" and that \"$Q$ could ental $P$\"</br>\n",
    "$P \\implies Q$ but not $Q \\implies P$\n",
    "\n",
    "**Example from real life**:\n",
    "- It is a schnitzel ($P$) => It contains pork ($Q$)\n",
    "- It contains pork ($Q$) =!> It is a schnitzel ($P$)\n",
    "---"
   ]
  },
  {
   "cell_type": "markdown",
   "metadata": {},
   "source": [
    "### EQUIVALENCE\n",
    "That is, $P \\implies Q$ as well as $Q \\implies P_,$\n",
    "\n",
    "If **Both** \"If $P$ then $Q$\" and \"If $Q$ then $P$\" are true, than mean then $P$ and $Q$ are equivalent.\n",
    "\n",
    "**Example from real life**:\n",
    "\n",
    "Alex ($P$) tall than Hedji($Q$) and Hedji($Q$) short than Alex($P$)\n",
    "\n",
    "$P \\iff Q$\n",
    "\n",
    "---"
   ]
  },
  {
   "cell_type": "markdown",
   "metadata": {},
   "source": [
    "## SET THEORY\n",
    "Another important field of mathemetics is **set theory**."
   ]
  },
  {
   "cell_type": "markdown",
   "metadata": {},
   "source": [
    "A set is a collection of things.\n",
    "\n",
    "**Example:**\n",
    "\n",
    "The set consisting of all even integers from 1 to 10 contains these five elements:\n",
    "- 2\n",
    "- 4\n",
    "- 6\n",
    "- 8\n",
    "- 10"
   ]
  },
  {
   "cell_type": "markdown",
   "metadata": {},
   "source": [
    "### SET SYMBOLS\n",
    "Two common ways to write out that set:\n",
    "\n",
    "A) $ X = \\{ 2, 4, 6, 8, 10 \\}$\n",
    "\n",
    "B) $ X = \\{ 2n | n = 1, 2, 3, 4, 5 \\}$\n",
    "\n",
    "X - marks the set (name of the set)\n",
    "\n",
    "or \"The element $x$ belongs the the set $X$ or $x \\in X$\""
   ]
  },
  {
   "cell_type": "markdown",
   "metadata": {},
   "source": [
    "### SUBSET\n",
    "\n",
    "$Y = \\{ Pizza, Suchi, Pasta, Soup, Steak \\}$\n",
    "$X = \\{ Suchi, Soup \\}$\n",
    "\n",
    "then $X$ is a **Subset** of $Y$ or $X \\subset Y$"
   ]
  },
  {
   "cell_type": "code",
   "execution_count": null,
   "metadata": {},
   "outputs": [],
   "source": []
  }
 ],
 "metadata": {
  "kernelspec": {
   "display_name": "Python 3",
   "language": "python",
   "name": "python3"
  },
  "language_info": {
   "codemirror_mode": {
    "name": "ipython",
    "version": 3
   },
   "file_extension": ".py",
   "mimetype": "text/x-python",
   "name": "python",
   "nbconvert_exporter": "python",
   "pygments_lexer": "ipython3",
   "version": "3.7.7"
  }
 },
 "nbformat": 4,
 "nbformat_minor": 4
}
