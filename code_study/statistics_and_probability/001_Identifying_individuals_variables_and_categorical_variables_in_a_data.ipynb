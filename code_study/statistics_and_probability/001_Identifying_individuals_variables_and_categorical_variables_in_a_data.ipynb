{
 "cells": [
  {
   "cell_type": "markdown",
   "metadata": {},
   "source": [
    "# Analyzing one categorical variable."
   ]
  },
  {
   "cell_type": "markdown",
   "metadata": {},
   "source": [
    "## Identifying individuals, variables and categorical variables in a data set"
   ]
  },
  {
   "cell_type": "code",
   "execution_count": 2,
   "metadata": {},
   "outputs": [],
   "source": [
    "import pandas as pd"
   ]
  },
  {
   "cell_type": "code",
   "execution_count": 3,
   "metadata": {},
   "outputs": [
    {
     "data": {
      "text/html": [
       "<div>\n",
       "<style scoped>\n",
       "    .dataframe tbody tr th:only-of-type {\n",
       "        vertical-align: middle;\n",
       "    }\n",
       "\n",
       "    .dataframe tbody tr th {\n",
       "        vertical-align: top;\n",
       "    }\n",
       "\n",
       "    .dataframe thead th {\n",
       "        text-align: right;\n",
       "    }\n",
       "</style>\n",
       "<table border=\"1\" class=\"dataframe\">\n",
       "  <thead>\n",
       "    <tr style=\"text-align: right;\">\n",
       "      <th></th>\n",
       "      <th>Drink</th>\n",
       "      <th>Type</th>\n",
       "      <th>Calories</th>\n",
       "      <th>Sugars(g)</th>\n",
       "      <th>Caffeine(g)</th>\n",
       "    </tr>\n",
       "  </thead>\n",
       "  <tbody>\n",
       "    <tr>\n",
       "      <th>0</th>\n",
       "      <td>Brewed coffee</td>\n",
       "      <td>Hot</td>\n",
       "      <td>4</td>\n",
       "      <td>0</td>\n",
       "      <td>260</td>\n",
       "    </tr>\n",
       "    <tr>\n",
       "      <th>1</th>\n",
       "      <td>Caffe latte</td>\n",
       "      <td>Hot</td>\n",
       "      <td>100</td>\n",
       "      <td>14</td>\n",
       "      <td>75</td>\n",
       "    </tr>\n",
       "    <tr>\n",
       "      <th>2</th>\n",
       "      <td>Caffe mocha</td>\n",
       "      <td>Hot</td>\n",
       "      <td>170</td>\n",
       "      <td>27</td>\n",
       "      <td>95</td>\n",
       "    </tr>\n",
       "    <tr>\n",
       "      <th>3</th>\n",
       "      <td>Cappuccino</td>\n",
       "      <td>Hot</td>\n",
       "      <td>60</td>\n",
       "      <td>8</td>\n",
       "      <td>75</td>\n",
       "    </tr>\n",
       "    <tr>\n",
       "      <th>4</th>\n",
       "      <td>Iced brewed coffee</td>\n",
       "      <td>Cold</td>\n",
       "      <td>60</td>\n",
       "      <td>15</td>\n",
       "      <td>120</td>\n",
       "    </tr>\n",
       "    <tr>\n",
       "      <th>5</th>\n",
       "      <td>Chai latte</td>\n",
       "      <td>Hot</td>\n",
       "      <td>120</td>\n",
       "      <td>25</td>\n",
       "      <td>60</td>\n",
       "    </tr>\n",
       "  </tbody>\n",
       "</table>\n",
       "</div>"
      ],
      "text/plain": [
       "                Drink  Type  Calories  Sugars(g)  Caffeine(g)\n",
       "0       Brewed coffee   Hot         4          0          260\n",
       "1         Caffe latte   Hot       100         14           75\n",
       "2         Caffe mocha   Hot       170         27           95\n",
       "3          Cappuccino   Hot        60          8           75\n",
       "4  Iced brewed coffee  Cold        60         15          120\n",
       "5          Chai latte   Hot       120         25           60"
      ]
     },
     "execution_count": 3,
     "metadata": {},
     "output_type": "execute_result"
    }
   ],
   "source": [
    "d = {'Drink' : pd.Series(['Brewed coffee','Caffe latte','Caffe mocha','Cappuccino','Iced brewed coffee','Chai latte']),\n",
    "     'Type' : pd.Series(['Hot', 'Hot', 'Hot', 'Hot', 'Cold', 'Hot']),\n",
    "     'Calories' : pd.Series([4, 100, 170, 60, 60, 120]),\n",
    "     'Sugars(g)' : pd.Series([0, 14, 27, 8, 15, 25]),\n",
    "     'Caffeine(g)' : pd.Series([260, 75, 95, 75, 120, 60])\n",
    "    }\n",
    "\n",
    "df = pd.DataFrame(d,columns=['Drink', 'Type', 'Calories', 'Sugars(g)', 'Caffeine(g)'])\n",
    "\n",
    "df"
   ]
  },
  {
   "cell_type": "code",
   "execution_count": 294,
   "metadata": {},
   "outputs": [
    {
     "name": "stdout",
     "output_type": "stream",
     "text": [
      "Individuals = 6\n"
     ]
    }
   ],
   "source": [
    "print(f\"Individuals = {len(d['Drink'])}\")"
   ]
  },
  {
   "cell_type": "code",
   "execution_count": 15,
   "metadata": {},
   "outputs": [
    {
     "name": "stdout",
     "output_type": "stream",
     "text": [
      "Number of variables equal 4, 1 of which is categorical\n"
     ]
    }
   ],
   "source": [
    "# if 'Drink' is identifier and not a variable or categorical variable than ->\n",
    "num_of_var = [i for i in d if i != 'Drink']\n",
    "\n",
    "print(f\"Number of variables equal {len(num_of_var)}, 1 of which is categorical\")"
   ]
  },
  {
   "cell_type": "markdown",
   "metadata": {},
   "source": [
    "**Drink** column is identifier != variable | categ.var\n",
    "\n",
    "**Type** column is categ.var\n",
    "\n",
    "**Calories**\t**Sugars(g)**\t**Caffeine(g)** is quantitative variables is quantative variables\n",
    "\n",
    "---\n",
    "**Summarize:**\n",
    "\n",
    " - _Individuals = 6_\n",
    "\n",
    "- _4 variables, 1 of which is categorical_"
   ]
  },
  {
   "cell_type": "markdown",
   "metadata": {},
   "source": [
    "---\n",
    "# Supplementation"
   ]
  },
  {
   "cell_type": "markdown",
   "metadata": {},
   "source": [
    "> The **iloc** method gives us access to the DataFrame in more traditional ‘matrix’ style notation, i.e. [row, column] notation."
   ]
  },
  {
   "cell_type": "code",
   "execution_count": 28,
   "metadata": {},
   "outputs": [
    {
     "data": {
      "text/plain": [
       "Drink          Brewed coffee\n",
       "Type                     Hot\n",
       "Calories                   4\n",
       "Sugars(g)                  0\n",
       "Caffeine(g)              260\n",
       "Name: 0, dtype: object"
      ]
     },
     "execution_count": 28,
     "metadata": {},
     "output_type": "execute_result"
    }
   ],
   "source": [
    "# Gives you the row at position zero.\n",
    "# output row = 0, column = 2\n",
    "df.iloc[0]"
   ]
  },
  {
   "cell_type": "code",
   "execution_count": 27,
   "metadata": {},
   "outputs": [
    {
     "data": {
      "text/html": [
       "<div>\n",
       "<style scoped>\n",
       "    .dataframe tbody tr th:only-of-type {\n",
       "        vertical-align: middle;\n",
       "    }\n",
       "\n",
       "    .dataframe tbody tr th {\n",
       "        vertical-align: top;\n",
       "    }\n",
       "\n",
       "    .dataframe thead th {\n",
       "        text-align: right;\n",
       "    }\n",
       "</style>\n",
       "<table border=\"1\" class=\"dataframe\">\n",
       "  <thead>\n",
       "    <tr style=\"text-align: right;\">\n",
       "      <th></th>\n",
       "      <th>Drink</th>\n",
       "      <th>Type</th>\n",
       "      <th>Calories</th>\n",
       "      <th>Sugars(g)</th>\n",
       "      <th>Caffeine(g)</th>\n",
       "    </tr>\n",
       "  </thead>\n",
       "  <tbody>\n",
       "    <tr>\n",
       "      <th>0</th>\n",
       "      <td>Brewed coffee</td>\n",
       "      <td>Hot</td>\n",
       "      <td>4</td>\n",
       "      <td>0</td>\n",
       "      <td>260</td>\n",
       "    </tr>\n",
       "    <tr>\n",
       "      <th>1</th>\n",
       "      <td>Caffe latte</td>\n",
       "      <td>Hot</td>\n",
       "      <td>100</td>\n",
       "      <td>14</td>\n",
       "      <td>75</td>\n",
       "    </tr>\n",
       "  </tbody>\n",
       "</table>\n",
       "</div>"
      ],
      "text/plain": [
       "           Drink Type  Calories  Sugars(g)  Caffeine(g)\n",
       "0  Brewed coffee  Hot         4          0          260\n",
       "1    Caffe latte  Hot       100         14           75"
      ]
     },
     "execution_count": 27,
     "metadata": {},
     "output_type": "execute_result"
    }
   ],
   "source": [
    "# output row = 0, column = 2\n",
    "df.iloc[[0]+[1]]"
   ]
  },
  {
   "cell_type": "code",
   "execution_count": 21,
   "metadata": {},
   "outputs": [],
   "source": [
    "df = pd.DataFrame(data = d)\n",
    "# df.dtypes"
   ]
  }
 ],
 "metadata": {
  "kernelspec": {
   "display_name": "Python 3",
   "language": "python",
   "name": "python3"
  },
  "language_info": {
   "codemirror_mode": {
    "name": "ipython",
    "version": 3
   },
   "file_extension": ".py",
   "mimetype": "text/x-python",
   "name": "python",
   "nbconvert_exporter": "python",
   "pygments_lexer": "ipython3",
   "version": "3.7.1"
  }
 },
 "nbformat": 4,
 "nbformat_minor": 4
}
