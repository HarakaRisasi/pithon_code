{
 "cells": [
  {
   "cell_type": "code",
   "execution_count": 2,
   "metadata": {},
   "outputs": [
    {
     "data": {
      "text/html": [
       "<table>\n",
       "<thead><tr><th scope=col>a</th><th scope=col>b</th><th scope=col>c</th><th scope=col>d</th></tr></thead>\n",
       "<tbody>\n",
       "\t<tr><td>10         </td><td>book       </td><td> TRUE      </td><td> 2.5       </td></tr>\n",
       "\t<tr><td>20         </td><td>pen        </td><td>FALSE      </td><td> 8.0       </td></tr>\n",
       "\t<tr><td>30         </td><td>textbook   </td><td> TRUE      </td><td>10.0       </td></tr>\n",
       "\t<tr><td>40         </td><td>pencil_case</td><td>FALSE      </td><td> 7.0       </td></tr>\n",
       "</tbody>\n",
       "</table>\n"
      ],
      "text/latex": [
       "\\begin{tabular}{r|llll}\n",
       " a & b & c & d\\\\\n",
       "\\hline\n",
       "\t 10          & book        &  TRUE       &  2.5       \\\\\n",
       "\t 20          & pen         & FALSE       &  8.0       \\\\\n",
       "\t 30          & textbook    &  TRUE       & 10.0       \\\\\n",
       "\t 40            & pencil\\_case & FALSE         &  7.0         \\\\\n",
       "\\end{tabular}\n"
      ],
      "text/markdown": [
       "\n",
       "a | b | c | d | \n",
       "|---|---|---|---|\n",
       "| 10          | book        |  TRUE       |  2.5        | \n",
       "| 20          | pen         | FALSE       |  8.0        | \n",
       "| 30          | textbook    |  TRUE       | 10.0        | \n",
       "| 40          | pencil_case | FALSE       |  7.0        | \n",
       "\n",
       "\n"
      ],
      "text/plain": [
       "  a  b           c     d   \n",
       "1 10 book         TRUE  2.5\n",
       "2 20 pen         FALSE  8.0\n",
       "3 30 textbook     TRUE 10.0\n",
       "4 40 pencil_case FALSE  7.0"
      ]
     },
     "metadata": {},
     "output_type": "display_data"
    }
   ],
   "source": [
    "a <- c(10,20,30,40)\n",
    "b <- c('book', 'pen', 'textbook', 'pencil_case')\n",
    "c <- c(TRUE,FALSE,TRUE,FALSE)\n",
    "d <- c(2.5, 8, 10, 7)\n",
    "# Join the variables to create a data frame\n",
    "df <- data.frame(a,b,c,d)\n",
    "df"
   ]
  },
  {
   "cell_type": "code",
   "execution_count": null,
   "metadata": {},
   "outputs": [],
   "source": [
    "stripchart(w1$vals)"
   ]
  }
 ],
 "metadata": {
  "kernelspec": {
   "display_name": "Python 3",
   "language": "python",
   "name": "python3"
  },
  "language_info": {
   "codemirror_mode": {
    "name": "ipython",
    "version": 3
   },
   "file_extension": ".py",
   "mimetype": "text/x-python",
   "name": "python",
   "nbconvert_exporter": "python",
   "pygments_lexer": "ipython3",
   "version": "3.8.3"
  }
 },
 "nbformat": 4,
 "nbformat_minor": 4
}
