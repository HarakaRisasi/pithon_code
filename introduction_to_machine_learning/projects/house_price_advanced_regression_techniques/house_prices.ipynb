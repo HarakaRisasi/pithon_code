{
 "cells": [
  {
   "cell_type": "code",
   "execution_count": null,
   "metadata": {},
   "outputs": [],
   "source": [
    "# \n",
    "\n",
    "# Create target object and call it y\n",
    "\n",
    "# Create X\n",
    "\n",
    "# Split into validation and training data\n",
    "\n",
    "# Specify Model\n",
    "\n",
    "# Fit Model\n",
    "\n",
    "# Make validation predictions and calculate mean absolute error\n",
    "\n",
    "# Show a prediction result and real data."
   ]
  },
  {
   "cell_type": "markdown",
   "metadata": {},
   "source": [
    "### Importing libraries and Reading the data."
   ]
  },
  {
   "cell_type": "code",
   "execution_count": 2,
   "metadata": {},
   "outputs": [],
   "source": [
    "# Importing the libraries\n",
    "import pandas as pd\n",
    "import numpy as np"
   ]
  },
  {
   "cell_type": "code",
   "execution_count": 3,
   "metadata": {},
   "outputs": [],
   "source": [
    "# Impoirting the dataset\n",
    "house_prices_dataset_path = \"./data/house-prices-advanced-regression-techniques/sample_submission.csv\"\n",
    "house_prices_test_path = \"./data/house-prices-advanced-regression-techniques/test.csv\"\n",
    "house_prices_train_path = \"./data/house-prices-advanced-regression-techniques/train.csv\"\n",
    "house_data_discription_path = \"./data/house-prices-advanced-regression-techniques/data_description.txt\"\n",
    "\n",
    "house_prices = pd.read_csv(house_prices_dataset_path)\n",
    "house_prices_test = pd.read_csv(house_prices_test_path)\n",
    "house_prices_train = pd.read_csv(house_prices_test_path)"
   ]
  },
  {
   "cell_type": "code",
   "execution_count": 4,
   "metadata": {},
   "outputs": [],
   "source": [
    "# Exporting the data (name of columns) to .xlsx file to more convenient work.\n",
    "df = pd.DataFrame(house_prices_train.columns)\n",
    "df.to_excel('./auxiliary_files/show_columns.xlsx', sheet_name='Column Names')"
   ]
  },
  {
   "cell_type": "markdown",
   "metadata": {},
   "source": [
    "### Classes"
   ]
  },
  {
   "cell_type": "code",
   "execution_count": 5,
   "metadata": {},
   "outputs": [],
   "source": [
    "class Nan_counter:\n",
    "    \"\"\"Counting NaN(true) and NaN(false) values\"\"\"  \n",
    "    def __init__(self, data_set):\n",
    "        self.data = data_set\n",
    "\n",
    "    def is_nan(self, col_name):\n",
    "        \"\"\"returning number of the NaN cells. In view True and False:\n",
    "        True     1352\n",
    "        False     107\n",
    "        Name: column_name, dtype: int64\"\"\"\n",
    "        return pd.isnull(self.data[self.col_name]).value_counts()\n",
    "    \n",
    "    def missing_values(self, accuracy):\n",
    "        \"\"\"accuracy in percentage\n",
    "        #.missing_values(.01) - .01 is an accuracy in percent. \n",
    "        IOW, takes all values that less then .01 percent.\"\"\"\n",
    "        i = self.data.isnull().sum()\n",
    "        j = len(self.data)\n",
    "        y = round(i/j, 2)  \n",
    "        return dict(y[y <= accuracy])"
   ]
  },
  {
   "cell_type": "code",
   "execution_count": 6,
   "metadata": {},
   "outputs": [],
   "source": [
    "class Nan_columns:\n",
    "    \"\"\"\n",
    "    - Finding the column(s) in dataframe that stored need number of NaN values,\n",
    "    - Create a list with those columns\"\"\"\n",
    "    def __init__(self, data_set, min_required_nan):\n",
    "        self.data = data_set\n",
    "        self.min_required_nan = min_required_nan\n",
    "        \n",
    "    def min_nan_number_in_column(self):\n",
    "        \"\"\"finding the columns that stroed NaN where each column stored less or equal then # NaN values.\"\"\"\n",
    "        columns_of_dataset = self.data.columns.tolist()\n",
    "        best_columns = []\n",
    "\n",
    "        for i in columns_of_dataset:\n",
    "            nan_sum = self.data[f\"{i}\"].isna().sum()            \n",
    "            if nan_sum <= self.min_required_nan:\n",
    "                best_columns.append(i)\n",
    "        \n",
    "        return best_columns"
   ]
  },
  {
   "cell_type": "code",
   "execution_count": 7,
   "metadata": {},
   "outputs": [],
   "source": [
    "class Nan_string:\n",
    "    \"\"\"Show the string(s) that stored NaN value(s)\"\"\"\n",
    "    def __init__(self, dataframe):\n",
    "        self.df = dataframe\n",
    "        \n",
    "    def show_nan_string(self):\n",
    "        \"\"\"Return only those strings that contain NaN values\"\"\"\n",
    "        # creating and filling a dictionary (#str: col_name)\n",
    "        nan_str_col = dict([(x, self.df.columns[y]) for x, y in zip(*np.where(self.df.isna()))])\n",
    "        \n",
    "        # takes only keys from dictionary\n",
    "        keys = list(nan_str_col.keys())\n",
    "\n",
    "        return self.df.loc[keys]\n",
    "        \n",
    "    def show_nan_dict(self):\n",
    "        \"\"\"Return only number of the string and a name of the column that string(s) storing NaN values\"\"\"\n",
    "        return dict([(x, self.df.columns[y]) for x, y in zip(*np.where(self.df.isna()))])"
   ]
  },
  {
   "cell_type": "code",
   "execution_count": 8,
   "metadata": {},
   "outputs": [],
   "source": [
    "class Missing_column:\n",
    "    \"\"\"Differece between two lists(dataset and custom_sample.\"\"\"\n",
    "    def find_miss_col(self, col_dataframe, col_custom_sample):\n",
    "        diff = set(col_dataframe.columns) - set(col_custom_sample)\n",
    "        return diff"
   ]
  },
  {
   "cell_type": "markdown",
   "metadata": {},
   "source": [
    "### Review Data"
   ]
  },
  {
   "cell_type": "code",
   "execution_count": 9,
   "metadata": {},
   "outputs": [
    {
     "name": "stdout",
     "output_type": "stream",
     "text": [
      "Low      24\n",
      "Lvl    1311\n",
      "HLS      70\n",
      "Bnk      54\n",
      "Name: LandContour, dtype: int64\n"
     ]
    }
   ],
   "source": [
    "# Counting the unique values inside column.\n",
    "print(house_prices_test['LandContour'].value_counts(sort=False))"
   ]
  },
  {
   "cell_type": "code",
   "execution_count": 10,
   "metadata": {},
   "outputs": [
    {
     "name": "stdout",
     "output_type": "stream",
     "text": [
      "62\n",
      "['Id', 'MSSubClass', 'MSZoning', 'LotArea', 'Street', 'LotShape', 'LandContour', 'Utilities', 'LotConfig', 'LandSlope', 'Neighborhood', 'Condition1', 'Condition2', 'BldgType', 'HouseStyle', 'OverallQual', 'OverallCond', 'YearBuilt', 'YearRemodAdd', 'RoofStyle', 'RoofMatl', 'Exterior1st', 'Exterior2nd', 'ExterQual', 'ExterCond', 'Foundation', 'BsmtFinSF1', 'BsmtFinSF2', 'BsmtUnfSF', 'TotalBsmtSF', 'Heating', 'HeatingQC', 'CentralAir', 'Electrical', '1stFlrSF', '2ndFlrSF', 'LowQualFinSF', 'GrLivArea', 'BsmtFullBath', 'BsmtHalfBath', 'FullBath', 'HalfBath', 'BedroomAbvGr', 'KitchenAbvGr', 'KitchenQual', 'TotRmsAbvGrd', 'Functional', 'Fireplaces', 'GarageCars', 'GarageArea', 'PavedDrive', 'WoodDeckSF', 'OpenPorchSF', 'EnclosedPorch', '3SsnPorch', 'ScreenPorch', 'PoolArea', 'MiscVal', 'MoSold', 'YrSold', 'SaleType', 'SaleCondition']\n"
     ]
    }
   ],
   "source": [
    "# reviewing all columns and find number NaN strings inside.\n",
    "#.missing_values(.01) - .01 is an accuracy in percent. IOW, takes all values that less then .01 percent.\n",
    "x = Nan_counter(house_prices_test).missing_values(.001)\n",
    "\n",
    "features_01 = list(x)\n",
    "\n",
    "print(len(features_01))\n",
    "print(features_01)"
   ]
  },
  {
   "cell_type": "code",
   "execution_count": 11,
   "metadata": {},
   "outputs": [
    {
     "name": "stdout",
     "output_type": "stream",
     "text": [
      "47\n",
      "['Id', 'MSSubClass', 'LotArea', 'Street', 'LotShape', 'LandContour', 'LotConfig', 'LandSlope', 'Neighborhood', 'Condition1', 'Condition2', 'BldgType', 'HouseStyle', 'OverallQual', 'OverallCond', 'YearBuilt', 'YearRemodAdd', 'RoofStyle', 'RoofMatl', 'ExterQual', 'ExterCond', 'Foundation', 'Heating', 'HeatingQC', 'CentralAir', 'Electrical', '1stFlrSF', '2ndFlrSF', 'LowQualFinSF', 'GrLivArea', 'FullBath', 'HalfBath', 'BedroomAbvGr', 'KitchenAbvGr', 'TotRmsAbvGrd', 'Fireplaces', 'PavedDrive', 'WoodDeckSF', 'OpenPorchSF', 'EnclosedPorch', '3SsnPorch', 'ScreenPorch', 'PoolArea', 'MiscVal', 'MoSold', 'YrSold', 'SaleCondition']\n"
     ]
    }
   ],
   "source": [
    "# Select dataset columns which storing less or equal than # NaN strings.\n",
    "features_02 = Nan_columns(house_prices_test, 0).min_nan_number_in_column()\n",
    "\n",
    "print(len(features_02))\n",
    "print(features_02)"
   ]
  },
  {
   "cell_type": "code",
   "execution_count": 12,
   "metadata": {},
   "outputs": [
    {
     "name": "stdout",
     "output_type": "stream",
     "text": [
      "BsmtFinType1      42\n",
      "LotFrontage      227\n",
      "GarageFinish      78\n",
      "GarageArea         1\n",
      "MiscFeature     1408\n",
      "TotalBsmtSF        1\n",
      "GarageCars         1\n",
      "GarageQual        78\n",
      "BsmtExposure      44\n",
      "BsmtUnfSF          1\n",
      "Exterior1st        1\n",
      "BsmtHalfBath       2\n",
      "KitchenQual        1\n",
      "PoolQC          1456\n",
      "FireplaceQu      730\n",
      "Utilities          2\n",
      "BsmtFullBath       2\n",
      "BsmtFinSF1         1\n",
      "BsmtCond          45\n",
      "GarageType        76\n",
      "Functional         2\n",
      "MasVnrArea        15\n",
      "Fence           1169\n",
      "Alley           1352\n",
      "Exterior2nd        1\n",
      "GarageYrBlt       78\n",
      "BsmtFinType2      42\n",
      "GarageCond        78\n",
      "BsmtFinSF2         1\n",
      "SaleType           1\n",
      "BsmtQual          44\n",
      "MasVnrType        16\n",
      "MSZoning           4\n",
      "dtype: int64\n"
     ]
    }
   ],
   "source": [
    "# finding the missing values columns from dataset to restructure them to improve the forcast accuracy.\n",
    "i = Missing_column().find_miss_col(house_prices_test, features_02)\n",
    "missing_columns = list(i)\n",
    "\n",
    "print(house_prices_test[missing_columns].isnull().sum())"
   ]
  },
  {
   "cell_type": "code",
   "execution_count": 13,
   "metadata": {},
   "outputs": [],
   "source": [
    "# Show str_num and col_name that storing NaN values.\n",
    "show_nan_string = Nan_string(house_prices_test[missing_columns])\n",
    "# show_nan_string.show_nan_dict()"
   ]
  },
  {
   "cell_type": "code",
   "execution_count": 30,
   "metadata": {},
   "outputs": [
    {
     "data": {
      "text/html": [
       "<div>\n",
       "<style scoped>\n",
       "    .dataframe tbody tr th:only-of-type {\n",
       "        vertical-align: middle;\n",
       "    }\n",
       "\n",
       "    .dataframe tbody tr th {\n",
       "        vertical-align: top;\n",
       "    }\n",
       "\n",
       "    .dataframe thead th {\n",
       "        text-align: right;\n",
       "    }\n",
       "</style>\n",
       "<table border=\"1\" class=\"dataframe\">\n",
       "  <thead>\n",
       "    <tr style=\"text-align: right;\">\n",
       "      <th></th>\n",
       "      <th>BsmtFinType1</th>\n",
       "      <th>LotFrontage</th>\n",
       "      <th>GarageFinish</th>\n",
       "      <th>GarageArea</th>\n",
       "      <th>MiscFeature</th>\n",
       "      <th>TotalBsmtSF</th>\n",
       "      <th>GarageCars</th>\n",
       "      <th>GarageQual</th>\n",
       "      <th>BsmtExposure</th>\n",
       "      <th>BsmtUnfSF</th>\n",
       "      <th>...</th>\n",
       "      <th>Alley</th>\n",
       "      <th>Exterior2nd</th>\n",
       "      <th>GarageYrBlt</th>\n",
       "      <th>BsmtFinType2</th>\n",
       "      <th>GarageCond</th>\n",
       "      <th>BsmtFinSF2</th>\n",
       "      <th>SaleType</th>\n",
       "      <th>BsmtQual</th>\n",
       "      <th>MasVnrType</th>\n",
       "      <th>MSZoning</th>\n",
       "    </tr>\n",
       "  </thead>\n",
       "  <tbody>\n",
       "    <tr>\n",
       "      <th>0</th>\n",
       "      <td>False</td>\n",
       "      <td>False</td>\n",
       "      <td>False</td>\n",
       "      <td>False</td>\n",
       "      <td>True</td>\n",
       "      <td>False</td>\n",
       "      <td>False</td>\n",
       "      <td>False</td>\n",
       "      <td>False</td>\n",
       "      <td>False</td>\n",
       "      <td>...</td>\n",
       "      <td>True</td>\n",
       "      <td>False</td>\n",
       "      <td>False</td>\n",
       "      <td>False</td>\n",
       "      <td>False</td>\n",
       "      <td>False</td>\n",
       "      <td>False</td>\n",
       "      <td>False</td>\n",
       "      <td>False</td>\n",
       "      <td>False</td>\n",
       "    </tr>\n",
       "    <tr>\n",
       "      <th>1</th>\n",
       "      <td>False</td>\n",
       "      <td>False</td>\n",
       "      <td>False</td>\n",
       "      <td>False</td>\n",
       "      <td>False</td>\n",
       "      <td>False</td>\n",
       "      <td>False</td>\n",
       "      <td>False</td>\n",
       "      <td>False</td>\n",
       "      <td>False</td>\n",
       "      <td>...</td>\n",
       "      <td>True</td>\n",
       "      <td>False</td>\n",
       "      <td>False</td>\n",
       "      <td>False</td>\n",
       "      <td>False</td>\n",
       "      <td>False</td>\n",
       "      <td>False</td>\n",
       "      <td>False</td>\n",
       "      <td>False</td>\n",
       "      <td>False</td>\n",
       "    </tr>\n",
       "    <tr>\n",
       "      <th>2</th>\n",
       "      <td>False</td>\n",
       "      <td>False</td>\n",
       "      <td>False</td>\n",
       "      <td>False</td>\n",
       "      <td>True</td>\n",
       "      <td>False</td>\n",
       "      <td>False</td>\n",
       "      <td>False</td>\n",
       "      <td>False</td>\n",
       "      <td>False</td>\n",
       "      <td>...</td>\n",
       "      <td>True</td>\n",
       "      <td>False</td>\n",
       "      <td>False</td>\n",
       "      <td>False</td>\n",
       "      <td>False</td>\n",
       "      <td>False</td>\n",
       "      <td>False</td>\n",
       "      <td>False</td>\n",
       "      <td>False</td>\n",
       "      <td>False</td>\n",
       "    </tr>\n",
       "    <tr>\n",
       "      <th>3</th>\n",
       "      <td>False</td>\n",
       "      <td>False</td>\n",
       "      <td>False</td>\n",
       "      <td>False</td>\n",
       "      <td>True</td>\n",
       "      <td>False</td>\n",
       "      <td>False</td>\n",
       "      <td>False</td>\n",
       "      <td>False</td>\n",
       "      <td>False</td>\n",
       "      <td>...</td>\n",
       "      <td>True</td>\n",
       "      <td>False</td>\n",
       "      <td>False</td>\n",
       "      <td>False</td>\n",
       "      <td>False</td>\n",
       "      <td>False</td>\n",
       "      <td>False</td>\n",
       "      <td>False</td>\n",
       "      <td>False</td>\n",
       "      <td>False</td>\n",
       "    </tr>\n",
       "    <tr>\n",
       "      <th>4</th>\n",
       "      <td>False</td>\n",
       "      <td>False</td>\n",
       "      <td>False</td>\n",
       "      <td>False</td>\n",
       "      <td>True</td>\n",
       "      <td>False</td>\n",
       "      <td>False</td>\n",
       "      <td>False</td>\n",
       "      <td>False</td>\n",
       "      <td>False</td>\n",
       "      <td>...</td>\n",
       "      <td>True</td>\n",
       "      <td>False</td>\n",
       "      <td>False</td>\n",
       "      <td>False</td>\n",
       "      <td>False</td>\n",
       "      <td>False</td>\n",
       "      <td>False</td>\n",
       "      <td>False</td>\n",
       "      <td>False</td>\n",
       "      <td>False</td>\n",
       "    </tr>\n",
       "  </tbody>\n",
       "</table>\n",
       "<p>5 rows × 33 columns</p>\n",
       "</div>"
      ],
      "text/plain": [
       "   BsmtFinType1  LotFrontage  GarageFinish  GarageArea  MiscFeature  \\\n",
       "0         False        False         False       False         True   \n",
       "1         False        False         False       False        False   \n",
       "2         False        False         False       False         True   \n",
       "3         False        False         False       False         True   \n",
       "4         False        False         False       False         True   \n",
       "\n",
       "   TotalBsmtSF  GarageCars  GarageQual  BsmtExposure  BsmtUnfSF  ...  Alley  \\\n",
       "0        False       False       False         False      False  ...   True   \n",
       "1        False       False       False         False      False  ...   True   \n",
       "2        False       False       False         False      False  ...   True   \n",
       "3        False       False       False         False      False  ...   True   \n",
       "4        False       False       False         False      False  ...   True   \n",
       "\n",
       "   Exterior2nd  GarageYrBlt  BsmtFinType2  GarageCond  BsmtFinSF2  SaleType  \\\n",
       "0        False        False         False       False       False     False   \n",
       "1        False        False         False       False       False     False   \n",
       "2        False        False         False       False       False     False   \n",
       "3        False        False         False       False       False     False   \n",
       "4        False        False         False       False       False     False   \n",
       "\n",
       "   BsmtQual  MasVnrType  MSZoning  \n",
       "0     False       False     False  \n",
       "1     False       False     False  \n",
       "2     False       False     False  \n",
       "3     False       False     False  \n",
       "4     False       False     False  \n",
       "\n",
       "[5 rows x 33 columns]"
      ]
     },
     "execution_count": 30,
     "metadata": {},
     "output_type": "execute_result"
    }
   ],
   "source": [
    "# Observing those strings in DataFrame that storing NaN values. String evaluation, visually analysis.\n",
    "show_nan_string.show_nan_string([:5]"
   ]
  },
  {
   "cell_type": "markdown",
   "metadata": {},
   "source": [
    "### Cleaning the data"
   ]
  },
  {
   "cell_type": "code",
   "execution_count": null,
   "metadata": {},
   "outputs": [],
   "source": []
  }
 ],
 "metadata": {
  "kernelspec": {
   "display_name": "Python 3",
   "language": "python",
   "name": "python3"
  },
  "language_info": {
   "codemirror_mode": {
    "name": "ipython",
    "version": 3
   },
   "file_extension": ".py",
   "mimetype": "text/x-python",
   "name": "python",
   "nbconvert_exporter": "python",
   "pygments_lexer": "ipython3",
   "version": "3.7.6"
  }
 },
 "nbformat": 4,
 "nbformat_minor": 4
}
