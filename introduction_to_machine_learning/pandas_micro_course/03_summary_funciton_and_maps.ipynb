{
 "cells": [
  {
   "cell_type": "markdown",
   "metadata": {},
   "source": [
    "### Introduction\n",
    "Plucking the right data out of our data representation is critical to getting work done, as we demonstrated in the exercises.\n",
    "\n",
    "This tutorial will cover different operations we can apply to our data to get the input \"just right\"."
   ]
  },
  {
   "cell_type": "code",
   "execution_count": 1,
   "metadata": {},
   "outputs": [],
   "source": [
    "import pandas as pd"
   ]
  },
  {
   "cell_type": "code",
   "execution_count": 73,
   "metadata": {},
   "outputs": [
    {
     "data": {
      "text/plain": [
       "(144035, 10)"
      ]
     },
     "execution_count": 73,
     "metadata": {},
     "output_type": "execute_result"
    }
   ],
   "source": [
    "# Get data\n",
    "wine_magazine = pd.read_csv('../data/wine_magazine/winemag-data_first150k.csv')\n",
    "wine_magazine.shape"
   ]
  },
  {
   "cell_type": "code",
   "execution_count": 74,
   "metadata": {},
   "outputs": [
    {
     "name": "stdout",
     "output_type": "stream",
     "text": [
      "[14178, 14997, 18800, 19076, 21217, 25151, 30794, 32346, 37674, 38366, 38534, 39099, 39165, 39218, 41212, 44310, 45544, 48624, 48756, 49404, 49747, 51487, 52109, 52294, 52295, 56726, 60731, 61027, 69136, 70922, 70983, 71272, 72141, 72658, 74487, 74535, 75755, 76667, 76938, 77089, 77389, 77746, 77959, 78578, 79433, 79985, 80024, 81560, 81829, 83671, 89674, 93332, 93367, 93943, 102634, 115316, 124294, 128757, 133431, 137107, 137962, 141477]\n"
     ]
    }
   ],
   "source": [
    "# Find error(not a number values) in row of Dataset\n",
    "# Since the correct elements are no more than three characters in length, I will find all that more.\n",
    "x = []\n",
    "for i, j in enumerate(wine_magazine.points):\n",
    "    if len(str(j)) > 3:\n",
    "        x.append(i)\n",
    "#         print(j) # error's row(item) print \n",
    "print(x)    "
   ]
  },
  {
   "cell_type": "code",
   "execution_count": 75,
   "metadata": {},
   "outputs": [],
   "source": [
    "# Drop(delete) row with errors\n",
    "for i in x:\n",
    "    wine_magazine = wine_magazine.drop([i], axis=0)"
   ]
  },
  {
   "cell_type": "code",
   "execution_count": 76,
   "metadata": {},
   "outputs": [],
   "source": [
    "# Drop(delete) not a number values in 'Points' column of 'Wine Magazine' Dataset.\n",
    "wine_magazine = wine_magazine.dropna(subset=['points'])"
   ]
  },
  {
   "cell_type": "code",
   "execution_count": 77,
   "metadata": {},
   "outputs": [],
   "source": [
    "# Change the datatype of one or more columns to numeric\n",
    "wine_magazine[['points', 'price']] = wine_magazine[['points', 'price']].astype(float)"
   ]
  },
  {
   "cell_type": "code",
   "execution_count": 78,
   "metadata": {},
   "outputs": [],
   "source": [
    "# Drop(delete) row that over 100 points\n",
    "x = list(wine_magazine.loc[wine_magazine.points > 100].index)\n",
    "for i in x:\n",
    "    wine_magazine = wine_magazine.drop([i], axis=0)"
   ]
  },
  {
   "cell_type": "markdown",
   "metadata": {},
   "source": [
    "### Summary functions\n",
    "\n",
    "Pandas provides many simple \"summary functions\" (not an official name) which restructure the data in some useful way.  \n",
    "For example, consider the `describe()` method:"
   ]
  },
  {
   "cell_type": "code",
   "execution_count": 81,
   "metadata": {},
   "outputs": [
    {
     "data": {
      "text/plain": [
       "count    130579.000000\n",
       "mean         33.123841\n",
       "std          36.374725\n",
       "min           4.000000\n",
       "25%          16.000000\n",
       "50%          24.000000\n",
       "75%          40.000000\n",
       "max        2300.000000\n",
       "Name: price, dtype: float64"
      ]
     },
     "execution_count": 81,
     "metadata": {},
     "output_type": "execute_result"
    }
   ],
   "source": [
    "wine_magazine.price.describe()"
   ]
  },
  {
   "cell_type": "code",
   "execution_count": 53,
   "metadata": {},
   "outputs": [
    {
     "data": {
      "text/html": [
       "<div>\n",
       "<style scoped>\n",
       "    .dataframe tbody tr th:only-of-type {\n",
       "        vertical-align: middle;\n",
       "    }\n",
       "\n",
       "    .dataframe tbody tr th {\n",
       "        vertical-align: top;\n",
       "    }\n",
       "\n",
       "    .dataframe thead th {\n",
       "        text-align: right;\n",
       "    }\n",
       "</style>\n",
       "<table border=\"1\" class=\"dataframe\">\n",
       "  <thead>\n",
       "    <tr style=\"text-align: right;\">\n",
       "      <th></th>\n",
       "      <th>country</th>\n",
       "      <th>designation</th>\n",
       "      <th>points</th>\n",
       "      <th>price</th>\n",
       "      <th>province</th>\n",
       "      <th>region_1</th>\n",
       "      <th>region_2</th>\n",
       "      <th>variety</th>\n",
       "      <th>winery</th>\n",
       "      <th>last_year_points</th>\n",
       "    </tr>\n",
       "  </thead>\n",
       "  <tbody>\n",
       "    <tr>\n",
       "      <th>18931</th>\n",
       "      <td>Italy</td>\n",
       "      <td>Riserva 0</td>\n",
       "      <td>618.0</td>\n",
       "      <td>89.0</td>\n",
       "      <td>75.0</td>\n",
       "      <td>Southern Italy</td>\n",
       "      <td>Castel del Monte</td>\n",
       "      <td>NaN</td>\n",
       "      <td>Nero di Troia</td>\n",
       "      <td>Santa Lucia</td>\n",
       "    </tr>\n",
       "    <tr>\n",
       "      <th>33255</th>\n",
       "      <td>Italy</td>\n",
       "      <td>Riserva 0</td>\n",
       "      <td>618.0</td>\n",
       "      <td>89.0</td>\n",
       "      <td>75.0</td>\n",
       "      <td>Southern Italy</td>\n",
       "      <td>Castel del Monte</td>\n",
       "      <td>NaN</td>\n",
       "      <td>Nero di Troia</td>\n",
       "      <td>Santa Lucia</td>\n",
       "    </tr>\n",
       "    <tr>\n",
       "      <th>75380</th>\n",
       "      <td>Italy</td>\n",
       "      <td>Riserva 0</td>\n",
       "      <td>618.0</td>\n",
       "      <td>89.0</td>\n",
       "      <td>75.0</td>\n",
       "      <td>Southern Italy</td>\n",
       "      <td>Castel del Monte</td>\n",
       "      <td>NaN</td>\n",
       "      <td>Nero di Troia</td>\n",
       "      <td>Santa Lucia</td>\n",
       "    </tr>\n",
       "  </tbody>\n",
       "</table>\n",
       "</div>"
      ],
      "text/plain": [
       "      country designation  points  price province        region_1  \\\n",
       "18931   Italy   Riserva 0   618.0   89.0     75.0  Southern Italy   \n",
       "33255   Italy   Riserva 0   618.0   89.0     75.0  Southern Italy   \n",
       "75380   Italy   Riserva 0   618.0   89.0     75.0  Southern Italy   \n",
       "\n",
       "               region_2 variety         winery last_year_points  \n",
       "18931  Castel del Monte     NaN  Nero di Troia      Santa Lucia  \n",
       "33255  Castel del Monte     NaN  Nero di Troia      Santa Lucia  \n",
       "75380  Castel del Monte     NaN  Nero di Troia      Santa Lucia  "
      ]
     },
     "execution_count": 53,
     "metadata": {},
     "output_type": "execute_result"
    }
   ],
   "source": [
    "wine_magazine.loc[wine_magazine.points > 100]"
   ]
  },
  {
   "cell_type": "code",
   "execution_count": null,
   "metadata": {},
   "outputs": [],
   "source": []
  }
 ],
 "metadata": {
  "kernelspec": {
   "display_name": "Python 3",
   "language": "python",
   "name": "python3"
  },
  "language_info": {
   "codemirror_mode": {
    "name": "ipython",
    "version": 3
   },
   "file_extension": ".py",
   "mimetype": "text/x-python",
   "name": "python",
   "nbconvert_exporter": "python",
   "pygments_lexer": "ipython3",
   "version": "3.7.6"
  }
 },
 "nbformat": 4,
 "nbformat_minor": 4
}
