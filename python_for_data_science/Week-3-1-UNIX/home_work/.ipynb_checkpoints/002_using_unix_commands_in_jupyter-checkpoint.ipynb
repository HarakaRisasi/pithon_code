{
 "cells": [
  {
   "cell_type": "markdown",
   "metadata": {},
   "source": [
    "---\n",
    "> # **UNIX Commands for Data Scientists** \n",
    "---"
   ]
  },
  {
   "cell_type": "markdown",
   "metadata": {},
   "source": [
    "## **Declare filename**"
   ]
  },
  {
   "cell_type": "markdown",
   "metadata": {},
   "source": [
    "### **LS**\n",
    "_list directory contents_"
   ]
  },
  {
   "cell_type": "code",
   "execution_count": 3,
   "metadata": {},
   "outputs": [
    {
     "name": "stdout",
     "output_type": "stream",
     "text": [
      "Icon_\n",
      "shakespeare.txt\n"
     ]
    }
   ],
   "source": [
    "!ls ../unix"
   ]
  },
  {
   "cell_type": "code",
   "execution_count": 4,
   "metadata": {},
   "outputs": [
    {
     "name": "stdout",
     "output_type": "stream",
     "text": [
      "../unix/shakespeare.txt \n",
      "../unix/shakespeare.txt\n"
     ]
    }
   ],
   "source": [
    "filename = '../unix/shakespeare.txt'\n",
    "!echo $filename \n",
    "print(filename)\n",
    "# !echo == print()"
   ]
  },
  {
   "cell_type": "markdown",
   "metadata": {},
   "source": [
    "### **Head (only first 30 lines of text)**\n",
    "_output the first part of files_"
   ]
  },
  {
   "cell_type": "code",
   "execution_count": 5,
   "metadata": {},
   "outputs": [
    {
     "name": "stdout",
     "output_type": "stream",
     "text": [
      "This is the 100th Etext file presented by Project Gutenberg, and\n",
      "is presented in cooperation with World Library, Inc., from their\n",
      "Library of the Future and Shakespeare CDROMS.  Project Gutenberg\n",
      "often releases Etexts that are NOT placed in the Public Domain!!\n",
      "\n",
      "Shakespeare\n",
      "\n",
      "*This Etext has certain copyright implications you should read!*\n",
      "\n",
      "<<THIS ELECTRONIC VERSION OF THE COMPLETE WORKS OF WILLIAM\n",
      "SHAKESPEARE IS COPYRIGHT 1990-1993 BY WORLD LIBRARY, INC., AND IS\n",
      "PROVIDED BY PROJECT GUTENBERG ETEXT OF ILLINOIS BENEDICTINE COLLEGE\n",
      "WITH PERMISSION.  ELECTRONIC AND MACHINE READABLE COPIES MAY BE\n",
      "DISTRIBUTED SO LONG AS SUCH COPIES (1) ARE FOR YOUR OR OTHERS\n",
      "PERSONAL USE ONLY, AND (2) ARE NOT DISTRIBUTED OR USED\n",
      "COMMERCIALLY.  PROHIBITED COMMERCIAL DISTRIBUTION INCLUDES BY ANY\n",
      "SERVICE THAT CHARGES FOR DOWNLOAD TIME OR FOR MEMBERSHIP.>>\n",
      "\n",
      "*Project Gutenberg is proud to cooperate with The World Library*\n",
      "in the presentation of The Complete Works of William Shakespeare\n",
      "for your reading for education and entertainment.  HOWEVER, THIS\n",
      "IS NEITHER SHAREWARE NOR PUBLIC DOMAIN. . .AND UNDER THE LIBRARY\n",
      "OF THE FUTURE CONDITIONS OF THIS PRESENTATION. . .NO CHARGES MAY\n",
      "BE MADE FOR *ANY* ACCESS TO THIS MATERIAL.  YOU ARE ENCOURAGED!!\n",
      "TO GIVE IT AWAY TO ANYONE YOU LIKE, BUT NO CHARGES ARE ALLOWED!!\n",
      "\n",
      "\n",
      "**Welcome To The World of Free Plain Vanilla Electronic Texts**\n",
      "\n",
      "**Etexts Readable By Both Humans and By Computers, Since 1971**\n"
     ]
    }
   ],
   "source": [
    "!head -n 30 $filename"
   ]
  },
  {
   "cell_type": "markdown",
   "metadata": {},
   "source": [
    "### **Tail (10 last lines of text)**\n",
    "_output the last part of files_"
   ]
  },
  {
   "cell_type": "code",
   "execution_count": 6,
   "metadata": {},
   "outputs": [
    {
     "name": "stdout",
     "output_type": "stream",
     "text": [
      "PERSONAL USE ONLY, AND (2) ARE NOT DISTRIBUTED OR USED\n",
      "COMMERCIALLY.  PROHIBITED COMMERCIAL DISTRIBUTION INCLUDES BY ANY\n",
      "SERVICE THAT CHARGES FOR DOWNLOAD TIME OR FOR MEMBERSHIP.>>\n",
      "\n",
      "\n",
      "\n",
      "End of this Etext of The Complete Works of William Shakespeare\n",
      "\n",
      "\n",
      "\n"
     ]
    }
   ],
   "source": [
    "!tail -n 10 $filename"
   ]
  },
  {
   "cell_type": "markdown",
   "metadata": {},
   "source": [
    "### **WC**\n",
    "_print newline, word, and byte counts for each file_\n",
    "\n",
    "### **Display the number of words, lines, characters**"
   ]
  },
  {
   "cell_type": "code",
   "execution_count": 7,
   "metadata": {},
   "outputs": [
    {
     "name": "stdout",
     "output_type": "stream",
     "text": [
      " 124505  901447 5583442 ../unix/shakespeare.txt\n"
     ]
    }
   ],
   "source": [
    "# lines, words, characters\n",
    "!wc $filename"
   ]
  },
  {
   "cell_type": "code",
   "execution_count": 8,
   "metadata": {},
   "outputs": [
    {
     "name": "stdout",
     "output_type": "stream",
     "text": [
      "124505 ../unix/shakespeare.txt\n"
     ]
    }
   ],
   "source": [
    "# only lines\n",
    "!wc -l $filename"
   ]
  },
  {
   "cell_type": "code",
   "execution_count": 9,
   "metadata": {},
   "outputs": [
    {
     "name": "stdout",
     "output_type": "stream",
     "text": [
      "901447 ../unix/shakespeare.txt\n"
     ]
    }
   ],
   "source": [
    "# only words\n",
    "!wc -w $filename"
   ]
  },
  {
   "cell_type": "code",
   "execution_count": 10,
   "metadata": {},
   "outputs": [
    {
     "name": "stdout",
     "output_type": "stream",
     "text": [
      "5583442 ../unix/shakespeare.txt\n"
     ]
    }
   ],
   "source": [
    "# only characters\n",
    "!wc -c $filename\n"
   ]
  },
  {
   "cell_type": "code",
   "execution_count": 11,
   "metadata": {},
   "outputs": [
    {
     "data": {
      "text/plain": [
       "5583442"
      ]
     },
     "execution_count": 11,
     "metadata": {},
     "output_type": "execute_result"
    }
   ],
   "source": [
    "# !cat $filename | WC -c == !wc -c $filename\n",
    "f = !cat $filename | WC -c\n",
    "\n",
    "# transform str. list element to int. number\n",
    "int(f[0])"
   ]
  },
  {
   "cell_type": "markdown",
   "metadata": {},
   "source": [
    "### _cat - concatenate files and print on the standard output_"
   ]
  },
  {
   "cell_type": "code",
   "execution_count": 12,
   "metadata": {},
   "outputs": [
    {
     "data": {
      "text/plain": [
       "5.583442"
      ]
     },
     "execution_count": 12,
     "metadata": {},
     "output_type": "execute_result"
    }
   ],
   "source": [
    "_ / 1e6"
   ]
  },
  {
   "cell_type": "markdown",
   "metadata": {},
   "source": [
    "### **grep (global regular expression print)**\n",
    "_print lines matching a pattern_"
   ]
  },
  {
   "cell_type": "code",
   "execution_count": 13,
   "metadata": {},
   "outputs": [
    {
     "name": "stdout",
     "output_type": "stream",
     "text": [
      "  If the skin were parchment, and the blows you gave were ink,\n",
      "  Ham. Is not parchment made of sheepskins?\n",
      "    of the skin of an innocent lamb should be made parchment? That\n",
      "    parchment, being scribbl'd o'er, should undo a man? Some say the\n",
      "    Upon a parchment, and against this fire\n",
      "    But here's a parchment with the seal of Caesar;  \n",
      "    With inky blots and rotten parchment bonds;\n",
      "    Nor brass, nor stone, nor parchment, bears not one,\n"
     ]
    }
   ],
   "source": [
    "!grep -i 'parchment' $filename\n",
    "# -i (--ignore-case)"
   ]
  },
  {
   "cell_type": "code",
   "execution_count": 14,
   "metadata": {},
   "outputs": [
    {
     "name": "stdout",
     "output_type": "stream",
     "text": [
      "parchment\n",
      "parchment\n",
      "parchment\n",
      "parchment\n",
      "parchment\n",
      "parchment\n",
      "parchment\n",
      "parchment\n"
     ]
    }
   ],
   "source": [
    "!grep -o 'parchment' $filename\n",
    "# -o (--only-matching)\n",
    "\n",
    "# !grep -o 'parchment' $filename == !cat $filename | grep -o 'parchment' "
   ]
  },
  {
   "cell_type": "code",
   "execution_count": 15,
   "metadata": {},
   "outputs": [
    {
     "name": "stdout",
     "output_type": "stream",
     "text": [
      "8\n"
     ]
    }
   ],
   "source": [
    "!cat $filename | grep -o 'parchment' | wc -l\n",
    "# -l (--lines)"
   ]
  },
  {
   "cell_type": "markdown",
   "metadata": {},
   "source": [
    "### **sed**\n",
    "_stream editor for filtering and transforming text_"
   ]
  },
  {
   "cell_type": "code",
   "execution_count": 16,
   "metadata": {},
   "outputs": [],
   "source": [
    "# replace all instances of 'parchment' to 'manuscript'\n",
    "!sed -e 's/parchment/manuscript/g' $filename > temp.txt\n",
    "# -e (expression - add the script to the commands to be executed)"
   ]
  },
  {
   "cell_type": "markdown",
   "metadata": {},
   "source": [
    "- **\"s\"** _Command attempts to match the pattern space against the supplied regular expression regexp.</br>if the match is successful, then that portion of the pattern space which was matched is replaced with replacement._\n",
    "- **\"g\"** _Apply the replacement to all matches to the regexp, not just the first._"
   ]
  },
  {
   "cell_type": "code",
   "execution_count": 18,
   "metadata": {},
   "outputs": [
    {
     "name": "stdout",
     "output_type": "stream",
     "text": [
      "  If the skin were manuscript, and the blows you gave were ink,\n",
      "  Ham. Is not manuscript made of sheepskins?\n",
      "    of the skin of an innocent lamb should be made manuscript? That\n",
      "    manuscript, being scribbl'd o'er, should undo a man? Some say the\n",
      "    Upon a manuscript, and against this fire\n",
      "    But here's a manuscript with the seal of Caesar;  \n",
      "    With inky blots and rotten manuscript bonds;\n",
      "    Nor brass, nor stone, nor manuscript, bears not one,\n"
     ]
    }
   ],
   "source": [
    "!grep -i 'manuscript' temp.txt"
   ]
  },
  {
   "cell_type": "code",
   "execution_count": null,
   "metadata": {},
   "outputs": [],
   "source": []
  }
 ],
 "metadata": {
  "kernelspec": {
   "display_name": "Python 3",
   "language": "python",
   "name": "python3"
  },
  "language_info": {
   "codemirror_mode": {
    "name": "ipython",
    "version": 3
   },
   "file_extension": ".py",
   "mimetype": "text/x-python",
   "name": "python",
   "nbconvert_exporter": "python",
   "pygments_lexer": "ipython3",
   "version": "3.7.4"
  }
 },
 "nbformat": 4,
 "nbformat_minor": 4
}
