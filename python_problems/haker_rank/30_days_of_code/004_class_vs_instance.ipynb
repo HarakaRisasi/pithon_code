{
 "cells": [
  {
   "cell_type": "markdown",
   "metadata": {},
   "source": [
    "In Python, **a class is a blueprint for a concrete object**:\n",
    "\n",
    ">**It’s important to note that a class just provides structure**.\\\n",
    "A class is a blueprint for how something should be defined. It doesn’t actually provide any real content itself. The Dog class may specify that the name and age are necessary for defining an dog, but it will not actually state what a specific dog’s name or age is.\\\n",
    "While the class is the blueprint, an instance is an object built from a class that contains real data. An instance of the Dog class is not a blueprint anymore. It’s an actual dog with a name, like Miles, who’s four years old.\\\n",
    "Put another way, a class is like a form or questionnaire. It defines the needed information. After you fill out the form, your specific copy is an instance of the class. It contains actual information relevant to you.\n",
    "\n",
    "In Python, **a function within a class definition is called a**:\n",
    ">**a Method**\\\n",
    "Instance methods are functions that are defined inside of a class.\\\n",
    "This means that they only exist within the context of the object itself and cannot be called without referencing the object.\\\n",
    "Just like **\\.\\_\\_init__()**, the first argument of an instance method is always self:"
   ]
  },
  {
   "cell_type": "markdown",
   "metadata": {},
   "source": [
    "---"
   ]
  },
  {
   "cell_type": "code",
   "execution_count": null,
   "metadata": {},
   "outputs": [],
   "source": [
    "class Person:\n",
    "    def __init__(self, initialAge):\n",
    "        if(initialAge < 0):\n",
    "            print('Age is not valid, setting age to 0.')\n",
    "            self.age = 0\n",
    "        else:\n",
    "            self.age = initialAge\n",
    "            \n",
    "    # Instance method\n",
    "    def amIOld(self):\n",
    "        if self.age < 13:\n",
    "            print(\"You are young.\")\n",
    "        elif self.age >= 13 and self.age < 18:\n",
    "            print(\"You are teenager.\")\n",
    "        else: # age > 18\n",
    "            print(\"You are old.\")\n",
    "            \n",
    "    # Another instance method        \n",
    "    def yearPasses(self):\n",
    "        self.age += 1\n",
    "\n",
    "t = int(input())\n",
    "\n",
    "for i in range(0, t):\n",
    "    age = int(input())         \n",
    "    p = Person(age)  \n",
    "    p.amIOld()\n",
    "    for j in range(0, 3):\n",
    "        p.yearPasses()       \n",
    "    p.amIOld()\n",
    "    print(\"\") "
   ]
  },
  {
   "cell_type": "markdown",
   "metadata": {},
   "source": [
    "---"
   ]
  },
  {
   "cell_type": "code",
   "execution_count": null,
   "metadata": {},
   "outputs": [],
   "source": [
    "class Cat:\n",
    "    def __init__(self, name, age, sex, eye_color, color):\n",
    "        self.name = name\n",
    "        self.age = age\n",
    "        self.sex = sex\n",
    "        self.eye_color = eye_color\n",
    "        self.color = color\n",
    "        \n",
    "    # Instance method\n",
    "    def sit(self):\n",
    "        print(f'{self.name} is now sitting.')\n",
    "        \n",
    "    # Instance method    \n",
    "    def roll_over(self):\n",
    "        print(f'{self.name} rolled over.')\n",
    "        \n",
    "# Instance of Cat class\n",
    "cat_034 = Cat('Artemis', 3, 'M', 'Green', 'Black')\n",
    "\n",
    "print(f'Cat_034 gender {cat_034.sex}, his color is {cat_034.color}')\n",
    "\n",
    "cat_034.roll_over()\n",
    "cat_034.sit()\n",
    "cat_034.age\n",
    "cat_034.name"
   ]
  },
  {
   "cell_type": "markdown",
   "metadata": {},
   "source": [
    "---"
   ]
  },
  {
   "cell_type": "code",
   "execution_count": 17,
   "metadata": {},
   "outputs": [
    {
     "data": {
      "text/plain": [
       "'*walking*'"
      ]
     },
     "execution_count": 17,
     "metadata": {},
     "output_type": "execute_result"
    }
   ],
   "source": [
    "class Dog:\n",
    "    def walk(self):\n",
    "        return \"*walking*\"\n",
    "    \n",
    "    def speak(self):\n",
    "        return \"Woof!\"\n",
    "    \n",
    "class JackRussellTerrier(Dog):\n",
    "    def speak(self):\n",
    "        return \"Arff!\"\n",
    "\n",
    "bobo = JackRussellTerrier()\n",
    "bobo.walk()"
   ]
  },
  {
   "cell_type": "markdown",
   "metadata": {},
   "source": [
    "While bobo is an instance of JackRussellTerrier **it still has a .walk() method**.\\\n",
    "This method was **inherited** from the parent Dog class.\n",
    "---"
   ]
  },
  {
   "cell_type": "code",
   "execution_count": 18,
   "metadata": {},
   "outputs": [
    {
     "data": {
      "text/plain": [
       "'Woof!'"
      ]
     },
     "execution_count": 18,
     "metadata": {},
     "output_type": "execute_result"
    }
   ],
   "source": [
    "class Dog:\n",
    "    def walk(self):\n",
    "        return \"*walking*\"\n",
    "    \n",
    "    def speak(self):\n",
    "        return \"Woof!\"\n",
    "\n",
    "class JackRussellTerrier(Dog):\n",
    "    def talk(self):\n",
    "        return super().speak()\n",
    "    \n",
    "bobo = JackRussellTerrier()\n",
    "bobo.talk()"
   ]
  },
  {
   "cell_type": "markdown",
   "metadata": {},
   "source": [
    "bobo is an instance of JackRussellTerrier, which inherits from the Dog class.\\\n",
    "JackRussellTerrier adds a new **.talk()** method which in turn calls the the parent class’ **.speak()** method via **super()**.\\\n",
    "Ultimately **“Woof!”** is returned.\n",
    "\n",
    "---"
   ]
  },
  {
   "cell_type": "code",
   "execution_count": 22,
   "metadata": {},
   "outputs": [
    {
     "data": {
      "text/plain": [
       "True"
      ]
     },
     "execution_count": 22,
     "metadata": {},
     "output_type": "execute_result"
    }
   ],
   "source": [
    "class Dog:\n",
    "    def __init__(self, name, age):\n",
    "        self.name = name\n",
    "        self.age = age\n",
    "\n",
    "class JackRussellTerrier(Dog):\n",
    "    pass\n",
    "\n",
    "class Dachshund(Dog):\n",
    "    pass\n",
    "\n",
    "class Bulldog(Dog):\n",
    "    pass\n",
    "\n",
    "miles = JackRussellTerrier(\"Miles\", 4)\n",
    "buddy = Dachshund(\"Buddy\", 9)\n",
    "jack = Bulldog(\"Jack\", 3)\n",
    "jim = Bulldog(\"Jim\", 5)\n",
    "\n",
    "isinstance(miles, Bulldog)\n",
    "isinstance(miles, Dog)"
   ]
  },
  {
   "cell_type": "markdown",
   "metadata": {},
   "source": [
    "---\n",
    "Object and class attributes are accessed using '.' notation in Python."
   ]
  },
  {
   "cell_type": "code",
   "execution_count": 2,
   "metadata": {},
   "outputs": [
    {
     "name": "stdout",
     "output_type": "stream",
     "text": [
      "Be careful not to fall off!\n"
     ]
    }
   ],
   "source": [
    "the_world_is_flat = True\n",
    "if the_world_is_flat:\n",
    "    print(\"Be careful not to fall off!\")"
   ]
  },
  {
   "cell_type": "code",
   "execution_count": 8,
   "metadata": {},
   "outputs": [
    {
     "name": "stdout",
     "output_type": "stream",
     "text": [
      "['a', 'X', 'Y', 'Z', 'd', 'e']\n",
      "['a', 'Z', 'd', 'e']\n",
      "['a', 'Z', 'd', 'e', 2]\n"
     ]
    }
   ],
   "source": [
    "a = ['a', 'b', 'c', 'd', 'e']\n",
    "\n",
    "a[1:3] = ['X', 'Y', 'Z']\n",
    "\n",
    "print(a)\n",
    "\n",
    "a[1:3] = []\n",
    "\n",
    "print(a)\n",
    "\n",
    "a.append(2)\n",
    "\n",
    "print(a)"
   ]
  },
  {
   "cell_type": "code",
   "execution_count": 12,
   "metadata": {},
   "outputs": [
    {
     "name": "stdout",
     "output_type": "stream",
     "text": [
      "c\n",
      "[1, 2, 3]\n",
      "[['a', 'b', 'c', 'd', 'e'], [1, 2, 3]]\n"
     ]
    }
   ],
   "source": [
    "# It is possible to nest lists (create lists containing other lists), for example:\n",
    "a = ['a', 'b', 'c', 'd', 'e']\n",
    "n = [1, 2, 3]\n",
    "x = [a, n]\n",
    "print(x[0][2])\n",
    "print(x[1])\n",
    "print(x)"
   ]
  },
  {
   "cell_type": "code",
   "execution_count": 13,
   "metadata": {},
   "outputs": [
    {
     "name": "stdout",
     "output_type": "stream",
     "text": [
      "0\n",
      "1\n",
      "1\n",
      "2\n",
      "3\n",
      "5\n",
      "8\n"
     ]
    }
   ],
   "source": [
    "# Fibonacci series:\n",
    "# The sum of two elements defines the next\n",
    "a, b = 0, 1\n",
    "while a < 10:\n",
    "    print(a)\n",
    "    a, b = b, a+b"
   ]
  },
  {
   "cell_type": "code",
   "execution_count": null,
   "metadata": {},
   "outputs": [],
   "source": []
  }
 ],
 "metadata": {
  "kernelspec": {
   "display_name": "Python 3",
   "language": "python",
   "name": "python3"
  },
  "language_info": {
   "codemirror_mode": {
    "name": "ipython",
    "version": 3
   },
   "file_extension": ".py",
   "mimetype": "text/x-python",
   "name": "python",
   "nbconvert_exporter": "python",
   "pygments_lexer": "ipython3",
   "version": "3.7.6"
  }
 },
 "nbformat": 4,
 "nbformat_minor": 4
}
