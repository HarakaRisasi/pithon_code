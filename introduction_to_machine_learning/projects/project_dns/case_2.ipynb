{
 "cells": [
  {
   "cell_type": "markdown",
   "metadata": {},
   "source": [
    "### Задание 2:  \n",
    "Вы работаете сотрудником, осуществляющим прием клиентов в сервисном центре.  \n",
    "К вам пришел клиент.  \n",
    "Какие варианты развития событий могут последовать далее?  \n",
    "Опишите их.  "
   ]
  },
  {
   "cell_type": "markdown",
   "metadata": {},
   "source": [
    "**Варианты развития событий**.\n",
    "- Проверка качества товара.\n",
    "- Гарантийное обслуживание неисправного товара.\n",
    "- Возврат бытовой и цифровой техники.\n",
    "- Обмен бытовой и цифровой техники.\n",
    "- Ремонт(платный) бытовой и цифровой техники.\n",
    "- Уточнение других вопросов.  \n",
    "Например:  \n",
    "а) На какие случаи не распространяется гарантия?  \n",
    "б) Потерян чек. Что делать?  \n",
    "в) Что делать если нет возможности привезти товар в сервисный центр?  "
   ]
  },
  {
   "cell_type": "code",
   "execution_count": null,
   "metadata": {},
   "outputs": [],
   "source": []
  }
 ],
 "metadata": {
  "kernelspec": {
   "display_name": "Python 3",
   "language": "python",
   "name": "python3"
  },
  "language_info": {
   "codemirror_mode": {
    "name": "ipython",
    "version": 3
   },
   "file_extension": ".py",
   "mimetype": "text/x-python",
   "name": "python",
   "nbconvert_exporter": "python",
   "pygments_lexer": "ipython3",
   "version": "3.8.3"
  }
 },
 "nbformat": 4,
 "nbformat_minor": 4
}
