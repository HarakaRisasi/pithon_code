{
 "cells": [
  {
   "cell_type": "code",
   "execution_count": 173,
   "metadata": {},
   "outputs": [
    {
     "data": {
      "text/plain": [
       "50"
      ]
     },
     "execution_count": 173,
     "metadata": {},
     "output_type": "execute_result"
    }
   ],
   "source": [
    "# Given an array of integers, find the pair of adjacent elements that has the largest product and return that product.\n",
    "\n",
    "# Example:\n",
    "# For inputArray = [3, 6, -2, -5, 7, 3], the output should be\n",
    "# adjacentElementsProduct(inputArray) = 21.\n",
    "\n",
    "# 7 and 3 produce the largest product.\n",
    "# inputArray = [3, 6, -2, -5, 7, 3]\n",
    "\n",
    "inputArray = [9, 5, 10, 2, 24, -1, -48]\n",
    "\n",
    "def adjacentElementsProduct(inputArray):  \n",
    "    a = []\n",
    "    for i in range(len(inputArray)-1):\n",
    "        a.append(inputArray[i] * inputArray[i+1])\n",
    "    return max(a)\n",
    "\n",
    "adjacentElementsProduct(inputArray)"
   ]
  },
  {
   "cell_type": "code",
   "execution_count": 1,
   "metadata": {},
   "outputs": [
    {
     "data": {
      "text/plain": [
       "50"
      ]
     },
     "execution_count": 1,
     "metadata": {},
     "output_type": "execute_result"
    }
   ],
   "source": [
    "# inputArray = [3, 6, -2, -5, 7, 3]\n",
    "inputArray = [9, 5, 10, 2, 24, -1, -48]\n",
    "\n",
    "def adjacentElementsProduct(inputArray):\n",
    "    return max([inputArray[i] * inputArray[i+1] for i in range(len(inputArray)-1)])\n",
    "         \n",
    "\n",
    "adjacentElementsProduct(inputArray)"
   ]
  },
  {
   "cell_type": "code",
   "execution_count": 87,
   "metadata": {},
   "outputs": [
    {
     "data": {
      "text/plain": [
       "[1, 1]"
      ]
     },
     "execution_count": 87,
     "metadata": {},
     "output_type": "execute_result"
    }
   ],
   "source": []
  },
  {
   "cell_type": "code",
   "execution_count": null,
   "metadata": {},
   "outputs": [],
   "source": []
  }
 ],
 "metadata": {
  "kernelspec": {
   "display_name": "Python 3",
   "language": "python",
   "name": "python3"
  },
  "language_info": {
   "codemirror_mode": {
    "name": "ipython",
    "version": 3
   },
   "file_extension": ".py",
   "mimetype": "text/x-python",
   "name": "python",
   "nbconvert_exporter": "python",
   "pygments_lexer": "ipython3",
   "version": "3.7.6"
  }
 },
 "nbformat": 4,
 "nbformat_minor": 4
}
