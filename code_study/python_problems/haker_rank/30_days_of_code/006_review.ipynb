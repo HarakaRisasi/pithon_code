{
 "cells": [
  {
   "cell_type": "markdown",
   "metadata": {},
   "source": [
    "**Sample Input:**\n",
    "\n",
    "2\\\n",
    "Hacker\\\n",
    "Rank\n",
    "\n",
    "**Sample Output:**\n",
    "\n",
    "Hce akr\\\n",
    "Rn ak"
   ]
  },
  {
   "cell_type": "code",
   "execution_count": 4,
   "metadata": {},
   "outputs": [
    {
     "name": "stdin",
     "output_type": "stream",
     "text": [
      " 2\n"
     ]
    },
    {
     "name": "stdout",
     "output_type": "stream",
     "text": [
      "0\n"
     ]
    },
    {
     "name": "stdin",
     "output_type": "stream",
     "text": [
      " Hacker\n"
     ]
    },
    {
     "name": "stdout",
     "output_type": "stream",
     "text": [
      "Hce akr\n",
      "1\n"
     ]
    },
    {
     "name": "stdin",
     "output_type": "stream",
     "text": [
      " Rank\n"
     ]
    },
    {
     "name": "stdout",
     "output_type": "stream",
     "text": [
      "Rn ak\n"
     ]
    }
   ],
   "source": [
    "n = int(input())\n",
    "S = []\n",
    "\n",
    "def even_odd(n,S):\n",
    "    for _ in range(n):\n",
    "        S = input()    \n",
    "        # some_list[start:stop:step]\n",
    "        print(f\"{S[0::2]} {S[1::2]}\")\n",
    "\n",
    "even_odd(n,S)"
   ]
  }
 ],
 "metadata": {
  "kernelspec": {
   "display_name": "Python 3",
   "language": "python",
   "name": "python3"
  },
  "language_info": {
   "codemirror_mode": {
    "name": "ipython",
    "version": 3
   },
   "file_extension": ".py",
   "mimetype": "text/x-python",
   "name": "python",
   "nbconvert_exporter": "python",
   "pygments_lexer": "ipython3",
   "version": "3.7.6"
  }
 },
 "nbformat": 4,
 "nbformat_minor": 4
}
