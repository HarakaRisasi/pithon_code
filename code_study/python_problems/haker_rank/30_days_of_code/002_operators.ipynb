{
 "cells": [
  {
   "cell_type": "code",
   "execution_count": 4,
   "metadata": {},
   "outputs": [
    {
     "name": "stdin",
     "output_type": "stream",
     "text": [
      " 12\n",
      " 8\n",
      " 5\n"
     ]
    },
    {
     "name": "stdout",
     "output_type": "stream",
     "text": [
      "14\n"
     ]
    }
   ],
   "source": [
    "def solve(meal_cost, tip_percent, tax_percent):\n",
    "    total_cost = 0 # total cost\n",
    "    \n",
    "    total_cost = meal_cost * (1 + (tip_percent + tax_percent) / 100))\n",
    "    \n",
    "    print(round(total_cost))\n",
    "\n",
    "if __name__ == '__main__':\n",
    "    meal_cost = float(input())\n",
    "\n",
    "    tip_percent = int(input())\n",
    "\n",
    "    tax_percent = int(input())\n",
    "\n",
    "    solve(meal_cost, tip_percent, tax_percent)"
   ]
  },
  {
   "cell_type": "markdown",
   "metadata": {},
   "source": [
    "**Конструкция: if __name__ == \"__main__\":?**\n",
    "\n",
    "Интерпретатор прочтет инструкцию if, «поймёт», что __name__ эквивалентен \"__main__\", и выполнит указанный блок.\n",
    "\n",
    "Одна из причин делать именно так – тот факт, что иногда вы пишете модуль (файл с расширением .py),\\\n",
    "предназначенный для непосредственного исполнения. Кроме того, он также может быть импортирован и использован из другого модуля.\\\n",
    "Производя подобную проверку, вы можете сделать так, что код будет исполняться только при условии,\\\n",
    "что данный модуль запущен как программа, и запретить исполнять его, если его хотят импортировать и использовать функции модуля отдельно.\n",
    "\n",
    "***Её основное назначение*** — разделение кода, который будет выполнятся при вызове кода как модуля (при импортировании его в другой скрипт) — и при запуске самого модуля, как отдельного файла."
   ]
  }
 ],
 "metadata": {
  "kernelspec": {
   "display_name": "Python 3",
   "language": "python",
   "name": "python3"
  },
  "language_info": {
   "codemirror_mode": {
    "name": "ipython",
    "version": 3
   },
   "file_extension": ".py",
   "mimetype": "text/x-python",
   "name": "python",
   "nbconvert_exporter": "python",
   "pygments_lexer": "ipython3",
   "version": "3.7.6"
  }
 },
 "nbformat": 4,
 "nbformat_minor": 4
}
