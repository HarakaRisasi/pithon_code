{
 "cells": [
  {
   "cell_type": "markdown",
   "metadata": {},
   "source": [
    "---\n",
    "> # **UNIX Commands for Data Scientists** \n",
    "---"
   ]
  },
  {
   "cell_type": "markdown",
   "metadata": {},
   "source": [
    "## **Declare filename**"
   ]
  },
  {
   "cell_type": "markdown",
   "metadata": {},
   "source": [
    "### **ls**\n",
    "_list directory contents_"
   ]
  },
  {
   "cell_type": "code",
   "execution_count": 3,
   "metadata": {},
   "outputs": [
    {
     "name": "stdout",
     "output_type": "stream",
     "text": [
      "Icon_\n",
      "shakespeare.txt\n"
     ]
    }
   ],
   "source": [
    "!ls ../unix"
   ]
  },
  {
   "cell_type": "code",
   "execution_count": 4,
   "metadata": {},
   "outputs": [
    {
     "name": "stdout",
     "output_type": "stream",
     "text": [
      "../unix/shakespeare.txt \n",
      "../unix/shakespeare.txt\n"
     ]
    }
   ],
   "source": [
    "filename = '../unix/shakespeare.txt'\n",
    "!echo $filename \n",
    "print(filename)\n",
    "# !echo == print()"
   ]
  },
  {
   "cell_type": "markdown",
   "metadata": {},
   "source": [
    "### **head (only first 30 lines of text)**\n",
    "_output the first part of files_"
   ]
  },
  {
   "cell_type": "code",
   "execution_count": 5,
   "metadata": {},
   "outputs": [
    {
     "name": "stdout",
     "output_type": "stream",
     "text": [
      "This is the 100th Etext file presented by Project Gutenberg, and\n",
      "is presented in cooperation with World Library, Inc., from their\n",
      "Library of the Future and Shakespeare CDROMS.  Project Gutenberg\n",
      "often releases Etexts that are NOT placed in the Public Domain!!\n",
      "\n",
      "Shakespeare\n",
      "\n",
      "*This Etext has certain copyright implications you should read!*\n",
      "\n",
      "<<THIS ELECTRONIC VERSION OF THE COMPLETE WORKS OF WILLIAM\n",
      "SHAKESPEARE IS COPYRIGHT 1990-1993 BY WORLD LIBRARY, INC., AND IS\n",
      "PROVIDED BY PROJECT GUTENBERG ETEXT OF ILLINOIS BENEDICTINE COLLEGE\n",
      "WITH PERMISSION.  ELECTRONIC AND MACHINE READABLE COPIES MAY BE\n",
      "DISTRIBUTED SO LONG AS SUCH COPIES (1) ARE FOR YOUR OR OTHERS\n",
      "PERSONAL USE ONLY, AND (2) ARE NOT DISTRIBUTED OR USED\n",
      "COMMERCIALLY.  PROHIBITED COMMERCIAL DISTRIBUTION INCLUDES BY ANY\n",
      "SERVICE THAT CHARGES FOR DOWNLOAD TIME OR FOR MEMBERSHIP.>>\n",
      "\n",
      "*Project Gutenberg is proud to cooperate with The World Library*\n",
      "in the presentation of The Complete Works of William Shakespeare\n",
      "for your reading for education and entertainment.  HOWEVER, THIS\n",
      "IS NEITHER SHAREWARE NOR PUBLIC DOMAIN. . .AND UNDER THE LIBRARY\n",
      "OF THE FUTURE CONDITIONS OF THIS PRESENTATION. . .NO CHARGES MAY\n",
      "BE MADE FOR *ANY* ACCESS TO THIS MATERIAL.  YOU ARE ENCOURAGED!!\n",
      "TO GIVE IT AWAY TO ANYONE YOU LIKE, BUT NO CHARGES ARE ALLOWED!!\n",
      "\n",
      "\n",
      "**Welcome To The World of Free Plain Vanilla Electronic Texts**\n",
      "\n",
      "**Etexts Readable By Both Humans and By Computers, Since 1971**\n"
     ]
    }
   ],
   "source": [
    "!head -n 30 $filename"
   ]
  },
  {
   "cell_type": "markdown",
   "metadata": {},
   "source": [
    "### **tail (10 last lines of text)**\n",
    "_output the last part of files_"
   ]
  },
  {
   "cell_type": "code",
   "execution_count": 6,
   "metadata": {},
   "outputs": [
    {
     "name": "stdout",
     "output_type": "stream",
     "text": [
      "PERSONAL USE ONLY, AND (2) ARE NOT DISTRIBUTED OR USED\n",
      "COMMERCIALLY.  PROHIBITED COMMERCIAL DISTRIBUTION INCLUDES BY ANY\n",
      "SERVICE THAT CHARGES FOR DOWNLOAD TIME OR FOR MEMBERSHIP.>>\n",
      "\n",
      "\n",
      "\n",
      "End of this Etext of The Complete Works of William Shakespeare\n",
      "\n",
      "\n",
      "\n"
     ]
    }
   ],
   "source": [
    "!tail -n 10 $filename"
   ]
  },
  {
   "cell_type": "markdown",
   "metadata": {},
   "source": [
    "### **wc**\n",
    "_print newline, word, and byte counts for each file_\n",
    "\n",
    "### **Display the number of words, lines, characters**"
   ]
  },
  {
   "cell_type": "code",
   "execution_count": 7,
   "metadata": {},
   "outputs": [
    {
     "name": "stdout",
     "output_type": "stream",
     "text": [
      " 124505  901447 5583442 ../unix/shakespeare.txt\n"
     ]
    }
   ],
   "source": [
    "# lines, words, characters\n",
    "!wc $filename"
   ]
  },
  {
   "cell_type": "code",
   "execution_count": 8,
   "metadata": {},
   "outputs": [
    {
     "name": "stdout",
     "output_type": "stream",
     "text": [
      "124505 ../unix/shakespeare.txt\n"
     ]
    }
   ],
   "source": [
    "# only lines\n",
    "!wc -l $filename"
   ]
  },
  {
   "cell_type": "code",
   "execution_count": 9,
   "metadata": {},
   "outputs": [
    {
     "name": "stdout",
     "output_type": "stream",
     "text": [
      "901447 ../unix/shakespeare.txt\n"
     ]
    }
   ],
   "source": [
    "# only words\n",
    "!wc -w $filename"
   ]
  },
  {
   "cell_type": "code",
   "execution_count": 10,
   "metadata": {},
   "outputs": [
    {
     "name": "stdout",
     "output_type": "stream",
     "text": [
      "5583442 ../unix/shakespeare.txt\n"
     ]
    }
   ],
   "source": [
    "# only characters\n",
    "!wc -c $filename\n"
   ]
  },
  {
   "cell_type": "code",
   "execution_count": 11,
   "metadata": {},
   "outputs": [
    {
     "data": {
      "text/plain": [
       "5583442"
      ]
     },
     "execution_count": 11,
     "metadata": {},
     "output_type": "execute_result"
    }
   ],
   "source": [
    "# !cat $filename | WC -c == !wc -c $filename\n",
    "f = !cat $filename | WC -c\n",
    "\n",
    "# transform str. list element to int. number\n",
    "int(f[0])"
   ]
  },
  {
   "cell_type": "markdown",
   "metadata": {},
   "source": [
    "### _cat - concatenate files and print on the standard output_"
   ]
  },
  {
   "cell_type": "code",
   "execution_count": 12,
   "metadata": {},
   "outputs": [
    {
     "data": {
      "text/plain": [
       "5.583442"
      ]
     },
     "execution_count": 12,
     "metadata": {},
     "output_type": "execute_result"
    }
   ],
   "source": [
    "_ / 1e6"
   ]
  },
  {
   "cell_type": "markdown",
   "metadata": {},
   "source": [
    "### **grep (global regular expression print)**\n",
    "_print lines matching a pattern_"
   ]
  },
  {
   "cell_type": "code",
   "execution_count": 13,
   "metadata": {},
   "outputs": [
    {
     "name": "stdout",
     "output_type": "stream",
     "text": [
      "  If the skin were parchment, and the blows you gave were ink,\n",
      "  Ham. Is not parchment made of sheepskins?\n",
      "    of the skin of an innocent lamb should be made parchment? That\n",
      "    parchment, being scribbl'd o'er, should undo a man? Some say the\n",
      "    Upon a parchment, and against this fire\n",
      "    But here's a parchment with the seal of Caesar;  \n",
      "    With inky blots and rotten parchment bonds;\n",
      "    Nor brass, nor stone, nor parchment, bears not one,\n"
     ]
    }
   ],
   "source": [
    "!grep -i 'parchment' $filename\n",
    "# -i (--ignore-case)"
   ]
  },
  {
   "cell_type": "code",
   "execution_count": 14,
   "metadata": {},
   "outputs": [
    {
     "name": "stdout",
     "output_type": "stream",
     "text": [
      "parchment\n",
      "parchment\n",
      "parchment\n",
      "parchment\n",
      "parchment\n",
      "parchment\n",
      "parchment\n",
      "parchment\n"
     ]
    }
   ],
   "source": [
    "!grep -o 'parchment' $filename\n",
    "# -o (--only-matching)\n",
    "\n",
    "# !grep -o 'parchment' $filename == !cat $filename | grep -o 'parchment' "
   ]
  },
  {
   "cell_type": "code",
   "execution_count": 15,
   "metadata": {},
   "outputs": [
    {
     "name": "stdout",
     "output_type": "stream",
     "text": [
      "8\n"
     ]
    }
   ],
   "source": [
    "!cat $filename | grep -o 'parchment' | wc -l\n",
    "# -l (--lines)"
   ]
  },
  {
   "cell_type": "markdown",
   "metadata": {},
   "source": [
    "### **sed**\n",
    "_stream editor for filtering and transforming text_"
   ]
  },
  {
   "cell_type": "code",
   "execution_count": 28,
   "metadata": {},
   "outputs": [],
   "source": [
    "# replace all instances of 'parchment' to 'manuscript'\n",
    "!sed -e 's/parchment/**manuscript**/g' $filename > temp.txt\n",
    "# -e (expression - add the script to the commands to be executed)"
   ]
  },
  {
   "cell_type": "markdown",
   "metadata": {},
   "source": [
    "* `s` for substitution\n",
    "* `parchment` is the word to match\n",
    "* `manuscript` is the replacement string\n",
    "* `g` specifies to apply this to all occurrences on a line, not just the first"
   ]
  },
  {
   "cell_type": "code",
   "execution_count": 29,
   "metadata": {},
   "outputs": [
    {
     "name": "stdout",
     "output_type": "stream",
     "text": [
      "  If the skin were **manuscript**, and the blows you gave were ink,\n",
      "  Ham. Is not **manuscript** made of sheepskins?\n",
      "    of the skin of an innocent lamb should be made **manuscript**? That\n",
      "    **manuscript**, being scribbl'd o'er, should undo a man? Some say the\n",
      "    Upon a **manuscript**, and against this fire\n",
      "    But here's a **manuscript** with the seal of Caesar;  \n",
      "    With inky blots and rotten **manuscript** bonds;\n",
      "    Nor brass, nor stone, nor **manuscript**, bears not one,\n"
     ]
    }
   ],
   "source": [
    "!grep -i 'manuscript' temp.txt"
   ]
  },
  {
   "cell_type": "markdown",
   "metadata": {},
   "source": [
    "### **sort**\n",
    "_sort lines of text files_"
   ]
  },
  {
   "cell_type": "code",
   "execution_count": 30,
   "metadata": {},
   "outputs": [
    {
     "name": "stdout",
     "output_type": "stream",
     "text": [
      "This is the 100th Etext file presented by Project Gutenberg, and\n",
      "is presented in cooperation with World Library, Inc., from their\n",
      "Library of the Future and Shakespeare CDROMS.  Project Gutenberg\n",
      "often releases Etexts that are NOT placed in the Public Domain!!\n",
      "\n"
     ]
    }
   ],
   "source": [
    "!head -n 5 $filename"
   ]
  },
  {
   "cell_type": "code",
   "execution_count": 32,
   "metadata": {},
   "outputs": [
    {
     "name": "stdout",
     "output_type": "stream",
     "text": [
      "\n",
      "Library of the Future and Shakespeare CDROMS.  Project Gutenberg\n",
      "This is the 100th Etext file presented by Project Gutenberg, and\n",
      "is presented in cooperation with World Library, Inc., from their\n",
      "often releases Etexts that are NOT placed in the Public Domain!!\n"
     ]
    }
   ],
   "source": [
    "!head -n 5 $filename | sort\n",
    "# If we sort these five lines, the sort will put these lines in ascending order of characters, LTIO, in character order based on ASCII numbers"
   ]
  },
  {
   "cell_type": "code",
   "execution_count": 37,
   "metadata": {},
   "outputs": [
    {
     "name": "stdout",
     "output_type": "stream",
     "text": [
      "110834\n"
     ]
    }
   ],
   "source": [
    "# uniq command for getting unique records using -u option\n",
    "!sort $filename | uniq -u | wc -l\n",
    "# -u (--unique) - only print unique lines"
   ]
  },
  {
   "cell_type": "markdown",
   "metadata": {},
   "source": [
    "### **uniq - report or omit repeated lines**"
   ]
  },
  {
   "cell_type": "code",
   "execution_count": 317,
   "metadata": {},
   "outputs": [
    {
     "name": "stdout",
     "output_type": "stream",
     "text": [
      " 502289  \n",
      "  22678 the \n",
      "  19163 I \n",
      "  17868 and \n",
      "  15324 to \n",
      "  15216 of \n",
      "  14779 \n",
      "  12152 a \n",
      "  10614 my \n",
      "   9347 in \n",
      "   8709 you \n",
      "   7662 is \n",
      "   7332 that \n",
      "   7065 And \n",
      "   6737 not \n"
     ]
    },
    {
     "name": "stderr",
     "output_type": "stream",
     "text": [
      "sort: write failed: 'standard output': Illegal seek\n",
      "sort: write error\n"
     ]
    }
   ],
   "source": [
    "!sed -e 's/ /\\ \\n/g' < $filename | sort | uniq -c | sort -nr | head -15\n",
    "# uniq -c (--count - prefix lines by the number of occurrences)\n",
    "\n",
    "# sort -nr (-n, --numeric-sort - compare according to string numerical value)\n",
    "#          (-r, --reverse - reverse the result of comparisons)"
   ]
  },
  {
   "cell_type": "code",
   "execution_count": 365,
   "metadata": {},
   "outputs": [
    {
     "name": "stderr",
     "output_type": "stream",
     "text": [
      "sort: write failed: 'standard output': Illegal seek\n",
      "sort: write error\n"
     ]
    }
   ],
   "source": [
    "!sed -e 's/ /\\'\\'\\n/g' < $filename | sort |uniq -c | sort -nr | head -15 > count_vs_words"
   ]
  },
  {
   "cell_type": "code",
   "execution_count": 366,
   "metadata": {},
   "outputs": [
    {
     "name": "stdout",
     "output_type": "stream",
     "text": [
      " 502289 ''\n",
      "  22678 the''\n",
      "  19163 I''\n",
      "  17868 and''\n",
      "  15324 to''\n",
      "  15216 of''\n",
      "  14779 \n",
      "  12152 a''\n",
      "  10614 my''\n",
      "   9347 in''\n",
      "   8709 you''\n",
      "   7662 is''\n",
      "   7332 that''\n",
      "   7065 And''\n",
      "   6737 not''\n"
     ]
    }
   ],
   "source": [
    "!cat count_vs_words"
   ]
  },
  {
   "cell_type": "code",
   "execution_count": 367,
   "metadata": {},
   "outputs": [],
   "source": [
    "%matplotlib inline"
   ]
  },
  {
   "cell_type": "code",
   "execution_count": 368,
   "metadata": {},
   "outputs": [
    {
     "data": {
      "image/png": "[encoded data removed]",
      "text/plain": [
       "<Figure size 720x720 with 1 Axes>"
      ]
     },
     "metadata": {
      "needs_background": "light"
     },
     "output_type": "display_data"
    }
   ],
   "source": [
    "import matplotlib.pyplot as plt\n",
    "import csv\n",
    "\n",
    "xTicks = []\n",
    "y = []\n",
    "\n",
    "with open('count_vs_words', 'r') as csvfile:\n",
    "    plots = csv.reader(csvfile, delimiter = ' ')    \n",
    "    #CSV (Comma Separated Values) является наиболее распространенным форматом импорта и экспорта для электронных таблиц и баз данных. \n",
    "    \n",
    "    for row in plots:\n",
    "        y.append(int(row[-2]))\n",
    "        xTicks.append(str(row[-1]))\n",
    "\n",
    "# remove the count of spaces (first line)\n",
    "y = y[1:]\n",
    "\n",
    "#plot\n",
    "x = range(len(y))\n",
    "plt.figure(figsize = (10, 10))\n",
    "plt.xticks(x, xTicks, rotation = 90) #xlabel with 90 degree angle\n",
    "plt.plot(x, y, '*-')\n",
    "plt.show()"
   ]
  },
  {
   "cell_type": "markdown",
   "metadata": {},
   "source": [
    "**Модуль csv** дает программисту возможность выполнять структурный анализ файлов **CSV (Comma Separated Values – переменные, разделенные запятыми)**. </br>**Файл CSV** – это текстовый файл, в котором каждая строка имеет несколько полей, разделенных запятыми, или другими разделителями. </br>Вы можете рассматривать каждую строчку как ряд, а каждое поле — как столбец. </br>Формат CSV не имеет стандарта, но эти файлы достаточно похожи, так что модуль csv может распознавать большую часть этих файлов. </br>Вы также можете создавать файлы CSV, используя данный модуль."
   ]
  },
  {
   "cell_type": "code",
   "execution_count": null,
   "metadata": {},
   "outputs": [],
   "source": []
  }
 ],
 "metadata": {
  "kernelspec": {
   "display_name": "Python 3",
   "language": "python",
   "name": "python3"
  },
  "language_info": {
   "codemirror_mode": {
    "name": "ipython",
    "version": 3
   },
   "file_extension": ".py",
   "mimetype": "text/x-python",
   "name": "python",
   "nbconvert_exporter": "python",
   "pygments_lexer": "ipython3",
   "version": "3.7.4"
  }
 },
 "nbformat": 4,
 "nbformat_minor": 4
}
