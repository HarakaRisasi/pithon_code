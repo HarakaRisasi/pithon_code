{
 "cells": [
  {
   "cell_type": "markdown",
   "metadata": {},
   "source": [
    "**Random Variable**\n",
    "A random variable, $X$ , is the real-valued function $X: S \\rightarrow \\mathbb{R}$ in which there is an event for each interval $I$ where $I \\subseteq \\mathbb{R}$. You can think of it as the set of probabilities for the possible outcomes of a sample space. For example, if you consider the possible sums for the values rolled by  four-sided dice:\n",
    "\n",
    "$\n",
    "X = \\{2, 3, 4, 5, 6, 7, 8\\} \\\\\n",
    "P(X = 2) = P(\\{(1,1)\\}) = \\frac{1}{16} \\\\\n",
    "P(X = 3) = P(\\{(1,2),(2,1)\\}) = \\frac{2}{16} \\\\\n",
    "P(X = 4) = P(\\{(1,3),(2,2),(3,1)\\}) = \\frac{3}{16} \\\\\n",
    "P(X = 5) = P(\\{(1,4),(2,3),(3,2),(4,1)\\}) = \\frac{4}{16} \\\\\n",
    "P(X = 6) = P(\\{(2,4),(3,3),(4,2)\\}) = \\frac{3}{16} \\\\\n",
    "P(X = 7) = P(\\{(3,4),(4,3)\\}) = \\frac{2}{16} \\\\\n",
    "P(X = 8) = P(\\{(4,4)\\}) = \\frac{1}{16}\n",
    "$\n",
    "\n",
    ">*The sample space is: Пространство элементарных событий — множество всех различных исходов случайного эксперимента. "
   ]
  },
  {
   "cell_type": "code",
   "execution_count": 8,
   "metadata": {},
   "outputs": [
    {
     "name": "stdin",
     "output_type": "stream",
     "text": [
      " 1.09 1\n"
     ]
    },
    {
     "name": "stdout",
     "output_type": "stream",
     "text": [
      "0.696\n"
     ]
    }
   ],
   "source": [
    "m, f = [float(x) for x in input().split()]\n",
    "\n",
    "def factorial(n):\n",
    "    return 1 if n < 2 else n * factorial(n-1)\n",
    "\n",
    "def n_choose_k(n, k):\n",
    "    return factorial(n)/(factorial(k) * factorial(n-k))\n",
    "\n",
    "def odds(target, other):\n",
    "    m = target/(target+other)\n",
    "    f = other/(target+other)\n",
    "    return m, f\n",
    "\n",
    "def at_least_k(n, k):\n",
    "    total_odds = 0\n",
    "    while k <= n:\n",
    "        combos = n_choose_k(n, k)\n",
    "        total_odds += combos*odds(m,f)[0]**k*odds(m,f)[1]**(n-k) \n",
    "        k += 1\n",
    "    return total_odds\n",
    "\n",
    "answer = at_least_k(6,3)\n",
    "\n",
    "print('{:0.3f}'.format(answer))"
   ]
  },
  {
   "cell_type": "code",
   "execution_count": 9,
   "metadata": {},
   "outputs": [
    {
     "name": "stdout",
     "output_type": "stream",
     "text": [
      "0.696\n"
     ]
    }
   ],
   "source": [
    "import math\n",
    "\n",
    "def bi_dist(x, n, p):\n",
    "    b = (math.factorial(n)/(math.factorial(x)*math.factorial(n-x)))*(p**x)*((1-p)**(n-x))\n",
    "    return(b)\n",
    "\n",
    "b, p, n = 0, 1.09/2.09, 6\n",
    "for i in range(3,7):\n",
    "    b += bi_dist(i, n, p)   \n",
    "print(\"%.3f\" %b)"
   ]
  },
  {
   "cell_type": "code",
   "execution_count": 4,
   "metadata": {},
   "outputs": [
    {
     "name": "stdin",
     "output_type": "stream",
     "text": [
      " 1.09 1\n"
     ]
    },
    {
     "name": "stdout",
     "output_type": "stream",
     "text": [
      "0.696\n"
     ]
    }
   ],
   "source": [
    "def fact(n):\n",
    "    return 1 if n == 0 else n*fact(n-1)\n",
    "\n",
    "def comb(n, x):\n",
    "    return fact(n) / (fact(x) * fact(n-x))\n",
    "\n",
    "def b(x, n, p):\n",
    "    return comb(n, x) * p**x * (1-p)**(n-x)\n",
    "\n",
    "l, r = list(map(float, input().split(\" \")))\n",
    "odds = l / r\n",
    "\n",
    "print(round(sum([b(i, 6, odds / (1 + odds)) for i in range(3, 7)]), 3))"
   ]
  },
  {
   "cell_type": "code",
   "execution_count": 5,
   "metadata": {},
   "outputs": [
    {
     "ename": "NameError",
     "evalue": "name 'n' is not defined",
     "output_type": "error",
     "traceback": [
      "\u001b[1;31m---------------------------------------------------------------------------\u001b[0m",
      "\u001b[1;31mNameError\u001b[0m                                 Traceback (most recent call last)",
      "\u001b[1;32m<ipython-input-5-fca400158ce9>\u001b[0m in \u001b[0;36m<module>\u001b[1;34m\u001b[0m\n\u001b[1;32m----> 1\u001b[1;33m \u001b[0mn\u001b[0m\u001b[1;33m*\u001b[0m\u001b[0mfact\u001b[0m\u001b[1;33m(\u001b[0m\u001b[0mn\u001b[0m\u001b[1;33m-\u001b[0m\u001b[1;36m1\u001b[0m\u001b[1;33m)\u001b[0m\u001b[1;33m\u001b[0m\u001b[1;33m\u001b[0m\u001b[0m\n\u001b[0m",
      "\u001b[1;31mNameError\u001b[0m: name 'n' is not defined"
     ]
    }
   ],
   "source": []
  },
  {
   "cell_type": "code",
   "execution_count": null,
   "metadata": {},
   "outputs": [],
   "source": []
  }
 ],
 "metadata": {
  "kernelspec": {
   "display_name": "Python 3",
   "language": "python",
   "name": "python3"
  },
  "language_info": {
   "codemirror_mode": {
    "name": "ipython",
    "version": 3
   },
   "file_extension": ".py",
   "mimetype": "text/x-python",
   "name": "python",
   "nbconvert_exporter": "python",
   "pygments_lexer": "ipython3",
   "version": "3.7.6"
  }
 },
 "nbformat": 4,
 "nbformat_minor": 4
}
